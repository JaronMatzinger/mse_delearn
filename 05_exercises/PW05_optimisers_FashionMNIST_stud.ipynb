{
 "cells": [
  {
   "cell_type": "code",
   "execution_count": 1,
   "id": "07ec37d7-f7cb-4646-a2dd-9dab66239a30",
   "metadata": {},
   "outputs": [],
   "source": [
    "import torch\n",
    "import torch.nn as nn\n",
    "from torch.utils.data import DataLoader, TensorDataset\n",
    "from torchvision import datasets\n",
    "from torchvision.transforms import ToTensor\n",
    "from torchsummary import summary\n",
    "import numpy as np\n",
    "import matplotlib.pyplot as plt\n",
    "import wandb"
   ]
  },
  {
   "cell_type": "code",
   "execution_count": 2,
   "id": "abe4fe31",
   "metadata": {},
   "outputs": [
    {
     "name": "stdout",
     "output_type": "stream",
     "text": [
      "Torch version: 2.6.0, Device: mps\n"
     ]
    }
   ],
   "source": [
    "device = torch.device('cuda' if torch.cuda.is_available() else 'mps' if torch.backends.mps.is_available() else 'cpu')\n",
    "print(f'Torch version: {torch.__version__}, Device: {device.type}')"
   ]
  },
  {
   "cell_type": "code",
   "execution_count": 3,
   "id": "a2268311",
   "metadata": {},
   "outputs": [
    {
     "name": "stderr",
     "output_type": "stream",
     "text": [
      "\u001b[34m\u001b[1mwandb\u001b[0m: Using wandb-core as the SDK backend.  Please refer to https://wandb.me/wandb-core for more information.\n",
      "\u001b[34m\u001b[1mwandb\u001b[0m: Currently logged in as: \u001b[33mjaron-matzinger\u001b[0m to \u001b[32mhttps://api.wandb.ai\u001b[0m. Use \u001b[1m`wandb login --relogin`\u001b[0m to force relogin\n"
     ]
    },
    {
     "data": {
      "text/plain": [
       "True"
      ]
     },
     "execution_count": 3,
     "metadata": {},
     "output_type": "execute_result"
    }
   ],
   "source": [
    "wandb.login()"
   ]
  },
  {
   "cell_type": "markdown",
   "id": "e2d8a986-1cb2-483b-9bd8-0f71d69fa9e8",
   "metadata": {},
   "source": [
    "### Loading Data"
   ]
  },
  {
   "cell_type": "code",
   "execution_count": null,
   "id": "4ba6b0c6-3f55-40dd-ba32-6f6aad8f1437",
   "metadata": {},
   "outputs": [],
   "source": [
    "training_data = datasets.mnist.FashionMNIST(root='../data/', train=True, download=True, transform=ToTensor())\n",
    "test_data = datasets.mnist.FashionMNIST(root='../data/', train=False, download=True, transform=ToTensor())"
   ]
  },
  {
   "cell_type": "code",
   "execution_count": 5,
   "id": "5c2da4ed-af9a-4fc7-b59f-135b51241d2f",
   "metadata": {
    "tags": []
   },
   "outputs": [],
   "source": [
    "training_data, validation_data = torch.utils.data.random_split(training_data, [50000, 10000])"
   ]
  },
  {
   "cell_type": "code",
   "execution_count": 6,
   "id": "22b30c81-d89f-4947-aa09-ab8c70dd262c",
   "metadata": {},
   "outputs": [
    {
     "name": "stdout",
     "output_type": "stream",
     "text": [
      "50000 10000 10000\n"
     ]
    }
   ],
   "source": [
    "print(len(training_data),len(validation_data),len(test_data))"
   ]
  },
  {
   "cell_type": "markdown",
   "id": "375ff404-5b8a-4f63-9730-d6708d2ac8d1",
   "metadata": {},
   "source": [
    "### CNN Baseline Model\n",
    "Model with two CNN layers (including max pooling), one dense and an output classification layer, with suitable number of filters and units, respectively."
   ]
  },
  {
   "cell_type": "code",
   "execution_count": 7,
   "id": "b61b15df-a84b-483d-9365-d8f66390b8bb",
   "metadata": {},
   "outputs": [],
   "source": [
    "def cnn_model():\n",
    "    \"\"\"\n",
    "    Model with two CNN layers, one dense and an output classification layer, with suitable number of filters and units, respectively.\n",
    "    :return:\n",
    "    \"\"\"\n",
    "    ### YOUR CODE HERE\n",
    "    model = nn.Sequential(\n",
    "        nn.Conv2d(1, 32, 3, padding='same'),\n",
    "        nn.ReLU(),\n",
    "        nn.MaxPool2d(2),\n",
    "        nn.Conv2d(32, 32, 3, padding='same'),\n",
    "        nn.ReLU(),\n",
    "        nn.MaxPool2d(2),\n",
    "        nn.Flatten(),\n",
    "        nn.Linear(32*7*7, 128),\n",
    "        nn.ReLU(),\n",
    "        nn.Linear(128, 10)\n",
    "    )\n",
    "\n",
    "    ### YOUR CODE HERE\n",
    "    return model"
   ]
  },
  {
   "cell_type": "code",
   "execution_count": 8,
   "id": "d4bfd0a4-999c-4690-9ef3-b5ee1ab26c30",
   "metadata": {
    "tags": []
   },
   "outputs": [
    {
     "name": "stdout",
     "output_type": "stream",
     "text": [
      "==========================================================================================\n",
      "Layer (type:depth-idx)                   Output Shape              Param #\n",
      "==========================================================================================\n",
      "├─Conv2d: 1-1                            [-1, 32, 28, 28]          320\n",
      "├─ReLU: 1-2                              [-1, 32, 28, 28]          --\n",
      "├─MaxPool2d: 1-3                         [-1, 32, 14, 14]          --\n",
      "├─Conv2d: 1-4                            [-1, 32, 14, 14]          9,248\n",
      "├─ReLU: 1-5                              [-1, 32, 14, 14]          --\n",
      "├─MaxPool2d: 1-6                         [-1, 32, 7, 7]            --\n",
      "├─Flatten: 1-7                           [-1, 1568]                --\n",
      "├─Linear: 1-8                            [-1, 128]                 200,832\n",
      "├─ReLU: 1-9                              [-1, 128]                 --\n",
      "├─Linear: 1-10                           [-1, 10]                  1,290\n",
      "==========================================================================================\n",
      "Total params: 211,690\n",
      "Trainable params: 211,690\n",
      "Non-trainable params: 0\n",
      "Total mult-adds (M): 2.23\n",
      "==========================================================================================\n",
      "Input size (MB): 0.00\n",
      "Forward/backward pass size (MB): 0.24\n",
      "Params size (MB): 0.81\n",
      "Estimated Total Size (MB): 1.05\n",
      "==========================================================================================\n"
     ]
    },
    {
     "data": {
      "text/plain": [
       "==========================================================================================\n",
       "Layer (type:depth-idx)                   Output Shape              Param #\n",
       "==========================================================================================\n",
       "├─Conv2d: 1-1                            [-1, 32, 28, 28]          320\n",
       "├─ReLU: 1-2                              [-1, 32, 28, 28]          --\n",
       "├─MaxPool2d: 1-3                         [-1, 32, 14, 14]          --\n",
       "├─Conv2d: 1-4                            [-1, 32, 14, 14]          9,248\n",
       "├─ReLU: 1-5                              [-1, 32, 14, 14]          --\n",
       "├─MaxPool2d: 1-6                         [-1, 32, 7, 7]            --\n",
       "├─Flatten: 1-7                           [-1, 1568]                --\n",
       "├─Linear: 1-8                            [-1, 128]                 200,832\n",
       "├─ReLU: 1-9                              [-1, 128]                 --\n",
       "├─Linear: 1-10                           [-1, 10]                  1,290\n",
       "==========================================================================================\n",
       "Total params: 211,690\n",
       "Trainable params: 211,690\n",
       "Non-trainable params: 0\n",
       "Total mult-adds (M): 2.23\n",
       "==========================================================================================\n",
       "Input size (MB): 0.00\n",
       "Forward/backward pass size (MB): 0.24\n",
       "Params size (MB): 0.81\n",
       "Estimated Total Size (MB): 1.05\n",
       "=========================================================================================="
      ]
     },
     "execution_count": 8,
     "metadata": {},
     "output_type": "execute_result"
    }
   ],
   "source": [
    "model = cnn_model()\n",
    "from torchsummary import summary\n",
    "summary(model, (1, 28, 28))"
   ]
  },
  {
   "cell_type": "markdown",
   "id": "c3fa393a-9f99-48f4-996d-cf8d2a3b8cd5",
   "metadata": {},
   "source": [
    "### Training\n",
    "\n",
    "Implement the training / evaluation loop\n",
    "Remember training / validation cost and accuracy per epoch and return them as list."
   ]
  },
  {
   "cell_type": "code",
   "execution_count": 9,
   "id": "172c91d1-4c9e-413a-bfff-01f51a1e323a",
   "metadata": {
    "tags": []
   },
   "outputs": [],
   "source": [
    "def train_eval(model, optimizer, n_epochs, training_loader, test_loader, run, scheduler=None):\n",
    "    \"\"\"\n",
    "    Perform training and evaluation loop.\n",
    "    :param model: Model to be trained\n",
    "    :param optimizer: Optimiser to use for training\n",
    "    :param n_epochs: Number of epochs\n",
    "    :param training_loader: Loader to provide mini-batches of training samples\n",
    "    :param test_loader: Loader to provide mini-batches of validation samples\n",
    "    :param scheduler: Scheduler used for a learning rate schedule\n",
    "    :return: Lists with training and validation cost and accuracy per epoch.\n",
    "    \"\"\"\n",
    "    cost_hist = []\n",
    "    cost_hist_test = []\n",
    "    acc_hist = []\n",
    "    acc_hist_test = []\n",
    "\n",
    "    criterion = torch.nn.CrossEntropyLoss()\n",
    "\n",
    "    for epoch in range(n_epochs):\n",
    "        ### YOUR CODE HERE ###\n",
    "        train_loss = 0\n",
    "        train_corr = 0\n",
    "        val_loss = 0\n",
    "        val_corr = 0\n",
    "\n",
    "        model.train()\n",
    "        for X_train, y_train in training_loader:\n",
    "            X_train = X_train.to(device)\n",
    "            y_train = y_train.to(device)\n",
    "            \n",
    "            y_pred = model(X_train)\n",
    "            loss = criterion(y_pred, y_train)\n",
    "            corr = (torch.argmax(y_pred, dim=1) == y_train).float().sum()\n",
    "\n",
    "            optimizer.zero_grad()\n",
    "            loss.backward()\n",
    "            optimizer.step()\n",
    "\n",
    "            train_loss += loss.item()\n",
    "            train_corr += corr.item()\n",
    "\n",
    "        cost = train_loss / len(training_loader)\n",
    "        acc = train_corr / len(training_loader.dataset)\n",
    "\n",
    "        model.eval()\n",
    "        with torch.no_grad():\n",
    "            for X_val, y_val in test_loader:\n",
    "                X_val = X_val.to(device)\n",
    "                y_val = y_val.to(device)\n",
    "                \n",
    "                y_pred = model(X_val)\n",
    "                loss = criterion(y_pred, y_val)\n",
    "                corr = (torch.argmax(y_pred, dim=1) == y_val).float().sum()\n",
    "\n",
    "                val_loss += loss.item()\n",
    "                val_corr += corr.item()\n",
    "\n",
    "            cost_test = val_loss / len(test_loader)\n",
    "            acc_test = val_corr / len(test_loader.dataset)\n",
    "\n",
    "        print(f'Epoch: {epoch+1}, Train Loss: {cost:.4f}, Val Loss: {cost_test:.4f}, Train Acc: {acc:.4f}, Val Acc: {acc_test:.4f}')\n",
    "        run.log({ \n",
    "            'train_loss': cost,\n",
    "            'val_loss': cost_test,\n",
    "            'train_acc': acc,\n",
    "            'val_acc': acc_test,\n",
    "            'epoch': epoch+1\n",
    "        })\n",
    "        cost_hist.append(cost)\n",
    "        cost_hist_test.append(cost_test)\n",
    "        acc_hist.append(acc)\n",
    "        acc_hist_test.append(acc_test)\n",
    "\n",
    "        if scheduler:\n",
    "            scheduler.step()\n",
    "    \n",
    "    return cost_hist, cost_hist_test, acc_hist, acc_hist_test"
   ]
  },
  {
   "cell_type": "markdown",
   "id": "bacd328c",
   "metadata": {},
   "source": [
    "### Train Baseline CNN Model\n",
    "\n",
    "Follow the \"Steps to Test and Tune a Model\" as presented in the lecture.\n",
    "\n",
    "Train the baseline with SGD without momentum and fixed learning rate. Tune the learning rate by this procedure.\n",
    "\n",
    "Determine a suitable number of epochs."
   ]
  },
  {
   "cell_type": "markdown",
   "id": "795aaacd",
   "metadata": {},
   "source": [
    "### Initial Loss"
   ]
  },
  {
   "cell_type": "code",
   "execution_count": 10,
   "id": "49944052",
   "metadata": {},
   "outputs": [
    {
     "name": "stdout",
     "output_type": "stream",
     "text": [
      "Initial loss: 2.2903\n"
     ]
    }
   ],
   "source": [
    "X_train, y_train = next(iter(DataLoader(training_data, batch_size=64, shuffle=True)))\n",
    "\n",
    "model = cnn_model()\n",
    "output = model(X_train)\n",
    "criterion = torch.nn.CrossEntropyLoss()\n",
    "loss = criterion(output, y_train)\n",
    "\n",
    "print(f'Initial loss: {loss.item():.4f}')"
   ]
  },
  {
   "cell_type": "markdown",
   "id": "41762ccb",
   "metadata": {},
   "source": [
    "### Training with a single batch "
   ]
  },
  {
   "cell_type": "code",
   "execution_count": 11,
   "id": "3e5cecc3",
   "metadata": {},
   "outputs": [
    {
     "data": {
      "text/html": [
       "Tracking run with wandb version 0.19.8"
      ],
      "text/plain": [
       "<IPython.core.display.HTML object>"
      ]
     },
     "metadata": {},
     "output_type": "display_data"
    },
    {
     "data": {
      "text/html": [
       "Run data is saved locally in <code>/Users/jaron/workspace/mse_delearn/05_exercises/wandb/run-20250326_133602-3mrzgqjr</code>"
      ],
      "text/plain": [
       "<IPython.core.display.HTML object>"
      ]
     },
     "metadata": {},
     "output_type": "display_data"
    },
    {
     "data": {
      "text/html": [
       "Syncing run <strong><a href='https://wandb.ai/jaron-matzinger/delearn-pw05/runs/3mrzgqjr' target=\"_blank\">train_cnn_single_batch</a></strong> to <a href='https://wandb.ai/jaron-matzinger/delearn-pw05' target=\"_blank\">Weights & Biases</a> (<a href='https://wandb.me/developer-guide' target=\"_blank\">docs</a>)<br>"
      ],
      "text/plain": [
       "<IPython.core.display.HTML object>"
      ]
     },
     "metadata": {},
     "output_type": "display_data"
    },
    {
     "data": {
      "text/html": [
       " View project at <a href='https://wandb.ai/jaron-matzinger/delearn-pw05' target=\"_blank\">https://wandb.ai/jaron-matzinger/delearn-pw05</a>"
      ],
      "text/plain": [
       "<IPython.core.display.HTML object>"
      ]
     },
     "metadata": {},
     "output_type": "display_data"
    },
    {
     "data": {
      "text/html": [
       " View run at <a href='https://wandb.ai/jaron-matzinger/delearn-pw05/runs/3mrzgqjr' target=\"_blank\">https://wandb.ai/jaron-matzinger/delearn-pw05/runs/3mrzgqjr</a>"
      ],
      "text/plain": [
       "<IPython.core.display.HTML object>"
      ]
     },
     "metadata": {},
     "output_type": "display_data"
    },
    {
     "name": "stdout",
     "output_type": "stream",
     "text": [
      "Epoch: 1, Train Loss: 2.2775, Val Loss: 2.2959, Train Acc: 0.0938, Val Acc: 0.1938\n",
      "Epoch: 2, Train Loss: 2.2172, Val Loss: 2.2855, Train Acc: 0.1406, Val Acc: 0.2772\n",
      "Epoch: 3, Train Loss: 2.1503, Val Loss: 2.2232, Train Acc: 0.2031, Val Acc: 0.2118\n",
      "Epoch: 4, Train Loss: 2.0124, Val Loss: 2.0217, Train Acc: 0.2656, Val Acc: 0.2437\n",
      "Epoch: 5, Train Loss: 1.7486, Val Loss: 1.7947, Train Acc: 0.3594, Val Acc: 0.4084\n"
     ]
    },
    {
     "data": {
      "text/html": [],
      "text/plain": [
       "<IPython.core.display.HTML object>"
      ]
     },
     "metadata": {},
     "output_type": "display_data"
    },
    {
     "data": {
      "text/html": [
       "<br>    <style><br>        .wandb-row {<br>            display: flex;<br>            flex-direction: row;<br>            flex-wrap: wrap;<br>            justify-content: flex-start;<br>            width: 100%;<br>        }<br>        .wandb-col {<br>            display: flex;<br>            flex-direction: column;<br>            flex-basis: 100%;<br>            flex: 1;<br>            padding: 10px;<br>        }<br>    </style><br><div class=\"wandb-row\"><div class=\"wandb-col\"><h3>Run history:</h3><br/><table class=\"wandb\"><tr><td>epoch</td><td>▁▃▅▆█</td></tr><tr><td>train_acc</td><td>▁▂▄▆█</td></tr><tr><td>train_loss</td><td>█▇▆▄▁</td></tr><tr><td>val_acc</td><td>▁▄▂▃█</td></tr><tr><td>val_loss</td><td>██▇▄▁</td></tr></table><br/></div><div class=\"wandb-col\"><h3>Run summary:</h3><br/><table class=\"wandb\"><tr><td>epoch</td><td>5</td></tr><tr><td>train_acc</td><td>0.35938</td></tr><tr><td>train_loss</td><td>1.74856</td></tr><tr><td>val_acc</td><td>0.4084</td></tr><tr><td>val_loss</td><td>1.79472</td></tr></table><br/></div></div>"
      ],
      "text/plain": [
       "<IPython.core.display.HTML object>"
      ]
     },
     "metadata": {},
     "output_type": "display_data"
    },
    {
     "data": {
      "text/html": [
       " View run <strong style=\"color:#cdcd00\">train_cnn_single_batch</strong> at: <a href='https://wandb.ai/jaron-matzinger/delearn-pw05/runs/3mrzgqjr' target=\"_blank\">https://wandb.ai/jaron-matzinger/delearn-pw05/runs/3mrzgqjr</a><br> View project at: <a href='https://wandb.ai/jaron-matzinger/delearn-pw05' target=\"_blank\">https://wandb.ai/jaron-matzinger/delearn-pw05</a><br>Synced 5 W&B file(s), 0 media file(s), 0 artifact file(s) and 0 other file(s)"
      ],
      "text/plain": [
       "<IPython.core.display.HTML object>"
      ]
     },
     "metadata": {},
     "output_type": "display_data"
    },
    {
     "data": {
      "text/html": [
       "Find logs at: <code>./wandb/run-20250326_133602-3mrzgqjr/logs</code>"
      ],
      "text/plain": [
       "<IPython.core.display.HTML object>"
      ]
     },
     "metadata": {},
     "output_type": "display_data"
    }
   ],
   "source": [
    "config = {\n",
    "'n_epochs': 5,\n",
    "'batch_size': 64,\n",
    "'model_name': 'CNN',\n",
    "'optimizer': 'SGD',\n",
    "'learning_rate': 0.01\n",
    "}\n",
    "run = wandb.init(entity='jaron-matzinger', project='delearn-pw05', config=config, name=f'train_cnn_single_batch')\n",
    "\n",
    "X_train, y_train = next(iter(DataLoader(training_data, batch_size=64, shuffle=True)))\n",
    "train_dataset = TensorDataset(X_train, y_train)\n",
    "train_loader = DataLoader(train_dataset, batch_size=1, shuffle=False)\n",
    "val_loader = DataLoader(validation_data, batch_size=config['batch_size'], shuffle=False)\n",
    "\n",
    "model = cnn_model().to(device)\n",
    "optimizer = torch.optim.SGD(model.parameters(),lr=config['learning_rate'])\n",
    "\n",
    "train_loss, val_loss, train_acc, val_acc = train_eval(model, optimizer, config['n_epochs'], train_loader, val_loader, run)\n",
    "run.finish()"
   ]
  },
  {
   "cell_type": "markdown",
   "id": "02c0343d",
   "metadata": {},
   "source": [
    "### Find learning rate that makes loss go down"
   ]
  },
  {
   "cell_type": "code",
   "execution_count": 12,
   "id": "3d9717ac",
   "metadata": {
    "collapsed": false,
    "jupyter": {
     "outputs_hidden": false
    }
   },
   "outputs": [
    {
     "data": {
      "text/html": [
       "Tracking run with wandb version 0.19.8"
      ],
      "text/plain": [
       "<IPython.core.display.HTML object>"
      ]
     },
     "metadata": {},
     "output_type": "display_data"
    },
    {
     "data": {
      "text/html": [
       "Run data is saved locally in <code>/Users/jaron/workspace/mse_delearn/05_exercises/wandb/run-20250326_133608-x6zi96ou</code>"
      ],
      "text/plain": [
       "<IPython.core.display.HTML object>"
      ]
     },
     "metadata": {},
     "output_type": "display_data"
    },
    {
     "data": {
      "text/html": [
       "Syncing run <strong><a href='https://wandb.ai/jaron-matzinger/delearn-pw05/runs/x6zi96ou' target=\"_blank\">train_cnn_lr=0.1</a></strong> to <a href='https://wandb.ai/jaron-matzinger/delearn-pw05' target=\"_blank\">Weights & Biases</a> (<a href='https://wandb.me/developer-guide' target=\"_blank\">docs</a>)<br>"
      ],
      "text/plain": [
       "<IPython.core.display.HTML object>"
      ]
     },
     "metadata": {},
     "output_type": "display_data"
    },
    {
     "data": {
      "text/html": [
       " View project at <a href='https://wandb.ai/jaron-matzinger/delearn-pw05' target=\"_blank\">https://wandb.ai/jaron-matzinger/delearn-pw05</a>"
      ],
      "text/plain": [
       "<IPython.core.display.HTML object>"
      ]
     },
     "metadata": {},
     "output_type": "display_data"
    },
    {
     "data": {
      "text/html": [
       " View run at <a href='https://wandb.ai/jaron-matzinger/delearn-pw05/runs/x6zi96ou' target=\"_blank\">https://wandb.ai/jaron-matzinger/delearn-pw05/runs/x6zi96ou</a>"
      ],
      "text/plain": [
       "<IPython.core.display.HTML object>"
      ]
     },
     "metadata": {},
     "output_type": "display_data"
    },
    {
     "name": "stdout",
     "output_type": "stream",
     "text": [
      "Epoch: 1, Train Loss: 0.7203, Val Loss: 0.8864, Train Acc: 0.7272, Val Acc: 0.7190\n",
      "Epoch: 2, Train Loss: 0.4057, Val Loss: 0.4872, Train Acc: 0.8520, Val Acc: 0.8046\n",
      "Epoch: 3, Train Loss: 0.3380, Val Loss: 0.4262, Train Acc: 0.8770, Val Acc: 0.8314\n",
      "Epoch: 4, Train Loss: 0.3023, Val Loss: 0.5278, Train Acc: 0.8887, Val Acc: 0.8016\n",
      "Epoch: 5, Train Loss: 0.2760, Val Loss: 0.3279, Train Acc: 0.8987, Val Acc: 0.8816\n"
     ]
    },
    {
     "data": {
      "text/html": [],
      "text/plain": [
       "<IPython.core.display.HTML object>"
      ]
     },
     "metadata": {},
     "output_type": "display_data"
    },
    {
     "data": {
      "text/html": [
       "<br>    <style><br>        .wandb-row {<br>            display: flex;<br>            flex-direction: row;<br>            flex-wrap: wrap;<br>            justify-content: flex-start;<br>            width: 100%;<br>        }<br>        .wandb-col {<br>            display: flex;<br>            flex-direction: column;<br>            flex-basis: 100%;<br>            flex: 1;<br>            padding: 10px;<br>        }<br>    </style><br><div class=\"wandb-row\"><div class=\"wandb-col\"><h3>Run history:</h3><br/><table class=\"wandb\"><tr><td>epoch</td><td>▁▃▅▆█</td></tr><tr><td>train_acc</td><td>▁▆▇██</td></tr><tr><td>train_loss</td><td>█▃▂▁▁</td></tr><tr><td>val_acc</td><td>▁▅▆▅█</td></tr><tr><td>val_loss</td><td>█▃▂▄▁</td></tr></table><br/></div><div class=\"wandb-col\"><h3>Run summary:</h3><br/><table class=\"wandb\"><tr><td>epoch</td><td>5</td></tr><tr><td>train_acc</td><td>0.89868</td></tr><tr><td>train_loss</td><td>0.27597</td></tr><tr><td>val_acc</td><td>0.8816</td></tr><tr><td>val_loss</td><td>0.32793</td></tr></table><br/></div></div>"
      ],
      "text/plain": [
       "<IPython.core.display.HTML object>"
      ]
     },
     "metadata": {},
     "output_type": "display_data"
    },
    {
     "data": {
      "text/html": [
       " View run <strong style=\"color:#cdcd00\">train_cnn_lr=0.1</strong> at: <a href='https://wandb.ai/jaron-matzinger/delearn-pw05/runs/x6zi96ou' target=\"_blank\">https://wandb.ai/jaron-matzinger/delearn-pw05/runs/x6zi96ou</a><br> View project at: <a href='https://wandb.ai/jaron-matzinger/delearn-pw05' target=\"_blank\">https://wandb.ai/jaron-matzinger/delearn-pw05</a><br>Synced 5 W&B file(s), 0 media file(s), 0 artifact file(s) and 0 other file(s)"
      ],
      "text/plain": [
       "<IPython.core.display.HTML object>"
      ]
     },
     "metadata": {},
     "output_type": "display_data"
    },
    {
     "data": {
      "text/html": [
       "Find logs at: <code>./wandb/run-20250326_133608-x6zi96ou/logs</code>"
      ],
      "text/plain": [
       "<IPython.core.display.HTML object>"
      ]
     },
     "metadata": {},
     "output_type": "display_data"
    },
    {
     "data": {
      "text/html": [
       "Tracking run with wandb version 0.19.8"
      ],
      "text/plain": [
       "<IPython.core.display.HTML object>"
      ]
     },
     "metadata": {},
     "output_type": "display_data"
    },
    {
     "data": {
      "text/html": [
       "Run data is saved locally in <code>/Users/jaron/workspace/mse_delearn/05_exercises/wandb/run-20250326_133652-8qege4nz</code>"
      ],
      "text/plain": [
       "<IPython.core.display.HTML object>"
      ]
     },
     "metadata": {},
     "output_type": "display_data"
    },
    {
     "data": {
      "text/html": [
       "Syncing run <strong><a href='https://wandb.ai/jaron-matzinger/delearn-pw05/runs/8qege4nz' target=\"_blank\">train_cnn_lr=0.01</a></strong> to <a href='https://wandb.ai/jaron-matzinger/delearn-pw05' target=\"_blank\">Weights & Biases</a> (<a href='https://wandb.me/developer-guide' target=\"_blank\">docs</a>)<br>"
      ],
      "text/plain": [
       "<IPython.core.display.HTML object>"
      ]
     },
     "metadata": {},
     "output_type": "display_data"
    },
    {
     "data": {
      "text/html": [
       " View project at <a href='https://wandb.ai/jaron-matzinger/delearn-pw05' target=\"_blank\">https://wandb.ai/jaron-matzinger/delearn-pw05</a>"
      ],
      "text/plain": [
       "<IPython.core.display.HTML object>"
      ]
     },
     "metadata": {},
     "output_type": "display_data"
    },
    {
     "data": {
      "text/html": [
       " View run at <a href='https://wandb.ai/jaron-matzinger/delearn-pw05/runs/8qege4nz' target=\"_blank\">https://wandb.ai/jaron-matzinger/delearn-pw05/runs/8qege4nz</a>"
      ],
      "text/plain": [
       "<IPython.core.display.HTML object>"
      ]
     },
     "metadata": {},
     "output_type": "display_data"
    },
    {
     "name": "stdout",
     "output_type": "stream",
     "text": [
      "Epoch: 1, Train Loss: 1.1471, Val Loss: 0.8841, Train Acc: 0.5962, Val Acc: 0.6752\n",
      "Epoch: 2, Train Loss: 0.6764, Val Loss: 0.6977, Train Acc: 0.7467, Val Acc: 0.7265\n",
      "Epoch: 3, Train Loss: 0.5974, Val Loss: 0.6265, Train Acc: 0.7790, Val Acc: 0.7621\n",
      "Epoch: 4, Train Loss: 0.5509, Val Loss: 0.6867, Train Acc: 0.7965, Val Acc: 0.7121\n",
      "Epoch: 5, Train Loss: 0.5111, Val Loss: 0.7198, Train Acc: 0.8120, Val Acc: 0.7111\n"
     ]
    },
    {
     "data": {
      "text/html": [],
      "text/plain": [
       "<IPython.core.display.HTML object>"
      ]
     },
     "metadata": {},
     "output_type": "display_data"
    },
    {
     "data": {
      "text/html": [
       "<br>    <style><br>        .wandb-row {<br>            display: flex;<br>            flex-direction: row;<br>            flex-wrap: wrap;<br>            justify-content: flex-start;<br>            width: 100%;<br>        }<br>        .wandb-col {<br>            display: flex;<br>            flex-direction: column;<br>            flex-basis: 100%;<br>            flex: 1;<br>            padding: 10px;<br>        }<br>    </style><br><div class=\"wandb-row\"><div class=\"wandb-col\"><h3>Run history:</h3><br/><table class=\"wandb\"><tr><td>epoch</td><td>▁▃▅▆█</td></tr><tr><td>train_acc</td><td>▁▆▇▇█</td></tr><tr><td>train_loss</td><td>█▃▂▁▁</td></tr><tr><td>val_acc</td><td>▁▅█▄▄</td></tr><tr><td>val_loss</td><td>█▃▁▃▄</td></tr></table><br/></div><div class=\"wandb-col\"><h3>Run summary:</h3><br/><table class=\"wandb\"><tr><td>epoch</td><td>5</td></tr><tr><td>train_acc</td><td>0.812</td></tr><tr><td>train_loss</td><td>0.51109</td></tr><tr><td>val_acc</td><td>0.7111</td></tr><tr><td>val_loss</td><td>0.71984</td></tr></table><br/></div></div>"
      ],
      "text/plain": [
       "<IPython.core.display.HTML object>"
      ]
     },
     "metadata": {},
     "output_type": "display_data"
    },
    {
     "data": {
      "text/html": [
       " View run <strong style=\"color:#cdcd00\">train_cnn_lr=0.01</strong> at: <a href='https://wandb.ai/jaron-matzinger/delearn-pw05/runs/8qege4nz' target=\"_blank\">https://wandb.ai/jaron-matzinger/delearn-pw05/runs/8qege4nz</a><br> View project at: <a href='https://wandb.ai/jaron-matzinger/delearn-pw05' target=\"_blank\">https://wandb.ai/jaron-matzinger/delearn-pw05</a><br>Synced 5 W&B file(s), 0 media file(s), 0 artifact file(s) and 0 other file(s)"
      ],
      "text/plain": [
       "<IPython.core.display.HTML object>"
      ]
     },
     "metadata": {},
     "output_type": "display_data"
    },
    {
     "data": {
      "text/html": [
       "Find logs at: <code>./wandb/run-20250326_133652-8qege4nz/logs</code>"
      ],
      "text/plain": [
       "<IPython.core.display.HTML object>"
      ]
     },
     "metadata": {},
     "output_type": "display_data"
    },
    {
     "data": {
      "text/html": [
       "Tracking run with wandb version 0.19.8"
      ],
      "text/plain": [
       "<IPython.core.display.HTML object>"
      ]
     },
     "metadata": {},
     "output_type": "display_data"
    },
    {
     "data": {
      "text/html": [
       "Run data is saved locally in <code>/Users/jaron/workspace/mse_delearn/05_exercises/wandb/run-20250326_133735-9unh7tc9</code>"
      ],
      "text/plain": [
       "<IPython.core.display.HTML object>"
      ]
     },
     "metadata": {},
     "output_type": "display_data"
    },
    {
     "data": {
      "text/html": [
       "Syncing run <strong><a href='https://wandb.ai/jaron-matzinger/delearn-pw05/runs/9unh7tc9' target=\"_blank\">train_cnn_lr=0.001</a></strong> to <a href='https://wandb.ai/jaron-matzinger/delearn-pw05' target=\"_blank\">Weights & Biases</a> (<a href='https://wandb.me/developer-guide' target=\"_blank\">docs</a>)<br>"
      ],
      "text/plain": [
       "<IPython.core.display.HTML object>"
      ]
     },
     "metadata": {},
     "output_type": "display_data"
    },
    {
     "data": {
      "text/html": [
       " View project at <a href='https://wandb.ai/jaron-matzinger/delearn-pw05' target=\"_blank\">https://wandb.ai/jaron-matzinger/delearn-pw05</a>"
      ],
      "text/plain": [
       "<IPython.core.display.HTML object>"
      ]
     },
     "metadata": {},
     "output_type": "display_data"
    },
    {
     "data": {
      "text/html": [
       " View run at <a href='https://wandb.ai/jaron-matzinger/delearn-pw05/runs/9unh7tc9' target=\"_blank\">https://wandb.ai/jaron-matzinger/delearn-pw05/runs/9unh7tc9</a>"
      ],
      "text/plain": [
       "<IPython.core.display.HTML object>"
      ]
     },
     "metadata": {},
     "output_type": "display_data"
    },
    {
     "name": "stdout",
     "output_type": "stream",
     "text": [
      "Epoch: 1, Train Loss: 2.2789, Val Loss: 2.2472, Train Acc: 0.2165, Val Acc: 0.3122\n",
      "Epoch: 2, Train Loss: 2.1693, Val Loss: 2.0344, Train Acc: 0.3689, Val Acc: 0.5133\n",
      "Epoch: 3, Train Loss: 1.6751, Val Loss: 1.2863, Train Acc: 0.5777, Val Acc: 0.5976\n",
      "Epoch: 4, Train Loss: 1.0821, Val Loss: 0.9611, Train Acc: 0.6247, Val Acc: 0.6336\n",
      "Epoch: 5, Train Loss: 0.8889, Val Loss: 0.8551, Train Acc: 0.6786, Val Acc: 0.6867\n"
     ]
    },
    {
     "data": {
      "text/html": [],
      "text/plain": [
       "<IPython.core.display.HTML object>"
      ]
     },
     "metadata": {},
     "output_type": "display_data"
    },
    {
     "data": {
      "text/html": [
       "<br>    <style><br>        .wandb-row {<br>            display: flex;<br>            flex-direction: row;<br>            flex-wrap: wrap;<br>            justify-content: flex-start;<br>            width: 100%;<br>        }<br>        .wandb-col {<br>            display: flex;<br>            flex-direction: column;<br>            flex-basis: 100%;<br>            flex: 1;<br>            padding: 10px;<br>        }<br>    </style><br><div class=\"wandb-row\"><div class=\"wandb-col\"><h3>Run history:</h3><br/><table class=\"wandb\"><tr><td>epoch</td><td>▁▃▅▆█</td></tr><tr><td>train_acc</td><td>▁▃▆▇█</td></tr><tr><td>train_loss</td><td>█▇▅▂▁</td></tr><tr><td>val_acc</td><td>▁▅▆▇█</td></tr><tr><td>val_loss</td><td>█▇▃▂▁</td></tr></table><br/></div><div class=\"wandb-col\"><h3>Run summary:</h3><br/><table class=\"wandb\"><tr><td>epoch</td><td>5</td></tr><tr><td>train_acc</td><td>0.67858</td></tr><tr><td>train_loss</td><td>0.88888</td></tr><tr><td>val_acc</td><td>0.6867</td></tr><tr><td>val_loss</td><td>0.85507</td></tr></table><br/></div></div>"
      ],
      "text/plain": [
       "<IPython.core.display.HTML object>"
      ]
     },
     "metadata": {},
     "output_type": "display_data"
    },
    {
     "data": {
      "text/html": [
       " View run <strong style=\"color:#cdcd00\">train_cnn_lr=0.001</strong> at: <a href='https://wandb.ai/jaron-matzinger/delearn-pw05/runs/9unh7tc9' target=\"_blank\">https://wandb.ai/jaron-matzinger/delearn-pw05/runs/9unh7tc9</a><br> View project at: <a href='https://wandb.ai/jaron-matzinger/delearn-pw05' target=\"_blank\">https://wandb.ai/jaron-matzinger/delearn-pw05</a><br>Synced 5 W&B file(s), 0 media file(s), 0 artifact file(s) and 0 other file(s)"
      ],
      "text/plain": [
       "<IPython.core.display.HTML object>"
      ]
     },
     "metadata": {},
     "output_type": "display_data"
    },
    {
     "data": {
      "text/html": [
       "Find logs at: <code>./wandb/run-20250326_133735-9unh7tc9/logs</code>"
      ],
      "text/plain": [
       "<IPython.core.display.HTML object>"
      ]
     },
     "metadata": {},
     "output_type": "display_data"
    }
   ],
   "source": [
    "### YOUR CODE HERE ###\n",
    "\n",
    "for lr in [0.1, 0.01, 0.001]:\n",
    "    config = {\n",
    "    'n_epochs': 5,\n",
    "    'batch_size': 64,\n",
    "    'model_name': 'CNN',\n",
    "    'optimizer': 'SGD',\n",
    "    'learning_rate': lr\n",
    "    }\n",
    "    run = wandb.init(entity='jaron-matzinger', project='delearn-pw05', config=config, name=f'train_cnn_lr={lr}')\n",
    "\n",
    "    train_loader = DataLoader(training_data, batch_size=config['batch_size'], shuffle=True)\n",
    "    val_loader = DataLoader(test_data, config['batch_size'], shuffle=False)\n",
    "    \n",
    "    model = cnn_model().to(device)\n",
    "    optimizer = torch.optim.SGD(model.parameters(),lr=lr)\n",
    "\n",
    "    train_loss, val_loss, train_acc, val_acc = train_eval(model, optimizer, config['n_epochs'], train_loader, val_loader, run)\n",
    "    run.finish()"
   ]
  },
  {
   "cell_type": "markdown",
   "id": "532d2c36",
   "metadata": {},
   "source": [
    "### Cross-Validation\n",
    "\n",
    "Use 5-fold cross validation to estimate the accuracy and an error bar of the accuracy estimate.\n"
   ]
  },
  {
   "cell_type": "code",
   "execution_count": 13,
   "id": "aa20d275",
   "metadata": {
    "collapsed": false,
    "jupyter": {
     "outputs_hidden": false
    }
   },
   "outputs": [
    {
     "name": "stdout",
     "output_type": "stream",
     "text": [
      "\n",
      "Fold 1\n",
      "-------\n"
     ]
    },
    {
     "data": {
      "text/html": [
       "Tracking run with wandb version 0.19.8"
      ],
      "text/plain": [
       "<IPython.core.display.HTML object>"
      ]
     },
     "metadata": {},
     "output_type": "display_data"
    },
    {
     "data": {
      "text/html": [
       "Run data is saved locally in <code>/Users/jaron/workspace/mse_delearn/05_exercises/wandb/run-20250326_133825-zcthx6r5</code>"
      ],
      "text/plain": [
       "<IPython.core.display.HTML object>"
      ]
     },
     "metadata": {},
     "output_type": "display_data"
    },
    {
     "data": {
      "text/html": [
       "Syncing run <strong><a href='https://wandb.ai/jaron-matzinger/delearn-pw05/runs/zcthx6r5' target=\"_blank\">train_cnn_lr=0.1_fold_1</a></strong> to <a href='https://wandb.ai/jaron-matzinger/delearn-pw05' target=\"_blank\">Weights & Biases</a> (<a href='https://wandb.me/developer-guide' target=\"_blank\">docs</a>)<br>"
      ],
      "text/plain": [
       "<IPython.core.display.HTML object>"
      ]
     },
     "metadata": {},
     "output_type": "display_data"
    },
    {
     "data": {
      "text/html": [
       " View project at <a href='https://wandb.ai/jaron-matzinger/delearn-pw05' target=\"_blank\">https://wandb.ai/jaron-matzinger/delearn-pw05</a>"
      ],
      "text/plain": [
       "<IPython.core.display.HTML object>"
      ]
     },
     "metadata": {},
     "output_type": "display_data"
    },
    {
     "data": {
      "text/html": [
       " View run at <a href='https://wandb.ai/jaron-matzinger/delearn-pw05/runs/zcthx6r5' target=\"_blank\">https://wandb.ai/jaron-matzinger/delearn-pw05/runs/zcthx6r5</a>"
      ],
      "text/plain": [
       "<IPython.core.display.HTML object>"
      ]
     },
     "metadata": {},
     "output_type": "display_data"
    },
    {
     "name": "stdout",
     "output_type": "stream",
     "text": [
      "Epoch: 1, Train Loss: 0.7005, Val Loss: 0.4341, Train Acc: 0.7361, Val Acc: 0.8393\n",
      "Epoch: 2, Train Loss: 0.3996, Val Loss: 0.3817, Train Acc: 0.8556, Val Acc: 0.8564\n",
      "Epoch: 3, Train Loss: 0.3380, Val Loss: 0.3097, Train Acc: 0.8767, Val Acc: 0.8863\n",
      "Epoch: 4, Train Loss: 0.3023, Val Loss: 0.2759, Train Acc: 0.8884, Val Acc: 0.8996\n",
      "Epoch: 5, Train Loss: 0.2769, Val Loss: 0.3017, Train Acc: 0.8974, Val Acc: 0.8878\n"
     ]
    },
    {
     "data": {
      "text/html": [],
      "text/plain": [
       "<IPython.core.display.HTML object>"
      ]
     },
     "metadata": {},
     "output_type": "display_data"
    },
    {
     "data": {
      "text/html": [
       "<br>    <style><br>        .wandb-row {<br>            display: flex;<br>            flex-direction: row;<br>            flex-wrap: wrap;<br>            justify-content: flex-start;<br>            width: 100%;<br>        }<br>        .wandb-col {<br>            display: flex;<br>            flex-direction: column;<br>            flex-basis: 100%;<br>            flex: 1;<br>            padding: 10px;<br>        }<br>    </style><br><div class=\"wandb-row\"><div class=\"wandb-col\"><h3>Run history:</h3><br/><table class=\"wandb\"><tr><td>epoch</td><td>▁▃▅▆█</td></tr><tr><td>train_acc</td><td>▁▆▇██</td></tr><tr><td>train_loss</td><td>█▃▂▁▁</td></tr><tr><td>val_acc</td><td>▁▃▆█▇</td></tr><tr><td>val_loss</td><td>█▆▂▁▂</td></tr></table><br/></div><div class=\"wandb-col\"><h3>Run summary:</h3><br/><table class=\"wandb\"><tr><td>epoch</td><td>5</td></tr><tr><td>train_acc</td><td>0.89738</td></tr><tr><td>train_loss</td><td>0.27687</td></tr><tr><td>val_acc</td><td>0.88778</td></tr><tr><td>val_loss</td><td>0.30174</td></tr></table><br/></div></div>"
      ],
      "text/plain": [
       "<IPython.core.display.HTML object>"
      ]
     },
     "metadata": {},
     "output_type": "display_data"
    },
    {
     "data": {
      "text/html": [
       " View run <strong style=\"color:#cdcd00\">train_cnn_lr=0.1_fold_1</strong> at: <a href='https://wandb.ai/jaron-matzinger/delearn-pw05/runs/zcthx6r5' target=\"_blank\">https://wandb.ai/jaron-matzinger/delearn-pw05/runs/zcthx6r5</a><br> View project at: <a href='https://wandb.ai/jaron-matzinger/delearn-pw05' target=\"_blank\">https://wandb.ai/jaron-matzinger/delearn-pw05</a><br>Synced 5 W&B file(s), 0 media file(s), 0 artifact file(s) and 0 other file(s)"
      ],
      "text/plain": [
       "<IPython.core.display.HTML object>"
      ]
     },
     "metadata": {},
     "output_type": "display_data"
    },
    {
     "data": {
      "text/html": [
       "Find logs at: <code>./wandb/run-20250326_133825-zcthx6r5/logs</code>"
      ],
      "text/plain": [
       "<IPython.core.display.HTML object>"
      ]
     },
     "metadata": {},
     "output_type": "display_data"
    },
    {
     "name": "stdout",
     "output_type": "stream",
     "text": [
      "\n",
      "Fold 2\n",
      "-------\n"
     ]
    },
    {
     "data": {
      "text/html": [
       "Tracking run with wandb version 0.19.8"
      ],
      "text/plain": [
       "<IPython.core.display.HTML object>"
      ]
     },
     "metadata": {},
     "output_type": "display_data"
    },
    {
     "data": {
      "text/html": [
       "Run data is saved locally in <code>/Users/jaron/workspace/mse_delearn/05_exercises/wandb/run-20250326_133921-hgk0iwc9</code>"
      ],
      "text/plain": [
       "<IPython.core.display.HTML object>"
      ]
     },
     "metadata": {},
     "output_type": "display_data"
    },
    {
     "data": {
      "text/html": [
       "Syncing run <strong><a href='https://wandb.ai/jaron-matzinger/delearn-pw05/runs/hgk0iwc9' target=\"_blank\">train_cnn_lr=0.1_fold_2</a></strong> to <a href='https://wandb.ai/jaron-matzinger/delearn-pw05' target=\"_blank\">Weights & Biases</a> (<a href='https://wandb.me/developer-guide' target=\"_blank\">docs</a>)<br>"
      ],
      "text/plain": [
       "<IPython.core.display.HTML object>"
      ]
     },
     "metadata": {},
     "output_type": "display_data"
    },
    {
     "data": {
      "text/html": [
       " View project at <a href='https://wandb.ai/jaron-matzinger/delearn-pw05' target=\"_blank\">https://wandb.ai/jaron-matzinger/delearn-pw05</a>"
      ],
      "text/plain": [
       "<IPython.core.display.HTML object>"
      ]
     },
     "metadata": {},
     "output_type": "display_data"
    },
    {
     "data": {
      "text/html": [
       " View run at <a href='https://wandb.ai/jaron-matzinger/delearn-pw05/runs/hgk0iwc9' target=\"_blank\">https://wandb.ai/jaron-matzinger/delearn-pw05/runs/hgk0iwc9</a>"
      ],
      "text/plain": [
       "<IPython.core.display.HTML object>"
      ]
     },
     "metadata": {},
     "output_type": "display_data"
    },
    {
     "name": "stdout",
     "output_type": "stream",
     "text": [
      "Epoch: 1, Train Loss: 0.6993, Val Loss: 0.5155, Train Acc: 0.7342, Val Acc: 0.8047\n",
      "Epoch: 2, Train Loss: 0.3902, Val Loss: 0.6037, Train Acc: 0.8567, Val Acc: 0.7729\n",
      "Epoch: 3, Train Loss: 0.3284, Val Loss: 0.3766, Train Acc: 0.8784, Val Acc: 0.8569\n",
      "Epoch: 4, Train Loss: 0.2938, Val Loss: 0.4668, Train Acc: 0.8907, Val Acc: 0.8249\n",
      "Epoch: 5, Train Loss: 0.2707, Val Loss: 0.3648, Train Acc: 0.9007, Val Acc: 0.8597\n"
     ]
    },
    {
     "data": {
      "text/html": [],
      "text/plain": [
       "<IPython.core.display.HTML object>"
      ]
     },
     "metadata": {},
     "output_type": "display_data"
    },
    {
     "data": {
      "text/html": [
       "<br>    <style><br>        .wandb-row {<br>            display: flex;<br>            flex-direction: row;<br>            flex-wrap: wrap;<br>            justify-content: flex-start;<br>            width: 100%;<br>        }<br>        .wandb-col {<br>            display: flex;<br>            flex-direction: column;<br>            flex-basis: 100%;<br>            flex: 1;<br>            padding: 10px;<br>        }<br>    </style><br><div class=\"wandb-row\"><div class=\"wandb-col\"><h3>Run history:</h3><br/><table class=\"wandb\"><tr><td>epoch</td><td>▁▃▅▆█</td></tr><tr><td>train_acc</td><td>▁▆▇██</td></tr><tr><td>train_loss</td><td>█▃▂▁▁</td></tr><tr><td>val_acc</td><td>▄▁█▅█</td></tr><tr><td>val_loss</td><td>▅█▁▄▁</td></tr></table><br/></div><div class=\"wandb-col\"><h3>Run summary:</h3><br/><table class=\"wandb\"><tr><td>epoch</td><td>5</td></tr><tr><td>train_acc</td><td>0.90068</td></tr><tr><td>train_loss</td><td>0.2707</td></tr><tr><td>val_acc</td><td>0.85974</td></tr><tr><td>val_loss</td><td>0.36477</td></tr></table><br/></div></div>"
      ],
      "text/plain": [
       "<IPython.core.display.HTML object>"
      ]
     },
     "metadata": {},
     "output_type": "display_data"
    },
    {
     "data": {
      "text/html": [
       " View run <strong style=\"color:#cdcd00\">train_cnn_lr=0.1_fold_2</strong> at: <a href='https://wandb.ai/jaron-matzinger/delearn-pw05/runs/hgk0iwc9' target=\"_blank\">https://wandb.ai/jaron-matzinger/delearn-pw05/runs/hgk0iwc9</a><br> View project at: <a href='https://wandb.ai/jaron-matzinger/delearn-pw05' target=\"_blank\">https://wandb.ai/jaron-matzinger/delearn-pw05</a><br>Synced 5 W&B file(s), 0 media file(s), 0 artifact file(s) and 0 other file(s)"
      ],
      "text/plain": [
       "<IPython.core.display.HTML object>"
      ]
     },
     "metadata": {},
     "output_type": "display_data"
    },
    {
     "data": {
      "text/html": [
       "Find logs at: <code>./wandb/run-20250326_133921-hgk0iwc9/logs</code>"
      ],
      "text/plain": [
       "<IPython.core.display.HTML object>"
      ]
     },
     "metadata": {},
     "output_type": "display_data"
    },
    {
     "name": "stdout",
     "output_type": "stream",
     "text": [
      "\n",
      "Fold 3\n",
      "-------\n"
     ]
    },
    {
     "data": {
      "text/html": [
       "Tracking run with wandb version 0.19.8"
      ],
      "text/plain": [
       "<IPython.core.display.HTML object>"
      ]
     },
     "metadata": {},
     "output_type": "display_data"
    },
    {
     "data": {
      "text/html": [
       "Run data is saved locally in <code>/Users/jaron/workspace/mse_delearn/05_exercises/wandb/run-20250326_134015-nex95r4x</code>"
      ],
      "text/plain": [
       "<IPython.core.display.HTML object>"
      ]
     },
     "metadata": {},
     "output_type": "display_data"
    },
    {
     "data": {
      "text/html": [
       "Syncing run <strong><a href='https://wandb.ai/jaron-matzinger/delearn-pw05/runs/nex95r4x' target=\"_blank\">train_cnn_lr=0.1_fold_3</a></strong> to <a href='https://wandb.ai/jaron-matzinger/delearn-pw05' target=\"_blank\">Weights & Biases</a> (<a href='https://wandb.me/developer-guide' target=\"_blank\">docs</a>)<br>"
      ],
      "text/plain": [
       "<IPython.core.display.HTML object>"
      ]
     },
     "metadata": {},
     "output_type": "display_data"
    },
    {
     "data": {
      "text/html": [
       " View project at <a href='https://wandb.ai/jaron-matzinger/delearn-pw05' target=\"_blank\">https://wandb.ai/jaron-matzinger/delearn-pw05</a>"
      ],
      "text/plain": [
       "<IPython.core.display.HTML object>"
      ]
     },
     "metadata": {},
     "output_type": "display_data"
    },
    {
     "data": {
      "text/html": [
       " View run at <a href='https://wandb.ai/jaron-matzinger/delearn-pw05/runs/nex95r4x' target=\"_blank\">https://wandb.ai/jaron-matzinger/delearn-pw05/runs/nex95r4x</a>"
      ],
      "text/plain": [
       "<IPython.core.display.HTML object>"
      ]
     },
     "metadata": {},
     "output_type": "display_data"
    },
    {
     "name": "stdout",
     "output_type": "stream",
     "text": [
      "Epoch: 1, Train Loss: 0.7084, Val Loss: 0.6112, Train Acc: 0.7338, Val Acc: 0.7570\n",
      "Epoch: 2, Train Loss: 0.3966, Val Loss: 0.3286, Train Acc: 0.8552, Val Acc: 0.8793\n",
      "Epoch: 3, Train Loss: 0.3313, Val Loss: 0.3121, Train Acc: 0.8793, Val Acc: 0.8824\n",
      "Epoch: 4, Train Loss: 0.2944, Val Loss: 0.3097, Train Acc: 0.8898, Val Acc: 0.8874\n",
      "Epoch: 5, Train Loss: 0.2698, Val Loss: 0.2859, Train Acc: 0.9009, Val Acc: 0.8918\n"
     ]
    },
    {
     "data": {
      "text/html": [],
      "text/plain": [
       "<IPython.core.display.HTML object>"
      ]
     },
     "metadata": {},
     "output_type": "display_data"
    },
    {
     "data": {
      "text/html": [
       "<br>    <style><br>        .wandb-row {<br>            display: flex;<br>            flex-direction: row;<br>            flex-wrap: wrap;<br>            justify-content: flex-start;<br>            width: 100%;<br>        }<br>        .wandb-col {<br>            display: flex;<br>            flex-direction: column;<br>            flex-basis: 100%;<br>            flex: 1;<br>            padding: 10px;<br>        }<br>    </style><br><div class=\"wandb-row\"><div class=\"wandb-col\"><h3>Run history:</h3><br/><table class=\"wandb\"><tr><td>epoch</td><td>▁▃▅▆█</td></tr><tr><td>train_acc</td><td>▁▆▇██</td></tr><tr><td>train_loss</td><td>█▃▂▁▁</td></tr><tr><td>val_acc</td><td>▁▇███</td></tr><tr><td>val_loss</td><td>█▂▂▂▁</td></tr></table><br/></div><div class=\"wandb-col\"><h3>Run summary:</h3><br/><table class=\"wandb\"><tr><td>epoch</td><td>5</td></tr><tr><td>train_acc</td><td>0.9009</td></tr><tr><td>train_loss</td><td>0.26982</td></tr><tr><td>val_acc</td><td>0.89176</td></tr><tr><td>val_loss</td><td>0.28586</td></tr></table><br/></div></div>"
      ],
      "text/plain": [
       "<IPython.core.display.HTML object>"
      ]
     },
     "metadata": {},
     "output_type": "display_data"
    },
    {
     "data": {
      "text/html": [
       " View run <strong style=\"color:#cdcd00\">train_cnn_lr=0.1_fold_3</strong> at: <a href='https://wandb.ai/jaron-matzinger/delearn-pw05/runs/nex95r4x' target=\"_blank\">https://wandb.ai/jaron-matzinger/delearn-pw05/runs/nex95r4x</a><br> View project at: <a href='https://wandb.ai/jaron-matzinger/delearn-pw05' target=\"_blank\">https://wandb.ai/jaron-matzinger/delearn-pw05</a><br>Synced 5 W&B file(s), 0 media file(s), 0 artifact file(s) and 0 other file(s)"
      ],
      "text/plain": [
       "<IPython.core.display.HTML object>"
      ]
     },
     "metadata": {},
     "output_type": "display_data"
    },
    {
     "data": {
      "text/html": [
       "Find logs at: <code>./wandb/run-20250326_134015-nex95r4x/logs</code>"
      ],
      "text/plain": [
       "<IPython.core.display.HTML object>"
      ]
     },
     "metadata": {},
     "output_type": "display_data"
    },
    {
     "name": "stdout",
     "output_type": "stream",
     "text": [
      "\n",
      "Fold 4\n",
      "-------\n"
     ]
    },
    {
     "data": {
      "text/html": [
       "Tracking run with wandb version 0.19.8"
      ],
      "text/plain": [
       "<IPython.core.display.HTML object>"
      ]
     },
     "metadata": {},
     "output_type": "display_data"
    },
    {
     "data": {
      "text/html": [
       "Run data is saved locally in <code>/Users/jaron/workspace/mse_delearn/05_exercises/wandb/run-20250326_134110-o14fhqpf</code>"
      ],
      "text/plain": [
       "<IPython.core.display.HTML object>"
      ]
     },
     "metadata": {},
     "output_type": "display_data"
    },
    {
     "data": {
      "text/html": [
       "Syncing run <strong><a href='https://wandb.ai/jaron-matzinger/delearn-pw05/runs/o14fhqpf' target=\"_blank\">train_cnn_lr=0.1_fold_4</a></strong> to <a href='https://wandb.ai/jaron-matzinger/delearn-pw05' target=\"_blank\">Weights & Biases</a> (<a href='https://wandb.me/developer-guide' target=\"_blank\">docs</a>)<br>"
      ],
      "text/plain": [
       "<IPython.core.display.HTML object>"
      ]
     },
     "metadata": {},
     "output_type": "display_data"
    },
    {
     "data": {
      "text/html": [
       " View project at <a href='https://wandb.ai/jaron-matzinger/delearn-pw05' target=\"_blank\">https://wandb.ai/jaron-matzinger/delearn-pw05</a>"
      ],
      "text/plain": [
       "<IPython.core.display.HTML object>"
      ]
     },
     "metadata": {},
     "output_type": "display_data"
    },
    {
     "data": {
      "text/html": [
       " View run at <a href='https://wandb.ai/jaron-matzinger/delearn-pw05/runs/o14fhqpf' target=\"_blank\">https://wandb.ai/jaron-matzinger/delearn-pw05/runs/o14fhqpf</a>"
      ],
      "text/plain": [
       "<IPython.core.display.HTML object>"
      ]
     },
     "metadata": {},
     "output_type": "display_data"
    },
    {
     "name": "stdout",
     "output_type": "stream",
     "text": [
      "Epoch: 1, Train Loss: 0.7192, Val Loss: 0.5047, Train Acc: 0.7321, Val Acc: 0.8081\n",
      "Epoch: 2, Train Loss: 0.3971, Val Loss: 0.6219, Train Acc: 0.8551, Val Acc: 0.7786\n",
      "Epoch: 3, Train Loss: 0.3337, Val Loss: 0.4109, Train Acc: 0.8762, Val Acc: 0.8481\n",
      "Epoch: 4, Train Loss: 0.3000, Val Loss: 0.3340, Train Acc: 0.8901, Val Acc: 0.8705\n",
      "Epoch: 5, Train Loss: 0.2734, Val Loss: 0.4369, Train Acc: 0.8995, Val Acc: 0.8243\n"
     ]
    },
    {
     "data": {
      "text/html": [],
      "text/plain": [
       "<IPython.core.display.HTML object>"
      ]
     },
     "metadata": {},
     "output_type": "display_data"
    },
    {
     "data": {
      "text/html": [
       "<br>    <style><br>        .wandb-row {<br>            display: flex;<br>            flex-direction: row;<br>            flex-wrap: wrap;<br>            justify-content: flex-start;<br>            width: 100%;<br>        }<br>        .wandb-col {<br>            display: flex;<br>            flex-direction: column;<br>            flex-basis: 100%;<br>            flex: 1;<br>            padding: 10px;<br>        }<br>    </style><br><div class=\"wandb-row\"><div class=\"wandb-col\"><h3>Run history:</h3><br/><table class=\"wandb\"><tr><td>epoch</td><td>▁▃▅▆█</td></tr><tr><td>train_acc</td><td>▁▆▇██</td></tr><tr><td>train_loss</td><td>█▃▂▁▁</td></tr><tr><td>val_acc</td><td>▃▁▆█▄</td></tr><tr><td>val_loss</td><td>▅█▃▁▄</td></tr></table><br/></div><div class=\"wandb-col\"><h3>Run summary:</h3><br/><table class=\"wandb\"><tr><td>epoch</td><td>5</td></tr><tr><td>train_acc</td><td>0.89948</td></tr><tr><td>train_loss</td><td>0.27342</td></tr><tr><td>val_acc</td><td>0.8243</td></tr><tr><td>val_loss</td><td>0.43687</td></tr></table><br/></div></div>"
      ],
      "text/plain": [
       "<IPython.core.display.HTML object>"
      ]
     },
     "metadata": {},
     "output_type": "display_data"
    },
    {
     "data": {
      "text/html": [
       " View run <strong style=\"color:#cdcd00\">train_cnn_lr=0.1_fold_4</strong> at: <a href='https://wandb.ai/jaron-matzinger/delearn-pw05/runs/o14fhqpf' target=\"_blank\">https://wandb.ai/jaron-matzinger/delearn-pw05/runs/o14fhqpf</a><br> View project at: <a href='https://wandb.ai/jaron-matzinger/delearn-pw05' target=\"_blank\">https://wandb.ai/jaron-matzinger/delearn-pw05</a><br>Synced 5 W&B file(s), 0 media file(s), 0 artifact file(s) and 0 other file(s)"
      ],
      "text/plain": [
       "<IPython.core.display.HTML object>"
      ]
     },
     "metadata": {},
     "output_type": "display_data"
    },
    {
     "data": {
      "text/html": [
       "Find logs at: <code>./wandb/run-20250326_134110-o14fhqpf/logs</code>"
      ],
      "text/plain": [
       "<IPython.core.display.HTML object>"
      ]
     },
     "metadata": {},
     "output_type": "display_data"
    },
    {
     "name": "stdout",
     "output_type": "stream",
     "text": [
      "\n",
      "Fold 5\n",
      "-------\n"
     ]
    },
    {
     "data": {
      "text/html": [
       "Tracking run with wandb version 0.19.8"
      ],
      "text/plain": [
       "<IPython.core.display.HTML object>"
      ]
     },
     "metadata": {},
     "output_type": "display_data"
    },
    {
     "data": {
      "text/html": [
       "Run data is saved locally in <code>/Users/jaron/workspace/mse_delearn/05_exercises/wandb/run-20250326_134204-2r89lwfd</code>"
      ],
      "text/plain": [
       "<IPython.core.display.HTML object>"
      ]
     },
     "metadata": {},
     "output_type": "display_data"
    },
    {
     "data": {
      "text/html": [
       "Syncing run <strong><a href='https://wandb.ai/jaron-matzinger/delearn-pw05/runs/2r89lwfd' target=\"_blank\">train_cnn_lr=0.1_fold_5</a></strong> to <a href='https://wandb.ai/jaron-matzinger/delearn-pw05' target=\"_blank\">Weights & Biases</a> (<a href='https://wandb.me/developer-guide' target=\"_blank\">docs</a>)<br>"
      ],
      "text/plain": [
       "<IPython.core.display.HTML object>"
      ]
     },
     "metadata": {},
     "output_type": "display_data"
    },
    {
     "data": {
      "text/html": [
       " View project at <a href='https://wandb.ai/jaron-matzinger/delearn-pw05' target=\"_blank\">https://wandb.ai/jaron-matzinger/delearn-pw05</a>"
      ],
      "text/plain": [
       "<IPython.core.display.HTML object>"
      ]
     },
     "metadata": {},
     "output_type": "display_data"
    },
    {
     "data": {
      "text/html": [
       " View run at <a href='https://wandb.ai/jaron-matzinger/delearn-pw05/runs/2r89lwfd' target=\"_blank\">https://wandb.ai/jaron-matzinger/delearn-pw05/runs/2r89lwfd</a>"
      ],
      "text/plain": [
       "<IPython.core.display.HTML object>"
      ]
     },
     "metadata": {},
     "output_type": "display_data"
    },
    {
     "name": "stdout",
     "output_type": "stream",
     "text": [
      "Epoch: 1, Train Loss: 0.6955, Val Loss: 0.4643, Train Acc: 0.7343, Val Acc: 0.8312\n",
      "Epoch: 2, Train Loss: 0.3989, Val Loss: 0.5826, Train Acc: 0.8539, Val Acc: 0.7969\n",
      "Epoch: 3, Train Loss: 0.3340, Val Loss: 0.3501, Train Acc: 0.8777, Val Acc: 0.8699\n",
      "Epoch: 4, Train Loss: 0.2980, Val Loss: 0.2914, Train Acc: 0.8907, Val Acc: 0.8933\n",
      "Epoch: 5, Train Loss: 0.2753, Val Loss: 0.3344, Train Acc: 0.8991, Val Acc: 0.8651\n"
     ]
    },
    {
     "data": {
      "text/html": [],
      "text/plain": [
       "<IPython.core.display.HTML object>"
      ]
     },
     "metadata": {},
     "output_type": "display_data"
    },
    {
     "data": {
      "text/html": [
       "<br>    <style><br>        .wandb-row {<br>            display: flex;<br>            flex-direction: row;<br>            flex-wrap: wrap;<br>            justify-content: flex-start;<br>            width: 100%;<br>        }<br>        .wandb-col {<br>            display: flex;<br>            flex-direction: column;<br>            flex-basis: 100%;<br>            flex: 1;<br>            padding: 10px;<br>        }<br>    </style><br><div class=\"wandb-row\"><div class=\"wandb-col\"><h3>Run history:</h3><br/><table class=\"wandb\"><tr><td>epoch</td><td>▁▃▅▆█</td></tr><tr><td>train_acc</td><td>▁▆▇██</td></tr><tr><td>train_loss</td><td>█▃▂▁▁</td></tr><tr><td>val_acc</td><td>▃▁▆█▆</td></tr><tr><td>val_loss</td><td>▅█▂▁▂</td></tr></table><br/></div><div class=\"wandb-col\"><h3>Run summary:</h3><br/><table class=\"wandb\"><tr><td>epoch</td><td>5</td></tr><tr><td>train_acc</td><td>0.89912</td></tr><tr><td>train_loss</td><td>0.27535</td></tr><tr><td>val_acc</td><td>0.86514</td></tr><tr><td>val_loss</td><td>0.33443</td></tr></table><br/></div></div>"
      ],
      "text/plain": [
       "<IPython.core.display.HTML object>"
      ]
     },
     "metadata": {},
     "output_type": "display_data"
    },
    {
     "data": {
      "text/html": [
       " View run <strong style=\"color:#cdcd00\">train_cnn_lr=0.1_fold_5</strong> at: <a href='https://wandb.ai/jaron-matzinger/delearn-pw05/runs/2r89lwfd' target=\"_blank\">https://wandb.ai/jaron-matzinger/delearn-pw05/runs/2r89lwfd</a><br> View project at: <a href='https://wandb.ai/jaron-matzinger/delearn-pw05' target=\"_blank\">https://wandb.ai/jaron-matzinger/delearn-pw05</a><br>Synced 5 W&B file(s), 0 media file(s), 0 artifact file(s) and 0 other file(s)"
      ],
      "text/plain": [
       "<IPython.core.display.HTML object>"
      ]
     },
     "metadata": {},
     "output_type": "display_data"
    },
    {
     "data": {
      "text/html": [
       "Find logs at: <code>./wandb/run-20250326_134204-2r89lwfd/logs</code>"
      ],
      "text/plain": [
       "<IPython.core.display.HTML object>"
      ]
     },
     "metadata": {},
     "output_type": "display_data"
    },
    {
     "name": "stdout",
     "output_type": "stream",
     "text": [
      "\n",
      "Final Cross-Validation Results:\n",
      "Val Accuracy: 0.8469 +- 0.0194\n"
     ]
    }
   ],
   "source": [
    "### YOUR CODE HERE ###\n",
    "from sklearn.model_selection import KFold\n",
    "from torch.utils.data import Subset\n",
    "\n",
    "val_acc_folds = []\n",
    "n_splits = 5\n",
    "\n",
    "kf = KFold(n_splits=n_splits, shuffle=True, random_state=42)\n",
    "\n",
    "for i, (train_idx, test_idx) in enumerate(kf.split(training_data)):\n",
    "    print(f'\\nFold {i+1}')\n",
    "    print('-------')\n",
    "    \n",
    "    config = {\n",
    "        'n_epochs': 5,\n",
    "        'batch_size': 64,\n",
    "        'k_fold': n_splits,\n",
    "        'model_name': 'CNN',\n",
    "        'optimizer': 'SGD',\n",
    "        'learning_rate': 0.1\n",
    "    }\n",
    "\n",
    "    run = wandb.init(entity='jaron-matzinger', project='delearn-pw05', config=config, name=f'train_cnn_lr={config['learning_rate']}_fold_{i+1}')\n",
    "    \n",
    "    train_dataset = Subset(training_data, train_idx)\n",
    "    val_dataset = Subset(training_data, test_idx)\n",
    "    \n",
    "    train_loader = DataLoader(training_data, batch_size=config['batch_size'], shuffle=True)\n",
    "    val_loader = DataLoader(training_data, batch_size=config['batch_size'], shuffle=False)\n",
    "    \n",
    "    model = cnn_model().to(device)\n",
    "    optimizer = torch.optim.SGD(model.parameters(),lr=config['learning_rate'])\n",
    "\n",
    "    train_loss, val_loss, train_acc, val_acc = train_eval(model, optimizer, config['n_epochs'], train_loader, val_loader, run)\n",
    "\n",
    "    val_acc_folds.append(np.mean(val_acc))\n",
    "    \n",
    "    run.finish()\n",
    "\n",
    "mean_acc = np.mean(val_acc_folds)\n",
    "std_acc = np.std(val_acc_folds)\n",
    "\n",
    "print(f'\\nFinal Cross-Validation Results:')\n",
    "print(f'Val Accuracy: {mean_acc:.4f} +- {std_acc:.4f}')"
   ]
  },
  {
   "cell_type": "code",
   "execution_count": 16,
   "id": "0d221eeb",
   "metadata": {},
   "outputs": [
    {
     "data": {
      "image/png": "[encoded data removed]",
      "text/plain": [
       "<Figure size 1000x600 with 1 Axes>"
      ]
     },
     "metadata": {},
     "output_type": "display_data"
    }
   ],
   "source": [
    "plt.figure(figsize=(10, 6))\n",
    "plt.errorbar(range(1, n_splits+1), val_acc_folds, yerr=std_acc, fmt='o-', label='Val accuracy per fold')\n",
    "plt.axhline(mean_acc, color='r', linestyle='--', label=f'Mean Accuracy: {mean_acc:.3f}')\n",
    "plt.xlabel('Fold Number')\n",
    "plt.xticks(range(1, n_splits+1))\n",
    "plt.ylabel('Accuracy')\n",
    "plt.title('5-Fold Cross-Validation Accuracy with Error Bars')\n",
    "plt.legend()\n",
    "plt.show()"
   ]
  },
  {
   "cell_type": "markdown",
   "id": "4625a52b-a332-4844-8d7d-6998893a2d70",
   "metadata": {
    "tags": []
   },
   "source": [
    "### Analyse Different Optimisers with different Settings \n",
    "\n",
    "Use the code above to explore different settings for the different optimizers. Use batchsize 64.\n",
    "\n",
    "1. *SGD*: Refer to the results from above - for later comparison.\n",
    "<br>\n",
    "\n",
    "2. *Momentum*: Play with at least three different settings when using momentum: learning rate, momentum parameter, Nesterov flag. Start with momentum=0.9 without Nesterov and suitable learning rate, then vary the momentum parameter and independently the learning rate. Can you see an impact of using Nesterov? What is your recommended best choice (lr, momentum, nesterov, nepochs) for the given problem?\n",
    "<br>\n",
    "\n",
    "3. *RMSProp*: Same thing now for RMSprop (without momentum). Play with at least three different settings when using RMSprop: lr, alpha. Start with the default settings of pytorch with (lr=0.01, alpha=0.99,centered=False). Then vary alpha and independently the learning rate. Can you see an impact when using centered=True? What is your recommended best choice (learning rate, alpha, centered, nepochs) for the given problem?<br>\n",
    "<br>\n",
    "\n",
    "4. *Adam*: Same thing now for Adam. Play with at least three different settings. Start with the default settings of pytorch. What is your recommended best choice for the given problem?<br>\n",
    "<br>\n"
   ]
  },
  {
   "cell_type": "code",
   "execution_count": 18,
   "id": "a1fa1c2b-50d7-4b23-91c8-c47eec5fc8fd",
   "metadata": {},
   "outputs": [],
   "source": [
    "sweep_config = {\n",
    "    'method': 'random',\n",
    "    'metric': {\n",
    "        'name': 'val_acc', \n",
    "        'goal': 'maximize'\n",
    "    },\n",
    "    'parameters': {\n",
    "        'optimizer': {\n",
    "            'values': ['SGD', 'RMSprop', 'Adam']\n",
    "        },\n",
    "        'lr': {\n",
    "            'values': [0.001, 0.01, 0.1]\n",
    "        },\n",
    "        'momentum': {\n",
    "            'values': [0.0, 0.9, 0.99],\n",
    "            # Used for SGD\n",
    "        },\n",
    "        'nesterov': {\n",
    "            'values': [True, False], \n",
    "            # Used for SGD\n",
    "        },\n",
    "        'alpha': {\n",
    "            'values': [0.9, 0.99],\n",
    "            # Used for RMSProp\n",
    "        },\n",
    "        'centered': {\n",
    "            'values': [True, False], \n",
    "            # Used for RMSProp\n",
    "        },\n",
    "        'betas': {\n",
    "            'values': [(0.9, 0.999), (0.95, 0.999)],\n",
    "            # Used for Adam\n",
    "        },\n",
    "        'n_epochs': {\n",
    "            'value': 5\n",
    "        },\n",
    "        'batch_size': {\n",
    "            'value': 64\n",
    "        }\n",
    "    }\n",
    "}"
   ]
  },
  {
   "cell_type": "code",
   "execution_count": 19,
   "id": "720d8de1",
   "metadata": {},
   "outputs": [],
   "source": [
    "def sweep():\n",
    "    run = wandb.init(job_type=f'sweep_CNN')\n",
    "    config = run.config\n",
    "\n",
    "    train_loader = DataLoader(training_data, batch_size=config.batch_size, shuffle=True)\n",
    "    val_loader = DataLoader(validation_data, config.batch_size, shuffle=False)\n",
    "\n",
    "    model = cnn_model().to(device)\n",
    "    if config.optimizer == 'SGD':\n",
    "        optimizer = torch.optim.SGD(model.parameters(), lr=config.lr, momentum=config.momentum, nesterov=config.nesterov)\n",
    "    elif config.optimizer == 'RMSprop':\n",
    "        optimizer = torch.optim.RMSprop(model.parameters(), lr=config.lr, alpha=config.alpha, centered=config.centered)\n",
    "    elif config.optimizer == 'Adam':\n",
    "        optimizer = torch.optim.Adam(model.parameters(), lr=config.lr, betas=config.betas)\n",
    "\n",
    "    _ = train_eval(model, optimizer, config.n_epochs, train_loader, val_loader, run)\n",
    "    \n",
    "    run.finish()"
   ]
  },
  {
   "cell_type": "code",
   "execution_count": 20,
   "id": "c90275bc",
   "metadata": {},
   "outputs": [
    {
     "name": "stdout",
     "output_type": "stream",
     "text": [
      "Create sweep with ID: hzyhzxeu\n",
      "Sweep URL: https://wandb.ai/jaron-matzinger/delearn-pw05/sweeps/hzyhzxeu\n"
     ]
    },
    {
     "name": "stderr",
     "output_type": "stream",
     "text": [
      "\u001b[34m\u001b[1mwandb\u001b[0m: Agent Starting Run: arou3t38 with config:\n",
      "\u001b[34m\u001b[1mwandb\u001b[0m: \talpha: 0.99\n",
      "\u001b[34m\u001b[1mwandb\u001b[0m: \tbatch_size: 64\n",
      "\u001b[34m\u001b[1mwandb\u001b[0m: \tbetas: [0.9, 0.999]\n",
      "\u001b[34m\u001b[1mwandb\u001b[0m: \tcentered: False\n",
      "\u001b[34m\u001b[1mwandb\u001b[0m: \tlr: 0.001\n",
      "\u001b[34m\u001b[1mwandb\u001b[0m: \tmomentum: 0\n",
      "\u001b[34m\u001b[1mwandb\u001b[0m: \tn_epochs: 5\n",
      "\u001b[34m\u001b[1mwandb\u001b[0m: \tnesterov: False\n",
      "\u001b[34m\u001b[1mwandb\u001b[0m: \toptimizer: Adam\n"
     ]
    },
    {
     "data": {
      "text/html": [
       "Tracking run with wandb version 0.19.8"
      ],
      "text/plain": [
       "<IPython.core.display.HTML object>"
      ]
     },
     "metadata": {},
     "output_type": "display_data"
    },
    {
     "data": {
      "text/html": [
       "Run data is saved locally in <code>/Users/jaron/workspace/mse_delearn/05_exercises/wandb/run-20250326_134943-arou3t38</code>"
      ],
      "text/plain": [
       "<IPython.core.display.HTML object>"
      ]
     },
     "metadata": {},
     "output_type": "display_data"
    },
    {
     "data": {
      "text/html": [
       "Syncing run <strong><a href='https://wandb.ai/jaron-matzinger/delearn-pw05/runs/arou3t38' target=\"_blank\">drawn-sweep-1</a></strong> to <a href='https://wandb.ai/jaron-matzinger/delearn-pw05' target=\"_blank\">Weights & Biases</a> (<a href='https://wandb.me/developer-guide' target=\"_blank\">docs</a>)<br>Sweep page: <a href='https://wandb.ai/jaron-matzinger/delearn-pw05/sweeps/hzyhzxeu' target=\"_blank\">https://wandb.ai/jaron-matzinger/delearn-pw05/sweeps/hzyhzxeu</a>"
      ],
      "text/plain": [
       "<IPython.core.display.HTML object>"
      ]
     },
     "metadata": {},
     "output_type": "display_data"
    },
    {
     "data": {
      "text/html": [
       " View project at <a href='https://wandb.ai/jaron-matzinger/delearn-pw05' target=\"_blank\">https://wandb.ai/jaron-matzinger/delearn-pw05</a>"
      ],
      "text/plain": [
       "<IPython.core.display.HTML object>"
      ]
     },
     "metadata": {},
     "output_type": "display_data"
    },
    {
     "data": {
      "text/html": [
       " View sweep at <a href='https://wandb.ai/jaron-matzinger/delearn-pw05/sweeps/hzyhzxeu' target=\"_blank\">https://wandb.ai/jaron-matzinger/delearn-pw05/sweeps/hzyhzxeu</a>"
      ],
      "text/plain": [
       "<IPython.core.display.HTML object>"
      ]
     },
     "metadata": {},
     "output_type": "display_data"
    },
    {
     "data": {
      "text/html": [
       " View run at <a href='https://wandb.ai/jaron-matzinger/delearn-pw05/runs/arou3t38' target=\"_blank\">https://wandb.ai/jaron-matzinger/delearn-pw05/runs/arou3t38</a>"
      ],
      "text/plain": [
       "<IPython.core.display.HTML object>"
      ]
     },
     "metadata": {},
     "output_type": "display_data"
    },
    {
     "name": "stdout",
     "output_type": "stream",
     "text": [
      "Epoch: 1, Train Loss: 0.5206, Val Loss: 0.3789, Train Acc: 0.8127, Val Acc: 0.8636\n",
      "Epoch: 2, Train Loss: 0.3404, Val Loss: 0.2986, Train Acc: 0.8765, Val Acc: 0.8873\n",
      "Epoch: 3, Train Loss: 0.2895, Val Loss: 0.2861, Train Acc: 0.8943, Val Acc: 0.8972\n",
      "Epoch: 4, Train Loss: 0.2588, Val Loss: 0.2552, Train Acc: 0.9057, Val Acc: 0.9031\n",
      "Epoch: 5, Train Loss: 0.2353, Val Loss: 0.2490, Train Acc: 0.9134, Val Acc: 0.9081\n"
     ]
    },
    {
     "data": {
      "text/html": [],
      "text/plain": [
       "<IPython.core.display.HTML object>"
      ]
     },
     "metadata": {},
     "output_type": "display_data"
    },
    {
     "data": {
      "text/html": [
       "<br>    <style><br>        .wandb-row {<br>            display: flex;<br>            flex-direction: row;<br>            flex-wrap: wrap;<br>            justify-content: flex-start;<br>            width: 100%;<br>        }<br>        .wandb-col {<br>            display: flex;<br>            flex-direction: column;<br>            flex-basis: 100%;<br>            flex: 1;<br>            padding: 10px;<br>        }<br>    </style><br><div class=\"wandb-row\"><div class=\"wandb-col\"><h3>Run history:</h3><br/><table class=\"wandb\"><tr><td>epoch</td><td>▁▃▅▆█</td></tr><tr><td>train_acc</td><td>▁▅▇▇█</td></tr><tr><td>train_loss</td><td>█▄▂▂▁</td></tr><tr><td>val_acc</td><td>▁▅▆▇█</td></tr><tr><td>val_loss</td><td>█▄▃▁▁</td></tr></table><br/></div><div class=\"wandb-col\"><h3>Run summary:</h3><br/><table class=\"wandb\"><tr><td>epoch</td><td>5</td></tr><tr><td>train_acc</td><td>0.91342</td></tr><tr><td>train_loss</td><td>0.23532</td></tr><tr><td>val_acc</td><td>0.9081</td></tr><tr><td>val_loss</td><td>0.24897</td></tr></table><br/></div></div>"
      ],
      "text/plain": [
       "<IPython.core.display.HTML object>"
      ]
     },
     "metadata": {},
     "output_type": "display_data"
    },
    {
     "data": {
      "text/html": [
       " View run <strong style=\"color:#cdcd00\">drawn-sweep-1</strong> at: <a href='https://wandb.ai/jaron-matzinger/delearn-pw05/runs/arou3t38' target=\"_blank\">https://wandb.ai/jaron-matzinger/delearn-pw05/runs/arou3t38</a><br> View project at: <a href='https://wandb.ai/jaron-matzinger/delearn-pw05' target=\"_blank\">https://wandb.ai/jaron-matzinger/delearn-pw05</a><br>Synced 5 W&B file(s), 0 media file(s), 0 artifact file(s) and 0 other file(s)"
      ],
      "text/plain": [
       "<IPython.core.display.HTML object>"
      ]
     },
     "metadata": {},
     "output_type": "display_data"
    },
    {
     "data": {
      "text/html": [
       "Find logs at: <code>./wandb/run-20250326_134943-arou3t38/logs</code>"
      ],
      "text/plain": [
       "<IPython.core.display.HTML object>"
      ]
     },
     "metadata": {},
     "output_type": "display_data"
    },
    {
     "name": "stderr",
     "output_type": "stream",
     "text": [
      "\u001b[34m\u001b[1mwandb\u001b[0m: Agent Starting Run: hoe98oz8 with config:\n",
      "\u001b[34m\u001b[1mwandb\u001b[0m: \talpha: 0.9\n",
      "\u001b[34m\u001b[1mwandb\u001b[0m: \tbatch_size: 64\n",
      "\u001b[34m\u001b[1mwandb\u001b[0m: \tbetas: [0.95, 0.999]\n",
      "\u001b[34m\u001b[1mwandb\u001b[0m: \tcentered: True\n",
      "\u001b[34m\u001b[1mwandb\u001b[0m: \tlr: 0.01\n",
      "\u001b[34m\u001b[1mwandb\u001b[0m: \tmomentum: 0.99\n",
      "\u001b[34m\u001b[1mwandb\u001b[0m: \tn_epochs: 5\n",
      "\u001b[34m\u001b[1mwandb\u001b[0m: \tnesterov: False\n",
      "\u001b[34m\u001b[1mwandb\u001b[0m: \toptimizer: Adam\n"
     ]
    },
    {
     "data": {
      "text/html": [
       "Tracking run with wandb version 0.19.8"
      ],
      "text/plain": [
       "<IPython.core.display.HTML object>"
      ]
     },
     "metadata": {},
     "output_type": "display_data"
    },
    {
     "data": {
      "text/html": [
       "Run data is saved locally in <code>/Users/jaron/workspace/mse_delearn/05_exercises/wandb/run-20250326_135030-hoe98oz8</code>"
      ],
      "text/plain": [
       "<IPython.core.display.HTML object>"
      ]
     },
     "metadata": {},
     "output_type": "display_data"
    },
    {
     "data": {
      "text/html": [
       "Syncing run <strong><a href='https://wandb.ai/jaron-matzinger/delearn-pw05/runs/hoe98oz8' target=\"_blank\">earnest-sweep-2</a></strong> to <a href='https://wandb.ai/jaron-matzinger/delearn-pw05' target=\"_blank\">Weights & Biases</a> (<a href='https://wandb.me/developer-guide' target=\"_blank\">docs</a>)<br>Sweep page: <a href='https://wandb.ai/jaron-matzinger/delearn-pw05/sweeps/hzyhzxeu' target=\"_blank\">https://wandb.ai/jaron-matzinger/delearn-pw05/sweeps/hzyhzxeu</a>"
      ],
      "text/plain": [
       "<IPython.core.display.HTML object>"
      ]
     },
     "metadata": {},
     "output_type": "display_data"
    },
    {
     "data": {
      "text/html": [
       " View project at <a href='https://wandb.ai/jaron-matzinger/delearn-pw05' target=\"_blank\">https://wandb.ai/jaron-matzinger/delearn-pw05</a>"
      ],
      "text/plain": [
       "<IPython.core.display.HTML object>"
      ]
     },
     "metadata": {},
     "output_type": "display_data"
    },
    {
     "data": {
      "text/html": [
       " View sweep at <a href='https://wandb.ai/jaron-matzinger/delearn-pw05/sweeps/hzyhzxeu' target=\"_blank\">https://wandb.ai/jaron-matzinger/delearn-pw05/sweeps/hzyhzxeu</a>"
      ],
      "text/plain": [
       "<IPython.core.display.HTML object>"
      ]
     },
     "metadata": {},
     "output_type": "display_data"
    },
    {
     "data": {
      "text/html": [
       " View run at <a href='https://wandb.ai/jaron-matzinger/delearn-pw05/runs/hoe98oz8' target=\"_blank\">https://wandb.ai/jaron-matzinger/delearn-pw05/runs/hoe98oz8</a>"
      ],
      "text/plain": [
       "<IPython.core.display.HTML object>"
      ]
     },
     "metadata": {},
     "output_type": "display_data"
    },
    {
     "name": "stdout",
     "output_type": "stream",
     "text": [
      "Epoch: 1, Train Loss: 0.4455, Val Loss: 0.3319, Train Acc: 0.8366, Val Acc: 0.8802\n",
      "Epoch: 2, Train Loss: 0.3136, Val Loss: 0.2906, Train Acc: 0.8847, Val Acc: 0.8910\n",
      "Epoch: 3, Train Loss: 0.2771, Val Loss: 0.2937, Train Acc: 0.8970, Val Acc: 0.8939\n",
      "Epoch: 4, Train Loss: 0.2571, Val Loss: 0.3252, Train Acc: 0.9040, Val Acc: 0.8861\n",
      "Epoch: 5, Train Loss: 0.2483, Val Loss: 0.2886, Train Acc: 0.9080, Val Acc: 0.8975\n"
     ]
    },
    {
     "data": {
      "text/html": [],
      "text/plain": [
       "<IPython.core.display.HTML object>"
      ]
     },
     "metadata": {},
     "output_type": "display_data"
    },
    {
     "data": {
      "text/html": [
       "<br>    <style><br>        .wandb-row {<br>            display: flex;<br>            flex-direction: row;<br>            flex-wrap: wrap;<br>            justify-content: flex-start;<br>            width: 100%;<br>        }<br>        .wandb-col {<br>            display: flex;<br>            flex-direction: column;<br>            flex-basis: 100%;<br>            flex: 1;<br>            padding: 10px;<br>        }<br>    </style><br><div class=\"wandb-row\"><div class=\"wandb-col\"><h3>Run history:</h3><br/><table class=\"wandb\"><tr><td>epoch</td><td>▁▃▅▆█</td></tr><tr><td>train_acc</td><td>▁▆▇██</td></tr><tr><td>train_loss</td><td>█▃▂▁▁</td></tr><tr><td>val_acc</td><td>▁▅▇▃█</td></tr><tr><td>val_loss</td><td>█▁▂▇▁</td></tr></table><br/></div><div class=\"wandb-col\"><h3>Run summary:</h3><br/><table class=\"wandb\"><tr><td>epoch</td><td>5</td></tr><tr><td>train_acc</td><td>0.908</td></tr><tr><td>train_loss</td><td>0.24832</td></tr><tr><td>val_acc</td><td>0.8975</td></tr><tr><td>val_loss</td><td>0.28855</td></tr></table><br/></div></div>"
      ],
      "text/plain": [
       "<IPython.core.display.HTML object>"
      ]
     },
     "metadata": {},
     "output_type": "display_data"
    },
    {
     "data": {
      "text/html": [
       " View run <strong style=\"color:#cdcd00\">earnest-sweep-2</strong> at: <a href='https://wandb.ai/jaron-matzinger/delearn-pw05/runs/hoe98oz8' target=\"_blank\">https://wandb.ai/jaron-matzinger/delearn-pw05/runs/hoe98oz8</a><br> View project at: <a href='https://wandb.ai/jaron-matzinger/delearn-pw05' target=\"_blank\">https://wandb.ai/jaron-matzinger/delearn-pw05</a><br>Synced 5 W&B file(s), 0 media file(s), 0 artifact file(s) and 0 other file(s)"
      ],
      "text/plain": [
       "<IPython.core.display.HTML object>"
      ]
     },
     "metadata": {},
     "output_type": "display_data"
    },
    {
     "data": {
      "text/html": [
       "Find logs at: <code>./wandb/run-20250326_135030-hoe98oz8/logs</code>"
      ],
      "text/plain": [
       "<IPython.core.display.HTML object>"
      ]
     },
     "metadata": {},
     "output_type": "display_data"
    },
    {
     "name": "stderr",
     "output_type": "stream",
     "text": [
      "\u001b[34m\u001b[1mwandb\u001b[0m: Agent Starting Run: s68yagdr with config:\n",
      "\u001b[34m\u001b[1mwandb\u001b[0m: \talpha: 0.99\n",
      "\u001b[34m\u001b[1mwandb\u001b[0m: \tbatch_size: 64\n",
      "\u001b[34m\u001b[1mwandb\u001b[0m: \tbetas: [0.95, 0.999]\n",
      "\u001b[34m\u001b[1mwandb\u001b[0m: \tcentered: False\n",
      "\u001b[34m\u001b[1mwandb\u001b[0m: \tlr: 0.01\n",
      "\u001b[34m\u001b[1mwandb\u001b[0m: \tmomentum: 0.9\n",
      "\u001b[34m\u001b[1mwandb\u001b[0m: \tn_epochs: 5\n",
      "\u001b[34m\u001b[1mwandb\u001b[0m: \tnesterov: True\n",
      "\u001b[34m\u001b[1mwandb\u001b[0m: \toptimizer: RMSprop\n"
     ]
    },
    {
     "data": {
      "text/html": [
       "Tracking run with wandb version 0.19.8"
      ],
      "text/plain": [
       "<IPython.core.display.HTML object>"
      ]
     },
     "metadata": {},
     "output_type": "display_data"
    },
    {
     "data": {
      "text/html": [
       "Run data is saved locally in <code>/Users/jaron/workspace/mse_delearn/05_exercises/wandb/run-20250326_135116-s68yagdr</code>"
      ],
      "text/plain": [
       "<IPython.core.display.HTML object>"
      ]
     },
     "metadata": {},
     "output_type": "display_data"
    },
    {
     "data": {
      "text/html": [
       "Syncing run <strong><a href='https://wandb.ai/jaron-matzinger/delearn-pw05/runs/s68yagdr' target=\"_blank\">jolly-sweep-3</a></strong> to <a href='https://wandb.ai/jaron-matzinger/delearn-pw05' target=\"_blank\">Weights & Biases</a> (<a href='https://wandb.me/developer-guide' target=\"_blank\">docs</a>)<br>Sweep page: <a href='https://wandb.ai/jaron-matzinger/delearn-pw05/sweeps/hzyhzxeu' target=\"_blank\">https://wandb.ai/jaron-matzinger/delearn-pw05/sweeps/hzyhzxeu</a>"
      ],
      "text/plain": [
       "<IPython.core.display.HTML object>"
      ]
     },
     "metadata": {},
     "output_type": "display_data"
    },
    {
     "data": {
      "text/html": [
       " View project at <a href='https://wandb.ai/jaron-matzinger/delearn-pw05' target=\"_blank\">https://wandb.ai/jaron-matzinger/delearn-pw05</a>"
      ],
      "text/plain": [
       "<IPython.core.display.HTML object>"
      ]
     },
     "metadata": {},
     "output_type": "display_data"
    },
    {
     "data": {
      "text/html": [
       " View sweep at <a href='https://wandb.ai/jaron-matzinger/delearn-pw05/sweeps/hzyhzxeu' target=\"_blank\">https://wandb.ai/jaron-matzinger/delearn-pw05/sweeps/hzyhzxeu</a>"
      ],
      "text/plain": [
       "<IPython.core.display.HTML object>"
      ]
     },
     "metadata": {},
     "output_type": "display_data"
    },
    {
     "data": {
      "text/html": [
       " View run at <a href='https://wandb.ai/jaron-matzinger/delearn-pw05/runs/s68yagdr' target=\"_blank\">https://wandb.ai/jaron-matzinger/delearn-pw05/runs/s68yagdr</a>"
      ],
      "text/plain": [
       "<IPython.core.display.HTML object>"
      ]
     },
     "metadata": {},
     "output_type": "display_data"
    },
    {
     "name": "stdout",
     "output_type": "stream",
     "text": [
      "Epoch: 1, Train Loss: 1.4042, Val Loss: 0.4835, Train Acc: 0.5068, Val Acc: 0.8255\n",
      "Epoch: 2, Train Loss: 0.4561, Val Loss: 0.4379, Train Acc: 0.8327, Val Acc: 0.8385\n",
      "Epoch: 3, Train Loss: 0.3737, Val Loss: 0.3488, Train Acc: 0.8617, Val Acc: 0.8685\n",
      "Epoch: 4, Train Loss: 0.3341, Val Loss: 0.3553, Train Acc: 0.8752, Val Acc: 0.8660\n",
      "Epoch: 5, Train Loss: 0.3174, Val Loss: 0.3409, Train Acc: 0.8823, Val Acc: 0.8799\n"
     ]
    },
    {
     "data": {
      "text/html": [],
      "text/plain": [
       "<IPython.core.display.HTML object>"
      ]
     },
     "metadata": {},
     "output_type": "display_data"
    },
    {
     "data": {
      "text/html": [
       "<br>    <style><br>        .wandb-row {<br>            display: flex;<br>            flex-direction: row;<br>            flex-wrap: wrap;<br>            justify-content: flex-start;<br>            width: 100%;<br>        }<br>        .wandb-col {<br>            display: flex;<br>            flex-direction: column;<br>            flex-basis: 100%;<br>            flex: 1;<br>            padding: 10px;<br>        }<br>    </style><br><div class=\"wandb-row\"><div class=\"wandb-col\"><h3>Run history:</h3><br/><table class=\"wandb\"><tr><td>epoch</td><td>▁▃▅▆█</td></tr><tr><td>train_acc</td><td>▁▇███</td></tr><tr><td>train_loss</td><td>█▂▁▁▁</td></tr><tr><td>val_acc</td><td>▁▃▇▆█</td></tr><tr><td>val_loss</td><td>█▆▁▂▁</td></tr></table><br/></div><div class=\"wandb-col\"><h3>Run summary:</h3><br/><table class=\"wandb\"><tr><td>epoch</td><td>5</td></tr><tr><td>train_acc</td><td>0.88232</td></tr><tr><td>train_loss</td><td>0.31739</td></tr><tr><td>val_acc</td><td>0.8799</td></tr><tr><td>val_loss</td><td>0.34093</td></tr></table><br/></div></div>"
      ],
      "text/plain": [
       "<IPython.core.display.HTML object>"
      ]
     },
     "metadata": {},
     "output_type": "display_data"
    },
    {
     "data": {
      "text/html": [
       " View run <strong style=\"color:#cdcd00\">jolly-sweep-3</strong> at: <a href='https://wandb.ai/jaron-matzinger/delearn-pw05/runs/s68yagdr' target=\"_blank\">https://wandb.ai/jaron-matzinger/delearn-pw05/runs/s68yagdr</a><br> View project at: <a href='https://wandb.ai/jaron-matzinger/delearn-pw05' target=\"_blank\">https://wandb.ai/jaron-matzinger/delearn-pw05</a><br>Synced 5 W&B file(s), 0 media file(s), 0 artifact file(s) and 0 other file(s)"
      ],
      "text/plain": [
       "<IPython.core.display.HTML object>"
      ]
     },
     "metadata": {},
     "output_type": "display_data"
    },
    {
     "data": {
      "text/html": [
       "Find logs at: <code>./wandb/run-20250326_135116-s68yagdr/logs</code>"
      ],
      "text/plain": [
       "<IPython.core.display.HTML object>"
      ]
     },
     "metadata": {},
     "output_type": "display_data"
    },
    {
     "name": "stderr",
     "output_type": "stream",
     "text": [
      "\u001b[34m\u001b[1mwandb\u001b[0m: Agent Starting Run: 0yl3qgiz with config:\n",
      "\u001b[34m\u001b[1mwandb\u001b[0m: \talpha: 0.9\n",
      "\u001b[34m\u001b[1mwandb\u001b[0m: \tbatch_size: 64\n",
      "\u001b[34m\u001b[1mwandb\u001b[0m: \tbetas: [0.95, 0.999]\n",
      "\u001b[34m\u001b[1mwandb\u001b[0m: \tcentered: True\n",
      "\u001b[34m\u001b[1mwandb\u001b[0m: \tlr: 0.001\n",
      "\u001b[34m\u001b[1mwandb\u001b[0m: \tmomentum: 0.99\n",
      "\u001b[34m\u001b[1mwandb\u001b[0m: \tn_epochs: 5\n",
      "\u001b[34m\u001b[1mwandb\u001b[0m: \tnesterov: False\n",
      "\u001b[34m\u001b[1mwandb\u001b[0m: \toptimizer: SGD\n"
     ]
    },
    {
     "data": {
      "text/html": [
       "Tracking run with wandb version 0.19.8"
      ],
      "text/plain": [
       "<IPython.core.display.HTML object>"
      ]
     },
     "metadata": {},
     "output_type": "display_data"
    },
    {
     "data": {
      "text/html": [
       "Run data is saved locally in <code>/Users/jaron/workspace/mse_delearn/05_exercises/wandb/run-20250326_135203-0yl3qgiz</code>"
      ],
      "text/plain": [
       "<IPython.core.display.HTML object>"
      ]
     },
     "metadata": {},
     "output_type": "display_data"
    },
    {
     "data": {
      "text/html": [
       "Syncing run <strong><a href='https://wandb.ai/jaron-matzinger/delearn-pw05/runs/0yl3qgiz' target=\"_blank\">olive-sweep-4</a></strong> to <a href='https://wandb.ai/jaron-matzinger/delearn-pw05' target=\"_blank\">Weights & Biases</a> (<a href='https://wandb.me/developer-guide' target=\"_blank\">docs</a>)<br>Sweep page: <a href='https://wandb.ai/jaron-matzinger/delearn-pw05/sweeps/hzyhzxeu' target=\"_blank\">https://wandb.ai/jaron-matzinger/delearn-pw05/sweeps/hzyhzxeu</a>"
      ],
      "text/plain": [
       "<IPython.core.display.HTML object>"
      ]
     },
     "metadata": {},
     "output_type": "display_data"
    },
    {
     "data": {
      "text/html": [
       " View project at <a href='https://wandb.ai/jaron-matzinger/delearn-pw05' target=\"_blank\">https://wandb.ai/jaron-matzinger/delearn-pw05</a>"
      ],
      "text/plain": [
       "<IPython.core.display.HTML object>"
      ]
     },
     "metadata": {},
     "output_type": "display_data"
    },
    {
     "data": {
      "text/html": [
       " View sweep at <a href='https://wandb.ai/jaron-matzinger/delearn-pw05/sweeps/hzyhzxeu' target=\"_blank\">https://wandb.ai/jaron-matzinger/delearn-pw05/sweeps/hzyhzxeu</a>"
      ],
      "text/plain": [
       "<IPython.core.display.HTML object>"
      ]
     },
     "metadata": {},
     "output_type": "display_data"
    },
    {
     "data": {
      "text/html": [
       " View run at <a href='https://wandb.ai/jaron-matzinger/delearn-pw05/runs/0yl3qgiz' target=\"_blank\">https://wandb.ai/jaron-matzinger/delearn-pw05/runs/0yl3qgiz</a>"
      ],
      "text/plain": [
       "<IPython.core.display.HTML object>"
      ]
     },
     "metadata": {},
     "output_type": "display_data"
    },
    {
     "name": "stdout",
     "output_type": "stream",
     "text": [
      "Epoch: 1, Train Loss: 0.9505, Val Loss: 0.4719, Train Acc: 0.6634, Val Acc: 0.8241\n",
      "Epoch: 2, Train Loss: 0.4114, Val Loss: 0.3738, Train Acc: 0.8520, Val Acc: 0.8614\n",
      "Epoch: 3, Train Loss: 0.3341, Val Loss: 0.3113, Train Acc: 0.8794, Val Acc: 0.8852\n",
      "Epoch: 4, Train Loss: 0.3013, Val Loss: 0.2760, Train Acc: 0.8920, Val Acc: 0.8987\n",
      "Epoch: 5, Train Loss: 0.2744, Val Loss: 0.2712, Train Acc: 0.9003, Val Acc: 0.9058\n"
     ]
    },
    {
     "data": {
      "text/html": [],
      "text/plain": [
       "<IPython.core.display.HTML object>"
      ]
     },
     "metadata": {},
     "output_type": "display_data"
    },
    {
     "data": {
      "text/html": [
       "<br>    <style><br>        .wandb-row {<br>            display: flex;<br>            flex-direction: row;<br>            flex-wrap: wrap;<br>            justify-content: flex-start;<br>            width: 100%;<br>        }<br>        .wandb-col {<br>            display: flex;<br>            flex-direction: column;<br>            flex-basis: 100%;<br>            flex: 1;<br>            padding: 10px;<br>        }<br>    </style><br><div class=\"wandb-row\"><div class=\"wandb-col\"><h3>Run history:</h3><br/><table class=\"wandb\"><tr><td>epoch</td><td>▁▃▅▆█</td></tr><tr><td>train_acc</td><td>▁▇▇██</td></tr><tr><td>train_loss</td><td>█▂▂▁▁</td></tr><tr><td>val_acc</td><td>▁▄▆▇█</td></tr><tr><td>val_loss</td><td>█▅▂▁▁</td></tr></table><br/></div><div class=\"wandb-col\"><h3>Run summary:</h3><br/><table class=\"wandb\"><tr><td>epoch</td><td>5</td></tr><tr><td>train_acc</td><td>0.90034</td></tr><tr><td>train_loss</td><td>0.27439</td></tr><tr><td>val_acc</td><td>0.9058</td></tr><tr><td>val_loss</td><td>0.27124</td></tr></table><br/></div></div>"
      ],
      "text/plain": [
       "<IPython.core.display.HTML object>"
      ]
     },
     "metadata": {},
     "output_type": "display_data"
    },
    {
     "data": {
      "text/html": [
       " View run <strong style=\"color:#cdcd00\">olive-sweep-4</strong> at: <a href='https://wandb.ai/jaron-matzinger/delearn-pw05/runs/0yl3qgiz' target=\"_blank\">https://wandb.ai/jaron-matzinger/delearn-pw05/runs/0yl3qgiz</a><br> View project at: <a href='https://wandb.ai/jaron-matzinger/delearn-pw05' target=\"_blank\">https://wandb.ai/jaron-matzinger/delearn-pw05</a><br>Synced 5 W&B file(s), 0 media file(s), 0 artifact file(s) and 0 other file(s)"
      ],
      "text/plain": [
       "<IPython.core.display.HTML object>"
      ]
     },
     "metadata": {},
     "output_type": "display_data"
    },
    {
     "data": {
      "text/html": [
       "Find logs at: <code>./wandb/run-20250326_135203-0yl3qgiz/logs</code>"
      ],
      "text/plain": [
       "<IPython.core.display.HTML object>"
      ]
     },
     "metadata": {},
     "output_type": "display_data"
    },
    {
     "name": "stderr",
     "output_type": "stream",
     "text": [
      "\u001b[34m\u001b[1mwandb\u001b[0m: Agent Starting Run: l1w62s6g with config:\n",
      "\u001b[34m\u001b[1mwandb\u001b[0m: \talpha: 0.9\n",
      "\u001b[34m\u001b[1mwandb\u001b[0m: \tbatch_size: 64\n",
      "\u001b[34m\u001b[1mwandb\u001b[0m: \tbetas: [0.95, 0.999]\n",
      "\u001b[34m\u001b[1mwandb\u001b[0m: \tcentered: True\n",
      "\u001b[34m\u001b[1mwandb\u001b[0m: \tlr: 0.001\n",
      "\u001b[34m\u001b[1mwandb\u001b[0m: \tmomentum: 0.99\n",
      "\u001b[34m\u001b[1mwandb\u001b[0m: \tn_epochs: 5\n",
      "\u001b[34m\u001b[1mwandb\u001b[0m: \tnesterov: False\n",
      "\u001b[34m\u001b[1mwandb\u001b[0m: \toptimizer: RMSprop\n"
     ]
    },
    {
     "data": {
      "text/html": [
       "Tracking run with wandb version 0.19.8"
      ],
      "text/plain": [
       "<IPython.core.display.HTML object>"
      ]
     },
     "metadata": {},
     "output_type": "display_data"
    },
    {
     "data": {
      "text/html": [
       "Run data is saved locally in <code>/Users/jaron/workspace/mse_delearn/05_exercises/wandb/run-20250326_135250-l1w62s6g</code>"
      ],
      "text/plain": [
       "<IPython.core.display.HTML object>"
      ]
     },
     "metadata": {},
     "output_type": "display_data"
    },
    {
     "data": {
      "text/html": [
       "Syncing run <strong><a href='https://wandb.ai/jaron-matzinger/delearn-pw05/runs/l1w62s6g' target=\"_blank\">iconic-sweep-5</a></strong> to <a href='https://wandb.ai/jaron-matzinger/delearn-pw05' target=\"_blank\">Weights & Biases</a> (<a href='https://wandb.me/developer-guide' target=\"_blank\">docs</a>)<br>Sweep page: <a href='https://wandb.ai/jaron-matzinger/delearn-pw05/sweeps/hzyhzxeu' target=\"_blank\">https://wandb.ai/jaron-matzinger/delearn-pw05/sweeps/hzyhzxeu</a>"
      ],
      "text/plain": [
       "<IPython.core.display.HTML object>"
      ]
     },
     "metadata": {},
     "output_type": "display_data"
    },
    {
     "data": {
      "text/html": [
       " View project at <a href='https://wandb.ai/jaron-matzinger/delearn-pw05' target=\"_blank\">https://wandb.ai/jaron-matzinger/delearn-pw05</a>"
      ],
      "text/plain": [
       "<IPython.core.display.HTML object>"
      ]
     },
     "metadata": {},
     "output_type": "display_data"
    },
    {
     "data": {
      "text/html": [
       " View sweep at <a href='https://wandb.ai/jaron-matzinger/delearn-pw05/sweeps/hzyhzxeu' target=\"_blank\">https://wandb.ai/jaron-matzinger/delearn-pw05/sweeps/hzyhzxeu</a>"
      ],
      "text/plain": [
       "<IPython.core.display.HTML object>"
      ]
     },
     "metadata": {},
     "output_type": "display_data"
    },
    {
     "data": {
      "text/html": [
       " View run at <a href='https://wandb.ai/jaron-matzinger/delearn-pw05/runs/l1w62s6g' target=\"_blank\">https://wandb.ai/jaron-matzinger/delearn-pw05/runs/l1w62s6g</a>"
      ],
      "text/plain": [
       "<IPython.core.display.HTML object>"
      ]
     },
     "metadata": {},
     "output_type": "display_data"
    },
    {
     "name": "stdout",
     "output_type": "stream",
     "text": [
      "Epoch: 1, Train Loss: 0.5153, Val Loss: 0.3876, Train Acc: 0.8086, Val Acc: 0.8594\n",
      "Epoch: 2, Train Loss: 0.3185, Val Loss: 0.3644, Train Acc: 0.8832, Val Acc: 0.8623\n",
      "Epoch: 3, Train Loss: 0.2680, Val Loss: 0.2736, Train Acc: 0.9012, Val Acc: 0.8972\n",
      "Epoch: 4, Train Loss: 0.2365, Val Loss: 0.2725, Train Acc: 0.9131, Val Acc: 0.8991\n",
      "Epoch: 5, Train Loss: 0.2135, Val Loss: 0.2467, Train Acc: 0.9224, Val Acc: 0.9115\n"
     ]
    },
    {
     "data": {
      "text/html": [],
      "text/plain": [
       "<IPython.core.display.HTML object>"
      ]
     },
     "metadata": {},
     "output_type": "display_data"
    },
    {
     "data": {
      "text/html": [
       "<br>    <style><br>        .wandb-row {<br>            display: flex;<br>            flex-direction: row;<br>            flex-wrap: wrap;<br>            justify-content: flex-start;<br>            width: 100%;<br>        }<br>        .wandb-col {<br>            display: flex;<br>            flex-direction: column;<br>            flex-basis: 100%;<br>            flex: 1;<br>            padding: 10px;<br>        }<br>    </style><br><div class=\"wandb-row\"><div class=\"wandb-col\"><h3>Run history:</h3><br/><table class=\"wandb\"><tr><td>epoch</td><td>▁▃▅▆█</td></tr><tr><td>train_acc</td><td>▁▆▇▇█</td></tr><tr><td>train_loss</td><td>█▃▂▂▁</td></tr><tr><td>val_acc</td><td>▁▁▆▆█</td></tr><tr><td>val_loss</td><td>█▇▂▂▁</td></tr></table><br/></div><div class=\"wandb-col\"><h3>Run summary:</h3><br/><table class=\"wandb\"><tr><td>epoch</td><td>5</td></tr><tr><td>train_acc</td><td>0.92236</td></tr><tr><td>train_loss</td><td>0.21355</td></tr><tr><td>val_acc</td><td>0.9115</td></tr><tr><td>val_loss</td><td>0.24672</td></tr></table><br/></div></div>"
      ],
      "text/plain": [
       "<IPython.core.display.HTML object>"
      ]
     },
     "metadata": {},
     "output_type": "display_data"
    },
    {
     "data": {
      "text/html": [
       " View run <strong style=\"color:#cdcd00\">iconic-sweep-5</strong> at: <a href='https://wandb.ai/jaron-matzinger/delearn-pw05/runs/l1w62s6g' target=\"_blank\">https://wandb.ai/jaron-matzinger/delearn-pw05/runs/l1w62s6g</a><br> View project at: <a href='https://wandb.ai/jaron-matzinger/delearn-pw05' target=\"_blank\">https://wandb.ai/jaron-matzinger/delearn-pw05</a><br>Synced 5 W&B file(s), 0 media file(s), 0 artifact file(s) and 0 other file(s)"
      ],
      "text/plain": [
       "<IPython.core.display.HTML object>"
      ]
     },
     "metadata": {},
     "output_type": "display_data"
    },
    {
     "data": {
      "text/html": [
       "Find logs at: <code>./wandb/run-20250326_135250-l1w62s6g/logs</code>"
      ],
      "text/plain": [
       "<IPython.core.display.HTML object>"
      ]
     },
     "metadata": {},
     "output_type": "display_data"
    },
    {
     "name": "stderr",
     "output_type": "stream",
     "text": [
      "\u001b[34m\u001b[1mwandb\u001b[0m: Agent Starting Run: yd6qfhqo with config:\n",
      "\u001b[34m\u001b[1mwandb\u001b[0m: \talpha: 0.9\n",
      "\u001b[34m\u001b[1mwandb\u001b[0m: \tbatch_size: 64\n",
      "\u001b[34m\u001b[1mwandb\u001b[0m: \tbetas: [0.9, 0.999]\n",
      "\u001b[34m\u001b[1mwandb\u001b[0m: \tcentered: True\n",
      "\u001b[34m\u001b[1mwandb\u001b[0m: \tlr: 0.1\n",
      "\u001b[34m\u001b[1mwandb\u001b[0m: \tmomentum: 0.99\n",
      "\u001b[34m\u001b[1mwandb\u001b[0m: \tn_epochs: 5\n",
      "\u001b[34m\u001b[1mwandb\u001b[0m: \tnesterov: True\n",
      "\u001b[34m\u001b[1mwandb\u001b[0m: \toptimizer: Adam\n"
     ]
    },
    {
     "data": {
      "text/html": [
       "Tracking run with wandb version 0.19.8"
      ],
      "text/plain": [
       "<IPython.core.display.HTML object>"
      ]
     },
     "metadata": {},
     "output_type": "display_data"
    },
    {
     "data": {
      "text/html": [
       "Run data is saved locally in <code>/Users/jaron/workspace/mse_delearn/05_exercises/wandb/run-20250326_135337-yd6qfhqo</code>"
      ],
      "text/plain": [
       "<IPython.core.display.HTML object>"
      ]
     },
     "metadata": {},
     "output_type": "display_data"
    },
    {
     "data": {
      "text/html": [
       "Syncing run <strong><a href='https://wandb.ai/jaron-matzinger/delearn-pw05/runs/yd6qfhqo' target=\"_blank\">amber-sweep-6</a></strong> to <a href='https://wandb.ai/jaron-matzinger/delearn-pw05' target=\"_blank\">Weights & Biases</a> (<a href='https://wandb.me/developer-guide' target=\"_blank\">docs</a>)<br>Sweep page: <a href='https://wandb.ai/jaron-matzinger/delearn-pw05/sweeps/hzyhzxeu' target=\"_blank\">https://wandb.ai/jaron-matzinger/delearn-pw05/sweeps/hzyhzxeu</a>"
      ],
      "text/plain": [
       "<IPython.core.display.HTML object>"
      ]
     },
     "metadata": {},
     "output_type": "display_data"
    },
    {
     "data": {
      "text/html": [
       " View project at <a href='https://wandb.ai/jaron-matzinger/delearn-pw05' target=\"_blank\">https://wandb.ai/jaron-matzinger/delearn-pw05</a>"
      ],
      "text/plain": [
       "<IPython.core.display.HTML object>"
      ]
     },
     "metadata": {},
     "output_type": "display_data"
    },
    {
     "data": {
      "text/html": [
       " View sweep at <a href='https://wandb.ai/jaron-matzinger/delearn-pw05/sweeps/hzyhzxeu' target=\"_blank\">https://wandb.ai/jaron-matzinger/delearn-pw05/sweeps/hzyhzxeu</a>"
      ],
      "text/plain": [
       "<IPython.core.display.HTML object>"
      ]
     },
     "metadata": {},
     "output_type": "display_data"
    },
    {
     "data": {
      "text/html": [
       " View run at <a href='https://wandb.ai/jaron-matzinger/delearn-pw05/runs/yd6qfhqo' target=\"_blank\">https://wandb.ai/jaron-matzinger/delearn-pw05/runs/yd6qfhqo</a>"
      ],
      "text/plain": [
       "<IPython.core.display.HTML object>"
      ]
     },
     "metadata": {},
     "output_type": "display_data"
    },
    {
     "name": "stdout",
     "output_type": "stream",
     "text": [
      "Epoch: 1, Train Loss: 2.6219, Val Loss: 2.3091, Train Acc: 0.1021, Val Acc: 0.0979\n",
      "Epoch: 2, Train Loss: 2.3109, Val Loss: 2.3132, Train Acc: 0.0985, Val Acc: 0.0982\n",
      "Epoch: 3, Train Loss: 2.3104, Val Loss: 2.3237, Train Acc: 0.0999, Val Acc: 0.0979\n",
      "Epoch: 4, Train Loss: 2.3118, Val Loss: 2.3108, Train Acc: 0.0979, Val Acc: 0.1016\n",
      "Epoch: 5, Train Loss: 2.3111, Val Loss: 2.3184, Train Acc: 0.1016, Val Acc: 0.1000\n"
     ]
    },
    {
     "data": {
      "text/html": [],
      "text/plain": [
       "<IPython.core.display.HTML object>"
      ]
     },
     "metadata": {},
     "output_type": "display_data"
    },
    {
     "data": {
      "text/html": [
       "<br>    <style><br>        .wandb-row {<br>            display: flex;<br>            flex-direction: row;<br>            flex-wrap: wrap;<br>            justify-content: flex-start;<br>            width: 100%;<br>        }<br>        .wandb-col {<br>            display: flex;<br>            flex-direction: column;<br>            flex-basis: 100%;<br>            flex: 1;<br>            padding: 10px;<br>        }<br>    </style><br><div class=\"wandb-row\"><div class=\"wandb-col\"><h3>Run history:</h3><br/><table class=\"wandb\"><tr><td>epoch</td><td>▁▃▅▆█</td></tr><tr><td>train_acc</td><td>█▂▄▁▇</td></tr><tr><td>train_loss</td><td>█▁▁▁▁</td></tr><tr><td>val_acc</td><td>▁▂▁█▅</td></tr><tr><td>val_loss</td><td>▁▃█▂▅</td></tr></table><br/></div><div class=\"wandb-col\"><h3>Run summary:</h3><br/><table class=\"wandb\"><tr><td>epoch</td><td>5</td></tr><tr><td>train_acc</td><td>0.10158</td></tr><tr><td>train_loss</td><td>2.31111</td></tr><tr><td>val_acc</td><td>0.1</td></tr><tr><td>val_loss</td><td>2.3184</td></tr></table><br/></div></div>"
      ],
      "text/plain": [
       "<IPython.core.display.HTML object>"
      ]
     },
     "metadata": {},
     "output_type": "display_data"
    },
    {
     "data": {
      "text/html": [
       " View run <strong style=\"color:#cdcd00\">amber-sweep-6</strong> at: <a href='https://wandb.ai/jaron-matzinger/delearn-pw05/runs/yd6qfhqo' target=\"_blank\">https://wandb.ai/jaron-matzinger/delearn-pw05/runs/yd6qfhqo</a><br> View project at: <a href='https://wandb.ai/jaron-matzinger/delearn-pw05' target=\"_blank\">https://wandb.ai/jaron-matzinger/delearn-pw05</a><br>Synced 5 W&B file(s), 0 media file(s), 0 artifact file(s) and 0 other file(s)"
      ],
      "text/plain": [
       "<IPython.core.display.HTML object>"
      ]
     },
     "metadata": {},
     "output_type": "display_data"
    },
    {
     "data": {
      "text/html": [
       "Find logs at: <code>./wandb/run-20250326_135337-yd6qfhqo/logs</code>"
      ],
      "text/plain": [
       "<IPython.core.display.HTML object>"
      ]
     },
     "metadata": {},
     "output_type": "display_data"
    },
    {
     "name": "stderr",
     "output_type": "stream",
     "text": [
      "\u001b[34m\u001b[1mwandb\u001b[0m: Agent Starting Run: apob0zzz with config:\n",
      "\u001b[34m\u001b[1mwandb\u001b[0m: \talpha: 0.99\n",
      "\u001b[34m\u001b[1mwandb\u001b[0m: \tbatch_size: 64\n",
      "\u001b[34m\u001b[1mwandb\u001b[0m: \tbetas: [0.9, 0.999]\n",
      "\u001b[34m\u001b[1mwandb\u001b[0m: \tcentered: True\n",
      "\u001b[34m\u001b[1mwandb\u001b[0m: \tlr: 0.01\n",
      "\u001b[34m\u001b[1mwandb\u001b[0m: \tmomentum: 0.9\n",
      "\u001b[34m\u001b[1mwandb\u001b[0m: \tn_epochs: 5\n",
      "\u001b[34m\u001b[1mwandb\u001b[0m: \tnesterov: False\n",
      "\u001b[34m\u001b[1mwandb\u001b[0m: \toptimizer: Adam\n"
     ]
    },
    {
     "data": {
      "text/html": [
       "Tracking run with wandb version 0.19.8"
      ],
      "text/plain": [
       "<IPython.core.display.HTML object>"
      ]
     },
     "metadata": {},
     "output_type": "display_data"
    },
    {
     "data": {
      "text/html": [
       "Run data is saved locally in <code>/Users/jaron/workspace/mse_delearn/05_exercises/wandb/run-20250326_135423-apob0zzz</code>"
      ],
      "text/plain": [
       "<IPython.core.display.HTML object>"
      ]
     },
     "metadata": {},
     "output_type": "display_data"
    },
    {
     "data": {
      "text/html": [
       "Syncing run <strong><a href='https://wandb.ai/jaron-matzinger/delearn-pw05/runs/apob0zzz' target=\"_blank\">fancy-sweep-7</a></strong> to <a href='https://wandb.ai/jaron-matzinger/delearn-pw05' target=\"_blank\">Weights & Biases</a> (<a href='https://wandb.me/developer-guide' target=\"_blank\">docs</a>)<br>Sweep page: <a href='https://wandb.ai/jaron-matzinger/delearn-pw05/sweeps/hzyhzxeu' target=\"_blank\">https://wandb.ai/jaron-matzinger/delearn-pw05/sweeps/hzyhzxeu</a>"
      ],
      "text/plain": [
       "<IPython.core.display.HTML object>"
      ]
     },
     "metadata": {},
     "output_type": "display_data"
    },
    {
     "data": {
      "text/html": [
       " View project at <a href='https://wandb.ai/jaron-matzinger/delearn-pw05' target=\"_blank\">https://wandb.ai/jaron-matzinger/delearn-pw05</a>"
      ],
      "text/plain": [
       "<IPython.core.display.HTML object>"
      ]
     },
     "metadata": {},
     "output_type": "display_data"
    },
    {
     "data": {
      "text/html": [
       " View sweep at <a href='https://wandb.ai/jaron-matzinger/delearn-pw05/sweeps/hzyhzxeu' target=\"_blank\">https://wandb.ai/jaron-matzinger/delearn-pw05/sweeps/hzyhzxeu</a>"
      ],
      "text/plain": [
       "<IPython.core.display.HTML object>"
      ]
     },
     "metadata": {},
     "output_type": "display_data"
    },
    {
     "data": {
      "text/html": [
       " View run at <a href='https://wandb.ai/jaron-matzinger/delearn-pw05/runs/apob0zzz' target=\"_blank\">https://wandb.ai/jaron-matzinger/delearn-pw05/runs/apob0zzz</a>"
      ],
      "text/plain": [
       "<IPython.core.display.HTML object>"
      ]
     },
     "metadata": {},
     "output_type": "display_data"
    },
    {
     "name": "stdout",
     "output_type": "stream",
     "text": [
      "Epoch: 1, Train Loss: 0.4698, Val Loss: 0.3268, Train Acc: 0.8291, Val Acc: 0.8791\n",
      "Epoch: 2, Train Loss: 0.3327, Val Loss: 0.3507, Train Acc: 0.8775, Val Acc: 0.8784\n",
      "Epoch: 3, Train Loss: 0.3079, Val Loss: 0.3358, Train Acc: 0.8861, Val Acc: 0.8803\n",
      "Epoch: 4, Train Loss: 0.2925, Val Loss: 0.3189, Train Acc: 0.8903, Val Acc: 0.8800\n",
      "Epoch: 5, Train Loss: 0.2815, Val Loss: 0.3334, Train Acc: 0.8933, Val Acc: 0.8857\n"
     ]
    },
    {
     "data": {
      "text/html": [],
      "text/plain": [
       "<IPython.core.display.HTML object>"
      ]
     },
     "metadata": {},
     "output_type": "display_data"
    },
    {
     "data": {
      "text/html": [
       "<br>    <style><br>        .wandb-row {<br>            display: flex;<br>            flex-direction: row;<br>            flex-wrap: wrap;<br>            justify-content: flex-start;<br>            width: 100%;<br>        }<br>        .wandb-col {<br>            display: flex;<br>            flex-direction: column;<br>            flex-basis: 100%;<br>            flex: 1;<br>            padding: 10px;<br>        }<br>    </style><br><div class=\"wandb-row\"><div class=\"wandb-col\"><h3>Run history:</h3><br/><table class=\"wandb\"><tr><td>epoch</td><td>▁▃▅▆█</td></tr><tr><td>train_acc</td><td>▁▆▇██</td></tr><tr><td>train_loss</td><td>█▃▂▁▁</td></tr><tr><td>val_acc</td><td>▂▁▃▃█</td></tr><tr><td>val_loss</td><td>▃█▅▁▄</td></tr></table><br/></div><div class=\"wandb-col\"><h3>Run summary:</h3><br/><table class=\"wandb\"><tr><td>epoch</td><td>5</td></tr><tr><td>train_acc</td><td>0.89328</td></tr><tr><td>train_loss</td><td>0.28148</td></tr><tr><td>val_acc</td><td>0.8857</td></tr><tr><td>val_loss</td><td>0.33344</td></tr></table><br/></div></div>"
      ],
      "text/plain": [
       "<IPython.core.display.HTML object>"
      ]
     },
     "metadata": {},
     "output_type": "display_data"
    },
    {
     "data": {
      "text/html": [
       " View run <strong style=\"color:#cdcd00\">fancy-sweep-7</strong> at: <a href='https://wandb.ai/jaron-matzinger/delearn-pw05/runs/apob0zzz' target=\"_blank\">https://wandb.ai/jaron-matzinger/delearn-pw05/runs/apob0zzz</a><br> View project at: <a href='https://wandb.ai/jaron-matzinger/delearn-pw05' target=\"_blank\">https://wandb.ai/jaron-matzinger/delearn-pw05</a><br>Synced 5 W&B file(s), 0 media file(s), 0 artifact file(s) and 0 other file(s)"
      ],
      "text/plain": [
       "<IPython.core.display.HTML object>"
      ]
     },
     "metadata": {},
     "output_type": "display_data"
    },
    {
     "data": {
      "text/html": [
       "Find logs at: <code>./wandb/run-20250326_135423-apob0zzz/logs</code>"
      ],
      "text/plain": [
       "<IPython.core.display.HTML object>"
      ]
     },
     "metadata": {},
     "output_type": "display_data"
    },
    {
     "name": "stderr",
     "output_type": "stream",
     "text": [
      "\u001b[34m\u001b[1mwandb\u001b[0m: Agent Starting Run: 6pu9cw8h with config:\n",
      "\u001b[34m\u001b[1mwandb\u001b[0m: \talpha: 0.9\n",
      "\u001b[34m\u001b[1mwandb\u001b[0m: \tbatch_size: 64\n",
      "\u001b[34m\u001b[1mwandb\u001b[0m: \tbetas: [0.9, 0.999]\n",
      "\u001b[34m\u001b[1mwandb\u001b[0m: \tcentered: True\n",
      "\u001b[34m\u001b[1mwandb\u001b[0m: \tlr: 0.1\n",
      "\u001b[34m\u001b[1mwandb\u001b[0m: \tmomentum: 0.9\n",
      "\u001b[34m\u001b[1mwandb\u001b[0m: \tn_epochs: 5\n",
      "\u001b[34m\u001b[1mwandb\u001b[0m: \tnesterov: False\n",
      "\u001b[34m\u001b[1mwandb\u001b[0m: \toptimizer: RMSprop\n"
     ]
    },
    {
     "data": {
      "text/html": [
       "Tracking run with wandb version 0.19.8"
      ],
      "text/plain": [
       "<IPython.core.display.HTML object>"
      ]
     },
     "metadata": {},
     "output_type": "display_data"
    },
    {
     "data": {
      "text/html": [
       "Run data is saved locally in <code>/Users/jaron/workspace/mse_delearn/05_exercises/wandb/run-20250326_135511-6pu9cw8h</code>"
      ],
      "text/plain": [
       "<IPython.core.display.HTML object>"
      ]
     },
     "metadata": {},
     "output_type": "display_data"
    },
    {
     "data": {
      "text/html": [
       "Syncing run <strong><a href='https://wandb.ai/jaron-matzinger/delearn-pw05/runs/6pu9cw8h' target=\"_blank\">dry-sweep-8</a></strong> to <a href='https://wandb.ai/jaron-matzinger/delearn-pw05' target=\"_blank\">Weights & Biases</a> (<a href='https://wandb.me/developer-guide' target=\"_blank\">docs</a>)<br>Sweep page: <a href='https://wandb.ai/jaron-matzinger/delearn-pw05/sweeps/hzyhzxeu' target=\"_blank\">https://wandb.ai/jaron-matzinger/delearn-pw05/sweeps/hzyhzxeu</a>"
      ],
      "text/plain": [
       "<IPython.core.display.HTML object>"
      ]
     },
     "metadata": {},
     "output_type": "display_data"
    },
    {
     "data": {
      "text/html": [
       " View project at <a href='https://wandb.ai/jaron-matzinger/delearn-pw05' target=\"_blank\">https://wandb.ai/jaron-matzinger/delearn-pw05</a>"
      ],
      "text/plain": [
       "<IPython.core.display.HTML object>"
      ]
     },
     "metadata": {},
     "output_type": "display_data"
    },
    {
     "data": {
      "text/html": [
       " View sweep at <a href='https://wandb.ai/jaron-matzinger/delearn-pw05/sweeps/hzyhzxeu' target=\"_blank\">https://wandb.ai/jaron-matzinger/delearn-pw05/sweeps/hzyhzxeu</a>"
      ],
      "text/plain": [
       "<IPython.core.display.HTML object>"
      ]
     },
     "metadata": {},
     "output_type": "display_data"
    },
    {
     "data": {
      "text/html": [
       " View run at <a href='https://wandb.ai/jaron-matzinger/delearn-pw05/runs/6pu9cw8h' target=\"_blank\">https://wandb.ai/jaron-matzinger/delearn-pw05/runs/6pu9cw8h</a>"
      ],
      "text/plain": [
       "<IPython.core.display.HTML object>"
      ]
     },
     "metadata": {},
     "output_type": "display_data"
    },
    {
     "name": "stdout",
     "output_type": "stream",
     "text": [
      "Epoch: 1, Train Loss: 48.8759, Val Loss: 2.3255, Train Acc: 0.1268, Val Acc: 0.0992\n",
      "Epoch: 2, Train Loss: 2.7485, Val Loss: 2.3129, Train Acc: 0.0983, Val Acc: 0.0992\n",
      "Epoch: 3, Train Loss: 2.3125, Val Loss: 2.3145, Train Acc: 0.0994, Val Acc: 0.0982\n",
      "Epoch: 4, Train Loss: 2.3131, Val Loss: 2.3351, Train Acc: 0.0980, Val Acc: 0.0989\n",
      "Epoch: 5, Train Loss: 2.3127, Val Loss: 2.3195, Train Acc: 0.0999, Val Acc: 0.1000\n"
     ]
    },
    {
     "data": {
      "text/html": [],
      "text/plain": [
       "<IPython.core.display.HTML object>"
      ]
     },
     "metadata": {},
     "output_type": "display_data"
    },
    {
     "data": {
      "text/html": [
       "<br>    <style><br>        .wandb-row {<br>            display: flex;<br>            flex-direction: row;<br>            flex-wrap: wrap;<br>            justify-content: flex-start;<br>            width: 100%;<br>        }<br>        .wandb-col {<br>            display: flex;<br>            flex-direction: column;<br>            flex-basis: 100%;<br>            flex: 1;<br>            padding: 10px;<br>        }<br>    </style><br><div class=\"wandb-row\"><div class=\"wandb-col\"><h3>Run history:</h3><br/><table class=\"wandb\"><tr><td>epoch</td><td>▁▃▅▆█</td></tr><tr><td>train_acc</td><td>█▁▁▁▁</td></tr><tr><td>train_loss</td><td>█▁▁▁▁</td></tr><tr><td>val_acc</td><td>▅▅▁▄█</td></tr><tr><td>val_loss</td><td>▅▁▂█▃</td></tr></table><br/></div><div class=\"wandb-col\"><h3>Run summary:</h3><br/><table class=\"wandb\"><tr><td>epoch</td><td>5</td></tr><tr><td>train_acc</td><td>0.09992</td></tr><tr><td>train_loss</td><td>2.3127</td></tr><tr><td>val_acc</td><td>0.1</td></tr><tr><td>val_loss</td><td>2.31947</td></tr></table><br/></div></div>"
      ],
      "text/plain": [
       "<IPython.core.display.HTML object>"
      ]
     },
     "metadata": {},
     "output_type": "display_data"
    },
    {
     "data": {
      "text/html": [
       " View run <strong style=\"color:#cdcd00\">dry-sweep-8</strong> at: <a href='https://wandb.ai/jaron-matzinger/delearn-pw05/runs/6pu9cw8h' target=\"_blank\">https://wandb.ai/jaron-matzinger/delearn-pw05/runs/6pu9cw8h</a><br> View project at: <a href='https://wandb.ai/jaron-matzinger/delearn-pw05' target=\"_blank\">https://wandb.ai/jaron-matzinger/delearn-pw05</a><br>Synced 5 W&B file(s), 0 media file(s), 0 artifact file(s) and 0 other file(s)"
      ],
      "text/plain": [
       "<IPython.core.display.HTML object>"
      ]
     },
     "metadata": {},
     "output_type": "display_data"
    },
    {
     "data": {
      "text/html": [
       "Find logs at: <code>./wandb/run-20250326_135511-6pu9cw8h/logs</code>"
      ],
      "text/plain": [
       "<IPython.core.display.HTML object>"
      ]
     },
     "metadata": {},
     "output_type": "display_data"
    },
    {
     "name": "stderr",
     "output_type": "stream",
     "text": [
      "\u001b[34m\u001b[1mwandb\u001b[0m: Agent Starting Run: 79spnrjf with config:\n",
      "\u001b[34m\u001b[1mwandb\u001b[0m: \talpha: 0.99\n",
      "\u001b[34m\u001b[1mwandb\u001b[0m: \tbatch_size: 64\n",
      "\u001b[34m\u001b[1mwandb\u001b[0m: \tbetas: [0.95, 0.999]\n",
      "\u001b[34m\u001b[1mwandb\u001b[0m: \tcentered: True\n",
      "\u001b[34m\u001b[1mwandb\u001b[0m: \tlr: 0.001\n",
      "\u001b[34m\u001b[1mwandb\u001b[0m: \tmomentum: 0.9\n",
      "\u001b[34m\u001b[1mwandb\u001b[0m: \tn_epochs: 5\n",
      "\u001b[34m\u001b[1mwandb\u001b[0m: \tnesterov: True\n",
      "\u001b[34m\u001b[1mwandb\u001b[0m: \toptimizer: Adam\n"
     ]
    },
    {
     "data": {
      "text/html": [
       "Tracking run with wandb version 0.19.8"
      ],
      "text/plain": [
       "<IPython.core.display.HTML object>"
      ]
     },
     "metadata": {},
     "output_type": "display_data"
    },
    {
     "data": {
      "text/html": [
       "Run data is saved locally in <code>/Users/jaron/workspace/mse_delearn/05_exercises/wandb/run-20250326_135557-79spnrjf</code>"
      ],
      "text/plain": [
       "<IPython.core.display.HTML object>"
      ]
     },
     "metadata": {},
     "output_type": "display_data"
    },
    {
     "data": {
      "text/html": [
       "Syncing run <strong><a href='https://wandb.ai/jaron-matzinger/delearn-pw05/runs/79spnrjf' target=\"_blank\">magic-sweep-9</a></strong> to <a href='https://wandb.ai/jaron-matzinger/delearn-pw05' target=\"_blank\">Weights & Biases</a> (<a href='https://wandb.me/developer-guide' target=\"_blank\">docs</a>)<br>Sweep page: <a href='https://wandb.ai/jaron-matzinger/delearn-pw05/sweeps/hzyhzxeu' target=\"_blank\">https://wandb.ai/jaron-matzinger/delearn-pw05/sweeps/hzyhzxeu</a>"
      ],
      "text/plain": [
       "<IPython.core.display.HTML object>"
      ]
     },
     "metadata": {},
     "output_type": "display_data"
    },
    {
     "data": {
      "text/html": [
       " View project at <a href='https://wandb.ai/jaron-matzinger/delearn-pw05' target=\"_blank\">https://wandb.ai/jaron-matzinger/delearn-pw05</a>"
      ],
      "text/plain": [
       "<IPython.core.display.HTML object>"
      ]
     },
     "metadata": {},
     "output_type": "display_data"
    },
    {
     "data": {
      "text/html": [
       " View sweep at <a href='https://wandb.ai/jaron-matzinger/delearn-pw05/sweeps/hzyhzxeu' target=\"_blank\">https://wandb.ai/jaron-matzinger/delearn-pw05/sweeps/hzyhzxeu</a>"
      ],
      "text/plain": [
       "<IPython.core.display.HTML object>"
      ]
     },
     "metadata": {},
     "output_type": "display_data"
    },
    {
     "data": {
      "text/html": [
       " View run at <a href='https://wandb.ai/jaron-matzinger/delearn-pw05/runs/79spnrjf' target=\"_blank\">https://wandb.ai/jaron-matzinger/delearn-pw05/runs/79spnrjf</a>"
      ],
      "text/plain": [
       "<IPython.core.display.HTML object>"
      ]
     },
     "metadata": {},
     "output_type": "display_data"
    },
    {
     "name": "stdout",
     "output_type": "stream",
     "text": [
      "Epoch: 1, Train Loss: 0.5535, Val Loss: 0.3766, Train Acc: 0.7983, Val Acc: 0.8654\n",
      "Epoch: 2, Train Loss: 0.3421, Val Loss: 0.3170, Train Acc: 0.8767, Val Acc: 0.8856\n",
      "Epoch: 3, Train Loss: 0.2931, Val Loss: 0.2764, Train Acc: 0.8933, Val Acc: 0.9001\n",
      "Epoch: 4, Train Loss: 0.2621, Val Loss: 0.2702, Train Acc: 0.9030, Val Acc: 0.8948\n",
      "Epoch: 5, Train Loss: 0.2383, Val Loss: 0.2478, Train Acc: 0.9116, Val Acc: 0.9079\n"
     ]
    },
    {
     "data": {
      "text/html": [],
      "text/plain": [
       "<IPython.core.display.HTML object>"
      ]
     },
     "metadata": {},
     "output_type": "display_data"
    },
    {
     "data": {
      "text/html": [
       "<br>    <style><br>        .wandb-row {<br>            display: flex;<br>            flex-direction: row;<br>            flex-wrap: wrap;<br>            justify-content: flex-start;<br>            width: 100%;<br>        }<br>        .wandb-col {<br>            display: flex;<br>            flex-direction: column;<br>            flex-basis: 100%;<br>            flex: 1;<br>            padding: 10px;<br>        }<br>    </style><br><div class=\"wandb-row\"><div class=\"wandb-col\"><h3>Run history:</h3><br/><table class=\"wandb\"><tr><td>epoch</td><td>▁▃▅▆█</td></tr><tr><td>train_acc</td><td>▁▆▇▇█</td></tr><tr><td>train_loss</td><td>█▃▂▂▁</td></tr><tr><td>val_acc</td><td>▁▄▇▆█</td></tr><tr><td>val_loss</td><td>█▅▃▂▁</td></tr></table><br/></div><div class=\"wandb-col\"><h3>Run summary:</h3><br/><table class=\"wandb\"><tr><td>epoch</td><td>5</td></tr><tr><td>train_acc</td><td>0.9116</td></tr><tr><td>train_loss</td><td>0.23829</td></tr><tr><td>val_acc</td><td>0.9079</td></tr><tr><td>val_loss</td><td>0.24775</td></tr></table><br/></div></div>"
      ],
      "text/plain": [
       "<IPython.core.display.HTML object>"
      ]
     },
     "metadata": {},
     "output_type": "display_data"
    },
    {
     "data": {
      "text/html": [
       " View run <strong style=\"color:#cdcd00\">magic-sweep-9</strong> at: <a href='https://wandb.ai/jaron-matzinger/delearn-pw05/runs/79spnrjf' target=\"_blank\">https://wandb.ai/jaron-matzinger/delearn-pw05/runs/79spnrjf</a><br> View project at: <a href='https://wandb.ai/jaron-matzinger/delearn-pw05' target=\"_blank\">https://wandb.ai/jaron-matzinger/delearn-pw05</a><br>Synced 5 W&B file(s), 0 media file(s), 0 artifact file(s) and 0 other file(s)"
      ],
      "text/plain": [
       "<IPython.core.display.HTML object>"
      ]
     },
     "metadata": {},
     "output_type": "display_data"
    },
    {
     "data": {
      "text/html": [
       "Find logs at: <code>./wandb/run-20250326_135557-79spnrjf/logs</code>"
      ],
      "text/plain": [
       "<IPython.core.display.HTML object>"
      ]
     },
     "metadata": {},
     "output_type": "display_data"
    },
    {
     "name": "stderr",
     "output_type": "stream",
     "text": [
      "\u001b[34m\u001b[1mwandb\u001b[0m: Agent Starting Run: 6xw3p3fh with config:\n",
      "\u001b[34m\u001b[1mwandb\u001b[0m: \talpha: 0.99\n",
      "\u001b[34m\u001b[1mwandb\u001b[0m: \tbatch_size: 64\n",
      "\u001b[34m\u001b[1mwandb\u001b[0m: \tbetas: [0.9, 0.999]\n",
      "\u001b[34m\u001b[1mwandb\u001b[0m: \tcentered: True\n",
      "\u001b[34m\u001b[1mwandb\u001b[0m: \tlr: 0.01\n",
      "\u001b[34m\u001b[1mwandb\u001b[0m: \tmomentum: 0\n",
      "\u001b[34m\u001b[1mwandb\u001b[0m: \tn_epochs: 5\n",
      "\u001b[34m\u001b[1mwandb\u001b[0m: \tnesterov: True\n",
      "\u001b[34m\u001b[1mwandb\u001b[0m: \toptimizer: Adam\n"
     ]
    },
    {
     "data": {
      "text/html": [
       "Tracking run with wandb version 0.19.8"
      ],
      "text/plain": [
       "<IPython.core.display.HTML object>"
      ]
     },
     "metadata": {},
     "output_type": "display_data"
    },
    {
     "data": {
      "text/html": [
       "Run data is saved locally in <code>/Users/jaron/workspace/mse_delearn/05_exercises/wandb/run-20250326_135645-6xw3p3fh</code>"
      ],
      "text/plain": [
       "<IPython.core.display.HTML object>"
      ]
     },
     "metadata": {},
     "output_type": "display_data"
    },
    {
     "data": {
      "text/html": [
       "Syncing run <strong><a href='https://wandb.ai/jaron-matzinger/delearn-pw05/runs/6xw3p3fh' target=\"_blank\">pleasant-sweep-10</a></strong> to <a href='https://wandb.ai/jaron-matzinger/delearn-pw05' target=\"_blank\">Weights & Biases</a> (<a href='https://wandb.me/developer-guide' target=\"_blank\">docs</a>)<br>Sweep page: <a href='https://wandb.ai/jaron-matzinger/delearn-pw05/sweeps/hzyhzxeu' target=\"_blank\">https://wandb.ai/jaron-matzinger/delearn-pw05/sweeps/hzyhzxeu</a>"
      ],
      "text/plain": [
       "<IPython.core.display.HTML object>"
      ]
     },
     "metadata": {},
     "output_type": "display_data"
    },
    {
     "data": {
      "text/html": [
       " View project at <a href='https://wandb.ai/jaron-matzinger/delearn-pw05' target=\"_blank\">https://wandb.ai/jaron-matzinger/delearn-pw05</a>"
      ],
      "text/plain": [
       "<IPython.core.display.HTML object>"
      ]
     },
     "metadata": {},
     "output_type": "display_data"
    },
    {
     "data": {
      "text/html": [
       " View sweep at <a href='https://wandb.ai/jaron-matzinger/delearn-pw05/sweeps/hzyhzxeu' target=\"_blank\">https://wandb.ai/jaron-matzinger/delearn-pw05/sweeps/hzyhzxeu</a>"
      ],
      "text/plain": [
       "<IPython.core.display.HTML object>"
      ]
     },
     "metadata": {},
     "output_type": "display_data"
    },
    {
     "data": {
      "text/html": [
       " View run at <a href='https://wandb.ai/jaron-matzinger/delearn-pw05/runs/6xw3p3fh' target=\"_blank\">https://wandb.ai/jaron-matzinger/delearn-pw05/runs/6xw3p3fh</a>"
      ],
      "text/plain": [
       "<IPython.core.display.HTML object>"
      ]
     },
     "metadata": {},
     "output_type": "display_data"
    },
    {
     "name": "stdout",
     "output_type": "stream",
     "text": [
      "Epoch: 1, Train Loss: 0.4941, Val Loss: 0.3353, Train Acc: 0.8160, Val Acc: 0.8764\n",
      "Epoch: 2, Train Loss: 0.3305, Val Loss: 0.3216, Train Acc: 0.8784, Val Acc: 0.8797\n",
      "Epoch: 3, Train Loss: 0.3032, Val Loss: 0.3052, Train Acc: 0.8880, Val Acc: 0.8824\n",
      "Epoch: 4, Train Loss: 0.2872, Val Loss: 0.2829, Train Acc: 0.8948, Val Acc: 0.8952\n",
      "Epoch: 5, Train Loss: 0.2769, Val Loss: 0.2885, Train Acc: 0.8972, Val Acc: 0.8989\n"
     ]
    },
    {
     "data": {
      "text/html": [],
      "text/plain": [
       "<IPython.core.display.HTML object>"
      ]
     },
     "metadata": {},
     "output_type": "display_data"
    },
    {
     "data": {
      "text/html": [
       "<br>    <style><br>        .wandb-row {<br>            display: flex;<br>            flex-direction: row;<br>            flex-wrap: wrap;<br>            justify-content: flex-start;<br>            width: 100%;<br>        }<br>        .wandb-col {<br>            display: flex;<br>            flex-direction: column;<br>            flex-basis: 100%;<br>            flex: 1;<br>            padding: 10px;<br>        }<br>    </style><br><div class=\"wandb-row\"><div class=\"wandb-col\"><h3>Run history:</h3><br/><table class=\"wandb\"><tr><td>epoch</td><td>▁▃▅▆█</td></tr><tr><td>train_acc</td><td>▁▆▇██</td></tr><tr><td>train_loss</td><td>█▃▂▁▁</td></tr><tr><td>val_acc</td><td>▁▂▃▇█</td></tr><tr><td>val_loss</td><td>█▆▄▁▂</td></tr></table><br/></div><div class=\"wandb-col\"><h3>Run summary:</h3><br/><table class=\"wandb\"><tr><td>epoch</td><td>5</td></tr><tr><td>train_acc</td><td>0.89722</td></tr><tr><td>train_loss</td><td>0.2769</td></tr><tr><td>val_acc</td><td>0.8989</td></tr><tr><td>val_loss</td><td>0.28846</td></tr></table><br/></div></div>"
      ],
      "text/plain": [
       "<IPython.core.display.HTML object>"
      ]
     },
     "metadata": {},
     "output_type": "display_data"
    },
    {
     "data": {
      "text/html": [
       " View run <strong style=\"color:#cdcd00\">pleasant-sweep-10</strong> at: <a href='https://wandb.ai/jaron-matzinger/delearn-pw05/runs/6xw3p3fh' target=\"_blank\">https://wandb.ai/jaron-matzinger/delearn-pw05/runs/6xw3p3fh</a><br> View project at: <a href='https://wandb.ai/jaron-matzinger/delearn-pw05' target=\"_blank\">https://wandb.ai/jaron-matzinger/delearn-pw05</a><br>Synced 5 W&B file(s), 0 media file(s), 0 artifact file(s) and 0 other file(s)"
      ],
      "text/plain": [
       "<IPython.core.display.HTML object>"
      ]
     },
     "metadata": {},
     "output_type": "display_data"
    },
    {
     "data": {
      "text/html": [
       "Find logs at: <code>./wandb/run-20250326_135645-6xw3p3fh/logs</code>"
      ],
      "text/plain": [
       "<IPython.core.display.HTML object>"
      ]
     },
     "metadata": {},
     "output_type": "display_data"
    },
    {
     "name": "stderr",
     "output_type": "stream",
     "text": [
      "\u001b[34m\u001b[1mwandb\u001b[0m: Agent Starting Run: g2v5ixai with config:\n",
      "\u001b[34m\u001b[1mwandb\u001b[0m: \talpha: 0.9\n",
      "\u001b[34m\u001b[1mwandb\u001b[0m: \tbatch_size: 64\n",
      "\u001b[34m\u001b[1mwandb\u001b[0m: \tbetas: [0.9, 0.999]\n",
      "\u001b[34m\u001b[1mwandb\u001b[0m: \tcentered: True\n",
      "\u001b[34m\u001b[1mwandb\u001b[0m: \tlr: 0.001\n",
      "\u001b[34m\u001b[1mwandb\u001b[0m: \tmomentum: 0\n",
      "\u001b[34m\u001b[1mwandb\u001b[0m: \tn_epochs: 5\n",
      "\u001b[34m\u001b[1mwandb\u001b[0m: \tnesterov: False\n",
      "\u001b[34m\u001b[1mwandb\u001b[0m: \toptimizer: RMSprop\n"
     ]
    },
    {
     "data": {
      "text/html": [
       "Tracking run with wandb version 0.19.8"
      ],
      "text/plain": [
       "<IPython.core.display.HTML object>"
      ]
     },
     "metadata": {},
     "output_type": "display_data"
    },
    {
     "data": {
      "text/html": [
       "Run data is saved locally in <code>/Users/jaron/workspace/mse_delearn/05_exercises/wandb/run-20250326_135732-g2v5ixai</code>"
      ],
      "text/plain": [
       "<IPython.core.display.HTML object>"
      ]
     },
     "metadata": {},
     "output_type": "display_data"
    },
    {
     "data": {
      "text/html": [
       "Syncing run <strong><a href='https://wandb.ai/jaron-matzinger/delearn-pw05/runs/g2v5ixai' target=\"_blank\">dauntless-sweep-11</a></strong> to <a href='https://wandb.ai/jaron-matzinger/delearn-pw05' target=\"_blank\">Weights & Biases</a> (<a href='https://wandb.me/developer-guide' target=\"_blank\">docs</a>)<br>Sweep page: <a href='https://wandb.ai/jaron-matzinger/delearn-pw05/sweeps/hzyhzxeu' target=\"_blank\">https://wandb.ai/jaron-matzinger/delearn-pw05/sweeps/hzyhzxeu</a>"
      ],
      "text/plain": [
       "<IPython.core.display.HTML object>"
      ]
     },
     "metadata": {},
     "output_type": "display_data"
    },
    {
     "data": {
      "text/html": [
       " View project at <a href='https://wandb.ai/jaron-matzinger/delearn-pw05' target=\"_blank\">https://wandb.ai/jaron-matzinger/delearn-pw05</a>"
      ],
      "text/plain": [
       "<IPython.core.display.HTML object>"
      ]
     },
     "metadata": {},
     "output_type": "display_data"
    },
    {
     "data": {
      "text/html": [
       " View sweep at <a href='https://wandb.ai/jaron-matzinger/delearn-pw05/sweeps/hzyhzxeu' target=\"_blank\">https://wandb.ai/jaron-matzinger/delearn-pw05/sweeps/hzyhzxeu</a>"
      ],
      "text/plain": [
       "<IPython.core.display.HTML object>"
      ]
     },
     "metadata": {},
     "output_type": "display_data"
    },
    {
     "data": {
      "text/html": [
       " View run at <a href='https://wandb.ai/jaron-matzinger/delearn-pw05/runs/g2v5ixai' target=\"_blank\">https://wandb.ai/jaron-matzinger/delearn-pw05/runs/g2v5ixai</a>"
      ],
      "text/plain": [
       "<IPython.core.display.HTML object>"
      ]
     },
     "metadata": {},
     "output_type": "display_data"
    },
    {
     "name": "stdout",
     "output_type": "stream",
     "text": [
      "Epoch: 1, Train Loss: 0.4887, Val Loss: 0.4318, Train Acc: 0.8223, Val Acc: 0.8440\n",
      "Epoch: 2, Train Loss: 0.3048, Val Loss: 0.2906, Train Acc: 0.8895, Val Acc: 0.8916\n",
      "Epoch: 3, Train Loss: 0.2560, Val Loss: 0.2462, Train Acc: 0.9058, Val Acc: 0.9080\n",
      "Epoch: 4, Train Loss: 0.2268, Val Loss: 0.2417, Train Acc: 0.9158, Val Acc: 0.9152\n",
      "Epoch: 5, Train Loss: 0.2011, Val Loss: 0.2336, Train Acc: 0.9265, Val Acc: 0.9160\n"
     ]
    },
    {
     "data": {
      "text/html": [],
      "text/plain": [
       "<IPython.core.display.HTML object>"
      ]
     },
     "metadata": {},
     "output_type": "display_data"
    },
    {
     "data": {
      "text/html": [
       "<br>    <style><br>        .wandb-row {<br>            display: flex;<br>            flex-direction: row;<br>            flex-wrap: wrap;<br>            justify-content: flex-start;<br>            width: 100%;<br>        }<br>        .wandb-col {<br>            display: flex;<br>            flex-direction: column;<br>            flex-basis: 100%;<br>            flex: 1;<br>            padding: 10px;<br>        }<br>    </style><br><div class=\"wandb-row\"><div class=\"wandb-col\"><h3>Run history:</h3><br/><table class=\"wandb\"><tr><td>epoch</td><td>▁▃▅▆█</td></tr><tr><td>train_acc</td><td>▁▆▇▇█</td></tr><tr><td>train_loss</td><td>█▄▂▂▁</td></tr><tr><td>val_acc</td><td>▁▆▇██</td></tr><tr><td>val_loss</td><td>█▃▁▁▁</td></tr></table><br/></div><div class=\"wandb-col\"><h3>Run summary:</h3><br/><table class=\"wandb\"><tr><td>epoch</td><td>5</td></tr><tr><td>train_acc</td><td>0.9265</td></tr><tr><td>train_loss</td><td>0.20113</td></tr><tr><td>val_acc</td><td>0.916</td></tr><tr><td>val_loss</td><td>0.23355</td></tr></table><br/></div></div>"
      ],
      "text/plain": [
       "<IPython.core.display.HTML object>"
      ]
     },
     "metadata": {},
     "output_type": "display_data"
    },
    {
     "data": {
      "text/html": [
       " View run <strong style=\"color:#cdcd00\">dauntless-sweep-11</strong> at: <a href='https://wandb.ai/jaron-matzinger/delearn-pw05/runs/g2v5ixai' target=\"_blank\">https://wandb.ai/jaron-matzinger/delearn-pw05/runs/g2v5ixai</a><br> View project at: <a href='https://wandb.ai/jaron-matzinger/delearn-pw05' target=\"_blank\">https://wandb.ai/jaron-matzinger/delearn-pw05</a><br>Synced 5 W&B file(s), 0 media file(s), 0 artifact file(s) and 0 other file(s)"
      ],
      "text/plain": [
       "<IPython.core.display.HTML object>"
      ]
     },
     "metadata": {},
     "output_type": "display_data"
    },
    {
     "data": {
      "text/html": [
       "Find logs at: <code>./wandb/run-20250326_135732-g2v5ixai/logs</code>"
      ],
      "text/plain": [
       "<IPython.core.display.HTML object>"
      ]
     },
     "metadata": {},
     "output_type": "display_data"
    },
    {
     "name": "stderr",
     "output_type": "stream",
     "text": [
      "\u001b[34m\u001b[1mwandb\u001b[0m: Agent Starting Run: pa5qxls2 with config:\n",
      "\u001b[34m\u001b[1mwandb\u001b[0m: \talpha: 0.9\n",
      "\u001b[34m\u001b[1mwandb\u001b[0m: \tbatch_size: 64\n",
      "\u001b[34m\u001b[1mwandb\u001b[0m: \tbetas: [0.9, 0.999]\n",
      "\u001b[34m\u001b[1mwandb\u001b[0m: \tcentered: False\n",
      "\u001b[34m\u001b[1mwandb\u001b[0m: \tlr: 0.001\n",
      "\u001b[34m\u001b[1mwandb\u001b[0m: \tmomentum: 0\n",
      "\u001b[34m\u001b[1mwandb\u001b[0m: \tn_epochs: 5\n",
      "\u001b[34m\u001b[1mwandb\u001b[0m: \tnesterov: True\n",
      "\u001b[34m\u001b[1mwandb\u001b[0m: \toptimizer: SGD\n"
     ]
    },
    {
     "data": {
      "text/html": [
       "Tracking run with wandb version 0.19.8"
      ],
      "text/plain": [
       "<IPython.core.display.HTML object>"
      ]
     },
     "metadata": {},
     "output_type": "display_data"
    },
    {
     "data": {
      "text/html": [
       "Run data is saved locally in <code>/Users/jaron/workspace/mse_delearn/05_exercises/wandb/run-20250326_135818-pa5qxls2</code>"
      ],
      "text/plain": [
       "<IPython.core.display.HTML object>"
      ]
     },
     "metadata": {},
     "output_type": "display_data"
    },
    {
     "data": {
      "text/html": [
       "Syncing run <strong><a href='https://wandb.ai/jaron-matzinger/delearn-pw05/runs/pa5qxls2' target=\"_blank\">dauntless-sweep-12</a></strong> to <a href='https://wandb.ai/jaron-matzinger/delearn-pw05' target=\"_blank\">Weights & Biases</a> (<a href='https://wandb.me/developer-guide' target=\"_blank\">docs</a>)<br>Sweep page: <a href='https://wandb.ai/jaron-matzinger/delearn-pw05/sweeps/hzyhzxeu' target=\"_blank\">https://wandb.ai/jaron-matzinger/delearn-pw05/sweeps/hzyhzxeu</a>"
      ],
      "text/plain": [
       "<IPython.core.display.HTML object>"
      ]
     },
     "metadata": {},
     "output_type": "display_data"
    },
    {
     "data": {
      "text/html": [
       " View project at <a href='https://wandb.ai/jaron-matzinger/delearn-pw05' target=\"_blank\">https://wandb.ai/jaron-matzinger/delearn-pw05</a>"
      ],
      "text/plain": [
       "<IPython.core.display.HTML object>"
      ]
     },
     "metadata": {},
     "output_type": "display_data"
    },
    {
     "data": {
      "text/html": [
       " View sweep at <a href='https://wandb.ai/jaron-matzinger/delearn-pw05/sweeps/hzyhzxeu' target=\"_blank\">https://wandb.ai/jaron-matzinger/delearn-pw05/sweeps/hzyhzxeu</a>"
      ],
      "text/plain": [
       "<IPython.core.display.HTML object>"
      ]
     },
     "metadata": {},
     "output_type": "display_data"
    },
    {
     "data": {
      "text/html": [
       " View run at <a href='https://wandb.ai/jaron-matzinger/delearn-pw05/runs/pa5qxls2' target=\"_blank\">https://wandb.ai/jaron-matzinger/delearn-pw05/runs/pa5qxls2</a>"
      ],
      "text/plain": [
       "<IPython.core.display.HTML object>"
      ]
     },
     "metadata": {},
     "output_type": "display_data"
    },
    {
     "data": {
      "text/html": [],
      "text/plain": [
       "<IPython.core.display.HTML object>"
      ]
     },
     "metadata": {},
     "output_type": "display_data"
    },
    {
     "data": {
      "text/html": [
       " View run <strong style=\"color:#cdcd00\">dauntless-sweep-12</strong> at: <a href='https://wandb.ai/jaron-matzinger/delearn-pw05/runs/pa5qxls2' target=\"_blank\">https://wandb.ai/jaron-matzinger/delearn-pw05/runs/pa5qxls2</a><br> View project at: <a href='https://wandb.ai/jaron-matzinger/delearn-pw05' target=\"_blank\">https://wandb.ai/jaron-matzinger/delearn-pw05</a><br>Synced 5 W&B file(s), 0 media file(s), 0 artifact file(s) and 0 other file(s)"
      ],
      "text/plain": [
       "<IPython.core.display.HTML object>"
      ]
     },
     "metadata": {},
     "output_type": "display_data"
    },
    {
     "data": {
      "text/html": [
       "Find logs at: <code>./wandb/run-20250326_135818-pa5qxls2/logs</code>"
      ],
      "text/plain": [
       "<IPython.core.display.HTML object>"
      ]
     },
     "metadata": {},
     "output_type": "display_data"
    },
    {
     "name": "stderr",
     "output_type": "stream",
     "text": [
      "Run pa5qxls2 errored:\n",
      "Traceback (most recent call last):\n",
      "  File \"/Users/jaron/workspace/mse_delearn/.venv/lib/python3.12/site-packages/wandb/agents/pyagent.py\", line 306, in _run_job\n",
      "    self._function()\n",
      "  File \"/var/folders/b6/tgpndp7n76s9pccqsl6nzlfr0000gn/T/ipykernel_26781/3272405722.py\", line 10, in sweep\n",
      "    optimizer = torch.optim.SGD(model.parameters(), lr=config.lr, momentum=config.momentum, nesterov=config.nesterov)\n",
      "                ^^^^^^^^^^^^^^^^^^^^^^^^^^^^^^^^^^^^^^^^^^^^^^^^^^^^^^^^^^^^^^^^^^^^^^^^^^^^^^^^^^^^^^^^^^^^^^^^^^^^^\n",
      "  File \"/Users/jaron/workspace/mse_delearn/.venv/lib/python3.12/site-packages/torch/optim/sgd.py\", line 62, in __init__\n",
      "    raise ValueError(\"Nesterov momentum requires a momentum and zero dampening\")\n",
      "ValueError: Nesterov momentum requires a momentum and zero dampening\n",
      "\n",
      "\u001b[34m\u001b[1mwandb\u001b[0m: \u001b[32m\u001b[41mERROR\u001b[0m Run pa5qxls2 errored:\n",
      "\u001b[34m\u001b[1mwandb\u001b[0m: \u001b[32m\u001b[41mERROR\u001b[0m Traceback (most recent call last):\n",
      "\u001b[34m\u001b[1mwandb\u001b[0m: \u001b[32m\u001b[41mERROR\u001b[0m   File \"/Users/jaron/workspace/mse_delearn/.venv/lib/python3.12/site-packages/wandb/agents/pyagent.py\", line 306, in _run_job\n",
      "\u001b[34m\u001b[1mwandb\u001b[0m: \u001b[32m\u001b[41mERROR\u001b[0m     self._function()\n",
      "\u001b[34m\u001b[1mwandb\u001b[0m: \u001b[32m\u001b[41mERROR\u001b[0m   File \"/var/folders/b6/tgpndp7n76s9pccqsl6nzlfr0000gn/T/ipykernel_26781/3272405722.py\", line 10, in sweep\n",
      "\u001b[34m\u001b[1mwandb\u001b[0m: \u001b[32m\u001b[41mERROR\u001b[0m     optimizer = torch.optim.SGD(model.parameters(), lr=config.lr, momentum=config.momentum, nesterov=config.nesterov)\n",
      "\u001b[34m\u001b[1mwandb\u001b[0m: \u001b[32m\u001b[41mERROR\u001b[0m                 ^^^^^^^^^^^^^^^^^^^^^^^^^^^^^^^^^^^^^^^^^^^^^^^^^^^^^^^^^^^^^^^^^^^^^^^^^^^^^^^^^^^^^^^^^^^^^^^^^^^^^\n",
      "\u001b[34m\u001b[1mwandb\u001b[0m: \u001b[32m\u001b[41mERROR\u001b[0m   File \"/Users/jaron/workspace/mse_delearn/.venv/lib/python3.12/site-packages/torch/optim/sgd.py\", line 62, in __init__\n",
      "\u001b[34m\u001b[1mwandb\u001b[0m: \u001b[32m\u001b[41mERROR\u001b[0m     raise ValueError(\"Nesterov momentum requires a momentum and zero dampening\")\n",
      "\u001b[34m\u001b[1mwandb\u001b[0m: \u001b[32m\u001b[41mERROR\u001b[0m ValueError: Nesterov momentum requires a momentum and zero dampening\n",
      "\u001b[34m\u001b[1mwandb\u001b[0m: \u001b[32m\u001b[41mERROR\u001b[0m \n",
      "\u001b[34m\u001b[1mwandb\u001b[0m: Agent Starting Run: p1t0y4l5 with config:\n",
      "\u001b[34m\u001b[1mwandb\u001b[0m: \talpha: 0.99\n",
      "\u001b[34m\u001b[1mwandb\u001b[0m: \tbatch_size: 64\n",
      "\u001b[34m\u001b[1mwandb\u001b[0m: \tbetas: [0.9, 0.999]\n",
      "\u001b[34m\u001b[1mwandb\u001b[0m: \tcentered: False\n",
      "\u001b[34m\u001b[1mwandb\u001b[0m: \tlr: 0.1\n",
      "\u001b[34m\u001b[1mwandb\u001b[0m: \tmomentum: 0\n",
      "\u001b[34m\u001b[1mwandb\u001b[0m: \tn_epochs: 5\n",
      "\u001b[34m\u001b[1mwandb\u001b[0m: \tnesterov: True\n",
      "\u001b[34m\u001b[1mwandb\u001b[0m: \toptimizer: RMSprop\n"
     ]
    },
    {
     "data": {
      "text/html": [
       "Tracking run with wandb version 0.19.8"
      ],
      "text/plain": [
       "<IPython.core.display.HTML object>"
      ]
     },
     "metadata": {},
     "output_type": "display_data"
    },
    {
     "data": {
      "text/html": [
       "Run data is saved locally in <code>/Users/jaron/workspace/mse_delearn/05_exercises/wandb/run-20250326_135823-p1t0y4l5</code>"
      ],
      "text/plain": [
       "<IPython.core.display.HTML object>"
      ]
     },
     "metadata": {},
     "output_type": "display_data"
    },
    {
     "data": {
      "text/html": [
       "Syncing run <strong><a href='https://wandb.ai/jaron-matzinger/delearn-pw05/runs/p1t0y4l5' target=\"_blank\">clean-sweep-13</a></strong> to <a href='https://wandb.ai/jaron-matzinger/delearn-pw05' target=\"_blank\">Weights & Biases</a> (<a href='https://wandb.me/developer-guide' target=\"_blank\">docs</a>)<br>Sweep page: <a href='https://wandb.ai/jaron-matzinger/delearn-pw05/sweeps/hzyhzxeu' target=\"_blank\">https://wandb.ai/jaron-matzinger/delearn-pw05/sweeps/hzyhzxeu</a>"
      ],
      "text/plain": [
       "<IPython.core.display.HTML object>"
      ]
     },
     "metadata": {},
     "output_type": "display_data"
    },
    {
     "data": {
      "text/html": [
       " View project at <a href='https://wandb.ai/jaron-matzinger/delearn-pw05' target=\"_blank\">https://wandb.ai/jaron-matzinger/delearn-pw05</a>"
      ],
      "text/plain": [
       "<IPython.core.display.HTML object>"
      ]
     },
     "metadata": {},
     "output_type": "display_data"
    },
    {
     "data": {
      "text/html": [
       " View sweep at <a href='https://wandb.ai/jaron-matzinger/delearn-pw05/sweeps/hzyhzxeu' target=\"_blank\">https://wandb.ai/jaron-matzinger/delearn-pw05/sweeps/hzyhzxeu</a>"
      ],
      "text/plain": [
       "<IPython.core.display.HTML object>"
      ]
     },
     "metadata": {},
     "output_type": "display_data"
    },
    {
     "data": {
      "text/html": [
       " View run at <a href='https://wandb.ai/jaron-matzinger/delearn-pw05/runs/p1t0y4l5' target=\"_blank\">https://wandb.ai/jaron-matzinger/delearn-pw05/runs/p1t0y4l5</a>"
      ],
      "text/plain": [
       "<IPython.core.display.HTML object>"
      ]
     },
     "metadata": {},
     "output_type": "display_data"
    },
    {
     "name": "stdout",
     "output_type": "stream",
     "text": [
      "Epoch: 1, Train Loss: 1763.4727, Val Loss: 2.3525, Train Acc: 0.0993, Val Acc: 0.0979\n",
      "Epoch: 2, Train Loss: 2.3227, Val Loss: 2.3433, Train Acc: 0.1001, Val Acc: 0.0989\n",
      "Epoch: 3, Train Loss: 2.3155, Val Loss: 2.3330, Train Acc: 0.1008, Val Acc: 0.0983\n",
      "Epoch: 4, Train Loss: 2.3128, Val Loss: 2.3126, Train Acc: 0.1008, Val Acc: 0.1018\n",
      "Epoch: 5, Train Loss: 2.3131, Val Loss: 2.3134, Train Acc: 0.0998, Val Acc: 0.1000\n"
     ]
    },
    {
     "data": {
      "text/html": [],
      "text/plain": [
       "<IPython.core.display.HTML object>"
      ]
     },
     "metadata": {},
     "output_type": "display_data"
    },
    {
     "data": {
      "text/html": [
       "<br>    <style><br>        .wandb-row {<br>            display: flex;<br>            flex-direction: row;<br>            flex-wrap: wrap;<br>            justify-content: flex-start;<br>            width: 100%;<br>        }<br>        .wandb-col {<br>            display: flex;<br>            flex-direction: column;<br>            flex-basis: 100%;<br>            flex: 1;<br>            padding: 10px;<br>        }<br>    </style><br><div class=\"wandb-row\"><div class=\"wandb-col\"><h3>Run history:</h3><br/><table class=\"wandb\"><tr><td>epoch</td><td>▁▃▅▆█</td></tr><tr><td>train_acc</td><td>▁▅██▃</td></tr><tr><td>train_loss</td><td>█▁▁▁▁</td></tr><tr><td>val_acc</td><td>▁▃▂█▅</td></tr><tr><td>val_loss</td><td>█▆▅▁▁</td></tr></table><br/></div><div class=\"wandb-col\"><h3>Run summary:</h3><br/><table class=\"wandb\"><tr><td>epoch</td><td>5</td></tr><tr><td>train_acc</td><td>0.09982</td></tr><tr><td>train_loss</td><td>2.31309</td></tr><tr><td>val_acc</td><td>0.1</td></tr><tr><td>val_loss</td><td>2.31338</td></tr></table><br/></div></div>"
      ],
      "text/plain": [
       "<IPython.core.display.HTML object>"
      ]
     },
     "metadata": {},
     "output_type": "display_data"
    },
    {
     "data": {
      "text/html": [
       " View run <strong style=\"color:#cdcd00\">clean-sweep-13</strong> at: <a href='https://wandb.ai/jaron-matzinger/delearn-pw05/runs/p1t0y4l5' target=\"_blank\">https://wandb.ai/jaron-matzinger/delearn-pw05/runs/p1t0y4l5</a><br> View project at: <a href='https://wandb.ai/jaron-matzinger/delearn-pw05' target=\"_blank\">https://wandb.ai/jaron-matzinger/delearn-pw05</a><br>Synced 5 W&B file(s), 0 media file(s), 0 artifact file(s) and 0 other file(s)"
      ],
      "text/plain": [
       "<IPython.core.display.HTML object>"
      ]
     },
     "metadata": {},
     "output_type": "display_data"
    },
    {
     "data": {
      "text/html": [
       "Find logs at: <code>./wandb/run-20250326_135823-p1t0y4l5/logs</code>"
      ],
      "text/plain": [
       "<IPython.core.display.HTML object>"
      ]
     },
     "metadata": {},
     "output_type": "display_data"
    },
    {
     "name": "stderr",
     "output_type": "stream",
     "text": [
      "\u001b[34m\u001b[1mwandb\u001b[0m: Agent Starting Run: pczo404x with config:\n",
      "\u001b[34m\u001b[1mwandb\u001b[0m: \talpha: 0.9\n",
      "\u001b[34m\u001b[1mwandb\u001b[0m: \tbatch_size: 64\n",
      "\u001b[34m\u001b[1mwandb\u001b[0m: \tbetas: [0.9, 0.999]\n",
      "\u001b[34m\u001b[1mwandb\u001b[0m: \tcentered: False\n",
      "\u001b[34m\u001b[1mwandb\u001b[0m: \tlr: 0.001\n",
      "\u001b[34m\u001b[1mwandb\u001b[0m: \tmomentum: 0.99\n",
      "\u001b[34m\u001b[1mwandb\u001b[0m: \tn_epochs: 5\n",
      "\u001b[34m\u001b[1mwandb\u001b[0m: \tnesterov: True\n",
      "\u001b[34m\u001b[1mwandb\u001b[0m: \toptimizer: SGD\n"
     ]
    },
    {
     "data": {
      "text/html": [
       "creating run (1.9s)<br>  <strong style=\"color:red\">ERROR</strong> retrying: Post \"https://api.wandb.ai/graphql\": read tcp 172.22.12.117:51393->35.186.228.49:443: read: connection reset by peer"
      ],
      "text/plain": [
       "<IPython.core.display.HTML object>"
      ]
     },
     "metadata": {},
     "output_type": "display_data"
    },
    {
     "data": {
      "text/html": [
       "Tracking run with wandb version 0.19.8"
      ],
      "text/plain": [
       "<IPython.core.display.HTML object>"
      ]
     },
     "metadata": {},
     "output_type": "display_data"
    },
    {
     "data": {
      "text/html": [
       "Run data is saved locally in <code>/Users/jaron/workspace/mse_delearn/05_exercises/wandb/run-20250326_135909-pczo404x</code>"
      ],
      "text/plain": [
       "<IPython.core.display.HTML object>"
      ]
     },
     "metadata": {},
     "output_type": "display_data"
    },
    {
     "data": {
      "text/html": [
       "Syncing run <strong><a href='https://wandb.ai/jaron-matzinger/delearn-pw05/runs/pczo404x' target=\"_blank\">deep-sweep-14</a></strong> to <a href='https://wandb.ai/jaron-matzinger/delearn-pw05' target=\"_blank\">Weights & Biases</a> (<a href='https://wandb.me/developer-guide' target=\"_blank\">docs</a>)<br>Sweep page: <a href='https://wandb.ai/jaron-matzinger/delearn-pw05/sweeps/hzyhzxeu' target=\"_blank\">https://wandb.ai/jaron-matzinger/delearn-pw05/sweeps/hzyhzxeu</a>"
      ],
      "text/plain": [
       "<IPython.core.display.HTML object>"
      ]
     },
     "metadata": {},
     "output_type": "display_data"
    },
    {
     "data": {
      "text/html": [
       " View project at <a href='https://wandb.ai/jaron-matzinger/delearn-pw05' target=\"_blank\">https://wandb.ai/jaron-matzinger/delearn-pw05</a>"
      ],
      "text/plain": [
       "<IPython.core.display.HTML object>"
      ]
     },
     "metadata": {},
     "output_type": "display_data"
    },
    {
     "data": {
      "text/html": [
       " View sweep at <a href='https://wandb.ai/jaron-matzinger/delearn-pw05/sweeps/hzyhzxeu' target=\"_blank\">https://wandb.ai/jaron-matzinger/delearn-pw05/sweeps/hzyhzxeu</a>"
      ],
      "text/plain": [
       "<IPython.core.display.HTML object>"
      ]
     },
     "metadata": {},
     "output_type": "display_data"
    },
    {
     "data": {
      "text/html": [
       " View run at <a href='https://wandb.ai/jaron-matzinger/delearn-pw05/runs/pczo404x' target=\"_blank\">https://wandb.ai/jaron-matzinger/delearn-pw05/runs/pczo404x</a>"
      ],
      "text/plain": [
       "<IPython.core.display.HTML object>"
      ]
     },
     "metadata": {},
     "output_type": "display_data"
    },
    {
     "name": "stdout",
     "output_type": "stream",
     "text": [
      "Epoch: 1, Train Loss: 0.8706, Val Loss: 0.4321, Train Acc: 0.7015, Val Acc: 0.8495\n",
      "Epoch: 2, Train Loss: 0.3956, Val Loss: 0.3488, Train Acc: 0.8591, Val Acc: 0.8731\n",
      "Epoch: 3, Train Loss: 0.3295, Val Loss: 0.3062, Train Acc: 0.8821, Val Acc: 0.8861\n",
      "Epoch: 4, Train Loss: 0.2955, Val Loss: 0.3022, Train Acc: 0.8934, Val Acc: 0.8900\n",
      "Epoch: 5, Train Loss: 0.2715, Val Loss: 0.2660, Train Acc: 0.9013, Val Acc: 0.9028\n"
     ]
    },
    {
     "data": {
      "text/html": [],
      "text/plain": [
       "<IPython.core.display.HTML object>"
      ]
     },
     "metadata": {},
     "output_type": "display_data"
    },
    {
     "data": {
      "text/html": [
       "<br>    <style><br>        .wandb-row {<br>            display: flex;<br>            flex-direction: row;<br>            flex-wrap: wrap;<br>            justify-content: flex-start;<br>            width: 100%;<br>        }<br>        .wandb-col {<br>            display: flex;<br>            flex-direction: column;<br>            flex-basis: 100%;<br>            flex: 1;<br>            padding: 10px;<br>        }<br>    </style><br><div class=\"wandb-row\"><div class=\"wandb-col\"><h3>Run history:</h3><br/><table class=\"wandb\"><tr><td>epoch</td><td>▁▃▅▆█</td></tr><tr><td>train_acc</td><td>▁▇▇██</td></tr><tr><td>train_loss</td><td>█▂▂▁▁</td></tr><tr><td>val_acc</td><td>▁▄▆▆█</td></tr><tr><td>val_loss</td><td>█▄▃▃▁</td></tr></table><br/></div><div class=\"wandb-col\"><h3>Run summary:</h3><br/><table class=\"wandb\"><tr><td>epoch</td><td>5</td></tr><tr><td>train_acc</td><td>0.90126</td></tr><tr><td>train_loss</td><td>0.27155</td></tr><tr><td>val_acc</td><td>0.9028</td></tr><tr><td>val_loss</td><td>0.26602</td></tr></table><br/></div></div>"
      ],
      "text/plain": [
       "<IPython.core.display.HTML object>"
      ]
     },
     "metadata": {},
     "output_type": "display_data"
    },
    {
     "data": {
      "text/html": [
       " View run <strong style=\"color:#cdcd00\">deep-sweep-14</strong> at: <a href='https://wandb.ai/jaron-matzinger/delearn-pw05/runs/pczo404x' target=\"_blank\">https://wandb.ai/jaron-matzinger/delearn-pw05/runs/pczo404x</a><br> View project at: <a href='https://wandb.ai/jaron-matzinger/delearn-pw05' target=\"_blank\">https://wandb.ai/jaron-matzinger/delearn-pw05</a><br>Synced 5 W&B file(s), 0 media file(s), 0 artifact file(s) and 0 other file(s)"
      ],
      "text/plain": [
       "<IPython.core.display.HTML object>"
      ]
     },
     "metadata": {},
     "output_type": "display_data"
    },
    {
     "data": {
      "text/html": [
       "Find logs at: <code>./wandb/run-20250326_135909-pczo404x/logs</code>"
      ],
      "text/plain": [
       "<IPython.core.display.HTML object>"
      ]
     },
     "metadata": {},
     "output_type": "display_data"
    },
    {
     "name": "stderr",
     "output_type": "stream",
     "text": [
      "\u001b[34m\u001b[1mwandb\u001b[0m: Agent Starting Run: u3epir7d with config:\n",
      "\u001b[34m\u001b[1mwandb\u001b[0m: \talpha: 0.99\n",
      "\u001b[34m\u001b[1mwandb\u001b[0m: \tbatch_size: 64\n",
      "\u001b[34m\u001b[1mwandb\u001b[0m: \tbetas: [0.9, 0.999]\n",
      "\u001b[34m\u001b[1mwandb\u001b[0m: \tcentered: True\n",
      "\u001b[34m\u001b[1mwandb\u001b[0m: \tlr: 0.1\n",
      "\u001b[34m\u001b[1mwandb\u001b[0m: \tmomentum: 0\n",
      "\u001b[34m\u001b[1mwandb\u001b[0m: \tn_epochs: 5\n",
      "\u001b[34m\u001b[1mwandb\u001b[0m: \tnesterov: False\n",
      "\u001b[34m\u001b[1mwandb\u001b[0m: \toptimizer: Adam\n"
     ]
    },
    {
     "data": {
      "text/html": [
       "Tracking run with wandb version 0.19.8"
      ],
      "text/plain": [
       "<IPython.core.display.HTML object>"
      ]
     },
     "metadata": {},
     "output_type": "display_data"
    },
    {
     "data": {
      "text/html": [
       "Run data is saved locally in <code>/Users/jaron/workspace/mse_delearn/05_exercises/wandb/run-20250326_135956-u3epir7d</code>"
      ],
      "text/plain": [
       "<IPython.core.display.HTML object>"
      ]
     },
     "metadata": {},
     "output_type": "display_data"
    },
    {
     "data": {
      "text/html": [
       "Syncing run <strong><a href='https://wandb.ai/jaron-matzinger/delearn-pw05/runs/u3epir7d' target=\"_blank\">autumn-sweep-15</a></strong> to <a href='https://wandb.ai/jaron-matzinger/delearn-pw05' target=\"_blank\">Weights & Biases</a> (<a href='https://wandb.me/developer-guide' target=\"_blank\">docs</a>)<br>Sweep page: <a href='https://wandb.ai/jaron-matzinger/delearn-pw05/sweeps/hzyhzxeu' target=\"_blank\">https://wandb.ai/jaron-matzinger/delearn-pw05/sweeps/hzyhzxeu</a>"
      ],
      "text/plain": [
       "<IPython.core.display.HTML object>"
      ]
     },
     "metadata": {},
     "output_type": "display_data"
    },
    {
     "data": {
      "text/html": [
       " View project at <a href='https://wandb.ai/jaron-matzinger/delearn-pw05' target=\"_blank\">https://wandb.ai/jaron-matzinger/delearn-pw05</a>"
      ],
      "text/plain": [
       "<IPython.core.display.HTML object>"
      ]
     },
     "metadata": {},
     "output_type": "display_data"
    },
    {
     "data": {
      "text/html": [
       " View sweep at <a href='https://wandb.ai/jaron-matzinger/delearn-pw05/sweeps/hzyhzxeu' target=\"_blank\">https://wandb.ai/jaron-matzinger/delearn-pw05/sweeps/hzyhzxeu</a>"
      ],
      "text/plain": [
       "<IPython.core.display.HTML object>"
      ]
     },
     "metadata": {},
     "output_type": "display_data"
    },
    {
     "data": {
      "text/html": [
       " View run at <a href='https://wandb.ai/jaron-matzinger/delearn-pw05/runs/u3epir7d' target=\"_blank\">https://wandb.ai/jaron-matzinger/delearn-pw05/runs/u3epir7d</a>"
      ],
      "text/plain": [
       "<IPython.core.display.HTML object>"
      ]
     },
     "metadata": {},
     "output_type": "display_data"
    },
    {
     "name": "stdout",
     "output_type": "stream",
     "text": [
      "Epoch: 1, Train Loss: 2.7548, Val Loss: 2.3109, Train Acc: 0.0984, Val Acc: 0.0982\n",
      "Epoch: 2, Train Loss: 2.3120, Val Loss: 2.3105, Train Acc: 0.0998, Val Acc: 0.0983\n",
      "Epoch: 3, Train Loss: 2.3119, Val Loss: 2.3068, Train Acc: 0.0989, Val Acc: 0.1018\n",
      "Epoch: 4, Train Loss: 2.3113, Val Loss: 2.3070, Train Acc: 0.1004, Val Acc: 0.1018\n",
      "Epoch: 5, Train Loss: 2.3118, Val Loss: 2.3085, Train Acc: 0.1001, Val Acc: 0.0989\n"
     ]
    },
    {
     "data": {
      "text/html": [],
      "text/plain": [
       "<IPython.core.display.HTML object>"
      ]
     },
     "metadata": {},
     "output_type": "display_data"
    },
    {
     "data": {
      "text/html": [
       "<br>    <style><br>        .wandb-row {<br>            display: flex;<br>            flex-direction: row;<br>            flex-wrap: wrap;<br>            justify-content: flex-start;<br>            width: 100%;<br>        }<br>        .wandb-col {<br>            display: flex;<br>            flex-direction: column;<br>            flex-basis: 100%;<br>            flex: 1;<br>            padding: 10px;<br>        }<br>    </style><br><div class=\"wandb-row\"><div class=\"wandb-col\"><h3>Run history:</h3><br/><table class=\"wandb\"><tr><td>epoch</td><td>▁▃▅▆█</td></tr><tr><td>train_acc</td><td>▁▆▃█▇</td></tr><tr><td>train_loss</td><td>█▁▁▁▁</td></tr><tr><td>val_acc</td><td>▁▁██▂</td></tr><tr><td>val_loss</td><td>█▇▁▁▄</td></tr></table><br/></div><div class=\"wandb-col\"><h3>Run summary:</h3><br/><table class=\"wandb\"><tr><td>epoch</td><td>5</td></tr><tr><td>train_acc</td><td>0.10014</td></tr><tr><td>train_loss</td><td>2.31184</td></tr><tr><td>val_acc</td><td>0.0989</td></tr><tr><td>val_loss</td><td>2.30849</td></tr></table><br/></div></div>"
      ],
      "text/plain": [
       "<IPython.core.display.HTML object>"
      ]
     },
     "metadata": {},
     "output_type": "display_data"
    },
    {
     "data": {
      "text/html": [
       " View run <strong style=\"color:#cdcd00\">autumn-sweep-15</strong> at: <a href='https://wandb.ai/jaron-matzinger/delearn-pw05/runs/u3epir7d' target=\"_blank\">https://wandb.ai/jaron-matzinger/delearn-pw05/runs/u3epir7d</a><br> View project at: <a href='https://wandb.ai/jaron-matzinger/delearn-pw05' target=\"_blank\">https://wandb.ai/jaron-matzinger/delearn-pw05</a><br>Synced 5 W&B file(s), 0 media file(s), 0 artifact file(s) and 0 other file(s)"
      ],
      "text/plain": [
       "<IPython.core.display.HTML object>"
      ]
     },
     "metadata": {},
     "output_type": "display_data"
    },
    {
     "data": {
      "text/html": [
       "Find logs at: <code>./wandb/run-20250326_135956-u3epir7d/logs</code>"
      ],
      "text/plain": [
       "<IPython.core.display.HTML object>"
      ]
     },
     "metadata": {},
     "output_type": "display_data"
    }
   ],
   "source": [
    "### YOUR CODE HERE ###\n",
    "sweep_id = wandb.sweep(sweep_config, entity='jaron-matzinger', project='delearn-pw05')\n",
    "wandb.agent(sweep_id, function=sweep, count=15)"
   ]
  },
  {
   "cell_type": "markdown",
   "id": "d2f24c35-9def-48ba-a505-20b99d450584",
   "metadata": {},
   "source": [
    "### Plots and Comments (for the different steps described above) "
   ]
  },
  {
   "cell_type": "code",
   "execution_count": 21,
   "id": "7b1ab6cb-7787-4f18-8763-ae231c610c68",
   "metadata": {},
   "outputs": [
    {
     "data": {
      "text/plain": [
       "<matplotlib.image.AxesImage at 0x30f41e540>"
      ]
     },
     "execution_count": 21,
     "metadata": {},
     "output_type": "execute_result"
    },
    {
     "data": {
      "image/png": "[encoded data removed]",
      "text/plain": [
       "<Figure size 2400x1200 with 1 Axes>"
      ]
     },
     "metadata": {},
     "output_type": "display_data"
    }
   ],
   "source": [
    "from PIL import Image\n",
    "\n",
    "img = np.array(Image.open('wandb_sweep.png'))\n",
    "fig = plt.figure(figsize=(24,12))\n",
    "plt.imshow(img)"
   ]
  },
  {
   "cell_type": "markdown",
   "id": "35fb4db4",
   "metadata": {},
   "source": [
    "### Learning Rate Schedule\n",
    "\n",
    "Modify your `train_eval` method implemented above to support using a learning rate schedule for SGD (without momentum) - by using e.g. StepLR. What are your preferred settings for the given task?\n",
    "\n",
    "Compare and evaluate the training performance with the results obtained for the different optimizers above and provide a judgement."
   ]
  },
  {
   "cell_type": "code",
   "execution_count": 22,
   "id": "e79a02fc",
   "metadata": {
    "collapsed": false,
    "jupyter": {
     "outputs_hidden": false
    },
    "pycharm": {
     "is_executing": true
    }
   },
   "outputs": [],
   "source": [
    "sweep_config = {\n",
    "    'method': 'random',\n",
    "    'metric': {\n",
    "        'name': 'val_acc', \n",
    "        'goal': 'maximize'\n",
    "    },\n",
    "    'parameters': {\n",
    "        'optimizer': {\n",
    "            'value': 'SGD',\n",
    "        },\n",
    "        'lr': {\n",
    "            'value': 0.001\n",
    "        },\n",
    "        'step_size': {\n",
    "            'values': [1, 2, 3],\n",
    "        },\n",
    "        'gamma': {\n",
    "            'values': [0.1, 0.2, 0.3],\n",
    "        },\n",
    "        'n_epochs': {\n",
    "            'value': 5\n",
    "        },\n",
    "        'batch_size': {\n",
    "            'value': 64\n",
    "        }\n",
    "    }\n",
    "}"
   ]
  },
  {
   "cell_type": "code",
   "execution_count": null,
   "id": "92d237b4",
   "metadata": {
    "collapsed": false,
    "jupyter": {
     "outputs_hidden": false
    }
   },
   "outputs": [],
   "source": [
    "def sweep():\n",
    "    run = wandb.init(job_type=f'sweep_CNN')\n",
    "    config = run.config\n",
    "\n",
    "    train_loader = DataLoader(training_data, batch_size=config.batch_size, shuffle=True)\n",
    "    val_loader = DataLoader(validation_data, config.batch_size, shuffle=False)\n",
    "\n",
    "    model = cnn_model().to(device)\n",
    "    optimizer = torch.optim.SGD(model.parameters(), lr=config.lr)\n",
    "    scheduler = torch.optim.lr_scheduler.StepLR(optimizer=optimizer, step_size=config.step_size, gamma=config.gamma)\n",
    "\n",
    "    _ = train_eval(model, optimizer, config.n_epochs, train_loader, val_loader, run, scheduler=scheduler)\n",
    "    \n",
    "    run.finish()"
   ]
  },
  {
   "cell_type": "code",
   "execution_count": 24,
   "id": "01ee86de",
   "metadata": {},
   "outputs": [
    {
     "name": "stdout",
     "output_type": "stream",
     "text": [
      "Create sweep with ID: 6h4vy5i4\n",
      "Sweep URL: https://wandb.ai/jaron-matzinger/delearn-pw05/sweeps/6h4vy5i4\n"
     ]
    },
    {
     "name": "stderr",
     "output_type": "stream",
     "text": [
      "\u001b[34m\u001b[1mwandb\u001b[0m: Agent Starting Run: 4s8nihlf with config:\n",
      "\u001b[34m\u001b[1mwandb\u001b[0m: \tbatch_size: 64\n",
      "\u001b[34m\u001b[1mwandb\u001b[0m: \tgamma: 0.2\n",
      "\u001b[34m\u001b[1mwandb\u001b[0m: \tlr: 0.001\n",
      "\u001b[34m\u001b[1mwandb\u001b[0m: \tn_epochs: 5\n",
      "\u001b[34m\u001b[1mwandb\u001b[0m: \toptimizer: SGD\n",
      "\u001b[34m\u001b[1mwandb\u001b[0m: \tstep_size: 2\n"
     ]
    },
    {
     "data": {
      "text/html": [
       "Tracking run with wandb version 0.19.8"
      ],
      "text/plain": [
       "<IPython.core.display.HTML object>"
      ]
     },
     "metadata": {},
     "output_type": "display_data"
    },
    {
     "data": {
      "text/html": [
       "Run data is saved locally in <code>/Users/jaron/workspace/mse_delearn/05_exercises/wandb/run-20250326_140420-4s8nihlf</code>"
      ],
      "text/plain": [
       "<IPython.core.display.HTML object>"
      ]
     },
     "metadata": {},
     "output_type": "display_data"
    },
    {
     "data": {
      "text/html": [
       "Syncing run <strong><a href='https://wandb.ai/jaron-matzinger/delearn-pw05/runs/4s8nihlf' target=\"_blank\">dandy-sweep-1</a></strong> to <a href='https://wandb.ai/jaron-matzinger/delearn-pw05' target=\"_blank\">Weights & Biases</a> (<a href='https://wandb.me/developer-guide' target=\"_blank\">docs</a>)<br>Sweep page: <a href='https://wandb.ai/jaron-matzinger/delearn-pw05/sweeps/6h4vy5i4' target=\"_blank\">https://wandb.ai/jaron-matzinger/delearn-pw05/sweeps/6h4vy5i4</a>"
      ],
      "text/plain": [
       "<IPython.core.display.HTML object>"
      ]
     },
     "metadata": {},
     "output_type": "display_data"
    },
    {
     "data": {
      "text/html": [
       " View project at <a href='https://wandb.ai/jaron-matzinger/delearn-pw05' target=\"_blank\">https://wandb.ai/jaron-matzinger/delearn-pw05</a>"
      ],
      "text/plain": [
       "<IPython.core.display.HTML object>"
      ]
     },
     "metadata": {},
     "output_type": "display_data"
    },
    {
     "data": {
      "text/html": [
       " View sweep at <a href='https://wandb.ai/jaron-matzinger/delearn-pw05/sweeps/6h4vy5i4' target=\"_blank\">https://wandb.ai/jaron-matzinger/delearn-pw05/sweeps/6h4vy5i4</a>"
      ],
      "text/plain": [
       "<IPython.core.display.HTML object>"
      ]
     },
     "metadata": {},
     "output_type": "display_data"
    },
    {
     "data": {
      "text/html": [
       " View run at <a href='https://wandb.ai/jaron-matzinger/delearn-pw05/runs/4s8nihlf' target=\"_blank\">https://wandb.ai/jaron-matzinger/delearn-pw05/runs/4s8nihlf</a>"
      ],
      "text/plain": [
       "<IPython.core.display.HTML object>"
      ]
     },
     "metadata": {},
     "output_type": "display_data"
    },
    {
     "name": "stdout",
     "output_type": "stream",
     "text": [
      "Epoch: 1, Train Loss: 2.2949, Val Loss: 2.2806, Train Acc: 0.2256, Val Acc: 0.2731\n",
      "Epoch: 2, Train Loss: 2.2499, Val Loss: 2.1984, Train Acc: 0.3720, Val Acc: 0.4780\n",
      "Epoch: 3, Train Loss: 2.1787, Val Loss: 2.1573, Train Acc: 0.4875, Val Acc: 0.4961\n",
      "Epoch: 4, Train Loss: 2.1282, Val Loss: 2.0967, Train Acc: 0.5048, Val Acc: 0.5138\n",
      "Epoch: 5, Train Loss: 2.0884, Val Loss: 2.0816, Train Acc: 0.5180, Val Acc: 0.5189\n"
     ]
    },
    {
     "data": {
      "text/html": [],
      "text/plain": [
       "<IPython.core.display.HTML object>"
      ]
     },
     "metadata": {},
     "output_type": "display_data"
    },
    {
     "data": {
      "text/html": [
       "<br>    <style><br>        .wandb-row {<br>            display: flex;<br>            flex-direction: row;<br>            flex-wrap: wrap;<br>            justify-content: flex-start;<br>            width: 100%;<br>        }<br>        .wandb-col {<br>            display: flex;<br>            flex-direction: column;<br>            flex-basis: 100%;<br>            flex: 1;<br>            padding: 10px;<br>        }<br>    </style><br><div class=\"wandb-row\"><div class=\"wandb-col\"><h3>Run history:</h3><br/><table class=\"wandb\"><tr><td>epoch</td><td>▁▃▅▆█</td></tr><tr><td>train_acc</td><td>▁▅▇██</td></tr><tr><td>train_loss</td><td>█▆▄▂▁</td></tr><tr><td>val_acc</td><td>▁▇▇██</td></tr><tr><td>val_loss</td><td>█▅▄▂▁</td></tr></table><br/></div><div class=\"wandb-col\"><h3>Run summary:</h3><br/><table class=\"wandb\"><tr><td>epoch</td><td>5</td></tr><tr><td>train_acc</td><td>0.51798</td></tr><tr><td>train_loss</td><td>2.08843</td></tr><tr><td>val_acc</td><td>0.5189</td></tr><tr><td>val_loss</td><td>2.08159</td></tr></table><br/></div></div>"
      ],
      "text/plain": [
       "<IPython.core.display.HTML object>"
      ]
     },
     "metadata": {},
     "output_type": "display_data"
    },
    {
     "data": {
      "text/html": [
       " View run <strong style=\"color:#cdcd00\">dandy-sweep-1</strong> at: <a href='https://wandb.ai/jaron-matzinger/delearn-pw05/runs/4s8nihlf' target=\"_blank\">https://wandb.ai/jaron-matzinger/delearn-pw05/runs/4s8nihlf</a><br> View project at: <a href='https://wandb.ai/jaron-matzinger/delearn-pw05' target=\"_blank\">https://wandb.ai/jaron-matzinger/delearn-pw05</a><br>Synced 5 W&B file(s), 0 media file(s), 0 artifact file(s) and 0 other file(s)"
      ],
      "text/plain": [
       "<IPython.core.display.HTML object>"
      ]
     },
     "metadata": {},
     "output_type": "display_data"
    },
    {
     "data": {
      "text/html": [
       "Find logs at: <code>./wandb/run-20250326_140420-4s8nihlf/logs</code>"
      ],
      "text/plain": [
       "<IPython.core.display.HTML object>"
      ]
     },
     "metadata": {},
     "output_type": "display_data"
    },
    {
     "name": "stderr",
     "output_type": "stream",
     "text": [
      "\u001b[34m\u001b[1mwandb\u001b[0m: Agent Starting Run: ii6axasi with config:\n",
      "\u001b[34m\u001b[1mwandb\u001b[0m: \tbatch_size: 64\n",
      "\u001b[34m\u001b[1mwandb\u001b[0m: \tgamma: 0.1\n",
      "\u001b[34m\u001b[1mwandb\u001b[0m: \tlr: 0.001\n",
      "\u001b[34m\u001b[1mwandb\u001b[0m: \tn_epochs: 5\n",
      "\u001b[34m\u001b[1mwandb\u001b[0m: \toptimizer: SGD\n",
      "\u001b[34m\u001b[1mwandb\u001b[0m: \tstep_size: 2\n"
     ]
    },
    {
     "data": {
      "text/html": [
       "Tracking run with wandb version 0.19.8"
      ],
      "text/plain": [
       "<IPython.core.display.HTML object>"
      ]
     },
     "metadata": {},
     "output_type": "display_data"
    },
    {
     "data": {
      "text/html": [
       "Run data is saved locally in <code>/Users/jaron/workspace/mse_delearn/05_exercises/wandb/run-20250326_140507-ii6axasi</code>"
      ],
      "text/plain": [
       "<IPython.core.display.HTML object>"
      ]
     },
     "metadata": {},
     "output_type": "display_data"
    },
    {
     "data": {
      "text/html": [
       "Syncing run <strong><a href='https://wandb.ai/jaron-matzinger/delearn-pw05/runs/ii6axasi' target=\"_blank\">vivid-sweep-2</a></strong> to <a href='https://wandb.ai/jaron-matzinger/delearn-pw05' target=\"_blank\">Weights & Biases</a> (<a href='https://wandb.me/developer-guide' target=\"_blank\">docs</a>)<br>Sweep page: <a href='https://wandb.ai/jaron-matzinger/delearn-pw05/sweeps/6h4vy5i4' target=\"_blank\">https://wandb.ai/jaron-matzinger/delearn-pw05/sweeps/6h4vy5i4</a>"
      ],
      "text/plain": [
       "<IPython.core.display.HTML object>"
      ]
     },
     "metadata": {},
     "output_type": "display_data"
    },
    {
     "data": {
      "text/html": [
       " View project at <a href='https://wandb.ai/jaron-matzinger/delearn-pw05' target=\"_blank\">https://wandb.ai/jaron-matzinger/delearn-pw05</a>"
      ],
      "text/plain": [
       "<IPython.core.display.HTML object>"
      ]
     },
     "metadata": {},
     "output_type": "display_data"
    },
    {
     "data": {
      "text/html": [
       " View sweep at <a href='https://wandb.ai/jaron-matzinger/delearn-pw05/sweeps/6h4vy5i4' target=\"_blank\">https://wandb.ai/jaron-matzinger/delearn-pw05/sweeps/6h4vy5i4</a>"
      ],
      "text/plain": [
       "<IPython.core.display.HTML object>"
      ]
     },
     "metadata": {},
     "output_type": "display_data"
    },
    {
     "data": {
      "text/html": [
       " View run at <a href='https://wandb.ai/jaron-matzinger/delearn-pw05/runs/ii6axasi' target=\"_blank\">https://wandb.ai/jaron-matzinger/delearn-pw05/runs/ii6axasi</a>"
      ],
      "text/plain": [
       "<IPython.core.display.HTML object>"
      ]
     },
     "metadata": {},
     "output_type": "display_data"
    },
    {
     "name": "stdout",
     "output_type": "stream",
     "text": [
      "Epoch: 1, Train Loss: 2.2817, Val Loss: 2.2570, Train Acc: 0.1279, Val Acc: 0.2208\n",
      "Epoch: 2, Train Loss: 2.1993, Val Loss: 2.0990, Train Acc: 0.2507, Val Acc: 0.3691\n",
      "Epoch: 3, Train Loss: 2.0801, Val Loss: 2.0620, Train Acc: 0.3868, Val Acc: 0.4145\n",
      "Epoch: 4, Train Loss: 2.0394, Val Loss: 2.0176, Train Acc: 0.4299, Val Acc: 0.4537\n",
      "Epoch: 5, Train Loss: 2.0139, Val Loss: 2.0127, Train Acc: 0.4531, Val Acc: 0.4575\n"
     ]
    },
    {
     "data": {
      "text/html": [],
      "text/plain": [
       "<IPython.core.display.HTML object>"
      ]
     },
     "metadata": {},
     "output_type": "display_data"
    },
    {
     "data": {
      "text/html": [
       "<br>    <style><br>        .wandb-row {<br>            display: flex;<br>            flex-direction: row;<br>            flex-wrap: wrap;<br>            justify-content: flex-start;<br>            width: 100%;<br>        }<br>        .wandb-col {<br>            display: flex;<br>            flex-direction: column;<br>            flex-basis: 100%;<br>            flex: 1;<br>            padding: 10px;<br>        }<br>    </style><br><div class=\"wandb-row\"><div class=\"wandb-col\"><h3>Run history:</h3><br/><table class=\"wandb\"><tr><td>epoch</td><td>▁▃▅▆█</td></tr><tr><td>train_acc</td><td>▁▄▇██</td></tr><tr><td>train_loss</td><td>█▆▃▂▁</td></tr><tr><td>val_acc</td><td>▁▅▇██</td></tr><tr><td>val_loss</td><td>█▃▂▁▁</td></tr></table><br/></div><div class=\"wandb-col\"><h3>Run summary:</h3><br/><table class=\"wandb\"><tr><td>epoch</td><td>5</td></tr><tr><td>train_acc</td><td>0.45306</td></tr><tr><td>train_loss</td><td>2.01392</td></tr><tr><td>val_acc</td><td>0.4575</td></tr><tr><td>val_loss</td><td>2.0127</td></tr></table><br/></div></div>"
      ],
      "text/plain": [
       "<IPython.core.display.HTML object>"
      ]
     },
     "metadata": {},
     "output_type": "display_data"
    },
    {
     "data": {
      "text/html": [
       " View run <strong style=\"color:#cdcd00\">vivid-sweep-2</strong> at: <a href='https://wandb.ai/jaron-matzinger/delearn-pw05/runs/ii6axasi' target=\"_blank\">https://wandb.ai/jaron-matzinger/delearn-pw05/runs/ii6axasi</a><br> View project at: <a href='https://wandb.ai/jaron-matzinger/delearn-pw05' target=\"_blank\">https://wandb.ai/jaron-matzinger/delearn-pw05</a><br>Synced 5 W&B file(s), 0 media file(s), 0 artifact file(s) and 0 other file(s)"
      ],
      "text/plain": [
       "<IPython.core.display.HTML object>"
      ]
     },
     "metadata": {},
     "output_type": "display_data"
    },
    {
     "data": {
      "text/html": [
       "Find logs at: <code>./wandb/run-20250326_140507-ii6axasi/logs</code>"
      ],
      "text/plain": [
       "<IPython.core.display.HTML object>"
      ]
     },
     "metadata": {},
     "output_type": "display_data"
    },
    {
     "name": "stderr",
     "output_type": "stream",
     "text": [
      "\u001b[34m\u001b[1mwandb\u001b[0m: Agent Starting Run: qzlylxai with config:\n",
      "\u001b[34m\u001b[1mwandb\u001b[0m: \tbatch_size: 64\n",
      "\u001b[34m\u001b[1mwandb\u001b[0m: \tgamma: 0.2\n",
      "\u001b[34m\u001b[1mwandb\u001b[0m: \tlr: 0.001\n",
      "\u001b[34m\u001b[1mwandb\u001b[0m: \tn_epochs: 5\n",
      "\u001b[34m\u001b[1mwandb\u001b[0m: \toptimizer: SGD\n",
      "\u001b[34m\u001b[1mwandb\u001b[0m: \tstep_size: 1\n"
     ]
    },
    {
     "data": {
      "text/html": [
       "Tracking run with wandb version 0.19.8"
      ],
      "text/plain": [
       "<IPython.core.display.HTML object>"
      ]
     },
     "metadata": {},
     "output_type": "display_data"
    },
    {
     "data": {
      "text/html": [
       "Run data is saved locally in <code>/Users/jaron/workspace/mse_delearn/05_exercises/wandb/run-20250326_140554-qzlylxai</code>"
      ],
      "text/plain": [
       "<IPython.core.display.HTML object>"
      ]
     },
     "metadata": {},
     "output_type": "display_data"
    },
    {
     "data": {
      "text/html": [
       "Syncing run <strong><a href='https://wandb.ai/jaron-matzinger/delearn-pw05/runs/qzlylxai' target=\"_blank\">wild-sweep-3</a></strong> to <a href='https://wandb.ai/jaron-matzinger/delearn-pw05' target=\"_blank\">Weights & Biases</a> (<a href='https://wandb.me/developer-guide' target=\"_blank\">docs</a>)<br>Sweep page: <a href='https://wandb.ai/jaron-matzinger/delearn-pw05/sweeps/6h4vy5i4' target=\"_blank\">https://wandb.ai/jaron-matzinger/delearn-pw05/sweeps/6h4vy5i4</a>"
      ],
      "text/plain": [
       "<IPython.core.display.HTML object>"
      ]
     },
     "metadata": {},
     "output_type": "display_data"
    },
    {
     "data": {
      "text/html": [
       " View project at <a href='https://wandb.ai/jaron-matzinger/delearn-pw05' target=\"_blank\">https://wandb.ai/jaron-matzinger/delearn-pw05</a>"
      ],
      "text/plain": [
       "<IPython.core.display.HTML object>"
      ]
     },
     "metadata": {},
     "output_type": "display_data"
    },
    {
     "data": {
      "text/html": [
       " View sweep at <a href='https://wandb.ai/jaron-matzinger/delearn-pw05/sweeps/6h4vy5i4' target=\"_blank\">https://wandb.ai/jaron-matzinger/delearn-pw05/sweeps/6h4vy5i4</a>"
      ],
      "text/plain": [
       "<IPython.core.display.HTML object>"
      ]
     },
     "metadata": {},
     "output_type": "display_data"
    },
    {
     "data": {
      "text/html": [
       " View run at <a href='https://wandb.ai/jaron-matzinger/delearn-pw05/runs/qzlylxai' target=\"_blank\">https://wandb.ai/jaron-matzinger/delearn-pw05/runs/qzlylxai</a>"
      ],
      "text/plain": [
       "<IPython.core.display.HTML object>"
      ]
     },
     "metadata": {},
     "output_type": "display_data"
    },
    {
     "name": "stdout",
     "output_type": "stream",
     "text": [
      "Epoch: 1, Train Loss: 2.2714, Val Loss: 2.2242, Train Acc: 0.1292, Val Acc: 0.2137\n",
      "Epoch: 2, Train Loss: 2.2079, Val Loss: 2.1899, Train Acc: 0.2814, Val Acc: 0.3558\n",
      "Epoch: 3, Train Loss: 2.1854, Val Loss: 2.1814, Train Acc: 0.3674, Val Acc: 0.3825\n",
      "Epoch: 4, Train Loss: 2.1802, Val Loss: 2.1796, Train Acc: 0.3824, Val Acc: 0.3883\n",
      "Epoch: 5, Train Loss: 2.1792, Val Loss: 2.1792, Train Acc: 0.3860, Val Acc: 0.3894\n"
     ]
    },
    {
     "data": {
      "text/html": [],
      "text/plain": [
       "<IPython.core.display.HTML object>"
      ]
     },
     "metadata": {},
     "output_type": "display_data"
    },
    {
     "data": {
      "text/html": [
       "<br>    <style><br>        .wandb-row {<br>            display: flex;<br>            flex-direction: row;<br>            flex-wrap: wrap;<br>            justify-content: flex-start;<br>            width: 100%;<br>        }<br>        .wandb-col {<br>            display: flex;<br>            flex-direction: column;<br>            flex-basis: 100%;<br>            flex: 1;<br>            padding: 10px;<br>        }<br>    </style><br><div class=\"wandb-row\"><div class=\"wandb-col\"><h3>Run history:</h3><br/><table class=\"wandb\"><tr><td>epoch</td><td>▁▃▅▆█</td></tr><tr><td>train_acc</td><td>▁▅▇██</td></tr><tr><td>train_loss</td><td>█▃▁▁▁</td></tr><tr><td>val_acc</td><td>▁▇███</td></tr><tr><td>val_loss</td><td>█▃▁▁▁</td></tr></table><br/></div><div class=\"wandb-col\"><h3>Run summary:</h3><br/><table class=\"wandb\"><tr><td>epoch</td><td>5</td></tr><tr><td>train_acc</td><td>0.38596</td></tr><tr><td>train_loss</td><td>2.17916</td></tr><tr><td>val_acc</td><td>0.3894</td></tr><tr><td>val_loss</td><td>2.17923</td></tr></table><br/></div></div>"
      ],
      "text/plain": [
       "<IPython.core.display.HTML object>"
      ]
     },
     "metadata": {},
     "output_type": "display_data"
    },
    {
     "data": {
      "text/html": [
       " View run <strong style=\"color:#cdcd00\">wild-sweep-3</strong> at: <a href='https://wandb.ai/jaron-matzinger/delearn-pw05/runs/qzlylxai' target=\"_blank\">https://wandb.ai/jaron-matzinger/delearn-pw05/runs/qzlylxai</a><br> View project at: <a href='https://wandb.ai/jaron-matzinger/delearn-pw05' target=\"_blank\">https://wandb.ai/jaron-matzinger/delearn-pw05</a><br>Synced 5 W&B file(s), 0 media file(s), 0 artifact file(s) and 0 other file(s)"
      ],
      "text/plain": [
       "<IPython.core.display.HTML object>"
      ]
     },
     "metadata": {},
     "output_type": "display_data"
    },
    {
     "data": {
      "text/html": [
       "Find logs at: <code>./wandb/run-20250326_140554-qzlylxai/logs</code>"
      ],
      "text/plain": [
       "<IPython.core.display.HTML object>"
      ]
     },
     "metadata": {},
     "output_type": "display_data"
    },
    {
     "name": "stderr",
     "output_type": "stream",
     "text": [
      "\u001b[34m\u001b[1mwandb\u001b[0m: Agent Starting Run: i25aj3d6 with config:\n",
      "\u001b[34m\u001b[1mwandb\u001b[0m: \tbatch_size: 64\n",
      "\u001b[34m\u001b[1mwandb\u001b[0m: \tgamma: 0.3\n",
      "\u001b[34m\u001b[1mwandb\u001b[0m: \tlr: 0.001\n",
      "\u001b[34m\u001b[1mwandb\u001b[0m: \tn_epochs: 5\n",
      "\u001b[34m\u001b[1mwandb\u001b[0m: \toptimizer: SGD\n",
      "\u001b[34m\u001b[1mwandb\u001b[0m: \tstep_size: 3\n"
     ]
    },
    {
     "data": {
      "text/html": [
       "Tracking run with wandb version 0.19.8"
      ],
      "text/plain": [
       "<IPython.core.display.HTML object>"
      ]
     },
     "metadata": {},
     "output_type": "display_data"
    },
    {
     "data": {
      "text/html": [
       "Run data is saved locally in <code>/Users/jaron/workspace/mse_delearn/05_exercises/wandb/run-20250326_140640-i25aj3d6</code>"
      ],
      "text/plain": [
       "<IPython.core.display.HTML object>"
      ]
     },
     "metadata": {},
     "output_type": "display_data"
    },
    {
     "data": {
      "text/html": [
       "Syncing run <strong><a href='https://wandb.ai/jaron-matzinger/delearn-pw05/runs/i25aj3d6' target=\"_blank\">valiant-sweep-4</a></strong> to <a href='https://wandb.ai/jaron-matzinger/delearn-pw05' target=\"_blank\">Weights & Biases</a> (<a href='https://wandb.me/developer-guide' target=\"_blank\">docs</a>)<br>Sweep page: <a href='https://wandb.ai/jaron-matzinger/delearn-pw05/sweeps/6h4vy5i4' target=\"_blank\">https://wandb.ai/jaron-matzinger/delearn-pw05/sweeps/6h4vy5i4</a>"
      ],
      "text/plain": [
       "<IPython.core.display.HTML object>"
      ]
     },
     "metadata": {},
     "output_type": "display_data"
    },
    {
     "data": {
      "text/html": [
       " View project at <a href='https://wandb.ai/jaron-matzinger/delearn-pw05' target=\"_blank\">https://wandb.ai/jaron-matzinger/delearn-pw05</a>"
      ],
      "text/plain": [
       "<IPython.core.display.HTML object>"
      ]
     },
     "metadata": {},
     "output_type": "display_data"
    },
    {
     "data": {
      "text/html": [
       " View sweep at <a href='https://wandb.ai/jaron-matzinger/delearn-pw05/sweeps/6h4vy5i4' target=\"_blank\">https://wandb.ai/jaron-matzinger/delearn-pw05/sweeps/6h4vy5i4</a>"
      ],
      "text/plain": [
       "<IPython.core.display.HTML object>"
      ]
     },
     "metadata": {},
     "output_type": "display_data"
    },
    {
     "data": {
      "text/html": [
       " View run at <a href='https://wandb.ai/jaron-matzinger/delearn-pw05/runs/i25aj3d6' target=\"_blank\">https://wandb.ai/jaron-matzinger/delearn-pw05/runs/i25aj3d6</a>"
      ],
      "text/plain": [
       "<IPython.core.display.HTML object>"
      ]
     },
     "metadata": {},
     "output_type": "display_data"
    },
    {
     "name": "stdout",
     "output_type": "stream",
     "text": [
      "Epoch: 1, Train Loss: 2.2872, Val Loss: 2.2670, Train Acc: 0.1987, Val Acc: 0.2849\n",
      "Epoch: 2, Train Loss: 2.2235, Val Loss: 2.1518, Train Acc: 0.3203, Val Acc: 0.3625\n",
      "Epoch: 3, Train Loss: 1.9321, Val Loss: 1.5837, Train Acc: 0.4773, Val Acc: 0.5842\n",
      "Epoch: 4, Train Loss: 1.4570, Val Loss: 1.3351, Train Acc: 0.6087, Val Acc: 0.6238\n",
      "Epoch: 5, Train Loss: 1.2434, Val Loss: 1.1563, Train Acc: 0.6262, Val Acc: 0.6341\n"
     ]
    },
    {
     "data": {
      "text/html": [],
      "text/plain": [
       "<IPython.core.display.HTML object>"
      ]
     },
     "metadata": {},
     "output_type": "display_data"
    },
    {
     "data": {
      "text/html": [
       "<br>    <style><br>        .wandb-row {<br>            display: flex;<br>            flex-direction: row;<br>            flex-wrap: wrap;<br>            justify-content: flex-start;<br>            width: 100%;<br>        }<br>        .wandb-col {<br>            display: flex;<br>            flex-direction: column;<br>            flex-basis: 100%;<br>            flex: 1;<br>            padding: 10px;<br>        }<br>    </style><br><div class=\"wandb-row\"><div class=\"wandb-col\"><h3>Run history:</h3><br/><table class=\"wandb\"><tr><td>epoch</td><td>▁▃▅▆█</td></tr><tr><td>train_acc</td><td>▁▃▆██</td></tr><tr><td>train_loss</td><td>██▆▂▁</td></tr><tr><td>val_acc</td><td>▁▃▇██</td></tr><tr><td>val_loss</td><td>█▇▄▂▁</td></tr></table><br/></div><div class=\"wandb-col\"><h3>Run summary:</h3><br/><table class=\"wandb\"><tr><td>epoch</td><td>5</td></tr><tr><td>train_acc</td><td>0.62616</td></tr><tr><td>train_loss</td><td>1.2434</td></tr><tr><td>val_acc</td><td>0.6341</td></tr><tr><td>val_loss</td><td>1.15634</td></tr></table><br/></div></div>"
      ],
      "text/plain": [
       "<IPython.core.display.HTML object>"
      ]
     },
     "metadata": {},
     "output_type": "display_data"
    },
    {
     "data": {
      "text/html": [
       " View run <strong style=\"color:#cdcd00\">valiant-sweep-4</strong> at: <a href='https://wandb.ai/jaron-matzinger/delearn-pw05/runs/i25aj3d6' target=\"_blank\">https://wandb.ai/jaron-matzinger/delearn-pw05/runs/i25aj3d6</a><br> View project at: <a href='https://wandb.ai/jaron-matzinger/delearn-pw05' target=\"_blank\">https://wandb.ai/jaron-matzinger/delearn-pw05</a><br>Synced 5 W&B file(s), 0 media file(s), 0 artifact file(s) and 0 other file(s)"
      ],
      "text/plain": [
       "<IPython.core.display.HTML object>"
      ]
     },
     "metadata": {},
     "output_type": "display_data"
    },
    {
     "data": {
      "text/html": [
       "Find logs at: <code>./wandb/run-20250326_140640-i25aj3d6/logs</code>"
      ],
      "text/plain": [
       "<IPython.core.display.HTML object>"
      ]
     },
     "metadata": {},
     "output_type": "display_data"
    },
    {
     "name": "stderr",
     "output_type": "stream",
     "text": [
      "\u001b[34m\u001b[1mwandb\u001b[0m: Agent Starting Run: c1exbkrp with config:\n",
      "\u001b[34m\u001b[1mwandb\u001b[0m: \tbatch_size: 64\n",
      "\u001b[34m\u001b[1mwandb\u001b[0m: \tgamma: 0.1\n",
      "\u001b[34m\u001b[1mwandb\u001b[0m: \tlr: 0.001\n",
      "\u001b[34m\u001b[1mwandb\u001b[0m: \tn_epochs: 5\n",
      "\u001b[34m\u001b[1mwandb\u001b[0m: \toptimizer: SGD\n",
      "\u001b[34m\u001b[1mwandb\u001b[0m: \tstep_size: 3\n"
     ]
    },
    {
     "data": {
      "text/html": [
       "Tracking run with wandb version 0.19.8"
      ],
      "text/plain": [
       "<IPython.core.display.HTML object>"
      ]
     },
     "metadata": {},
     "output_type": "display_data"
    },
    {
     "data": {
      "text/html": [
       "Run data is saved locally in <code>/Users/jaron/workspace/mse_delearn/05_exercises/wandb/run-20250326_140727-c1exbkrp</code>"
      ],
      "text/plain": [
       "<IPython.core.display.HTML object>"
      ]
     },
     "metadata": {},
     "output_type": "display_data"
    },
    {
     "data": {
      "text/html": [
       "Syncing run <strong><a href='https://wandb.ai/jaron-matzinger/delearn-pw05/runs/c1exbkrp' target=\"_blank\">hardy-sweep-5</a></strong> to <a href='https://wandb.ai/jaron-matzinger/delearn-pw05' target=\"_blank\">Weights & Biases</a> (<a href='https://wandb.me/developer-guide' target=\"_blank\">docs</a>)<br>Sweep page: <a href='https://wandb.ai/jaron-matzinger/delearn-pw05/sweeps/6h4vy5i4' target=\"_blank\">https://wandb.ai/jaron-matzinger/delearn-pw05/sweeps/6h4vy5i4</a>"
      ],
      "text/plain": [
       "<IPython.core.display.HTML object>"
      ]
     },
     "metadata": {},
     "output_type": "display_data"
    },
    {
     "data": {
      "text/html": [
       " View project at <a href='https://wandb.ai/jaron-matzinger/delearn-pw05' target=\"_blank\">https://wandb.ai/jaron-matzinger/delearn-pw05</a>"
      ],
      "text/plain": [
       "<IPython.core.display.HTML object>"
      ]
     },
     "metadata": {},
     "output_type": "display_data"
    },
    {
     "data": {
      "text/html": [
       " View sweep at <a href='https://wandb.ai/jaron-matzinger/delearn-pw05/sweeps/6h4vy5i4' target=\"_blank\">https://wandb.ai/jaron-matzinger/delearn-pw05/sweeps/6h4vy5i4</a>"
      ],
      "text/plain": [
       "<IPython.core.display.HTML object>"
      ]
     },
     "metadata": {},
     "output_type": "display_data"
    },
    {
     "data": {
      "text/html": [
       " View run at <a href='https://wandb.ai/jaron-matzinger/delearn-pw05/runs/c1exbkrp' target=\"_blank\">https://wandb.ai/jaron-matzinger/delearn-pw05/runs/c1exbkrp</a>"
      ],
      "text/plain": [
       "<IPython.core.display.HTML object>"
      ]
     },
     "metadata": {},
     "output_type": "display_data"
    },
    {
     "name": "stdout",
     "output_type": "stream",
     "text": [
      "Epoch: 1, Train Loss: 2.2661, Val Loss: 2.2122, Train Acc: 0.2277, Val Acc: 0.4033\n",
      "Epoch: 2, Train Loss: 2.0398, Val Loss: 1.7336, Train Acc: 0.4860, Val Acc: 0.5868\n",
      "Epoch: 3, Train Loss: 1.3219, Val Loss: 1.0288, Train Acc: 0.6145, Val Acc: 0.6574\n",
      "Epoch: 4, Train Loss: 1.0194, Val Loss: 0.9972, Train Acc: 0.6565, Val Acc: 0.6573\n",
      "Epoch: 5, Train Loss: 0.9910, Val Loss: 0.9704, Train Acc: 0.6610, Val Acc: 0.6674\n"
     ]
    },
    {
     "data": {
      "text/html": [],
      "text/plain": [
       "<IPython.core.display.HTML object>"
      ]
     },
     "metadata": {},
     "output_type": "display_data"
    },
    {
     "data": {
      "text/html": [
       "<br>    <style><br>        .wandb-row {<br>            display: flex;<br>            flex-direction: row;<br>            flex-wrap: wrap;<br>            justify-content: flex-start;<br>            width: 100%;<br>        }<br>        .wandb-col {<br>            display: flex;<br>            flex-direction: column;<br>            flex-basis: 100%;<br>            flex: 1;<br>            padding: 10px;<br>        }<br>    </style><br><div class=\"wandb-row\"><div class=\"wandb-col\"><h3>Run history:</h3><br/><table class=\"wandb\"><tr><td>epoch</td><td>▁▃▅▆█</td></tr><tr><td>train_acc</td><td>▁▅▇██</td></tr><tr><td>train_loss</td><td>█▇▃▁▁</td></tr><tr><td>val_acc</td><td>▁▆███</td></tr><tr><td>val_loss</td><td>█▅▁▁▁</td></tr></table><br/></div><div class=\"wandb-col\"><h3>Run summary:</h3><br/><table class=\"wandb\"><tr><td>epoch</td><td>5</td></tr><tr><td>train_acc</td><td>0.66096</td></tr><tr><td>train_loss</td><td>0.99104</td></tr><tr><td>val_acc</td><td>0.6674</td></tr><tr><td>val_loss</td><td>0.97042</td></tr></table><br/></div></div>"
      ],
      "text/plain": [
       "<IPython.core.display.HTML object>"
      ]
     },
     "metadata": {},
     "output_type": "display_data"
    },
    {
     "data": {
      "text/html": [
       " View run <strong style=\"color:#cdcd00\">hardy-sweep-5</strong> at: <a href='https://wandb.ai/jaron-matzinger/delearn-pw05/runs/c1exbkrp' target=\"_blank\">https://wandb.ai/jaron-matzinger/delearn-pw05/runs/c1exbkrp</a><br> View project at: <a href='https://wandb.ai/jaron-matzinger/delearn-pw05' target=\"_blank\">https://wandb.ai/jaron-matzinger/delearn-pw05</a><br>Synced 5 W&B file(s), 0 media file(s), 0 artifact file(s) and 0 other file(s)"
      ],
      "text/plain": [
       "<IPython.core.display.HTML object>"
      ]
     },
     "metadata": {},
     "output_type": "display_data"
    },
    {
     "data": {
      "text/html": [
       "Find logs at: <code>./wandb/run-20250326_140727-c1exbkrp/logs</code>"
      ],
      "text/plain": [
       "<IPython.core.display.HTML object>"
      ]
     },
     "metadata": {},
     "output_type": "display_data"
    },
    {
     "name": "stderr",
     "output_type": "stream",
     "text": [
      "\u001b[34m\u001b[1mwandb\u001b[0m: Sweep Agent: Waiting for job.\n",
      "\u001b[34m\u001b[1mwandb\u001b[0m: Job received.\n",
      "\u001b[34m\u001b[1mwandb\u001b[0m: Agent Starting Run: qyqolakg with config:\n",
      "\u001b[34m\u001b[1mwandb\u001b[0m: \tbatch_size: 64\n",
      "\u001b[34m\u001b[1mwandb\u001b[0m: \tgamma: 0.3\n",
      "\u001b[34m\u001b[1mwandb\u001b[0m: \tlr: 0.001\n",
      "\u001b[34m\u001b[1mwandb\u001b[0m: \tn_epochs: 5\n",
      "\u001b[34m\u001b[1mwandb\u001b[0m: \toptimizer: SGD\n",
      "\u001b[34m\u001b[1mwandb\u001b[0m: \tstep_size: 1\n"
     ]
    },
    {
     "data": {
      "text/html": [
       "Tracking run with wandb version 0.19.8"
      ],
      "text/plain": [
       "<IPython.core.display.HTML object>"
      ]
     },
     "metadata": {},
     "output_type": "display_data"
    },
    {
     "data": {
      "text/html": [
       "Run data is saved locally in <code>/Users/jaron/workspace/mse_delearn/05_exercises/wandb/run-20250326_140845-qyqolakg</code>"
      ],
      "text/plain": [
       "<IPython.core.display.HTML object>"
      ]
     },
     "metadata": {},
     "output_type": "display_data"
    },
    {
     "data": {
      "text/html": [
       "Syncing run <strong><a href='https://wandb.ai/jaron-matzinger/delearn-pw05/runs/qyqolakg' target=\"_blank\">scarlet-sweep-6</a></strong> to <a href='https://wandb.ai/jaron-matzinger/delearn-pw05' target=\"_blank\">Weights & Biases</a> (<a href='https://wandb.me/developer-guide' target=\"_blank\">docs</a>)<br>Sweep page: <a href='https://wandb.ai/jaron-matzinger/delearn-pw05/sweeps/6h4vy5i4' target=\"_blank\">https://wandb.ai/jaron-matzinger/delearn-pw05/sweeps/6h4vy5i4</a>"
      ],
      "text/plain": [
       "<IPython.core.display.HTML object>"
      ]
     },
     "metadata": {},
     "output_type": "display_data"
    },
    {
     "data": {
      "text/html": [
       " View project at <a href='https://wandb.ai/jaron-matzinger/delearn-pw05' target=\"_blank\">https://wandb.ai/jaron-matzinger/delearn-pw05</a>"
      ],
      "text/plain": [
       "<IPython.core.display.HTML object>"
      ]
     },
     "metadata": {},
     "output_type": "display_data"
    },
    {
     "data": {
      "text/html": [
       " View sweep at <a href='https://wandb.ai/jaron-matzinger/delearn-pw05/sweeps/6h4vy5i4' target=\"_blank\">https://wandb.ai/jaron-matzinger/delearn-pw05/sweeps/6h4vy5i4</a>"
      ],
      "text/plain": [
       "<IPython.core.display.HTML object>"
      ]
     },
     "metadata": {},
     "output_type": "display_data"
    },
    {
     "data": {
      "text/html": [
       " View run at <a href='https://wandb.ai/jaron-matzinger/delearn-pw05/runs/qyqolakg' target=\"_blank\">https://wandb.ai/jaron-matzinger/delearn-pw05/runs/qyqolakg</a>"
      ],
      "text/plain": [
       "<IPython.core.display.HTML object>"
      ]
     },
     "metadata": {},
     "output_type": "display_data"
    },
    {
     "name": "stdout",
     "output_type": "stream",
     "text": [
      "Epoch: 1, Train Loss: 2.2677, Val Loss: 2.2182, Train Acc: 0.2011, Val Acc: 0.2449\n",
      "Epoch: 2, Train Loss: 2.1898, Val Loss: 2.1576, Train Acc: 0.2490, Val Acc: 0.2621\n",
      "Epoch: 3, Train Loss: 2.1442, Val Loss: 2.1321, Train Acc: 0.2646, Val Acc: 0.2718\n",
      "Epoch: 4, Train Loss: 2.1268, Val Loss: 2.1236, Train Acc: 0.2704, Val Acc: 0.2758\n",
      "Epoch: 5, Train Loss: 2.1213, Val Loss: 2.1210, Train Acc: 0.2722, Val Acc: 0.2769\n"
     ]
    },
    {
     "data": {
      "text/html": [],
      "text/plain": [
       "<IPython.core.display.HTML object>"
      ]
     },
     "metadata": {},
     "output_type": "display_data"
    },
    {
     "data": {
      "text/html": [
       "<br>    <style><br>        .wandb-row {<br>            display: flex;<br>            flex-direction: row;<br>            flex-wrap: wrap;<br>            justify-content: flex-start;<br>            width: 100%;<br>        }<br>        .wandb-col {<br>            display: flex;<br>            flex-direction: column;<br>            flex-basis: 100%;<br>            flex: 1;<br>            padding: 10px;<br>        }<br>    </style><br><div class=\"wandb-row\"><div class=\"wandb-col\"><h3>Run history:</h3><br/><table class=\"wandb\"><tr><td>epoch</td><td>▁▃▅▆█</td></tr><tr><td>train_acc</td><td>▁▆▇██</td></tr><tr><td>train_loss</td><td>█▄▂▁▁</td></tr><tr><td>val_acc</td><td>▁▅▇██</td></tr><tr><td>val_loss</td><td>█▄▂▁▁</td></tr></table><br/></div><div class=\"wandb-col\"><h3>Run summary:</h3><br/><table class=\"wandb\"><tr><td>epoch</td><td>5</td></tr><tr><td>train_acc</td><td>0.2722</td></tr><tr><td>train_loss</td><td>2.12127</td></tr><tr><td>val_acc</td><td>0.2769</td></tr><tr><td>val_loss</td><td>2.121</td></tr></table><br/></div></div>"
      ],
      "text/plain": [
       "<IPython.core.display.HTML object>"
      ]
     },
     "metadata": {},
     "output_type": "display_data"
    },
    {
     "data": {
      "text/html": [
       " View run <strong style=\"color:#cdcd00\">scarlet-sweep-6</strong> at: <a href='https://wandb.ai/jaron-matzinger/delearn-pw05/runs/qyqolakg' target=\"_blank\">https://wandb.ai/jaron-matzinger/delearn-pw05/runs/qyqolakg</a><br> View project at: <a href='https://wandb.ai/jaron-matzinger/delearn-pw05' target=\"_blank\">https://wandb.ai/jaron-matzinger/delearn-pw05</a><br>Synced 5 W&B file(s), 0 media file(s), 0 artifact file(s) and 0 other file(s)"
      ],
      "text/plain": [
       "<IPython.core.display.HTML object>"
      ]
     },
     "metadata": {},
     "output_type": "display_data"
    },
    {
     "data": {
      "text/html": [
       "Find logs at: <code>./wandb/run-20250326_140845-qyqolakg/logs</code>"
      ],
      "text/plain": [
       "<IPython.core.display.HTML object>"
      ]
     },
     "metadata": {},
     "output_type": "display_data"
    },
    {
     "name": "stderr",
     "output_type": "stream",
     "text": [
      "\u001b[34m\u001b[1mwandb\u001b[0m: Agent Starting Run: 9t6gk70l with config:\n",
      "\u001b[34m\u001b[1mwandb\u001b[0m: \tbatch_size: 64\n",
      "\u001b[34m\u001b[1mwandb\u001b[0m: \tgamma: 0.2\n",
      "\u001b[34m\u001b[1mwandb\u001b[0m: \tlr: 0.001\n",
      "\u001b[34m\u001b[1mwandb\u001b[0m: \tn_epochs: 5\n",
      "\u001b[34m\u001b[1mwandb\u001b[0m: \toptimizer: SGD\n",
      "\u001b[34m\u001b[1mwandb\u001b[0m: \tstep_size: 3\n"
     ]
    },
    {
     "data": {
      "text/html": [
       "Tracking run with wandb version 0.19.8"
      ],
      "text/plain": [
       "<IPython.core.display.HTML object>"
      ]
     },
     "metadata": {},
     "output_type": "display_data"
    },
    {
     "data": {
      "text/html": [
       "Run data is saved locally in <code>/Users/jaron/workspace/mse_delearn/05_exercises/wandb/run-20250326_140931-9t6gk70l</code>"
      ],
      "text/plain": [
       "<IPython.core.display.HTML object>"
      ]
     },
     "metadata": {},
     "output_type": "display_data"
    },
    {
     "data": {
      "text/html": [
       "Syncing run <strong><a href='https://wandb.ai/jaron-matzinger/delearn-pw05/runs/9t6gk70l' target=\"_blank\">stellar-sweep-7</a></strong> to <a href='https://wandb.ai/jaron-matzinger/delearn-pw05' target=\"_blank\">Weights & Biases</a> (<a href='https://wandb.me/developer-guide' target=\"_blank\">docs</a>)<br>Sweep page: <a href='https://wandb.ai/jaron-matzinger/delearn-pw05/sweeps/6h4vy5i4' target=\"_blank\">https://wandb.ai/jaron-matzinger/delearn-pw05/sweeps/6h4vy5i4</a>"
      ],
      "text/plain": [
       "<IPython.core.display.HTML object>"
      ]
     },
     "metadata": {},
     "output_type": "display_data"
    },
    {
     "data": {
      "text/html": [
       " View project at <a href='https://wandb.ai/jaron-matzinger/delearn-pw05' target=\"_blank\">https://wandb.ai/jaron-matzinger/delearn-pw05</a>"
      ],
      "text/plain": [
       "<IPython.core.display.HTML object>"
      ]
     },
     "metadata": {},
     "output_type": "display_data"
    },
    {
     "data": {
      "text/html": [
       " View sweep at <a href='https://wandb.ai/jaron-matzinger/delearn-pw05/sweeps/6h4vy5i4' target=\"_blank\">https://wandb.ai/jaron-matzinger/delearn-pw05/sweeps/6h4vy5i4</a>"
      ],
      "text/plain": [
       "<IPython.core.display.HTML object>"
      ]
     },
     "metadata": {},
     "output_type": "display_data"
    },
    {
     "data": {
      "text/html": [
       " View run at <a href='https://wandb.ai/jaron-matzinger/delearn-pw05/runs/9t6gk70l' target=\"_blank\">https://wandb.ai/jaron-matzinger/delearn-pw05/runs/9t6gk70l</a>"
      ],
      "text/plain": [
       "<IPython.core.display.HTML object>"
      ]
     },
     "metadata": {},
     "output_type": "display_data"
    },
    {
     "name": "stdout",
     "output_type": "stream",
     "text": [
      "Epoch: 1, Train Loss: 2.2451, Val Loss: 2.1575, Train Acc: 0.1382, Val Acc: 0.2656\n",
      "Epoch: 2, Train Loss: 1.8679, Val Loss: 1.4423, Train Acc: 0.4637, Val Acc: 0.5809\n",
      "Epoch: 3, Train Loss: 1.1496, Val Loss: 0.9615, Train Acc: 0.6207, Val Acc: 0.6589\n",
      "Epoch: 4, Train Loss: 0.9461, Val Loss: 0.9206, Train Acc: 0.6641, Val Acc: 0.6686\n",
      "Epoch: 5, Train Loss: 0.9108, Val Loss: 0.8886, Train Acc: 0.6735, Val Acc: 0.6810\n"
     ]
    },
    {
     "data": {
      "text/html": [],
      "text/plain": [
       "<IPython.core.display.HTML object>"
      ]
     },
     "metadata": {},
     "output_type": "display_data"
    },
    {
     "data": {
      "text/html": [
       "<br>    <style><br>        .wandb-row {<br>            display: flex;<br>            flex-direction: row;<br>            flex-wrap: wrap;<br>            justify-content: flex-start;<br>            width: 100%;<br>        }<br>        .wandb-col {<br>            display: flex;<br>            flex-direction: column;<br>            flex-basis: 100%;<br>            flex: 1;<br>            padding: 10px;<br>        }<br>    </style><br><div class=\"wandb-row\"><div class=\"wandb-col\"><h3>Run history:</h3><br/><table class=\"wandb\"><tr><td>epoch</td><td>▁▃▅▆█</td></tr><tr><td>train_acc</td><td>▁▅▇██</td></tr><tr><td>train_loss</td><td>█▆▂▁▁</td></tr><tr><td>val_acc</td><td>▁▆███</td></tr><tr><td>val_loss</td><td>█▄▁▁▁</td></tr></table><br/></div><div class=\"wandb-col\"><h3>Run summary:</h3><br/><table class=\"wandb\"><tr><td>epoch</td><td>5</td></tr><tr><td>train_acc</td><td>0.67354</td></tr><tr><td>train_loss</td><td>0.91076</td></tr><tr><td>val_acc</td><td>0.681</td></tr><tr><td>val_loss</td><td>0.8886</td></tr></table><br/></div></div>"
      ],
      "text/plain": [
       "<IPython.core.display.HTML object>"
      ]
     },
     "metadata": {},
     "output_type": "display_data"
    },
    {
     "data": {
      "text/html": [
       " View run <strong style=\"color:#cdcd00\">stellar-sweep-7</strong> at: <a href='https://wandb.ai/jaron-matzinger/delearn-pw05/runs/9t6gk70l' target=\"_blank\">https://wandb.ai/jaron-matzinger/delearn-pw05/runs/9t6gk70l</a><br> View project at: <a href='https://wandb.ai/jaron-matzinger/delearn-pw05' target=\"_blank\">https://wandb.ai/jaron-matzinger/delearn-pw05</a><br>Synced 5 W&B file(s), 0 media file(s), 0 artifact file(s) and 0 other file(s)"
      ],
      "text/plain": [
       "<IPython.core.display.HTML object>"
      ]
     },
     "metadata": {},
     "output_type": "display_data"
    },
    {
     "data": {
      "text/html": [
       "Find logs at: <code>./wandb/run-20250326_140931-9t6gk70l/logs</code>"
      ],
      "text/plain": [
       "<IPython.core.display.HTML object>"
      ]
     },
     "metadata": {},
     "output_type": "display_data"
    },
    {
     "name": "stderr",
     "output_type": "stream",
     "text": [
      "\u001b[34m\u001b[1mwandb\u001b[0m: Agent Starting Run: 6abaz4t9 with config:\n",
      "\u001b[34m\u001b[1mwandb\u001b[0m: \tbatch_size: 64\n",
      "\u001b[34m\u001b[1mwandb\u001b[0m: \tgamma: 0.3\n",
      "\u001b[34m\u001b[1mwandb\u001b[0m: \tlr: 0.001\n",
      "\u001b[34m\u001b[1mwandb\u001b[0m: \tn_epochs: 5\n",
      "\u001b[34m\u001b[1mwandb\u001b[0m: \toptimizer: SGD\n",
      "\u001b[34m\u001b[1mwandb\u001b[0m: \tstep_size: 3\n"
     ]
    },
    {
     "data": {
      "text/html": [
       "Tracking run with wandb version 0.19.8"
      ],
      "text/plain": [
       "<IPython.core.display.HTML object>"
      ]
     },
     "metadata": {},
     "output_type": "display_data"
    },
    {
     "data": {
      "text/html": [
       "Run data is saved locally in <code>/Users/jaron/workspace/mse_delearn/05_exercises/wandb/run-20250326_141018-6abaz4t9</code>"
      ],
      "text/plain": [
       "<IPython.core.display.HTML object>"
      ]
     },
     "metadata": {},
     "output_type": "display_data"
    },
    {
     "data": {
      "text/html": [
       "Syncing run <strong><a href='https://wandb.ai/jaron-matzinger/delearn-pw05/runs/6abaz4t9' target=\"_blank\">daily-sweep-8</a></strong> to <a href='https://wandb.ai/jaron-matzinger/delearn-pw05' target=\"_blank\">Weights & Biases</a> (<a href='https://wandb.me/developer-guide' target=\"_blank\">docs</a>)<br>Sweep page: <a href='https://wandb.ai/jaron-matzinger/delearn-pw05/sweeps/6h4vy5i4' target=\"_blank\">https://wandb.ai/jaron-matzinger/delearn-pw05/sweeps/6h4vy5i4</a>"
      ],
      "text/plain": [
       "<IPython.core.display.HTML object>"
      ]
     },
     "metadata": {},
     "output_type": "display_data"
    },
    {
     "data": {
      "text/html": [
       " View project at <a href='https://wandb.ai/jaron-matzinger/delearn-pw05' target=\"_blank\">https://wandb.ai/jaron-matzinger/delearn-pw05</a>"
      ],
      "text/plain": [
       "<IPython.core.display.HTML object>"
      ]
     },
     "metadata": {},
     "output_type": "display_data"
    },
    {
     "data": {
      "text/html": [
       " View sweep at <a href='https://wandb.ai/jaron-matzinger/delearn-pw05/sweeps/6h4vy5i4' target=\"_blank\">https://wandb.ai/jaron-matzinger/delearn-pw05/sweeps/6h4vy5i4</a>"
      ],
      "text/plain": [
       "<IPython.core.display.HTML object>"
      ]
     },
     "metadata": {},
     "output_type": "display_data"
    },
    {
     "data": {
      "text/html": [
       " View run at <a href='https://wandb.ai/jaron-matzinger/delearn-pw05/runs/6abaz4t9' target=\"_blank\">https://wandb.ai/jaron-matzinger/delearn-pw05/runs/6abaz4t9</a>"
      ],
      "text/plain": [
       "<IPython.core.display.HTML object>"
      ]
     },
     "metadata": {},
     "output_type": "display_data"
    },
    {
     "name": "stdout",
     "output_type": "stream",
     "text": [
      "Epoch: 1, Train Loss: 2.2840, Val Loss: 2.2572, Train Acc: 0.1515, Val Acc: 0.2877\n",
      "Epoch: 2, Train Loss: 2.1828, Val Loss: 2.0495, Train Acc: 0.3538, Val Acc: 0.4525\n",
      "Epoch: 3, Train Loss: 1.6919, Val Loss: 1.2962, Train Acc: 0.5390, Val Acc: 0.5961\n",
      "Epoch: 4, Train Loss: 1.2130, Val Loss: 1.1360, Train Acc: 0.6049, Val Acc: 0.6178\n",
      "Epoch: 5, Train Loss: 1.0844, Val Loss: 1.0317, Train Acc: 0.6255, Val Acc: 0.6380\n"
     ]
    },
    {
     "data": {
      "text/html": [],
      "text/plain": [
       "<IPython.core.display.HTML object>"
      ]
     },
     "metadata": {},
     "output_type": "display_data"
    },
    {
     "data": {
      "text/html": [
       "<br>    <style><br>        .wandb-row {<br>            display: flex;<br>            flex-direction: row;<br>            flex-wrap: wrap;<br>            justify-content: flex-start;<br>            width: 100%;<br>        }<br>        .wandb-col {<br>            display: flex;<br>            flex-direction: column;<br>            flex-basis: 100%;<br>            flex: 1;<br>            padding: 10px;<br>        }<br>    </style><br><div class=\"wandb-row\"><div class=\"wandb-col\"><h3>Run history:</h3><br/><table class=\"wandb\"><tr><td>epoch</td><td>▁▃▅▆█</td></tr><tr><td>train_acc</td><td>▁▄▇██</td></tr><tr><td>train_loss</td><td>█▇▅▂▁</td></tr><tr><td>val_acc</td><td>▁▄▇██</td></tr><tr><td>val_loss</td><td>█▇▃▂▁</td></tr></table><br/></div><div class=\"wandb-col\"><h3>Run summary:</h3><br/><table class=\"wandb\"><tr><td>epoch</td><td>5</td></tr><tr><td>train_acc</td><td>0.62546</td></tr><tr><td>train_loss</td><td>1.0844</td></tr><tr><td>val_acc</td><td>0.638</td></tr><tr><td>val_loss</td><td>1.03167</td></tr></table><br/></div></div>"
      ],
      "text/plain": [
       "<IPython.core.display.HTML object>"
      ]
     },
     "metadata": {},
     "output_type": "display_data"
    },
    {
     "data": {
      "text/html": [
       " View run <strong style=\"color:#cdcd00\">daily-sweep-8</strong> at: <a href='https://wandb.ai/jaron-matzinger/delearn-pw05/runs/6abaz4t9' target=\"_blank\">https://wandb.ai/jaron-matzinger/delearn-pw05/runs/6abaz4t9</a><br> View project at: <a href='https://wandb.ai/jaron-matzinger/delearn-pw05' target=\"_blank\">https://wandb.ai/jaron-matzinger/delearn-pw05</a><br>Synced 5 W&B file(s), 0 media file(s), 0 artifact file(s) and 0 other file(s)"
      ],
      "text/plain": [
       "<IPython.core.display.HTML object>"
      ]
     },
     "metadata": {},
     "output_type": "display_data"
    },
    {
     "data": {
      "text/html": [
       "Find logs at: <code>./wandb/run-20250326_141018-6abaz4t9/logs</code>"
      ],
      "text/plain": [
       "<IPython.core.display.HTML object>"
      ]
     },
     "metadata": {},
     "output_type": "display_data"
    },
    {
     "name": "stderr",
     "output_type": "stream",
     "text": [
      "\u001b[34m\u001b[1mwandb\u001b[0m: Agent Starting Run: jkw6f2i3 with config:\n",
      "\u001b[34m\u001b[1mwandb\u001b[0m: \tbatch_size: 64\n",
      "\u001b[34m\u001b[1mwandb\u001b[0m: \tgamma: 0.3\n",
      "\u001b[34m\u001b[1mwandb\u001b[0m: \tlr: 0.001\n",
      "\u001b[34m\u001b[1mwandb\u001b[0m: \tn_epochs: 5\n",
      "\u001b[34m\u001b[1mwandb\u001b[0m: \toptimizer: SGD\n",
      "\u001b[34m\u001b[1mwandb\u001b[0m: \tstep_size: 2\n"
     ]
    },
    {
     "data": {
      "text/html": [
       "Tracking run with wandb version 0.19.8"
      ],
      "text/plain": [
       "<IPython.core.display.HTML object>"
      ]
     },
     "metadata": {},
     "output_type": "display_data"
    },
    {
     "data": {
      "text/html": [
       "Run data is saved locally in <code>/Users/jaron/workspace/mse_delearn/05_exercises/wandb/run-20250326_141105-jkw6f2i3</code>"
      ],
      "text/plain": [
       "<IPython.core.display.HTML object>"
      ]
     },
     "metadata": {},
     "output_type": "display_data"
    },
    {
     "data": {
      "text/html": [
       "Syncing run <strong><a href='https://wandb.ai/jaron-matzinger/delearn-pw05/runs/jkw6f2i3' target=\"_blank\">easy-sweep-9</a></strong> to <a href='https://wandb.ai/jaron-matzinger/delearn-pw05' target=\"_blank\">Weights & Biases</a> (<a href='https://wandb.me/developer-guide' target=\"_blank\">docs</a>)<br>Sweep page: <a href='https://wandb.ai/jaron-matzinger/delearn-pw05/sweeps/6h4vy5i4' target=\"_blank\">https://wandb.ai/jaron-matzinger/delearn-pw05/sweeps/6h4vy5i4</a>"
      ],
      "text/plain": [
       "<IPython.core.display.HTML object>"
      ]
     },
     "metadata": {},
     "output_type": "display_data"
    },
    {
     "data": {
      "text/html": [
       " View project at <a href='https://wandb.ai/jaron-matzinger/delearn-pw05' target=\"_blank\">https://wandb.ai/jaron-matzinger/delearn-pw05</a>"
      ],
      "text/plain": [
       "<IPython.core.display.HTML object>"
      ]
     },
     "metadata": {},
     "output_type": "display_data"
    },
    {
     "data": {
      "text/html": [
       " View sweep at <a href='https://wandb.ai/jaron-matzinger/delearn-pw05/sweeps/6h4vy5i4' target=\"_blank\">https://wandb.ai/jaron-matzinger/delearn-pw05/sweeps/6h4vy5i4</a>"
      ],
      "text/plain": [
       "<IPython.core.display.HTML object>"
      ]
     },
     "metadata": {},
     "output_type": "display_data"
    },
    {
     "data": {
      "text/html": [
       " View run at <a href='https://wandb.ai/jaron-matzinger/delearn-pw05/runs/jkw6f2i3' target=\"_blank\">https://wandb.ai/jaron-matzinger/delearn-pw05/runs/jkw6f2i3</a>"
      ],
      "text/plain": [
       "<IPython.core.display.HTML object>"
      ]
     },
     "metadata": {},
     "output_type": "display_data"
    },
    {
     "name": "stdout",
     "output_type": "stream",
     "text": [
      "Epoch: 1, Train Loss: 2.2745, Val Loss: 2.2408, Train Acc: 0.1513, Val Acc: 0.2598\n",
      "Epoch: 2, Train Loss: 2.1471, Val Loss: 1.9760, Train Acc: 0.4092, Val Acc: 0.5564\n",
      "Epoch: 3, Train Loss: 1.8713, Val Loss: 1.7500, Train Acc: 0.5834, Val Acc: 0.5874\n",
      "Epoch: 4, Train Loss: 1.6085, Val Loss: 1.4649, Train Acc: 0.5841, Val Acc: 0.6063\n",
      "Epoch: 5, Train Loss: 1.4271, Val Loss: 1.3864, Train Acc: 0.6030, Val Acc: 0.6084\n"
     ]
    },
    {
     "data": {
      "text/html": [],
      "text/plain": [
       "<IPython.core.display.HTML object>"
      ]
     },
     "metadata": {},
     "output_type": "display_data"
    },
    {
     "data": {
      "text/html": [
       "<br>    <style><br>        .wandb-row {<br>            display: flex;<br>            flex-direction: row;<br>            flex-wrap: wrap;<br>            justify-content: flex-start;<br>            width: 100%;<br>        }<br>        .wandb-col {<br>            display: flex;<br>            flex-direction: column;<br>            flex-basis: 100%;<br>            flex: 1;<br>            padding: 10px;<br>        }<br>    </style><br><div class=\"wandb-row\"><div class=\"wandb-col\"><h3>Run history:</h3><br/><table class=\"wandb\"><tr><td>epoch</td><td>▁▃▅▆█</td></tr><tr><td>train_acc</td><td>▁▅███</td></tr><tr><td>train_loss</td><td>█▇▅▂▁</td></tr><tr><td>val_acc</td><td>▁▇███</td></tr><tr><td>val_loss</td><td>█▆▄▂▁</td></tr></table><br/></div><div class=\"wandb-col\"><h3>Run summary:</h3><br/><table class=\"wandb\"><tr><td>epoch</td><td>5</td></tr><tr><td>train_acc</td><td>0.60298</td></tr><tr><td>train_loss</td><td>1.42711</td></tr><tr><td>val_acc</td><td>0.6084</td></tr><tr><td>val_loss</td><td>1.38642</td></tr></table><br/></div></div>"
      ],
      "text/plain": [
       "<IPython.core.display.HTML object>"
      ]
     },
     "metadata": {},
     "output_type": "display_data"
    },
    {
     "data": {
      "text/html": [
       " View run <strong style=\"color:#cdcd00\">easy-sweep-9</strong> at: <a href='https://wandb.ai/jaron-matzinger/delearn-pw05/runs/jkw6f2i3' target=\"_blank\">https://wandb.ai/jaron-matzinger/delearn-pw05/runs/jkw6f2i3</a><br> View project at: <a href='https://wandb.ai/jaron-matzinger/delearn-pw05' target=\"_blank\">https://wandb.ai/jaron-matzinger/delearn-pw05</a><br>Synced 5 W&B file(s), 0 media file(s), 0 artifact file(s) and 0 other file(s)"
      ],
      "text/plain": [
       "<IPython.core.display.HTML object>"
      ]
     },
     "metadata": {},
     "output_type": "display_data"
    },
    {
     "data": {
      "text/html": [
       "Find logs at: <code>./wandb/run-20250326_141105-jkw6f2i3/logs</code>"
      ],
      "text/plain": [
       "<IPython.core.display.HTML object>"
      ]
     },
     "metadata": {},
     "output_type": "display_data"
    },
    {
     "name": "stderr",
     "output_type": "stream",
     "text": [
      "\u001b[34m\u001b[1mwandb\u001b[0m: Agent Starting Run: xlqw7w60 with config:\n",
      "\u001b[34m\u001b[1mwandb\u001b[0m: \tbatch_size: 64\n",
      "\u001b[34m\u001b[1mwandb\u001b[0m: \tgamma: 0.3\n",
      "\u001b[34m\u001b[1mwandb\u001b[0m: \tlr: 0.001\n",
      "\u001b[34m\u001b[1mwandb\u001b[0m: \tn_epochs: 5\n",
      "\u001b[34m\u001b[1mwandb\u001b[0m: \toptimizer: SGD\n",
      "\u001b[34m\u001b[1mwandb\u001b[0m: \tstep_size: 2\n"
     ]
    },
    {
     "data": {
      "text/html": [
       "Tracking run with wandb version 0.19.8"
      ],
      "text/plain": [
       "<IPython.core.display.HTML object>"
      ]
     },
     "metadata": {},
     "output_type": "display_data"
    },
    {
     "data": {
      "text/html": [
       "Run data is saved locally in <code>/Users/jaron/workspace/mse_delearn/05_exercises/wandb/run-20250326_141152-xlqw7w60</code>"
      ],
      "text/plain": [
       "<IPython.core.display.HTML object>"
      ]
     },
     "metadata": {},
     "output_type": "display_data"
    },
    {
     "data": {
      "text/html": [
       "Syncing run <strong><a href='https://wandb.ai/jaron-matzinger/delearn-pw05/runs/xlqw7w60' target=\"_blank\">pious-sweep-10</a></strong> to <a href='https://wandb.ai/jaron-matzinger/delearn-pw05' target=\"_blank\">Weights & Biases</a> (<a href='https://wandb.me/developer-guide' target=\"_blank\">docs</a>)<br>Sweep page: <a href='https://wandb.ai/jaron-matzinger/delearn-pw05/sweeps/6h4vy5i4' target=\"_blank\">https://wandb.ai/jaron-matzinger/delearn-pw05/sweeps/6h4vy5i4</a>"
      ],
      "text/plain": [
       "<IPython.core.display.HTML object>"
      ]
     },
     "metadata": {},
     "output_type": "display_data"
    },
    {
     "data": {
      "text/html": [
       " View project at <a href='https://wandb.ai/jaron-matzinger/delearn-pw05' target=\"_blank\">https://wandb.ai/jaron-matzinger/delearn-pw05</a>"
      ],
      "text/plain": [
       "<IPython.core.display.HTML object>"
      ]
     },
     "metadata": {},
     "output_type": "display_data"
    },
    {
     "data": {
      "text/html": [
       " View sweep at <a href='https://wandb.ai/jaron-matzinger/delearn-pw05/sweeps/6h4vy5i4' target=\"_blank\">https://wandb.ai/jaron-matzinger/delearn-pw05/sweeps/6h4vy5i4</a>"
      ],
      "text/plain": [
       "<IPython.core.display.HTML object>"
      ]
     },
     "metadata": {},
     "output_type": "display_data"
    },
    {
     "data": {
      "text/html": [
       " View run at <a href='https://wandb.ai/jaron-matzinger/delearn-pw05/runs/xlqw7w60' target=\"_blank\">https://wandb.ai/jaron-matzinger/delearn-pw05/runs/xlqw7w60</a>"
      ],
      "text/plain": [
       "<IPython.core.display.HTML object>"
      ]
     },
     "metadata": {},
     "output_type": "display_data"
    },
    {
     "name": "stdout",
     "output_type": "stream",
     "text": [
      "Epoch: 1, Train Loss: 2.2892, Val Loss: 2.2696, Train Acc: 0.1069, Val Acc: 0.1646\n",
      "Epoch: 2, Train Loss: 2.2230, Val Loss: 2.1444, Train Acc: 0.2575, Val Acc: 0.4090\n",
      "Epoch: 3, Train Loss: 2.0958, Val Loss: 2.0383, Train Acc: 0.4434, Val Acc: 0.4966\n",
      "Epoch: 4, Train Loss: 1.9550, Val Loss: 1.8589, Train Acc: 0.5099, Val Acc: 0.5329\n",
      "Epoch: 5, Train Loss: 1.8244, Val Loss: 1.7898, Train Acc: 0.5326, Val Acc: 0.5396\n"
     ]
    },
    {
     "data": {
      "text/html": [],
      "text/plain": [
       "<IPython.core.display.HTML object>"
      ]
     },
     "metadata": {},
     "output_type": "display_data"
    },
    {
     "data": {
      "text/html": [
       "<br>    <style><br>        .wandb-row {<br>            display: flex;<br>            flex-direction: row;<br>            flex-wrap: wrap;<br>            justify-content: flex-start;<br>            width: 100%;<br>        }<br>        .wandb-col {<br>            display: flex;<br>            flex-direction: column;<br>            flex-basis: 100%;<br>            flex: 1;<br>            padding: 10px;<br>        }<br>    </style><br><div class=\"wandb-row\"><div class=\"wandb-col\"><h3>Run history:</h3><br/><table class=\"wandb\"><tr><td>epoch</td><td>▁▃▅▆█</td></tr><tr><td>train_acc</td><td>▁▃▇██</td></tr><tr><td>train_loss</td><td>█▇▅▃▁</td></tr><tr><td>val_acc</td><td>▁▆▇██</td></tr><tr><td>val_loss</td><td>█▆▅▂▁</td></tr></table><br/></div><div class=\"wandb-col\"><h3>Run summary:</h3><br/><table class=\"wandb\"><tr><td>epoch</td><td>5</td></tr><tr><td>train_acc</td><td>0.53258</td></tr><tr><td>train_loss</td><td>1.82441</td></tr><tr><td>val_acc</td><td>0.5396</td></tr><tr><td>val_loss</td><td>1.78978</td></tr></table><br/></div></div>"
      ],
      "text/plain": [
       "<IPython.core.display.HTML object>"
      ]
     },
     "metadata": {},
     "output_type": "display_data"
    },
    {
     "data": {
      "text/html": [
       " View run <strong style=\"color:#cdcd00\">pious-sweep-10</strong> at: <a href='https://wandb.ai/jaron-matzinger/delearn-pw05/runs/xlqw7w60' target=\"_blank\">https://wandb.ai/jaron-matzinger/delearn-pw05/runs/xlqw7w60</a><br> View project at: <a href='https://wandb.ai/jaron-matzinger/delearn-pw05' target=\"_blank\">https://wandb.ai/jaron-matzinger/delearn-pw05</a><br>Synced 5 W&B file(s), 0 media file(s), 0 artifact file(s) and 0 other file(s)"
      ],
      "text/plain": [
       "<IPython.core.display.HTML object>"
      ]
     },
     "metadata": {},
     "output_type": "display_data"
    },
    {
     "data": {
      "text/html": [
       "Find logs at: <code>./wandb/run-20250326_141152-xlqw7w60/logs</code>"
      ],
      "text/plain": [
       "<IPython.core.display.HTML object>"
      ]
     },
     "metadata": {},
     "output_type": "display_data"
    },
    {
     "name": "stderr",
     "output_type": "stream",
     "text": [
      "\u001b[34m\u001b[1mwandb\u001b[0m: Agent Starting Run: y1q3q0z8 with config:\n",
      "\u001b[34m\u001b[1mwandb\u001b[0m: \tbatch_size: 64\n",
      "\u001b[34m\u001b[1mwandb\u001b[0m: \tgamma: 0.2\n",
      "\u001b[34m\u001b[1mwandb\u001b[0m: \tlr: 0.001\n",
      "\u001b[34m\u001b[1mwandb\u001b[0m: \tn_epochs: 5\n",
      "\u001b[34m\u001b[1mwandb\u001b[0m: \toptimizer: SGD\n",
      "\u001b[34m\u001b[1mwandb\u001b[0m: \tstep_size: 2\n"
     ]
    },
    {
     "data": {
      "text/html": [
       "Tracking run with wandb version 0.19.8"
      ],
      "text/plain": [
       "<IPython.core.display.HTML object>"
      ]
     },
     "metadata": {},
     "output_type": "display_data"
    },
    {
     "data": {
      "text/html": [
       "Run data is saved locally in <code>/Users/jaron/workspace/mse_delearn/05_exercises/wandb/run-20250326_141239-y1q3q0z8</code>"
      ],
      "text/plain": [
       "<IPython.core.display.HTML object>"
      ]
     },
     "metadata": {},
     "output_type": "display_data"
    },
    {
     "data": {
      "text/html": [
       "Syncing run <strong><a href='https://wandb.ai/jaron-matzinger/delearn-pw05/runs/y1q3q0z8' target=\"_blank\">pretty-sweep-11</a></strong> to <a href='https://wandb.ai/jaron-matzinger/delearn-pw05' target=\"_blank\">Weights & Biases</a> (<a href='https://wandb.me/developer-guide' target=\"_blank\">docs</a>)<br>Sweep page: <a href='https://wandb.ai/jaron-matzinger/delearn-pw05/sweeps/6h4vy5i4' target=\"_blank\">https://wandb.ai/jaron-matzinger/delearn-pw05/sweeps/6h4vy5i4</a>"
      ],
      "text/plain": [
       "<IPython.core.display.HTML object>"
      ]
     },
     "metadata": {},
     "output_type": "display_data"
    },
    {
     "data": {
      "text/html": [
       " View project at <a href='https://wandb.ai/jaron-matzinger/delearn-pw05' target=\"_blank\">https://wandb.ai/jaron-matzinger/delearn-pw05</a>"
      ],
      "text/plain": [
       "<IPython.core.display.HTML object>"
      ]
     },
     "metadata": {},
     "output_type": "display_data"
    },
    {
     "data": {
      "text/html": [
       " View sweep at <a href='https://wandb.ai/jaron-matzinger/delearn-pw05/sweeps/6h4vy5i4' target=\"_blank\">https://wandb.ai/jaron-matzinger/delearn-pw05/sweeps/6h4vy5i4</a>"
      ],
      "text/plain": [
       "<IPython.core.display.HTML object>"
      ]
     },
     "metadata": {},
     "output_type": "display_data"
    },
    {
     "data": {
      "text/html": [
       " View run at <a href='https://wandb.ai/jaron-matzinger/delearn-pw05/runs/y1q3q0z8' target=\"_blank\">https://wandb.ai/jaron-matzinger/delearn-pw05/runs/y1q3q0z8</a>"
      ],
      "text/plain": [
       "<IPython.core.display.HTML object>"
      ]
     },
     "metadata": {},
     "output_type": "display_data"
    },
    {
     "name": "stdout",
     "output_type": "stream",
     "text": [
      "Epoch: 1, Train Loss: 2.2866, Val Loss: 2.2660, Train Acc: 0.1003, Val Acc: 0.1024\n",
      "Epoch: 2, Train Loss: 2.2196, Val Loss: 2.1425, Train Acc: 0.2628, Val Acc: 0.3683\n",
      "Epoch: 3, Train Loss: 2.1138, Val Loss: 2.0824, Train Acc: 0.3832, Val Acc: 0.4102\n",
      "Epoch: 4, Train Loss: 2.0416, Val Loss: 1.9968, Train Acc: 0.4349, Val Acc: 0.4640\n",
      "Epoch: 5, Train Loss: 1.9858, Val Loss: 1.9759, Train Acc: 0.4681, Val Acc: 0.4744\n"
     ]
    },
    {
     "data": {
      "text/html": [],
      "text/plain": [
       "<IPython.core.display.HTML object>"
      ]
     },
     "metadata": {},
     "output_type": "display_data"
    },
    {
     "data": {
      "text/html": [
       "<br>    <style><br>        .wandb-row {<br>            display: flex;<br>            flex-direction: row;<br>            flex-wrap: wrap;<br>            justify-content: flex-start;<br>            width: 100%;<br>        }<br>        .wandb-col {<br>            display: flex;<br>            flex-direction: column;<br>            flex-basis: 100%;<br>            flex: 1;<br>            padding: 10px;<br>        }<br>    </style><br><div class=\"wandb-row\"><div class=\"wandb-col\"><h3>Run history:</h3><br/><table class=\"wandb\"><tr><td>epoch</td><td>▁▃▅▆█</td></tr><tr><td>train_acc</td><td>▁▄▆▇█</td></tr><tr><td>train_loss</td><td>█▆▄▂▁</td></tr><tr><td>val_acc</td><td>▁▆▇██</td></tr><tr><td>val_loss</td><td>█▅▄▂▁</td></tr></table><br/></div><div class=\"wandb-col\"><h3>Run summary:</h3><br/><table class=\"wandb\"><tr><td>epoch</td><td>5</td></tr><tr><td>train_acc</td><td>0.46814</td></tr><tr><td>train_loss</td><td>1.98583</td></tr><tr><td>val_acc</td><td>0.4744</td></tr><tr><td>val_loss</td><td>1.97588</td></tr></table><br/></div></div>"
      ],
      "text/plain": [
       "<IPython.core.display.HTML object>"
      ]
     },
     "metadata": {},
     "output_type": "display_data"
    },
    {
     "data": {
      "text/html": [
       " View run <strong style=\"color:#cdcd00\">pretty-sweep-11</strong> at: <a href='https://wandb.ai/jaron-matzinger/delearn-pw05/runs/y1q3q0z8' target=\"_blank\">https://wandb.ai/jaron-matzinger/delearn-pw05/runs/y1q3q0z8</a><br> View project at: <a href='https://wandb.ai/jaron-matzinger/delearn-pw05' target=\"_blank\">https://wandb.ai/jaron-matzinger/delearn-pw05</a><br>Synced 5 W&B file(s), 0 media file(s), 0 artifact file(s) and 0 other file(s)"
      ],
      "text/plain": [
       "<IPython.core.display.HTML object>"
      ]
     },
     "metadata": {},
     "output_type": "display_data"
    },
    {
     "data": {
      "text/html": [
       "Find logs at: <code>./wandb/run-20250326_141239-y1q3q0z8/logs</code>"
      ],
      "text/plain": [
       "<IPython.core.display.HTML object>"
      ]
     },
     "metadata": {},
     "output_type": "display_data"
    },
    {
     "name": "stderr",
     "output_type": "stream",
     "text": [
      "\u001b[34m\u001b[1mwandb\u001b[0m: Agent Starting Run: a5mso2xw with config:\n",
      "\u001b[34m\u001b[1mwandb\u001b[0m: \tbatch_size: 64\n",
      "\u001b[34m\u001b[1mwandb\u001b[0m: \tgamma: 0.3\n",
      "\u001b[34m\u001b[1mwandb\u001b[0m: \tlr: 0.001\n",
      "\u001b[34m\u001b[1mwandb\u001b[0m: \tn_epochs: 5\n",
      "\u001b[34m\u001b[1mwandb\u001b[0m: \toptimizer: SGD\n",
      "\u001b[34m\u001b[1mwandb\u001b[0m: \tstep_size: 3\n"
     ]
    },
    {
     "data": {
      "text/html": [
       "Tracking run with wandb version 0.19.8"
      ],
      "text/plain": [
       "<IPython.core.display.HTML object>"
      ]
     },
     "metadata": {},
     "output_type": "display_data"
    },
    {
     "data": {
      "text/html": [
       "Run data is saved locally in <code>/Users/jaron/workspace/mse_delearn/05_exercises/wandb/run-20250326_141325-a5mso2xw</code>"
      ],
      "text/plain": [
       "<IPython.core.display.HTML object>"
      ]
     },
     "metadata": {},
     "output_type": "display_data"
    },
    {
     "data": {
      "text/html": [
       "Syncing run <strong><a href='https://wandb.ai/jaron-matzinger/delearn-pw05/runs/a5mso2xw' target=\"_blank\">magic-sweep-12</a></strong> to <a href='https://wandb.ai/jaron-matzinger/delearn-pw05' target=\"_blank\">Weights & Biases</a> (<a href='https://wandb.me/developer-guide' target=\"_blank\">docs</a>)<br>Sweep page: <a href='https://wandb.ai/jaron-matzinger/delearn-pw05/sweeps/6h4vy5i4' target=\"_blank\">https://wandb.ai/jaron-matzinger/delearn-pw05/sweeps/6h4vy5i4</a>"
      ],
      "text/plain": [
       "<IPython.core.display.HTML object>"
      ]
     },
     "metadata": {},
     "output_type": "display_data"
    },
    {
     "data": {
      "text/html": [
       " View project at <a href='https://wandb.ai/jaron-matzinger/delearn-pw05' target=\"_blank\">https://wandb.ai/jaron-matzinger/delearn-pw05</a>"
      ],
      "text/plain": [
       "<IPython.core.display.HTML object>"
      ]
     },
     "metadata": {},
     "output_type": "display_data"
    },
    {
     "data": {
      "text/html": [
       " View sweep at <a href='https://wandb.ai/jaron-matzinger/delearn-pw05/sweeps/6h4vy5i4' target=\"_blank\">https://wandb.ai/jaron-matzinger/delearn-pw05/sweeps/6h4vy5i4</a>"
      ],
      "text/plain": [
       "<IPython.core.display.HTML object>"
      ]
     },
     "metadata": {},
     "output_type": "display_data"
    },
    {
     "data": {
      "text/html": [
       " View run at <a href='https://wandb.ai/jaron-matzinger/delearn-pw05/runs/a5mso2xw' target=\"_blank\">https://wandb.ai/jaron-matzinger/delearn-pw05/runs/a5mso2xw</a>"
      ],
      "text/plain": [
       "<IPython.core.display.HTML object>"
      ]
     },
     "metadata": {},
     "output_type": "display_data"
    },
    {
     "name": "stdout",
     "output_type": "stream",
     "text": [
      "Epoch: 1, Train Loss: 2.2615, Val Loss: 2.2013, Train Acc: 0.1936, Val Acc: 0.2906\n",
      "Epoch: 2, Train Loss: 1.9991, Val Loss: 1.6563, Train Acc: 0.4091, Val Acc: 0.6001\n",
      "Epoch: 3, Train Loss: 1.2826, Val Loss: 1.0353, Train Acc: 0.6104, Val Acc: 0.6291\n",
      "Epoch: 4, Train Loss: 0.9975, Val Loss: 0.9566, Train Acc: 0.6423, Val Acc: 0.6574\n",
      "Epoch: 5, Train Loss: 0.9379, Val Loss: 0.9057, Train Acc: 0.6586, Val Acc: 0.6661\n"
     ]
    },
    {
     "data": {
      "text/html": [],
      "text/plain": [
       "<IPython.core.display.HTML object>"
      ]
     },
     "metadata": {},
     "output_type": "display_data"
    },
    {
     "data": {
      "text/html": [
       "<br>    <style><br>        .wandb-row {<br>            display: flex;<br>            flex-direction: row;<br>            flex-wrap: wrap;<br>            justify-content: flex-start;<br>            width: 100%;<br>        }<br>        .wandb-col {<br>            display: flex;<br>            flex-direction: column;<br>            flex-basis: 100%;<br>            flex: 1;<br>            padding: 10px;<br>        }<br>    </style><br><div class=\"wandb-row\"><div class=\"wandb-col\"><h3>Run history:</h3><br/><table class=\"wandb\"><tr><td>epoch</td><td>▁▃▅▆█</td></tr><tr><td>train_acc</td><td>▁▄▇██</td></tr><tr><td>train_loss</td><td>█▇▃▁▁</td></tr><tr><td>val_acc</td><td>▁▇▇██</td></tr><tr><td>val_loss</td><td>█▅▂▁▁</td></tr></table><br/></div><div class=\"wandb-col\"><h3>Run summary:</h3><br/><table class=\"wandb\"><tr><td>epoch</td><td>5</td></tr><tr><td>train_acc</td><td>0.6586</td></tr><tr><td>train_loss</td><td>0.93786</td></tr><tr><td>val_acc</td><td>0.6661</td></tr><tr><td>val_loss</td><td>0.90569</td></tr></table><br/></div></div>"
      ],
      "text/plain": [
       "<IPython.core.display.HTML object>"
      ]
     },
     "metadata": {},
     "output_type": "display_data"
    },
    {
     "data": {
      "text/html": [
       " View run <strong style=\"color:#cdcd00\">magic-sweep-12</strong> at: <a href='https://wandb.ai/jaron-matzinger/delearn-pw05/runs/a5mso2xw' target=\"_blank\">https://wandb.ai/jaron-matzinger/delearn-pw05/runs/a5mso2xw</a><br> View project at: <a href='https://wandb.ai/jaron-matzinger/delearn-pw05' target=\"_blank\">https://wandb.ai/jaron-matzinger/delearn-pw05</a><br>Synced 5 W&B file(s), 0 media file(s), 0 artifact file(s) and 0 other file(s)"
      ],
      "text/plain": [
       "<IPython.core.display.HTML object>"
      ]
     },
     "metadata": {},
     "output_type": "display_data"
    },
    {
     "data": {
      "text/html": [
       "Find logs at: <code>./wandb/run-20250326_141325-a5mso2xw/logs</code>"
      ],
      "text/plain": [
       "<IPython.core.display.HTML object>"
      ]
     },
     "metadata": {},
     "output_type": "display_data"
    },
    {
     "name": "stderr",
     "output_type": "stream",
     "text": [
      "\u001b[34m\u001b[1mwandb\u001b[0m: Agent Starting Run: a7h8pf7a with config:\n",
      "\u001b[34m\u001b[1mwandb\u001b[0m: \tbatch_size: 64\n",
      "\u001b[34m\u001b[1mwandb\u001b[0m: \tgamma: 0.1\n",
      "\u001b[34m\u001b[1mwandb\u001b[0m: \tlr: 0.001\n",
      "\u001b[34m\u001b[1mwandb\u001b[0m: \tn_epochs: 5\n",
      "\u001b[34m\u001b[1mwandb\u001b[0m: \toptimizer: SGD\n",
      "\u001b[34m\u001b[1mwandb\u001b[0m: \tstep_size: 1\n"
     ]
    },
    {
     "data": {
      "text/html": [
       "Tracking run with wandb version 0.19.8"
      ],
      "text/plain": [
       "<IPython.core.display.HTML object>"
      ]
     },
     "metadata": {},
     "output_type": "display_data"
    },
    {
     "data": {
      "text/html": [
       "Run data is saved locally in <code>/Users/jaron/workspace/mse_delearn/05_exercises/wandb/run-20250326_141413-a7h8pf7a</code>"
      ],
      "text/plain": [
       "<IPython.core.display.HTML object>"
      ]
     },
     "metadata": {},
     "output_type": "display_data"
    },
    {
     "data": {
      "text/html": [
       "Syncing run <strong><a href='https://wandb.ai/jaron-matzinger/delearn-pw05/runs/a7h8pf7a' target=\"_blank\">fiery-sweep-13</a></strong> to <a href='https://wandb.ai/jaron-matzinger/delearn-pw05' target=\"_blank\">Weights & Biases</a> (<a href='https://wandb.me/developer-guide' target=\"_blank\">docs</a>)<br>Sweep page: <a href='https://wandb.ai/jaron-matzinger/delearn-pw05/sweeps/6h4vy5i4' target=\"_blank\">https://wandb.ai/jaron-matzinger/delearn-pw05/sweeps/6h4vy5i4</a>"
      ],
      "text/plain": [
       "<IPython.core.display.HTML object>"
      ]
     },
     "metadata": {},
     "output_type": "display_data"
    },
    {
     "data": {
      "text/html": [
       " View project at <a href='https://wandb.ai/jaron-matzinger/delearn-pw05' target=\"_blank\">https://wandb.ai/jaron-matzinger/delearn-pw05</a>"
      ],
      "text/plain": [
       "<IPython.core.display.HTML object>"
      ]
     },
     "metadata": {},
     "output_type": "display_data"
    },
    {
     "data": {
      "text/html": [
       " View sweep at <a href='https://wandb.ai/jaron-matzinger/delearn-pw05/sweeps/6h4vy5i4' target=\"_blank\">https://wandb.ai/jaron-matzinger/delearn-pw05/sweeps/6h4vy5i4</a>"
      ],
      "text/plain": [
       "<IPython.core.display.HTML object>"
      ]
     },
     "metadata": {},
     "output_type": "display_data"
    },
    {
     "data": {
      "text/html": [
       " View run at <a href='https://wandb.ai/jaron-matzinger/delearn-pw05/runs/a7h8pf7a' target=\"_blank\">https://wandb.ai/jaron-matzinger/delearn-pw05/runs/a7h8pf7a</a>"
      ],
      "text/plain": [
       "<IPython.core.display.HTML object>"
      ]
     },
     "metadata": {},
     "output_type": "display_data"
    },
    {
     "name": "stdout",
     "output_type": "stream",
     "text": [
      "Epoch: 1, Train Loss: 2.2653, Val Loss: 2.2093, Train Acc: 0.2175, Val Acc: 0.3690\n",
      "Epoch: 2, Train Loss: 2.1992, Val Loss: 2.1898, Train Acc: 0.3788, Val Acc: 0.3844\n",
      "Epoch: 3, Train Loss: 2.1881, Val Loss: 2.1877, Train Acc: 0.3877, Val Acc: 0.3853\n",
      "Epoch: 4, Train Loss: 2.1869, Val Loss: 2.1875, Train Acc: 0.3881, Val Acc: 0.3858\n",
      "Epoch: 5, Train Loss: 2.1868, Val Loss: 2.1875, Train Acc: 0.3882, Val Acc: 0.3858\n"
     ]
    },
    {
     "data": {
      "text/html": [],
      "text/plain": [
       "<IPython.core.display.HTML object>"
      ]
     },
     "metadata": {},
     "output_type": "display_data"
    },
    {
     "data": {
      "text/html": [
       "<br>    <style><br>        .wandb-row {<br>            display: flex;<br>            flex-direction: row;<br>            flex-wrap: wrap;<br>            justify-content: flex-start;<br>            width: 100%;<br>        }<br>        .wandb-col {<br>            display: flex;<br>            flex-direction: column;<br>            flex-basis: 100%;<br>            flex: 1;<br>            padding: 10px;<br>        }<br>    </style><br><div class=\"wandb-row\"><div class=\"wandb-col\"><h3>Run history:</h3><br/><table class=\"wandb\"><tr><td>epoch</td><td>▁▃▅▆█</td></tr><tr><td>train_acc</td><td>▁████</td></tr><tr><td>train_loss</td><td>█▂▁▁▁</td></tr><tr><td>val_acc</td><td>▁▇███</td></tr><tr><td>val_loss</td><td>█▂▁▁▁</td></tr></table><br/></div><div class=\"wandb-col\"><h3>Run summary:</h3><br/><table class=\"wandb\"><tr><td>epoch</td><td>5</td></tr><tr><td>train_acc</td><td>0.38818</td></tr><tr><td>train_loss</td><td>2.18676</td></tr><tr><td>val_acc</td><td>0.3858</td></tr><tr><td>val_loss</td><td>2.18746</td></tr></table><br/></div></div>"
      ],
      "text/plain": [
       "<IPython.core.display.HTML object>"
      ]
     },
     "metadata": {},
     "output_type": "display_data"
    },
    {
     "data": {
      "text/html": [
       " View run <strong style=\"color:#cdcd00\">fiery-sweep-13</strong> at: <a href='https://wandb.ai/jaron-matzinger/delearn-pw05/runs/a7h8pf7a' target=\"_blank\">https://wandb.ai/jaron-matzinger/delearn-pw05/runs/a7h8pf7a</a><br> View project at: <a href='https://wandb.ai/jaron-matzinger/delearn-pw05' target=\"_blank\">https://wandb.ai/jaron-matzinger/delearn-pw05</a><br>Synced 5 W&B file(s), 0 media file(s), 0 artifact file(s) and 0 other file(s)"
      ],
      "text/plain": [
       "<IPython.core.display.HTML object>"
      ]
     },
     "metadata": {},
     "output_type": "display_data"
    },
    {
     "data": {
      "text/html": [
       "Find logs at: <code>./wandb/run-20250326_141413-a7h8pf7a/logs</code>"
      ],
      "text/plain": [
       "<IPython.core.display.HTML object>"
      ]
     },
     "metadata": {},
     "output_type": "display_data"
    },
    {
     "name": "stderr",
     "output_type": "stream",
     "text": [
      "\u001b[34m\u001b[1mwandb\u001b[0m: Agent Starting Run: gr32ojnb with config:\n",
      "\u001b[34m\u001b[1mwandb\u001b[0m: \tbatch_size: 64\n",
      "\u001b[34m\u001b[1mwandb\u001b[0m: \tgamma: 0.2\n",
      "\u001b[34m\u001b[1mwandb\u001b[0m: \tlr: 0.001\n",
      "\u001b[34m\u001b[1mwandb\u001b[0m: \tn_epochs: 5\n",
      "\u001b[34m\u001b[1mwandb\u001b[0m: \toptimizer: SGD\n",
      "\u001b[34m\u001b[1mwandb\u001b[0m: \tstep_size: 1\n"
     ]
    },
    {
     "data": {
      "text/html": [
       "Tracking run with wandb version 0.19.8"
      ],
      "text/plain": [
       "<IPython.core.display.HTML object>"
      ]
     },
     "metadata": {},
     "output_type": "display_data"
    },
    {
     "data": {
      "text/html": [
       "Run data is saved locally in <code>/Users/jaron/workspace/mse_delearn/05_exercises/wandb/run-20250326_141459-gr32ojnb</code>"
      ],
      "text/plain": [
       "<IPython.core.display.HTML object>"
      ]
     },
     "metadata": {},
     "output_type": "display_data"
    },
    {
     "data": {
      "text/html": [
       "Syncing run <strong><a href='https://wandb.ai/jaron-matzinger/delearn-pw05/runs/gr32ojnb' target=\"_blank\">fine-sweep-14</a></strong> to <a href='https://wandb.ai/jaron-matzinger/delearn-pw05' target=\"_blank\">Weights & Biases</a> (<a href='https://wandb.me/developer-guide' target=\"_blank\">docs</a>)<br>Sweep page: <a href='https://wandb.ai/jaron-matzinger/delearn-pw05/sweeps/6h4vy5i4' target=\"_blank\">https://wandb.ai/jaron-matzinger/delearn-pw05/sweeps/6h4vy5i4</a>"
      ],
      "text/plain": [
       "<IPython.core.display.HTML object>"
      ]
     },
     "metadata": {},
     "output_type": "display_data"
    },
    {
     "data": {
      "text/html": [
       " View project at <a href='https://wandb.ai/jaron-matzinger/delearn-pw05' target=\"_blank\">https://wandb.ai/jaron-matzinger/delearn-pw05</a>"
      ],
      "text/plain": [
       "<IPython.core.display.HTML object>"
      ]
     },
     "metadata": {},
     "output_type": "display_data"
    },
    {
     "data": {
      "text/html": [
       " View sweep at <a href='https://wandb.ai/jaron-matzinger/delearn-pw05/sweeps/6h4vy5i4' target=\"_blank\">https://wandb.ai/jaron-matzinger/delearn-pw05/sweeps/6h4vy5i4</a>"
      ],
      "text/plain": [
       "<IPython.core.display.HTML object>"
      ]
     },
     "metadata": {},
     "output_type": "display_data"
    },
    {
     "data": {
      "text/html": [
       " View run at <a href='https://wandb.ai/jaron-matzinger/delearn-pw05/runs/gr32ojnb' target=\"_blank\">https://wandb.ai/jaron-matzinger/delearn-pw05/runs/gr32ojnb</a>"
      ],
      "text/plain": [
       "<IPython.core.display.HTML object>"
      ]
     },
     "metadata": {},
     "output_type": "display_data"
    },
    {
     "name": "stdout",
     "output_type": "stream",
     "text": [
      "Epoch: 1, Train Loss: 2.2880, Val Loss: 2.2697, Train Acc: 0.1405, Val Acc: 0.2624\n",
      "Epoch: 2, Train Loss: 2.2641, Val Loss: 2.2588, Train Acc: 0.3185, Val Acc: 0.3427\n",
      "Epoch: 3, Train Loss: 2.2572, Val Loss: 2.2563, Train Acc: 0.3498, Val Acc: 0.3517\n",
      "Epoch: 4, Train Loss: 2.2556, Val Loss: 2.2557, Train Acc: 0.3551, Val Acc: 0.3538\n",
      "Epoch: 5, Train Loss: 2.2553, Val Loss: 2.2556, Train Acc: 0.3565, Val Acc: 0.3539\n"
     ]
    },
    {
     "data": {
      "text/html": [],
      "text/plain": [
       "<IPython.core.display.HTML object>"
      ]
     },
     "metadata": {},
     "output_type": "display_data"
    },
    {
     "data": {
      "text/html": [
       "<br>    <style><br>        .wandb-row {<br>            display: flex;<br>            flex-direction: row;<br>            flex-wrap: wrap;<br>            justify-content: flex-start;<br>            width: 100%;<br>        }<br>        .wandb-col {<br>            display: flex;<br>            flex-direction: column;<br>            flex-basis: 100%;<br>            flex: 1;<br>            padding: 10px;<br>        }<br>    </style><br><div class=\"wandb-row\"><div class=\"wandb-col\"><h3>Run history:</h3><br/><table class=\"wandb\"><tr><td>epoch</td><td>▁▃▅▆█</td></tr><tr><td>train_acc</td><td>▁▇███</td></tr><tr><td>train_loss</td><td>█▃▁▁▁</td></tr><tr><td>val_acc</td><td>▁▇███</td></tr><tr><td>val_loss</td><td>█▃▁▁▁</td></tr></table><br/></div><div class=\"wandb-col\"><h3>Run summary:</h3><br/><table class=\"wandb\"><tr><td>epoch</td><td>5</td></tr><tr><td>train_acc</td><td>0.35652</td></tr><tr><td>train_loss</td><td>2.25531</td></tr><tr><td>val_acc</td><td>0.3539</td></tr><tr><td>val_loss</td><td>2.25563</td></tr></table><br/></div></div>"
      ],
      "text/plain": [
       "<IPython.core.display.HTML object>"
      ]
     },
     "metadata": {},
     "output_type": "display_data"
    },
    {
     "data": {
      "text/html": [
       " View run <strong style=\"color:#cdcd00\">fine-sweep-14</strong> at: <a href='https://wandb.ai/jaron-matzinger/delearn-pw05/runs/gr32ojnb' target=\"_blank\">https://wandb.ai/jaron-matzinger/delearn-pw05/runs/gr32ojnb</a><br> View project at: <a href='https://wandb.ai/jaron-matzinger/delearn-pw05' target=\"_blank\">https://wandb.ai/jaron-matzinger/delearn-pw05</a><br>Synced 5 W&B file(s), 0 media file(s), 0 artifact file(s) and 0 other file(s)"
      ],
      "text/plain": [
       "<IPython.core.display.HTML object>"
      ]
     },
     "metadata": {},
     "output_type": "display_data"
    },
    {
     "data": {
      "text/html": [
       "Find logs at: <code>./wandb/run-20250326_141459-gr32ojnb/logs</code>"
      ],
      "text/plain": [
       "<IPython.core.display.HTML object>"
      ]
     },
     "metadata": {},
     "output_type": "display_data"
    },
    {
     "name": "stderr",
     "output_type": "stream",
     "text": [
      "\u001b[34m\u001b[1mwandb\u001b[0m: Agent Starting Run: exvxy4ap with config:\n",
      "\u001b[34m\u001b[1mwandb\u001b[0m: \tbatch_size: 64\n",
      "\u001b[34m\u001b[1mwandb\u001b[0m: \tgamma: 0.3\n",
      "\u001b[34m\u001b[1mwandb\u001b[0m: \tlr: 0.001\n",
      "\u001b[34m\u001b[1mwandb\u001b[0m: \tn_epochs: 5\n",
      "\u001b[34m\u001b[1mwandb\u001b[0m: \toptimizer: SGD\n",
      "\u001b[34m\u001b[1mwandb\u001b[0m: \tstep_size: 1\n"
     ]
    },
    {
     "data": {
      "text/html": [
       "Tracking run with wandb version 0.19.8"
      ],
      "text/plain": [
       "<IPython.core.display.HTML object>"
      ]
     },
     "metadata": {},
     "output_type": "display_data"
    },
    {
     "data": {
      "text/html": [
       "Run data is saved locally in <code>/Users/jaron/workspace/mse_delearn/05_exercises/wandb/run-20250326_141546-exvxy4ap</code>"
      ],
      "text/plain": [
       "<IPython.core.display.HTML object>"
      ]
     },
     "metadata": {},
     "output_type": "display_data"
    },
    {
     "data": {
      "text/html": [
       "Syncing run <strong><a href='https://wandb.ai/jaron-matzinger/delearn-pw05/runs/exvxy4ap' target=\"_blank\">feasible-sweep-15</a></strong> to <a href='https://wandb.ai/jaron-matzinger/delearn-pw05' target=\"_blank\">Weights & Biases</a> (<a href='https://wandb.me/developer-guide' target=\"_blank\">docs</a>)<br>Sweep page: <a href='https://wandb.ai/jaron-matzinger/delearn-pw05/sweeps/6h4vy5i4' target=\"_blank\">https://wandb.ai/jaron-matzinger/delearn-pw05/sweeps/6h4vy5i4</a>"
      ],
      "text/plain": [
       "<IPython.core.display.HTML object>"
      ]
     },
     "metadata": {},
     "output_type": "display_data"
    },
    {
     "data": {
      "text/html": [
       " View project at <a href='https://wandb.ai/jaron-matzinger/delearn-pw05' target=\"_blank\">https://wandb.ai/jaron-matzinger/delearn-pw05</a>"
      ],
      "text/plain": [
       "<IPython.core.display.HTML object>"
      ]
     },
     "metadata": {},
     "output_type": "display_data"
    },
    {
     "data": {
      "text/html": [
       " View sweep at <a href='https://wandb.ai/jaron-matzinger/delearn-pw05/sweeps/6h4vy5i4' target=\"_blank\">https://wandb.ai/jaron-matzinger/delearn-pw05/sweeps/6h4vy5i4</a>"
      ],
      "text/plain": [
       "<IPython.core.display.HTML object>"
      ]
     },
     "metadata": {},
     "output_type": "display_data"
    },
    {
     "data": {
      "text/html": [
       " View run at <a href='https://wandb.ai/jaron-matzinger/delearn-pw05/runs/exvxy4ap' target=\"_blank\">https://wandb.ai/jaron-matzinger/delearn-pw05/runs/exvxy4ap</a>"
      ],
      "text/plain": [
       "<IPython.core.display.HTML object>"
      ]
     },
     "metadata": {},
     "output_type": "display_data"
    },
    {
     "name": "stdout",
     "output_type": "stream",
     "text": [
      "Epoch: 1, Train Loss: 2.2890, Val Loss: 2.2698, Train Acc: 0.1367, Val Acc: 0.1831\n",
      "Epoch: 2, Train Loss: 2.2617, Val Loss: 2.2530, Train Acc: 0.2235, Val Acc: 0.2438\n",
      "Epoch: 3, Train Loss: 2.2496, Val Loss: 2.2467, Train Acc: 0.2526, Val Acc: 0.2624\n",
      "Epoch: 4, Train Loss: 2.2453, Val Loss: 2.2446, Train Acc: 0.2643, Val Acc: 0.2678\n",
      "Epoch: 5, Train Loss: 2.2440, Val Loss: 2.2440, Train Acc: 0.2686, Val Acc: 0.2703\n"
     ]
    },
    {
     "data": {
      "text/html": [],
      "text/plain": [
       "<IPython.core.display.HTML object>"
      ]
     },
     "metadata": {},
     "output_type": "display_data"
    },
    {
     "data": {
      "text/html": [
       "<br>    <style><br>        .wandb-row {<br>            display: flex;<br>            flex-direction: row;<br>            flex-wrap: wrap;<br>            justify-content: flex-start;<br>            width: 100%;<br>        }<br>        .wandb-col {<br>            display: flex;<br>            flex-direction: column;<br>            flex-basis: 100%;<br>            flex: 1;<br>            padding: 10px;<br>        }<br>    </style><br><div class=\"wandb-row\"><div class=\"wandb-col\"><h3>Run history:</h3><br/><table class=\"wandb\"><tr><td>epoch</td><td>▁▃▅▆█</td></tr><tr><td>train_acc</td><td>▁▆▇██</td></tr><tr><td>train_loss</td><td>█▄▂▁▁</td></tr><tr><td>val_acc</td><td>▁▆▇██</td></tr><tr><td>val_loss</td><td>█▃▂▁▁</td></tr></table><br/></div><div class=\"wandb-col\"><h3>Run summary:</h3><br/><table class=\"wandb\"><tr><td>epoch</td><td>5</td></tr><tr><td>train_acc</td><td>0.26856</td></tr><tr><td>train_loss</td><td>2.24396</td></tr><tr><td>val_acc</td><td>0.2703</td></tr><tr><td>val_loss</td><td>2.24396</td></tr></table><br/></div></div>"
      ],
      "text/plain": [
       "<IPython.core.display.HTML object>"
      ]
     },
     "metadata": {},
     "output_type": "display_data"
    },
    {
     "data": {
      "text/html": [
       " View run <strong style=\"color:#cdcd00\">feasible-sweep-15</strong> at: <a href='https://wandb.ai/jaron-matzinger/delearn-pw05/runs/exvxy4ap' target=\"_blank\">https://wandb.ai/jaron-matzinger/delearn-pw05/runs/exvxy4ap</a><br> View project at: <a href='https://wandb.ai/jaron-matzinger/delearn-pw05' target=\"_blank\">https://wandb.ai/jaron-matzinger/delearn-pw05</a><br>Synced 5 W&B file(s), 0 media file(s), 0 artifact file(s) and 0 other file(s)"
      ],
      "text/plain": [
       "<IPython.core.display.HTML object>"
      ]
     },
     "metadata": {},
     "output_type": "display_data"
    },
    {
     "data": {
      "text/html": [
       "Find logs at: <code>./wandb/run-20250326_141546-exvxy4ap/logs</code>"
      ],
      "text/plain": [
       "<IPython.core.display.HTML object>"
      ]
     },
     "metadata": {},
     "output_type": "display_data"
    },
    {
     "name": "stderr",
     "output_type": "stream",
     "text": [
      "\u001b[34m\u001b[1mwandb\u001b[0m: Agent Starting Run: teiysf1a with config:\n",
      "\u001b[34m\u001b[1mwandb\u001b[0m: \tbatch_size: 64\n",
      "\u001b[34m\u001b[1mwandb\u001b[0m: \tgamma: 0.1\n",
      "\u001b[34m\u001b[1mwandb\u001b[0m: \tlr: 0.001\n",
      "\u001b[34m\u001b[1mwandb\u001b[0m: \tn_epochs: 5\n",
      "\u001b[34m\u001b[1mwandb\u001b[0m: \toptimizer: SGD\n",
      "\u001b[34m\u001b[1mwandb\u001b[0m: \tstep_size: 2\n"
     ]
    },
    {
     "data": {
      "text/html": [
       "Tracking run with wandb version 0.19.8"
      ],
      "text/plain": [
       "<IPython.core.display.HTML object>"
      ]
     },
     "metadata": {},
     "output_type": "display_data"
    },
    {
     "data": {
      "text/html": [
       "Run data is saved locally in <code>/Users/jaron/workspace/mse_delearn/05_exercises/wandb/run-20250326_141633-teiysf1a</code>"
      ],
      "text/plain": [
       "<IPython.core.display.HTML object>"
      ]
     },
     "metadata": {},
     "output_type": "display_data"
    },
    {
     "data": {
      "text/html": [
       "Syncing run <strong><a href='https://wandb.ai/jaron-matzinger/delearn-pw05/runs/teiysf1a' target=\"_blank\">solar-sweep-16</a></strong> to <a href='https://wandb.ai/jaron-matzinger/delearn-pw05' target=\"_blank\">Weights & Biases</a> (<a href='https://wandb.me/developer-guide' target=\"_blank\">docs</a>)<br>Sweep page: <a href='https://wandb.ai/jaron-matzinger/delearn-pw05/sweeps/6h4vy5i4' target=\"_blank\">https://wandb.ai/jaron-matzinger/delearn-pw05/sweeps/6h4vy5i4</a>"
      ],
      "text/plain": [
       "<IPython.core.display.HTML object>"
      ]
     },
     "metadata": {},
     "output_type": "display_data"
    },
    {
     "data": {
      "text/html": [
       " View project at <a href='https://wandb.ai/jaron-matzinger/delearn-pw05' target=\"_blank\">https://wandb.ai/jaron-matzinger/delearn-pw05</a>"
      ],
      "text/plain": [
       "<IPython.core.display.HTML object>"
      ]
     },
     "metadata": {},
     "output_type": "display_data"
    },
    {
     "data": {
      "text/html": [
       " View sweep at <a href='https://wandb.ai/jaron-matzinger/delearn-pw05/sweeps/6h4vy5i4' target=\"_blank\">https://wandb.ai/jaron-matzinger/delearn-pw05/sweeps/6h4vy5i4</a>"
      ],
      "text/plain": [
       "<IPython.core.display.HTML object>"
      ]
     },
     "metadata": {},
     "output_type": "display_data"
    },
    {
     "data": {
      "text/html": [
       " View run at <a href='https://wandb.ai/jaron-matzinger/delearn-pw05/runs/teiysf1a' target=\"_blank\">https://wandb.ai/jaron-matzinger/delearn-pw05/runs/teiysf1a</a>"
      ],
      "text/plain": [
       "<IPython.core.display.HTML object>"
      ]
     },
     "metadata": {},
     "output_type": "display_data"
    },
    {
     "name": "stdout",
     "output_type": "stream",
     "text": [
      "Epoch: 1, Train Loss: 2.2897, Val Loss: 2.2753, Train Acc: 0.1258, Val Acc: 0.1954\n",
      "Epoch: 2, Train Loss: 2.2451, Val Loss: 2.1982, Train Acc: 0.2909, Val Acc: 0.3404\n",
      "Epoch: 3, Train Loss: 2.1898, Val Loss: 2.1820, Train Acc: 0.3627, Val Acc: 0.3803\n",
      "Epoch: 4, Train Loss: 2.1721, Val Loss: 2.1628, Train Acc: 0.4014, Val Acc: 0.4143\n",
      "Epoch: 5, Train Loss: 2.1612, Val Loss: 2.1607, Train Acc: 0.4179, Val Acc: 0.4162\n"
     ]
    },
    {
     "data": {
      "text/html": [],
      "text/plain": [
       "<IPython.core.display.HTML object>"
      ]
     },
     "metadata": {},
     "output_type": "display_data"
    },
    {
     "data": {
      "text/html": [
       "<br>    <style><br>        .wandb-row {<br>            display: flex;<br>            flex-direction: row;<br>            flex-wrap: wrap;<br>            justify-content: flex-start;<br>            width: 100%;<br>        }<br>        .wandb-col {<br>            display: flex;<br>            flex-direction: column;<br>            flex-basis: 100%;<br>            flex: 1;<br>            padding: 10px;<br>        }<br>    </style><br><div class=\"wandb-row\"><div class=\"wandb-col\"><h3>Run history:</h3><br/><table class=\"wandb\"><tr><td>epoch</td><td>▁▃▅▆█</td></tr><tr><td>train_acc</td><td>▁▅▇██</td></tr><tr><td>train_loss</td><td>█▆▃▂▁</td></tr><tr><td>val_acc</td><td>▁▆▇██</td></tr><tr><td>val_loss</td><td>█▃▂▁▁</td></tr></table><br/></div><div class=\"wandb-col\"><h3>Run summary:</h3><br/><table class=\"wandb\"><tr><td>epoch</td><td>5</td></tr><tr><td>train_acc</td><td>0.41794</td></tr><tr><td>train_loss</td><td>2.16118</td></tr><tr><td>val_acc</td><td>0.4162</td></tr><tr><td>val_loss</td><td>2.16073</td></tr></table><br/></div></div>"
      ],
      "text/plain": [
       "<IPython.core.display.HTML object>"
      ]
     },
     "metadata": {},
     "output_type": "display_data"
    },
    {
     "data": {
      "text/html": [
       " View run <strong style=\"color:#cdcd00\">solar-sweep-16</strong> at: <a href='https://wandb.ai/jaron-matzinger/delearn-pw05/runs/teiysf1a' target=\"_blank\">https://wandb.ai/jaron-matzinger/delearn-pw05/runs/teiysf1a</a><br> View project at: <a href='https://wandb.ai/jaron-matzinger/delearn-pw05' target=\"_blank\">https://wandb.ai/jaron-matzinger/delearn-pw05</a><br>Synced 5 W&B file(s), 0 media file(s), 0 artifact file(s) and 0 other file(s)"
      ],
      "text/plain": [
       "<IPython.core.display.HTML object>"
      ]
     },
     "metadata": {},
     "output_type": "display_data"
    },
    {
     "data": {
      "text/html": [
       "Find logs at: <code>./wandb/run-20250326_141633-teiysf1a/logs</code>"
      ],
      "text/plain": [
       "<IPython.core.display.HTML object>"
      ]
     },
     "metadata": {},
     "output_type": "display_data"
    },
    {
     "name": "stderr",
     "output_type": "stream",
     "text": [
      "\u001b[34m\u001b[1mwandb\u001b[0m: Agent Starting Run: zk9sny2g with config:\n",
      "\u001b[34m\u001b[1mwandb\u001b[0m: \tbatch_size: 64\n",
      "\u001b[34m\u001b[1mwandb\u001b[0m: \tgamma: 0.2\n",
      "\u001b[34m\u001b[1mwandb\u001b[0m: \tlr: 0.001\n",
      "\u001b[34m\u001b[1mwandb\u001b[0m: \tn_epochs: 5\n",
      "\u001b[34m\u001b[1mwandb\u001b[0m: \toptimizer: SGD\n",
      "\u001b[34m\u001b[1mwandb\u001b[0m: \tstep_size: 3\n"
     ]
    },
    {
     "data": {
      "text/html": [
       "Tracking run with wandb version 0.19.8"
      ],
      "text/plain": [
       "<IPython.core.display.HTML object>"
      ]
     },
     "metadata": {},
     "output_type": "display_data"
    },
    {
     "data": {
      "text/html": [
       "Run data is saved locally in <code>/Users/jaron/workspace/mse_delearn/05_exercises/wandb/run-20250326_141719-zk9sny2g</code>"
      ],
      "text/plain": [
       "<IPython.core.display.HTML object>"
      ]
     },
     "metadata": {},
     "output_type": "display_data"
    },
    {
     "data": {
      "text/html": [
       "Syncing run <strong><a href='https://wandb.ai/jaron-matzinger/delearn-pw05/runs/zk9sny2g' target=\"_blank\">revived-sweep-17</a></strong> to <a href='https://wandb.ai/jaron-matzinger/delearn-pw05' target=\"_blank\">Weights & Biases</a> (<a href='https://wandb.me/developer-guide' target=\"_blank\">docs</a>)<br>Sweep page: <a href='https://wandb.ai/jaron-matzinger/delearn-pw05/sweeps/6h4vy5i4' target=\"_blank\">https://wandb.ai/jaron-matzinger/delearn-pw05/sweeps/6h4vy5i4</a>"
      ],
      "text/plain": [
       "<IPython.core.display.HTML object>"
      ]
     },
     "metadata": {},
     "output_type": "display_data"
    },
    {
     "data": {
      "text/html": [
       " View project at <a href='https://wandb.ai/jaron-matzinger/delearn-pw05' target=\"_blank\">https://wandb.ai/jaron-matzinger/delearn-pw05</a>"
      ],
      "text/plain": [
       "<IPython.core.display.HTML object>"
      ]
     },
     "metadata": {},
     "output_type": "display_data"
    },
    {
     "data": {
      "text/html": [
       " View sweep at <a href='https://wandb.ai/jaron-matzinger/delearn-pw05/sweeps/6h4vy5i4' target=\"_blank\">https://wandb.ai/jaron-matzinger/delearn-pw05/sweeps/6h4vy5i4</a>"
      ],
      "text/plain": [
       "<IPython.core.display.HTML object>"
      ]
     },
     "metadata": {},
     "output_type": "display_data"
    },
    {
     "data": {
      "text/html": [
       " View run at <a href='https://wandb.ai/jaron-matzinger/delearn-pw05/runs/zk9sny2g' target=\"_blank\">https://wandb.ai/jaron-matzinger/delearn-pw05/runs/zk9sny2g</a>"
      ],
      "text/plain": [
       "<IPython.core.display.HTML object>"
      ]
     },
     "metadata": {},
     "output_type": "display_data"
    },
    {
     "name": "stdout",
     "output_type": "stream",
     "text": [
      "Epoch: 1, Train Loss: 2.2837, Val Loss: 2.2569, Train Acc: 0.1786, Val Acc: 0.2293\n",
      "Epoch: 2, Train Loss: 2.1898, Val Loss: 2.0739, Train Acc: 0.3533, Val Acc: 0.4211\n",
      "Epoch: 3, Train Loss: 1.7519, Val Loss: 1.3597, Train Acc: 0.5130, Val Acc: 0.5980\n",
      "Epoch: 4, Train Loss: 1.2957, Val Loss: 1.2321, Train Acc: 0.6131, Val Acc: 0.6118\n",
      "Epoch: 5, Train Loss: 1.1836, Val Loss: 1.1324, Train Acc: 0.6250, Val Acc: 0.6320\n"
     ]
    },
    {
     "data": {
      "text/html": [],
      "text/plain": [
       "<IPython.core.display.HTML object>"
      ]
     },
     "metadata": {},
     "output_type": "display_data"
    },
    {
     "data": {
      "text/html": [
       "<br>    <style><br>        .wandb-row {<br>            display: flex;<br>            flex-direction: row;<br>            flex-wrap: wrap;<br>            justify-content: flex-start;<br>            width: 100%;<br>        }<br>        .wandb-col {<br>            display: flex;<br>            flex-direction: column;<br>            flex-basis: 100%;<br>            flex: 1;<br>            padding: 10px;<br>        }<br>    </style><br><div class=\"wandb-row\"><div class=\"wandb-col\"><h3>Run history:</h3><br/><table class=\"wandb\"><tr><td>epoch</td><td>▁▃▅▆█</td></tr><tr><td>train_acc</td><td>▁▄▆██</td></tr><tr><td>train_loss</td><td>█▇▅▂▁</td></tr><tr><td>val_acc</td><td>▁▄▇██</td></tr><tr><td>val_loss</td><td>█▇▂▂▁</td></tr></table><br/></div><div class=\"wandb-col\"><h3>Run summary:</h3><br/><table class=\"wandb\"><tr><td>epoch</td><td>5</td></tr><tr><td>train_acc</td><td>0.625</td></tr><tr><td>train_loss</td><td>1.18359</td></tr><tr><td>val_acc</td><td>0.632</td></tr><tr><td>val_loss</td><td>1.13245</td></tr></table><br/></div></div>"
      ],
      "text/plain": [
       "<IPython.core.display.HTML object>"
      ]
     },
     "metadata": {},
     "output_type": "display_data"
    },
    {
     "data": {
      "text/html": [
       " View run <strong style=\"color:#cdcd00\">revived-sweep-17</strong> at: <a href='https://wandb.ai/jaron-matzinger/delearn-pw05/runs/zk9sny2g' target=\"_blank\">https://wandb.ai/jaron-matzinger/delearn-pw05/runs/zk9sny2g</a><br> View project at: <a href='https://wandb.ai/jaron-matzinger/delearn-pw05' target=\"_blank\">https://wandb.ai/jaron-matzinger/delearn-pw05</a><br>Synced 5 W&B file(s), 0 media file(s), 0 artifact file(s) and 0 other file(s)"
      ],
      "text/plain": [
       "<IPython.core.display.HTML object>"
      ]
     },
     "metadata": {},
     "output_type": "display_data"
    },
    {
     "data": {
      "text/html": [
       "Find logs at: <code>./wandb/run-20250326_141719-zk9sny2g/logs</code>"
      ],
      "text/plain": [
       "<IPython.core.display.HTML object>"
      ]
     },
     "metadata": {},
     "output_type": "display_data"
    },
    {
     "name": "stderr",
     "output_type": "stream",
     "text": [
      "\u001b[34m\u001b[1mwandb\u001b[0m: Agent Starting Run: iize276h with config:\n",
      "\u001b[34m\u001b[1mwandb\u001b[0m: \tbatch_size: 64\n",
      "\u001b[34m\u001b[1mwandb\u001b[0m: \tgamma: 0.3\n",
      "\u001b[34m\u001b[1mwandb\u001b[0m: \tlr: 0.001\n",
      "\u001b[34m\u001b[1mwandb\u001b[0m: \tn_epochs: 5\n",
      "\u001b[34m\u001b[1mwandb\u001b[0m: \toptimizer: SGD\n",
      "\u001b[34m\u001b[1mwandb\u001b[0m: \tstep_size: 1\n"
     ]
    },
    {
     "data": {
      "text/html": [
       "Tracking run with wandb version 0.19.8"
      ],
      "text/plain": [
       "<IPython.core.display.HTML object>"
      ]
     },
     "metadata": {},
     "output_type": "display_data"
    },
    {
     "data": {
      "text/html": [
       "Run data is saved locally in <code>/Users/jaron/workspace/mse_delearn/05_exercises/wandb/run-20250326_141808-iize276h</code>"
      ],
      "text/plain": [
       "<IPython.core.display.HTML object>"
      ]
     },
     "metadata": {},
     "output_type": "display_data"
    },
    {
     "data": {
      "text/html": [
       "Syncing run <strong><a href='https://wandb.ai/jaron-matzinger/delearn-pw05/runs/iize276h' target=\"_blank\">fresh-sweep-18</a></strong> to <a href='https://wandb.ai/jaron-matzinger/delearn-pw05' target=\"_blank\">Weights & Biases</a> (<a href='https://wandb.me/developer-guide' target=\"_blank\">docs</a>)<br>Sweep page: <a href='https://wandb.ai/jaron-matzinger/delearn-pw05/sweeps/6h4vy5i4' target=\"_blank\">https://wandb.ai/jaron-matzinger/delearn-pw05/sweeps/6h4vy5i4</a>"
      ],
      "text/plain": [
       "<IPython.core.display.HTML object>"
      ]
     },
     "metadata": {},
     "output_type": "display_data"
    },
    {
     "data": {
      "text/html": [
       " View project at <a href='https://wandb.ai/jaron-matzinger/delearn-pw05' target=\"_blank\">https://wandb.ai/jaron-matzinger/delearn-pw05</a>"
      ],
      "text/plain": [
       "<IPython.core.display.HTML object>"
      ]
     },
     "metadata": {},
     "output_type": "display_data"
    },
    {
     "data": {
      "text/html": [
       " View sweep at <a href='https://wandb.ai/jaron-matzinger/delearn-pw05/sweeps/6h4vy5i4' target=\"_blank\">https://wandb.ai/jaron-matzinger/delearn-pw05/sweeps/6h4vy5i4</a>"
      ],
      "text/plain": [
       "<IPython.core.display.HTML object>"
      ]
     },
     "metadata": {},
     "output_type": "display_data"
    },
    {
     "data": {
      "text/html": [
       " View run at <a href='https://wandb.ai/jaron-matzinger/delearn-pw05/runs/iize276h' target=\"_blank\">https://wandb.ai/jaron-matzinger/delearn-pw05/runs/iize276h</a>"
      ],
      "text/plain": [
       "<IPython.core.display.HTML object>"
      ]
     },
     "metadata": {},
     "output_type": "display_data"
    },
    {
     "name": "stdout",
     "output_type": "stream",
     "text": [
      "Epoch: 1, Train Loss: 2.2808, Val Loss: 2.2499, Train Acc: 0.2352, Val Acc: 0.2638\n",
      "Epoch: 2, Train Loss: 2.2337, Val Loss: 2.2145, Train Acc: 0.2724, Val Acc: 0.2806\n",
      "Epoch: 3, Train Loss: 2.2073, Val Loss: 2.1997, Train Acc: 0.2969, Val Acc: 0.2968\n",
      "Epoch: 4, Train Loss: 2.1971, Val Loss: 2.1948, Train Acc: 0.3059, Val Acc: 0.3040\n",
      "Epoch: 5, Train Loss: 2.1939, Val Loss: 2.1932, Train Acc: 0.3100, Val Acc: 0.3068\n"
     ]
    },
    {
     "data": {
      "text/html": [],
      "text/plain": [
       "<IPython.core.display.HTML object>"
      ]
     },
     "metadata": {},
     "output_type": "display_data"
    },
    {
     "data": {
      "text/html": [
       "<br>    <style><br>        .wandb-row {<br>            display: flex;<br>            flex-direction: row;<br>            flex-wrap: wrap;<br>            justify-content: flex-start;<br>            width: 100%;<br>        }<br>        .wandb-col {<br>            display: flex;<br>            flex-direction: column;<br>            flex-basis: 100%;<br>            flex: 1;<br>            padding: 10px;<br>        }<br>    </style><br><div class=\"wandb-row\"><div class=\"wandb-col\"><h3>Run history:</h3><br/><table class=\"wandb\"><tr><td>epoch</td><td>▁▃▅▆█</td></tr><tr><td>train_acc</td><td>▁▄▇██</td></tr><tr><td>train_loss</td><td>█▄▂▁▁</td></tr><tr><td>val_acc</td><td>▁▄▆██</td></tr><tr><td>val_loss</td><td>█▄▂▁▁</td></tr></table><br/></div><div class=\"wandb-col\"><h3>Run summary:</h3><br/><table class=\"wandb\"><tr><td>epoch</td><td>5</td></tr><tr><td>train_acc</td><td>0.31</td></tr><tr><td>train_loss</td><td>2.19387</td></tr><tr><td>val_acc</td><td>0.3068</td></tr><tr><td>val_loss</td><td>2.19322</td></tr></table><br/></div></div>"
      ],
      "text/plain": [
       "<IPython.core.display.HTML object>"
      ]
     },
     "metadata": {},
     "output_type": "display_data"
    },
    {
     "data": {
      "text/html": [
       " View run <strong style=\"color:#cdcd00\">fresh-sweep-18</strong> at: <a href='https://wandb.ai/jaron-matzinger/delearn-pw05/runs/iize276h' target=\"_blank\">https://wandb.ai/jaron-matzinger/delearn-pw05/runs/iize276h</a><br> View project at: <a href='https://wandb.ai/jaron-matzinger/delearn-pw05' target=\"_blank\">https://wandb.ai/jaron-matzinger/delearn-pw05</a><br>Synced 5 W&B file(s), 0 media file(s), 0 artifact file(s) and 0 other file(s)"
      ],
      "text/plain": [
       "<IPython.core.display.HTML object>"
      ]
     },
     "metadata": {},
     "output_type": "display_data"
    },
    {
     "data": {
      "text/html": [
       "Find logs at: <code>./wandb/run-20250326_141808-iize276h/logs</code>"
      ],
      "text/plain": [
       "<IPython.core.display.HTML object>"
      ]
     },
     "metadata": {},
     "output_type": "display_data"
    },
    {
     "name": "stderr",
     "output_type": "stream",
     "text": [
      "\u001b[34m\u001b[1mwandb\u001b[0m: Agent Starting Run: 8dun40fn with config:\n",
      "\u001b[34m\u001b[1mwandb\u001b[0m: \tbatch_size: 64\n",
      "\u001b[34m\u001b[1mwandb\u001b[0m: \tgamma: 0.2\n",
      "\u001b[34m\u001b[1mwandb\u001b[0m: \tlr: 0.001\n",
      "\u001b[34m\u001b[1mwandb\u001b[0m: \tn_epochs: 5\n",
      "\u001b[34m\u001b[1mwandb\u001b[0m: \toptimizer: SGD\n",
      "\u001b[34m\u001b[1mwandb\u001b[0m: \tstep_size: 2\n"
     ]
    },
    {
     "data": {
      "text/html": [
       "Tracking run with wandb version 0.19.8"
      ],
      "text/plain": [
       "<IPython.core.display.HTML object>"
      ]
     },
     "metadata": {},
     "output_type": "display_data"
    },
    {
     "data": {
      "text/html": [
       "Run data is saved locally in <code>/Users/jaron/workspace/mse_delearn/05_exercises/wandb/run-20250326_141853-8dun40fn</code>"
      ],
      "text/plain": [
       "<IPython.core.display.HTML object>"
      ]
     },
     "metadata": {},
     "output_type": "display_data"
    },
    {
     "data": {
      "text/html": [
       "Syncing run <strong><a href='https://wandb.ai/jaron-matzinger/delearn-pw05/runs/8dun40fn' target=\"_blank\">avid-sweep-19</a></strong> to <a href='https://wandb.ai/jaron-matzinger/delearn-pw05' target=\"_blank\">Weights & Biases</a> (<a href='https://wandb.me/developer-guide' target=\"_blank\">docs</a>)<br>Sweep page: <a href='https://wandb.ai/jaron-matzinger/delearn-pw05/sweeps/6h4vy5i4' target=\"_blank\">https://wandb.ai/jaron-matzinger/delearn-pw05/sweeps/6h4vy5i4</a>"
      ],
      "text/plain": [
       "<IPython.core.display.HTML object>"
      ]
     },
     "metadata": {},
     "output_type": "display_data"
    },
    {
     "data": {
      "text/html": [
       " View project at <a href='https://wandb.ai/jaron-matzinger/delearn-pw05' target=\"_blank\">https://wandb.ai/jaron-matzinger/delearn-pw05</a>"
      ],
      "text/plain": [
       "<IPython.core.display.HTML object>"
      ]
     },
     "metadata": {},
     "output_type": "display_data"
    },
    {
     "data": {
      "text/html": [
       " View sweep at <a href='https://wandb.ai/jaron-matzinger/delearn-pw05/sweeps/6h4vy5i4' target=\"_blank\">https://wandb.ai/jaron-matzinger/delearn-pw05/sweeps/6h4vy5i4</a>"
      ],
      "text/plain": [
       "<IPython.core.display.HTML object>"
      ]
     },
     "metadata": {},
     "output_type": "display_data"
    },
    {
     "data": {
      "text/html": [
       " View run at <a href='https://wandb.ai/jaron-matzinger/delearn-pw05/runs/8dun40fn' target=\"_blank\">https://wandb.ai/jaron-matzinger/delearn-pw05/runs/8dun40fn</a>"
      ],
      "text/plain": [
       "<IPython.core.display.HTML object>"
      ]
     },
     "metadata": {},
     "output_type": "display_data"
    },
    {
     "name": "stdout",
     "output_type": "stream",
     "text": [
      "Epoch: 1, Train Loss: 2.2916, Val Loss: 2.2763, Train Acc: 0.1648, Val Acc: 0.1870\n",
      "Epoch: 2, Train Loss: 2.2451, Val Loss: 2.1968, Train Acc: 0.2240, Val Acc: 0.3071\n",
      "Epoch: 3, Train Loss: 2.1785, Val Loss: 2.1600, Train Acc: 0.3341, Val Acc: 0.3455\n",
      "Epoch: 4, Train Loss: 2.1341, Val Loss: 2.1072, Train Acc: 0.3779, Val Acc: 0.4132\n",
      "Epoch: 5, Train Loss: 2.0994, Val Loss: 2.0941, Train Acc: 0.4249, Val Acc: 0.4308\n"
     ]
    },
    {
     "data": {
      "text/html": [],
      "text/plain": [
       "<IPython.core.display.HTML object>"
      ]
     },
     "metadata": {},
     "output_type": "display_data"
    },
    {
     "data": {
      "text/html": [
       "<br>    <style><br>        .wandb-row {<br>            display: flex;<br>            flex-direction: row;<br>            flex-wrap: wrap;<br>            justify-content: flex-start;<br>            width: 100%;<br>        }<br>        .wandb-col {<br>            display: flex;<br>            flex-direction: column;<br>            flex-basis: 100%;<br>            flex: 1;<br>            padding: 10px;<br>        }<br>    </style><br><div class=\"wandb-row\"><div class=\"wandb-col\"><h3>Run history:</h3><br/><table class=\"wandb\"><tr><td>epoch</td><td>▁▃▅▆█</td></tr><tr><td>train_acc</td><td>▁▃▆▇█</td></tr><tr><td>train_loss</td><td>█▆▄▂▁</td></tr><tr><td>val_acc</td><td>▁▄▆▇█</td></tr><tr><td>val_loss</td><td>█▅▄▂▁</td></tr></table><br/></div><div class=\"wandb-col\"><h3>Run summary:</h3><br/><table class=\"wandb\"><tr><td>epoch</td><td>5</td></tr><tr><td>train_acc</td><td>0.42486</td></tr><tr><td>train_loss</td><td>2.09937</td></tr><tr><td>val_acc</td><td>0.4308</td></tr><tr><td>val_loss</td><td>2.09406</td></tr></table><br/></div></div>"
      ],
      "text/plain": [
       "<IPython.core.display.HTML object>"
      ]
     },
     "metadata": {},
     "output_type": "display_data"
    },
    {
     "data": {
      "text/html": [
       " View run <strong style=\"color:#cdcd00\">avid-sweep-19</strong> at: <a href='https://wandb.ai/jaron-matzinger/delearn-pw05/runs/8dun40fn' target=\"_blank\">https://wandb.ai/jaron-matzinger/delearn-pw05/runs/8dun40fn</a><br> View project at: <a href='https://wandb.ai/jaron-matzinger/delearn-pw05' target=\"_blank\">https://wandb.ai/jaron-matzinger/delearn-pw05</a><br>Synced 5 W&B file(s), 0 media file(s), 0 artifact file(s) and 0 other file(s)"
      ],
      "text/plain": [
       "<IPython.core.display.HTML object>"
      ]
     },
     "metadata": {},
     "output_type": "display_data"
    },
    {
     "data": {
      "text/html": [
       "Find logs at: <code>./wandb/run-20250326_141853-8dun40fn/logs</code>"
      ],
      "text/plain": [
       "<IPython.core.display.HTML object>"
      ]
     },
     "metadata": {},
     "output_type": "display_data"
    },
    {
     "name": "stderr",
     "output_type": "stream",
     "text": [
      "\u001b[34m\u001b[1mwandb\u001b[0m: Agent Starting Run: 2ql4myq8 with config:\n",
      "\u001b[34m\u001b[1mwandb\u001b[0m: \tbatch_size: 64\n",
      "\u001b[34m\u001b[1mwandb\u001b[0m: \tgamma: 0.3\n",
      "\u001b[34m\u001b[1mwandb\u001b[0m: \tlr: 0.001\n",
      "\u001b[34m\u001b[1mwandb\u001b[0m: \tn_epochs: 5\n",
      "\u001b[34m\u001b[1mwandb\u001b[0m: \toptimizer: SGD\n",
      "\u001b[34m\u001b[1mwandb\u001b[0m: \tstep_size: 1\n"
     ]
    },
    {
     "data": {
      "text/html": [
       "Tracking run with wandb version 0.19.8"
      ],
      "text/plain": [
       "<IPython.core.display.HTML object>"
      ]
     },
     "metadata": {},
     "output_type": "display_data"
    },
    {
     "data": {
      "text/html": [
       "Run data is saved locally in <code>/Users/jaron/workspace/mse_delearn/05_exercises/wandb/run-20250326_141940-2ql4myq8</code>"
      ],
      "text/plain": [
       "<IPython.core.display.HTML object>"
      ]
     },
     "metadata": {},
     "output_type": "display_data"
    },
    {
     "data": {
      "text/html": [
       "Syncing run <strong><a href='https://wandb.ai/jaron-matzinger/delearn-pw05/runs/2ql4myq8' target=\"_blank\">robust-sweep-20</a></strong> to <a href='https://wandb.ai/jaron-matzinger/delearn-pw05' target=\"_blank\">Weights & Biases</a> (<a href='https://wandb.me/developer-guide' target=\"_blank\">docs</a>)<br>Sweep page: <a href='https://wandb.ai/jaron-matzinger/delearn-pw05/sweeps/6h4vy5i4' target=\"_blank\">https://wandb.ai/jaron-matzinger/delearn-pw05/sweeps/6h4vy5i4</a>"
      ],
      "text/plain": [
       "<IPython.core.display.HTML object>"
      ]
     },
     "metadata": {},
     "output_type": "display_data"
    },
    {
     "data": {
      "text/html": [
       " View project at <a href='https://wandb.ai/jaron-matzinger/delearn-pw05' target=\"_blank\">https://wandb.ai/jaron-matzinger/delearn-pw05</a>"
      ],
      "text/plain": [
       "<IPython.core.display.HTML object>"
      ]
     },
     "metadata": {},
     "output_type": "display_data"
    },
    {
     "data": {
      "text/html": [
       " View sweep at <a href='https://wandb.ai/jaron-matzinger/delearn-pw05/sweeps/6h4vy5i4' target=\"_blank\">https://wandb.ai/jaron-matzinger/delearn-pw05/sweeps/6h4vy5i4</a>"
      ],
      "text/plain": [
       "<IPython.core.display.HTML object>"
      ]
     },
     "metadata": {},
     "output_type": "display_data"
    },
    {
     "data": {
      "text/html": [
       " View run at <a href='https://wandb.ai/jaron-matzinger/delearn-pw05/runs/2ql4myq8' target=\"_blank\">https://wandb.ai/jaron-matzinger/delearn-pw05/runs/2ql4myq8</a>"
      ],
      "text/plain": [
       "<IPython.core.display.HTML object>"
      ]
     },
     "metadata": {},
     "output_type": "display_data"
    },
    {
     "name": "stdout",
     "output_type": "stream",
     "text": [
      "Epoch: 1, Train Loss: 2.2908, Val Loss: 2.2713, Train Acc: 0.2349, Val Acc: 0.3406\n",
      "Epoch: 2, Train Loss: 2.2625, Val Loss: 2.2520, Train Acc: 0.3574, Val Acc: 0.3594\n",
      "Epoch: 3, Train Loss: 2.2482, Val Loss: 2.2443, Train Acc: 0.3649, Val Acc: 0.3683\n",
      "Epoch: 4, Train Loss: 2.2430, Val Loss: 2.2418, Train Acc: 0.3727, Val Acc: 0.3731\n",
      "Epoch: 5, Train Loss: 2.2413, Val Loss: 2.2410, Train Acc: 0.3743, Val Acc: 0.3745\n"
     ]
    },
    {
     "data": {
      "text/html": [],
      "text/plain": [
       "<IPython.core.display.HTML object>"
      ]
     },
     "metadata": {},
     "output_type": "display_data"
    },
    {
     "data": {
      "text/html": [
       "<br>    <style><br>        .wandb-row {<br>            display: flex;<br>            flex-direction: row;<br>            flex-wrap: wrap;<br>            justify-content: flex-start;<br>            width: 100%;<br>        }<br>        .wandb-col {<br>            display: flex;<br>            flex-direction: column;<br>            flex-basis: 100%;<br>            flex: 1;<br>            padding: 10px;<br>        }<br>    </style><br><div class=\"wandb-row\"><div class=\"wandb-col\"><h3>Run history:</h3><br/><table class=\"wandb\"><tr><td>epoch</td><td>▁▃▅▆█</td></tr><tr><td>train_acc</td><td>▁▇███</td></tr><tr><td>train_loss</td><td>█▄▂▁▁</td></tr><tr><td>val_acc</td><td>▁▅▇██</td></tr><tr><td>val_loss</td><td>█▄▂▁▁</td></tr></table><br/></div><div class=\"wandb-col\"><h3>Run summary:</h3><br/><table class=\"wandb\"><tr><td>epoch</td><td>5</td></tr><tr><td>train_acc</td><td>0.37426</td></tr><tr><td>train_loss</td><td>2.24132</td></tr><tr><td>val_acc</td><td>0.3745</td></tr><tr><td>val_loss</td><td>2.24099</td></tr></table><br/></div></div>"
      ],
      "text/plain": [
       "<IPython.core.display.HTML object>"
      ]
     },
     "metadata": {},
     "output_type": "display_data"
    },
    {
     "data": {
      "text/html": [
       " View run <strong style=\"color:#cdcd00\">robust-sweep-20</strong> at: <a href='https://wandb.ai/jaron-matzinger/delearn-pw05/runs/2ql4myq8' target=\"_blank\">https://wandb.ai/jaron-matzinger/delearn-pw05/runs/2ql4myq8</a><br> View project at: <a href='https://wandb.ai/jaron-matzinger/delearn-pw05' target=\"_blank\">https://wandb.ai/jaron-matzinger/delearn-pw05</a><br>Synced 5 W&B file(s), 0 media file(s), 0 artifact file(s) and 0 other file(s)"
      ],
      "text/plain": [
       "<IPython.core.display.HTML object>"
      ]
     },
     "metadata": {},
     "output_type": "display_data"
    },
    {
     "data": {
      "text/html": [
       "Find logs at: <code>./wandb/run-20250326_141940-2ql4myq8/logs</code>"
      ],
      "text/plain": [
       "<IPython.core.display.HTML object>"
      ]
     },
     "metadata": {},
     "output_type": "display_data"
    }
   ],
   "source": [
    "sweep_id = wandb.sweep(sweep_config, entity='jaron-matzinger', project='delearn-pw05')\n",
    "wandb.agent(sweep_id, function=sweep, count=15)"
   ]
  },
  {
   "cell_type": "markdown",
   "id": "1383309c",
   "metadata": {},
   "source": [
    "According to wandb the best hyperparameters for the task were:\n",
    "- step_size: 3\n",
    "- gamma: 0.3"
   ]
  },
  {
   "cell_type": "code",
   "execution_count": null,
   "id": "563623ce",
   "metadata": {},
   "outputs": [],
   "source": []
  }
 ],
 "metadata": {
  "kernelspec": {
   "display_name": ".venv",
   "language": "python",
   "name": "python3"
  },
  "language_info": {
   "codemirror_mode": {
    "name": "ipython",
    "version": 3
   },
   "file_extension": ".py",
   "mimetype": "text/x-python",
   "name": "python",
   "nbconvert_exporter": "python",
   "pygments_lexer": "ipython3",
   "version": "3.12.8"
  }
 },
 "nbformat": 4,
 "nbformat_minor": 5
}
