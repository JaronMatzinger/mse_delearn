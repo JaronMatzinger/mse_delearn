{
 "cells": [
  {
   "cell_type": "code",
   "execution_count": 1,
   "id": "25e6a592",
   "metadata": {},
   "outputs": [],
   "source": [
    "import numpy as np\n",
    "import pandas as pd\n",
    "import matplotlib.pyplot as plt\n",
    "\n",
    "import torch\n",
    "import torch.nn as nn\n",
    "\n",
    "from torchsummary import summary\n",
    "from torch.utils.data import Dataset, DataLoader\n",
    "\n",
    "from tqdm import tqdm\n",
    "from sklearn.metrics import confusion_matrix, ConfusionMatrixDisplay"
   ]
  },
  {
   "cell_type": "code",
   "execution_count": 2,
   "id": "6221013b",
   "metadata": {},
   "outputs": [
    {
     "name": "stdout",
     "output_type": "stream",
     "text": [
      "Torch version: 2.6.0, Device: mps\n"
     ]
    }
   ],
   "source": [
    "device = torch.device('cuda' if torch.cuda.is_available() else 'mps' if torch.backends.mps.is_available() else 'cpu')\n",
    "print(f'Torch version: {torch.__version__}, Device: {device.type}')"
   ]
  },
  {
   "cell_type": "code",
   "execution_count": 3,
   "id": "9126da55",
   "metadata": {},
   "outputs": [],
   "source": [
    "def read_vocabulary_from_file(filename):\n",
    "    with open(filename, 'r', encoding='ISO-8859-1') as f:\n",
    "        content = f.readlines()\n",
    "        content = [x.strip() for x in content]\n",
    "        content = [x for x in content if x and not x.startswith(';') and not x.endswith('+')]\n",
    "    return content"
   ]
  },
  {
   "cell_type": "code",
   "execution_count": 4,
   "id": "0f247761",
   "metadata": {},
   "outputs": [],
   "source": [
    "def load_glove_embeddings(path):\n",
    "    embeddings = {}\n",
    "    with open(path, 'r', encoding='utf-8') as f:\n",
    "        for line in f:\n",
    "            values = line.strip().split()\n",
    "            w = values[0]\n",
    "            vectors = np.asarray(values[1:], dtype='float32')\n",
    "            embeddings[w] = vectors\n",
    "    return embeddings"
   ]
  },
  {
   "cell_type": "code",
   "execution_count": 5,
   "id": "8803aaeb",
   "metadata": {},
   "outputs": [],
   "source": [
    "pos_words = read_vocabulary_from_file('../data/opinion-lexicon-English/positive-words.txt')\n",
    "neg_words = read_vocabulary_from_file('../data/opinion-lexicon-English/negative-words.txt')"
   ]
  },
  {
   "cell_type": "code",
   "execution_count": 6,
   "id": "878f8c2e",
   "metadata": {},
   "outputs": [
    {
     "name": "stdout",
     "output_type": "stream",
     "text": [
      "# of pos. words: 2005\n",
      "# of neg. words: 4783\n"
     ]
    }
   ],
   "source": [
    "print(f'# of pos. words: {len(pos_words)}')\n",
    "print(f'# of neg. words: {len(neg_words)}')"
   ]
  },
  {
   "cell_type": "code",
   "execution_count": 7,
   "id": "2f75a672",
   "metadata": {},
   "outputs": [],
   "source": [
    "word_dict = load_glove_embeddings('./embeddings/glove.6B.50d.txt')"
   ]
  },
  {
   "cell_type": "code",
   "execution_count": 8,
   "id": "7aeba0cb",
   "metadata": {},
   "outputs": [],
   "source": [
    "df_pos = pd.DataFrame(pos_words, columns=['word'])\n",
    "df_neg = pd.DataFrame(neg_words, columns=['word'])\n",
    "\n",
    "df_pos['target'] = np.ones(len(df_pos), dtype=int)\n",
    "df_neg['target'] = np.zeros(len(df_neg), dtype=int)\n"
   ]
  },
  {
   "cell_type": "code",
   "execution_count": 9,
   "id": "7d1665b8",
   "metadata": {},
   "outputs": [],
   "source": [
    "df_pos_shuffled = df_pos.sample(frac=1, random_state=42).reset_index(drop=True)\n",
    "df_neg_shuffled = df_neg.sample(frac=1, random_state=42).reset_index(drop=True)"
   ]
  },
  {
   "cell_type": "code",
   "execution_count": 10,
   "id": "c38c7086",
   "metadata": {},
   "outputs": [
    {
     "data": {
      "text/html": [
       "<div>\n",
       "<style scoped>\n",
       "    .dataframe tbody tr th:only-of-type {\n",
       "        vertical-align: middle;\n",
       "    }\n",
       "\n",
       "    .dataframe tbody tr th {\n",
       "        vertical-align: top;\n",
       "    }\n",
       "\n",
       "    .dataframe thead th {\n",
       "        text-align: right;\n",
       "    }\n",
       "</style>\n",
       "<table border=\"1\" class=\"dataframe\">\n",
       "  <thead>\n",
       "    <tr style=\"text-align: right;\">\n",
       "      <th></th>\n",
       "      <th>word</th>\n",
       "      <th>target</th>\n",
       "    </tr>\n",
       "  </thead>\n",
       "  <tbody>\n",
       "    <tr>\n",
       "      <th>0</th>\n",
       "      <td>navigable</td>\n",
       "      <td>1</td>\n",
       "    </tr>\n",
       "    <tr>\n",
       "      <th>1</th>\n",
       "      <td>encourage</td>\n",
       "      <td>1</td>\n",
       "    </tr>\n",
       "    <tr>\n",
       "      <th>2</th>\n",
       "      <td>dauntless</td>\n",
       "      <td>1</td>\n",
       "    </tr>\n",
       "    <tr>\n",
       "      <th>3</th>\n",
       "      <td>talents</td>\n",
       "      <td>1</td>\n",
       "    </tr>\n",
       "    <tr>\n",
       "      <th>4</th>\n",
       "      <td>dexterously</td>\n",
       "      <td>1</td>\n",
       "    </tr>\n",
       "  </tbody>\n",
       "</table>\n",
       "</div>"
      ],
      "text/plain": [
       "          word  target\n",
       "0    navigable       1\n",
       "1    encourage       1\n",
       "2    dauntless       1\n",
       "3      talents       1\n",
       "4  dexterously       1"
      ]
     },
     "execution_count": 10,
     "metadata": {},
     "output_type": "execute_result"
    }
   ],
   "source": [
    "df_pos_shuffled.head()"
   ]
  },
  {
   "cell_type": "code",
   "execution_count": 22,
   "id": "97d02362",
   "metadata": {},
   "outputs": [],
   "source": [
    "df_pos_train = df_pos_shuffled.iloc[:1500].copy()\n",
    "df_neg_train = df_neg_shuffled.iloc[:1500].copy()\n",
    "\n",
    "df_pos_test = df_pos_shuffled.iloc[1500:2000].copy()\n",
    "df_neg_test = df_neg_shuffled.iloc[1500:2000].copy()"
   ]
  },
  {
   "cell_type": "code",
   "execution_count": 23,
   "id": "e941e71d",
   "metadata": {},
   "outputs": [],
   "source": [
    "Xy_train = pd.concat([df_pos_train, df_neg_train], ignore_index=True)\n",
    "Xy_test = pd.concat([df_pos_test, df_neg_test], ignore_index=True)"
   ]
  },
  {
   "cell_type": "code",
   "execution_count": 24,
   "id": "9a9126a6",
   "metadata": {},
   "outputs": [
    {
     "name": "stdout",
     "output_type": "stream",
     "text": [
      "3000\n",
      "1000\n"
     ]
    }
   ],
   "source": [
    "print(len(Xy_train))\n",
    "print(len(Xy_test))"
   ]
  },
  {
   "cell_type": "code",
   "execution_count": 25,
   "id": "e1a3b1dc",
   "metadata": {},
   "outputs": [],
   "source": [
    "class GloveWordDataset(Dataset):\n",
    "    def __init__(self, df, word_dict, embedding_dim=300):\n",
    "        self.word_dict = word_dict\n",
    "        self.embedding_dim = embedding_dim\n",
    "        \n",
    "        self.X = []\n",
    "        self.y = []\n",
    "\n",
    "        for _, row in df.iterrows():\n",
    "            word = row['word']\n",
    "            target = row['target']\n",
    "            embedding = self.word_dict.get(word, np.zeros(self.embedding_dim))\n",
    "            self.X.append(torch.tensor(embedding, dtype=torch.float32))\n",
    "            self.y.append(torch.tensor(target, dtype=torch.float32))\n",
    "\n",
    "    def __len__(self):\n",
    "        return len(self.X)\n",
    "\n",
    "    def __getitem__(self, idx):\n",
    "        return self.X[idx], self.y[idx]"
   ]
  },
  {
   "cell_type": "code",
   "execution_count": 26,
   "id": "b6eddc9e",
   "metadata": {},
   "outputs": [],
   "source": [
    "embedding_dim = len(next(iter(word_dict.values())))\n",
    "\n",
    "Xy_train = GloveWordDataset(Xy_train, word_dict, embedding_dim)\n",
    "Xy_test = GloveWordDataset(Xy_test, word_dict, embedding_dim)"
   ]
  },
  {
   "cell_type": "code",
   "execution_count": 27,
   "id": "04ee5c32",
   "metadata": {},
   "outputs": [],
   "source": [
    "batch_size = 64\n",
    "\n",
    "train_loader = DataLoader(Xy_train, batch_size=batch_size, shuffle=True)\n",
    "test_loader = DataLoader(Xy_test, batch_size=batch_size)"
   ]
  },
  {
   "cell_type": "markdown",
   "id": "557e02ff",
   "metadata": {},
   "source": [
    "# MLP"
   ]
  },
  {
   "cell_type": "code",
   "execution_count": 28,
   "id": "19837c66",
   "metadata": {},
   "outputs": [],
   "source": [
    "class MLP(nn.Module):\n",
    "    def __init__(self, embedding_dim):\n",
    "        super().__init__()\n",
    "        self.fc1 = nn.Linear(embedding_dim, 128)\n",
    "        self.relu = nn.ReLU()\n",
    "        self.fc2 = nn.Linear(128, 2)\n",
    "\n",
    "    def forward(self, x):\n",
    "        x = x.view(x.shape[0], -1)\n",
    "        x = self.fc1(x)\n",
    "        x = self.relu(x)\n",
    "        return self.fc2(x)"
   ]
  },
  {
   "cell_type": "code",
   "execution_count": 29,
   "id": "98cbb893",
   "metadata": {},
   "outputs": [
    {
     "name": "stdout",
     "output_type": "stream",
     "text": [
      "=================================================================\n",
      "Layer (type:depth-idx)                   Param #\n",
      "=================================================================\n",
      "├─Linear: 1-1                            6,528\n",
      "├─ReLU: 1-2                              --\n",
      "├─Linear: 1-3                            258\n",
      "=================================================================\n",
      "Total params: 6,786\n",
      "Trainable params: 6,786\n",
      "Non-trainable params: 0\n",
      "=================================================================\n"
     ]
    },
    {
     "data": {
      "text/plain": [
       "=================================================================\n",
       "Layer (type:depth-idx)                   Param #\n",
       "=================================================================\n",
       "├─Linear: 1-1                            6,528\n",
       "├─ReLU: 1-2                              --\n",
       "├─Linear: 1-3                            258\n",
       "=================================================================\n",
       "Total params: 6,786\n",
       "Trainable params: 6,786\n",
       "Non-trainable params: 0\n",
       "================================================================="
      ]
     },
     "execution_count": 29,
     "metadata": {},
     "output_type": "execute_result"
    }
   ],
   "source": [
    "model = MLP(embedding_dim).to(device)\n",
    "summary(model)"
   ]
  },
  {
   "cell_type": "code",
   "execution_count": 36,
   "id": "a4da303c",
   "metadata": {},
   "outputs": [],
   "source": [
    "def trainer(model, train_loader, val_loader, optimizer, criterion, n_epochs):\n",
    "    \"\"\"\n",
    "    Trains and evaluates the model for n_epochs.\n",
    "    \"\"\"\n",
    "    total_batches = n_epochs * len(train_loader)\n",
    "    progress = tqdm(total=total_batches, desc=\"Training Progress\", leave=True)\n",
    "\n",
    "    train_losses, val_losses = [], []\n",
    "    train_accs, val_accs = [], []\n",
    "\n",
    "    for epoch in range(n_epochs):\n",
    "        train_loss = 0\n",
    "        train_correct = 0\n",
    "        train_total = 0\n",
    "        y_preds, y_trues = [], []\n",
    "\n",
    "        model.train()\n",
    "        for X_train, y_train in train_loader:\n",
    "            X_train, y_train = X_train.to(device), y_train.to(device)\n",
    "\n",
    "            optimizer.zero_grad()\n",
    "            output = model(X_train)\n",
    "            loss = criterion(output, y_train)\n",
    "            loss.backward()\n",
    "            optimizer.step()\n",
    "\n",
    "            train_loss += loss.item()\n",
    "            _, y_pred = torch.max(output, 1)\n",
    "            train_correct += (y_pred == y_train).sum().item()\n",
    "            train_total += y_train.size(0)\n",
    "\n",
    "            progress.update(1)\n",
    "\n",
    "        avg_train_loss = train_loss / len(train_loader)\n",
    "        train_acc = train_correct / train_total\n",
    "        train_losses.append(avg_train_loss)\n",
    "        train_accs.append(train_acc)\n",
    "\n",
    "        val_loss = 0\n",
    "        val_correct = 0\n",
    "        val_total = 0\n",
    "\n",
    "        model.eval()\n",
    "        with torch.no_grad():\n",
    "            for X_val, y_val in val_loader:\n",
    "                X_val, y_val = X_val.to(device), y_val.to(device)\n",
    "                output = model(X_val)\n",
    "                loss = criterion(output, y_val)\n",
    "\n",
    "                val_loss += loss.item()\n",
    "                _, y_pred = torch.max(output, 1)\n",
    "                val_correct += (y_pred == y_val).sum().item()\n",
    "                val_total += y_val.size(0)\n",
    "\n",
    "                y_preds.append(y_pred.detach().cpu())\n",
    "                y_trues.append(y_val.detach().cpu())\n",
    "\n",
    "        avg_val_loss = val_loss / len(val_loader)\n",
    "        val_acc = val_correct / val_total\n",
    "        val_losses.append(avg_val_loss)\n",
    "        val_accs.append(val_acc)\n",
    "\n",
    "        progress.set_postfix({\n",
    "            'Epoch': f'{epoch + 1}/{n_epochs}',\n",
    "            'Train Loss': f'{avg_train_loss:.4f}',\n",
    "            'Val Loss': f'{avg_val_loss:.4f}',\n",
    "            'Train Acc': f'{train_acc:.4f}',\n",
    "            'Val Acc': f'{val_acc:.4f}'\n",
    "        })\n",
    "    \n",
    "    y_preds = torch.cat(y_preds, dim=0).numpy()\n",
    "    y_trues = torch.cat(y_trues, dim=0).numpy()\n",
    "\n",
    "    progress.close()\n",
    "    return train_losses, val_losses, train_accs, val_accs, y_preds, y_trues"
   ]
  },
  {
   "cell_type": "code",
   "execution_count": null,
   "id": "29ef492f",
   "metadata": {},
   "outputs": [],
   "source": [
    "def plot_loss_curve(n_epochs, train_losses, val_losses, train_acc, val_acc, y_preds, y_trues):\n",
    "    \n",
    "    _, ax = plt.subplots(1, 3, figsize=(14,4), layout='tight')\n",
    "\n",
    "    ax[0].plot(range(1, n_epochs + 1), train_losses, label='Training Loss')\n",
    "    ax[0].plot(range(1, n_epochs + 1), val_losses, label='Validation Loss')\n",
    "    ax[0].set_xlabel('Epoch')\n",
    "    ax[0].set_xticks(range(1, n_epochs+1))\n",
    "    ax[0].set_ylabel('Loss')\n",
    "    ax[0].grid()\n",
    "    ax[0].legend()\n",
    "\n",
    "    ax[1].plot(range(1, n_epochs + 1), train_acc, label='Training Accuracy')\n",
    "    ax[1].plot(range(1, n_epochs + 1), val_acc, label='Validation Accuracy')\n",
    "    ax[1].set_xlabel('Epoch')\n",
    "    ax[1].set_xticks(range(1, n_epochs+1))\n",
    "    ax[1].set_ylabel('Accuracy')\n",
    "    ax[1].set_ylim(0,1)\n",
    "    ax[1].grid()\n",
    "    ax[1].legend()\n",
    "\n",
    "    cm = confusion_matrix(y_trues, y_preds)\n",
    "    disp = ConfusionMatrixDisplay(confusion_matrix=cm)\n",
    "    disp.plot(ax=ax[2])\n",
    "    \n",
    "    plt.show()"
   ]
  },
  {
   "cell_type": "code",
   "execution_count": 38,
   "id": "011c1b33",
   "metadata": {},
   "outputs": [
    {
     "name": "stderr",
     "output_type": "stream",
     "text": [
      "Training Progress: 100%|██████████| 470/470 [00:01<00:00, 322.99it/s, Epoch=10/10, Train Loss=0.2804, Val Loss=0.3354, Train Acc=0.8720, Val Acc=0.8480]\n"
     ]
    },
    {
     "data": {
      "image/png": "[encoded data removed]",
      "text/plain": [
       "<Figure size 1400x400 with 4 Axes>"
      ]
     },
     "metadata": {},
     "output_type": "display_data"
    }
   ],
   "source": [
    "n_epochs = 10\n",
    "\n",
    "model = MLP(embedding_dim).to(device)\n",
    "criterion = nn.CrossEntropyLoss()\n",
    "optimizer = torch.optim.Adam(model.parameters(), lr=0.001)\n",
    "\n",
    "train_losses, test_losses, train_accs, test_accs, y_preds, y_trues = trainer(model, train_loader, test_loader, optimizer, criterion, n_epochs)\n",
    "plot_loss_curve(n_epochs, train_losses, test_losses, train_accs, test_accs, y_preds, y_trues)"
   ]
  },
  {
   "cell_type": "code",
   "execution_count": null,
   "id": "67763a16",
   "metadata": {},
   "outputs": [],
   "source": []
  }
 ],
 "metadata": {
  "kernelspec": {
   "display_name": ".venv",
   "language": "python",
   "name": "python3"
  },
  "language_info": {
   "codemirror_mode": {
    "name": "ipython",
    "version": 3
   },
   "file_extension": ".py",
   "mimetype": "text/x-python",
   "name": "python",
   "nbconvert_exporter": "python",
   "pygments_lexer": "ipython3",
   "version": "3.12.8"
  }
 },
 "nbformat": 4,
 "nbformat_minor": 5
}
