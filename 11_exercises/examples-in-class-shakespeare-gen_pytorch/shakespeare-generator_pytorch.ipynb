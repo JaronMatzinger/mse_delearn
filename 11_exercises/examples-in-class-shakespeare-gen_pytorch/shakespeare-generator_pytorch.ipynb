{
 "cells": [
  {
   "cell_type": "code",
   "execution_count": 1,
   "metadata": {},
   "outputs": [],
   "source": [
    "import numpy as np\n",
    "import random\n",
    "import matplotlib.pyplot as plt\n",
    "import torch\n",
    "import torch.nn.functional as F\n",
    "from torch import nn\n",
    "from torchinfo import summary # with torchsummary we got a bug, consider installing torchinfo\n",
    "from torch.utils.data import DataLoader, TensorDataset # lets us load data in batches\n",
    "from tqdm.notebook import tqdm # with tqdm we got a bug"
   ]
  },
  {
   "cell_type": "code",
   "execution_count": 2,
   "metadata": {},
   "outputs": [
    {
     "name": "stdout",
     "output_type": "stream",
     "text": [
      "Loaded a corpus of 1115394 characters\n"
     ]
    }
   ],
   "source": [
    "# wget the file from https://storage.googleapis.com/download.tensorflow.org/data/shakespeare.txt\n",
    "with open(\"shakespeare.txt\") as corpus_file:\n",
    "    corpus = corpus_file.read()\n",
    "    corpus_length = len(corpus)\n",
    "    \n",
    "print(\"Loaded a corpus of {0} characters\".format(corpus_length))"
   ]
  },
  {
   "cell_type": "code",
   "execution_count": 3,
   "metadata": {},
   "outputs": [
    {
     "name": "stdout",
     "output_type": "stream",
     "text": [
      "Our corpus contains 65 unique characters.\n"
     ]
    }
   ],
   "source": [
    "# Get a unique identifier for each char in the corpus, \n",
    "# then make some dicts to ease encoding and decoding\n",
    "chars = sorted(list(set(corpus)))\n",
    "num_chars = len(chars)\n",
    "encoding = {c: i for i, c in enumerate(chars)}\n",
    "decoding = {i: c for i, c in enumerate(chars)}\n",
    "print(\"Our corpus contains {0} unique characters.\".format(num_chars))"
   ]
  },
  {
   "cell_type": "code",
   "execution_count": 4,
   "metadata": {},
   "outputs": [
    {
     "name": "stdout",
     "output_type": "stream",
     "text": [
      "{0: '\\n', 1: ' ', 2: '!', 3: '$', 4: '&', 5: \"'\", 6: ',', 7: '-', 8: '.', 9: '3', 10: ':', 11: ';', 12: '?', 13: 'A', 14: 'B', 15: 'C', 16: 'D', 17: 'E', 18: 'F', 19: 'G', 20: 'H', 21: 'I', 22: 'J', 23: 'K', 24: 'L', 25: 'M', 26: 'N', 27: 'O', 28: 'P', 29: 'Q', 30: 'R', 31: 'S', 32: 'T', 33: 'U', 34: 'V', 35: 'W', 36: 'X', 37: 'Y', 38: 'Z', 39: 'a', 40: 'b', 41: 'c', 42: 'd', 43: 'e', 44: 'f', 45: 'g', 46: 'h', 47: 'i', 48: 'j', 49: 'k', 50: 'l', 51: 'm', 52: 'n', 53: 'o', 54: 'p', 55: 'q', 56: 'r', 57: 's', 58: 't', 59: 'u', 60: 'v', 61: 'w', 62: 'x', 63: 'y', 64: 'z'}\n",
      "{'\\n': 0, ' ': 1, '!': 2, '$': 3, '&': 4, \"'\": 5, ',': 6, '-': 7, '.': 8, '3': 9, ':': 10, ';': 11, '?': 12, 'A': 13, 'B': 14, 'C': 15, 'D': 16, 'E': 17, 'F': 18, 'G': 19, 'H': 20, 'I': 21, 'J': 22, 'K': 23, 'L': 24, 'M': 25, 'N': 26, 'O': 27, 'P': 28, 'Q': 29, 'R': 30, 'S': 31, 'T': 32, 'U': 33, 'V': 34, 'W': 35, 'X': 36, 'Y': 37, 'Z': 38, 'a': 39, 'b': 40, 'c': 41, 'd': 42, 'e': 43, 'f': 44, 'g': 45, 'h': 46, 'i': 47, 'j': 48, 'k': 49, 'l': 50, 'm': 51, 'n': 52, 'o': 53, 'p': 54, 'q': 55, 'r': 56, 's': 57, 't': 58, 'u': 59, 'v': 60, 'w': 61, 'x': 62, 'y': 63, 'z': 64}\n"
     ]
    }
   ],
   "source": [
    "print(decoding)\n",
    "print(encoding)"
   ]
  },
  {
   "cell_type": "markdown",
   "metadata": {},
   "source": [
    "## Many to One  approach"
   ]
  },
  {
   "cell_type": "code",
   "execution_count": 5,
   "metadata": {},
   "outputs": [
    {
     "name": "stdout",
     "output_type": "stream",
     "text": [
      "Sliced our corpus into 1115374 sentences of length 20\n"
     ]
    }
   ],
   "source": [
    "# chop up our data into X and y, slice into roughly \n",
    "# (num_chars / skip) overlapping 'sentences' of length \n",
    "# sentence_length, and encode the chars\n",
    "sentence_length = 20\n",
    "skip = 1\n",
    "X_data = []\n",
    "y_data = []\n",
    "for i in range (0, len(corpus) - sentence_length, skip):\n",
    "    sentence = corpus[i:i + sentence_length]\n",
    "    next_char = corpus[i + sentence_length]\n",
    "    X_data.append([encoding[char] for char in sentence])\n",
    "    y_data.append(encoding[next_char])\n",
    "\n",
    "num_sentences = len(X_data)\n",
    "print(\"Sliced our corpus into {0} sentences of length {1}\"\n",
    "      .format(num_sentences, sentence_length))"
   ]
  },
  {
   "cell_type": "code",
   "execution_count": 6,
   "metadata": {},
   "outputs": [
    {
     "name": "stdout",
     "output_type": "stream",
     "text": [
      "[18, 47, 56, 57, 58, 1, 15, 47, 58, 47, 64, 43, 52, 10, 0, 14, 43, 44, 53, 56]\n",
      "['F', 'i', 'r', 's', 't', ' ', 'C', 'i', 't', 'i', 'z', 'e', 'n', ':', '\\n', 'B', 'e', 'f', 'o', 'r']\n",
      "e\n"
     ]
    }
   ],
   "source": [
    "print(X_data[0])\n",
    "print([decoding[idx] for idx in X_data[0]])\n",
    "print(decoding[y_data[0]])"
   ]
  },
  {
   "cell_type": "code",
   "execution_count": 7,
   "metadata": {},
   "outputs": [
    {
     "name": "stdout",
     "output_type": "stream",
     "text": [
      "Sanity check y. Dimension: torch.Size([1115374]) # Sentences: 1115374 Characters in corpus: 65\n",
      "Sanity check X. Dimension: torch.Size([1115374, 20, 65]) Sentence length: 20\n"
     ]
    }
   ],
   "source": [
    "# One-hot encode the data.\n",
    "X = F.one_hot(torch.tensor(X_data), num_classes=num_chars).to(torch.float)\n",
    "y = torch.tensor(y_data) #No need to encode labels in one-hot with pytorch,\n",
    "                         #crossEntropy loss needs just the indexes (not 0-1 values)\n",
    "\n",
    "\n",
    "# Double check our vectorized data before we sink hours into fitting a model\n",
    "print(\"Sanity check y. Dimension: {0} # Sentences: {1} Characters in corpus: {2}\"\n",
    "      .format(y.shape, num_sentences, len(chars)))\n",
    "print(\"Sanity check X. Dimension: {0} Sentence length: {1}\"\n",
    "      .format(X.size(), sentence_length))"
   ]
  },
  {
   "cell_type": "code",
   "execution_count": 8,
   "metadata": {},
   "outputs": [],
   "source": [
    "# Let's define our model\n",
    "        \n",
    "class RNNModel(nn.Module):\n",
    "    def __init__(self, input_size, hidden_size, layer_size, num_classes):\n",
    "        super().__init__()\n",
    "        \n",
    "        # Defining the number of h layers and the nodes in each layer\n",
    "        self.layer_size = layer_size\n",
    "        self.hidden_size = hidden_size\n",
    "        \n",
    "        # RNN layers\n",
    "        self.rnn = nn.RNN(input_size, hidden_size, layer_size, batch_first=True)\n",
    "        # Fully connected layer\n",
    "        self.fc = nn.Linear(hidden_size, num_classes)\n",
    "        \n",
    "    def forward(self, x):\n",
    "\n",
    "        # Forward propagation by passing in the input and hidden state into the model\n",
    "        out, _ = self.rnn(x)\n",
    "        # Reshaping the outputs in the shape of (batch_size, seq_length, hidden_size)\n",
    "        # so that it can fit into the fully connected layer\n",
    "        out = out[:, -1]\n",
    "        # Convert the final state to our desired output shape (batch_size, output_size)\n",
    "        out = self.fc(out)\n",
    "        \n",
    "        return out\n",
    "    "
   ]
  },
  {
   "cell_type": "code",
   "execution_count": 9,
   "metadata": {},
   "outputs": [
    {
     "data": {
      "text/plain": [
       "==========================================================================================\n",
       "Layer (type:depth-idx)                   Output Shape              Param #\n",
       "==========================================================================================\n",
       "RNNModel                                 --                        --\n",
       "├─RNN: 1-1                               [128, 20, 256]            82,688\n",
       "├─Linear: 1-2                            [128, 65]                 16,705\n",
       "==========================================================================================\n",
       "Total params: 99,393\n",
       "Trainable params: 99,393\n",
       "Non-trainable params: 0\n",
       "Total mult-adds (M): 213.82\n",
       "==========================================================================================\n",
       "Input size (MB): 0.67\n",
       "Forward/backward pass size (MB): 5.31\n",
       "Params size (MB): 0.40\n",
       "Estimated Total Size (MB): 6.37\n",
       "=========================================================================================="
      ]
     },
     "execution_count": 9,
     "metadata": {},
     "output_type": "execute_result"
    }
   ],
   "source": [
    "hidden_size = 256\n",
    "seq_length = 20\n",
    "num_classes = 65\n",
    "layer_size = 1\n",
    "batch_size= 128\n",
    "\n",
    "device = torch.device(\"cuda\" if torch.cuda.is_available() else \"cpu\")\n",
    "model = RNNModel(num_classes, hidden_size, layer_size, num_classes).to(device)\n",
    "optimizer = torch.optim.Adam(model.parameters(), lr=0.001)\n",
    "criterion = nn.CrossEntropyLoss()\n",
    "\n",
    "summary(model, input_size=(batch_size, seq_length, num_classes))"
   ]
  },
  {
   "cell_type": "code",
   "execution_count": 10,
   "metadata": {},
   "outputs": [
    {
     "data": {
      "text/plain": [
       "RNNModel(\n",
       "  (rnn): RNN(65, 256, batch_first=True)\n",
       "  (fc): Linear(in_features=256, out_features=65, bias=True)\n",
       ")"
      ]
     },
     "execution_count": 10,
     "metadata": {},
     "output_type": "execute_result"
    }
   ],
   "source": [
    "model"
   ]
  },
  {
   "cell_type": "code",
   "execution_count": 11,
   "metadata": {},
   "outputs": [],
   "source": [
    "def train(epoch, model, data_loader, log_interval=200):\n",
    "    model.train()\n",
    "    total_train_loss = 0\n",
    "    total_correct = 0 \n",
    "    # Loop over each batch from the training set\n",
    "    for batch_idx, (data, target) in enumerate(tqdm(data_loader, desc=f\"Training Epoch {epoch}\")):\n",
    "        data = data.to(device)\n",
    "        target = target.to(device)\n",
    "        optimizer.zero_grad() \n",
    "        # Pass data through the network\n",
    "        output = model(data)\n",
    "\n",
    "        # Calculate loss\n",
    "        loss = criterion(output, target)\n",
    "        # Backpropagate. Updates the gradients buffer on each parameter\n",
    "        loss.backward()\n",
    "        # Update weights\n",
    "        optimizer.step()\n",
    "        \n",
    "        total_train_loss += loss.item()\n",
    "        \n",
    "        _, pred = torch.max(output, dim=1)\n",
    "\n",
    "        total_correct += torch.sum(pred == target).item()\n",
    "                  \n",
    "        \n",
    "        if batch_idx % log_interval == 0:\n",
    "            print('Train Epoch: {} [{}/{} ({:.0f}%)]\\tLoss: {:.6f}'.format(\n",
    "                epoch, batch_idx * len(data), len(data_loader.dataset),\n",
    "                100. * batch_idx / len(data_loader), loss.data.item()))\n",
    "    \n",
    "    accuracy_train = total_correct / len(data_loader.dataset)\n",
    "\n",
    "    \n",
    "    total_train_loss = total_train_loss / len(data_loader)\n",
    "\n",
    "    return {\n",
    "        \"loss\": total_train_loss,\n",
    "        \"accuracy\": accuracy_train,\n",
    "    }"
   ]
  },
  {
   "cell_type": "code",
   "execution_count": 12,
   "metadata": {},
   "outputs": [],
   "source": [
    "@torch.inference_mode() \n",
    "def predict(model, data):\n",
    "    # Put the model in eval mode, which disables training specific behaviour.\n",
    "    model.eval()\n",
    "    output = model(data)\n",
    "    return output"
   ]
  },
  {
   "cell_type": "code",
   "execution_count": 13,
   "metadata": {},
   "outputs": [],
   "source": [
    "# Create dataloader from X,y tensors\n",
    "dataset = TensorDataset(X, y)\n",
    "train_loader = DataLoader(dataset, batch_size=batch_size, shuffle=True)"
   ]
  },
  {
   "cell_type": "code",
   "execution_count": 14,
   "metadata": {},
   "outputs": [
    {
     "data": {
      "application/vnd.jupyter.widget-view+json": {
       "model_id": "a97a5f29dbc64bdd8416ab6fdecbbbcb",
       "version_major": 2,
       "version_minor": 0
      },
      "text/plain": [
       "Training Epoch 1:   0%|          | 0/8714 [00:00<?, ?it/s]"
      ]
     },
     "metadata": {},
     "output_type": "display_data"
    },
    {
     "name": "stdout",
     "output_type": "stream",
     "text": [
      "Train Epoch: 1 [0/1115374 (0%)]\tLoss: 4.169981\n",
      "Train Epoch: 1 [25600/1115374 (2%)]\tLoss: 2.681995\n",
      "Train Epoch: 1 [51200/1115374 (5%)]\tLoss: 2.469980\n",
      "Train Epoch: 1 [76800/1115374 (7%)]\tLoss: 2.224135\n",
      "Train Epoch: 1 [102400/1115374 (9%)]\tLoss: 2.281017\n",
      "Train Epoch: 1 [128000/1115374 (11%)]\tLoss: 2.175488\n",
      "Train Epoch: 1 [153600/1115374 (14%)]\tLoss: 2.363190\n",
      "Train Epoch: 1 [179200/1115374 (16%)]\tLoss: 2.362417\n",
      "Train Epoch: 1 [204800/1115374 (18%)]\tLoss: 2.395211\n",
      "Train Epoch: 1 [230400/1115374 (21%)]\tLoss: 2.076811\n",
      "Train Epoch: 1 [256000/1115374 (23%)]\tLoss: 2.212866\n",
      "Train Epoch: 1 [281600/1115374 (25%)]\tLoss: 1.969840\n",
      "Train Epoch: 1 [307200/1115374 (28%)]\tLoss: 2.132294\n",
      "Train Epoch: 1 [332800/1115374 (30%)]\tLoss: 2.136962\n",
      "Train Epoch: 1 [358400/1115374 (32%)]\tLoss: 2.033324\n",
      "Train Epoch: 1 [384000/1115374 (34%)]\tLoss: 2.021786\n",
      "Train Epoch: 1 [409600/1115374 (37%)]\tLoss: 1.968149\n",
      "Train Epoch: 1 [435200/1115374 (39%)]\tLoss: 2.089594\n",
      "Train Epoch: 1 [460800/1115374 (41%)]\tLoss: 1.896635\n",
      "Train Epoch: 1 [486400/1115374 (44%)]\tLoss: 2.270048\n",
      "Train Epoch: 1 [512000/1115374 (46%)]\tLoss: 2.113833\n",
      "Train Epoch: 1 [537600/1115374 (48%)]\tLoss: 1.950098\n",
      "Train Epoch: 1 [563200/1115374 (50%)]\tLoss: 2.103801\n",
      "Train Epoch: 1 [588800/1115374 (53%)]\tLoss: 1.879630\n",
      "Train Epoch: 1 [614400/1115374 (55%)]\tLoss: 2.051762\n",
      "Train Epoch: 1 [640000/1115374 (57%)]\tLoss: 1.879392\n",
      "Train Epoch: 1 [665600/1115374 (60%)]\tLoss: 1.950693\n",
      "Train Epoch: 1 [691200/1115374 (62%)]\tLoss: 2.075116\n",
      "Train Epoch: 1 [716800/1115374 (64%)]\tLoss: 1.975854\n",
      "Train Epoch: 1 [742400/1115374 (67%)]\tLoss: 1.813565\n",
      "Train Epoch: 1 [768000/1115374 (69%)]\tLoss: 1.808166\n",
      "Train Epoch: 1 [793600/1115374 (71%)]\tLoss: 2.263428\n",
      "Train Epoch: 1 [819200/1115374 (73%)]\tLoss: 1.896463\n",
      "Train Epoch: 1 [844800/1115374 (76%)]\tLoss: 1.783356\n",
      "Train Epoch: 1 [870400/1115374 (78%)]\tLoss: 1.918786\n",
      "Train Epoch: 1 [896000/1115374 (80%)]\tLoss: 2.238873\n",
      "Train Epoch: 1 [921600/1115374 (83%)]\tLoss: 2.025663\n",
      "Train Epoch: 1 [947200/1115374 (85%)]\tLoss: 1.986878\n",
      "Train Epoch: 1 [972800/1115374 (87%)]\tLoss: 1.883536\n",
      "Train Epoch: 1 [998400/1115374 (90%)]\tLoss: 1.544263\n",
      "Train Epoch: 1 [1024000/1115374 (92%)]\tLoss: 1.642202\n",
      "Train Epoch: 1 [1049600/1115374 (94%)]\tLoss: 1.809883\n",
      "Train Epoch: 1 [1075200/1115374 (96%)]\tLoss: 1.780860\n",
      "Train Epoch: 1 [1100800/1115374 (99%)]\tLoss: 1.828011\n"
     ]
    },
    {
     "data": {
      "application/vnd.jupyter.widget-view+json": {
       "model_id": "e97ffa9ada2b408abe21aac1281ae864",
       "version_major": 2,
       "version_minor": 0
      },
      "text/plain": [
       "Training Epoch 2:   0%|          | 0/8714 [00:00<?, ?it/s]"
      ]
     },
     "metadata": {},
     "output_type": "display_data"
    },
    {
     "name": "stdout",
     "output_type": "stream",
     "text": [
      "Train Epoch: 2 [0/1115374 (0%)]\tLoss: 1.893206\n",
      "Train Epoch: 2 [25600/1115374 (2%)]\tLoss: 1.747950\n",
      "Train Epoch: 2 [51200/1115374 (5%)]\tLoss: 1.497042\n",
      "Train Epoch: 2 [76800/1115374 (7%)]\tLoss: 1.979671\n",
      "Train Epoch: 2 [102400/1115374 (9%)]\tLoss: 1.838284\n",
      "Train Epoch: 2 [128000/1115374 (11%)]\tLoss: 1.733971\n",
      "Train Epoch: 2 [153600/1115374 (14%)]\tLoss: 1.942205\n",
      "Train Epoch: 2 [179200/1115374 (16%)]\tLoss: 1.814615\n",
      "Train Epoch: 2 [204800/1115374 (18%)]\tLoss: 1.849527\n",
      "Train Epoch: 2 [230400/1115374 (21%)]\tLoss: 1.844924\n",
      "Train Epoch: 2 [256000/1115374 (23%)]\tLoss: 1.859700\n",
      "Train Epoch: 2 [281600/1115374 (25%)]\tLoss: 1.633758\n",
      "Train Epoch: 2 [307200/1115374 (28%)]\tLoss: 1.789626\n",
      "Train Epoch: 2 [332800/1115374 (30%)]\tLoss: 1.494280\n",
      "Train Epoch: 2 [358400/1115374 (32%)]\tLoss: 1.745963\n",
      "Train Epoch: 2 [384000/1115374 (34%)]\tLoss: 1.589289\n",
      "Train Epoch: 2 [409600/1115374 (37%)]\tLoss: 1.610713\n",
      "Train Epoch: 2 [435200/1115374 (39%)]\tLoss: 1.664986\n",
      "Train Epoch: 2 [460800/1115374 (41%)]\tLoss: 1.988114\n",
      "Train Epoch: 2 [486400/1115374 (44%)]\tLoss: 1.924905\n",
      "Train Epoch: 2 [512000/1115374 (46%)]\tLoss: 2.008046\n",
      "Train Epoch: 2 [537600/1115374 (48%)]\tLoss: 1.686547\n",
      "Train Epoch: 2 [563200/1115374 (50%)]\tLoss: 1.677968\n",
      "Train Epoch: 2 [588800/1115374 (53%)]\tLoss: 1.883522\n",
      "Train Epoch: 2 [614400/1115374 (55%)]\tLoss: 1.705066\n",
      "Train Epoch: 2 [640000/1115374 (57%)]\tLoss: 1.871312\n",
      "Train Epoch: 2 [665600/1115374 (60%)]\tLoss: 1.639745\n",
      "Train Epoch: 2 [691200/1115374 (62%)]\tLoss: 1.615256\n",
      "Train Epoch: 2 [716800/1115374 (64%)]\tLoss: 1.526666\n",
      "Train Epoch: 2 [742400/1115374 (67%)]\tLoss: 1.795714\n",
      "Train Epoch: 2 [768000/1115374 (69%)]\tLoss: 1.683101\n",
      "Train Epoch: 2 [793600/1115374 (71%)]\tLoss: 1.691303\n",
      "Train Epoch: 2 [819200/1115374 (73%)]\tLoss: 1.756868\n",
      "Train Epoch: 2 [844800/1115374 (76%)]\tLoss: 1.705535\n",
      "Train Epoch: 2 [870400/1115374 (78%)]\tLoss: 1.776794\n",
      "Train Epoch: 2 [896000/1115374 (80%)]\tLoss: 1.702176\n",
      "Train Epoch: 2 [921600/1115374 (83%)]\tLoss: 1.628290\n",
      "Train Epoch: 2 [947200/1115374 (85%)]\tLoss: 1.656956\n",
      "Train Epoch: 2 [972800/1115374 (87%)]\tLoss: 1.896004\n",
      "Train Epoch: 2 [998400/1115374 (90%)]\tLoss: 1.776003\n",
      "Train Epoch: 2 [1024000/1115374 (92%)]\tLoss: 1.637763\n",
      "Train Epoch: 2 [1049600/1115374 (94%)]\tLoss: 1.646048\n",
      "Train Epoch: 2 [1075200/1115374 (96%)]\tLoss: 1.588359\n",
      "Train Epoch: 2 [1100800/1115374 (99%)]\tLoss: 1.635446\n"
     ]
    },
    {
     "data": {
      "application/vnd.jupyter.widget-view+json": {
       "model_id": "4073c36b5788491fb7227126adc783ce",
       "version_major": 2,
       "version_minor": 0
      },
      "text/plain": [
       "Training Epoch 3:   0%|          | 0/8714 [00:00<?, ?it/s]"
      ]
     },
     "metadata": {},
     "output_type": "display_data"
    },
    {
     "name": "stdout",
     "output_type": "stream",
     "text": [
      "Train Epoch: 3 [0/1115374 (0%)]\tLoss: 1.664692\n",
      "Train Epoch: 3 [25600/1115374 (2%)]\tLoss: 1.620970\n",
      "Train Epoch: 3 [51200/1115374 (5%)]\tLoss: 1.690218\n",
      "Train Epoch: 3 [76800/1115374 (7%)]\tLoss: 1.650244\n",
      "Train Epoch: 3 [102400/1115374 (9%)]\tLoss: 1.873940\n",
      "Train Epoch: 3 [128000/1115374 (11%)]\tLoss: 1.581694\n",
      "Train Epoch: 3 [153600/1115374 (14%)]\tLoss: 1.954471\n",
      "Train Epoch: 3 [179200/1115374 (16%)]\tLoss: 1.527580\n",
      "Train Epoch: 3 [204800/1115374 (18%)]\tLoss: 1.455660\n",
      "Train Epoch: 3 [230400/1115374 (21%)]\tLoss: 1.352105\n",
      "Train Epoch: 3 [256000/1115374 (23%)]\tLoss: 1.701287\n",
      "Train Epoch: 3 [281600/1115374 (25%)]\tLoss: 1.623415\n",
      "Train Epoch: 3 [307200/1115374 (28%)]\tLoss: 1.420686\n",
      "Train Epoch: 3 [332800/1115374 (30%)]\tLoss: 1.723725\n",
      "Train Epoch: 3 [358400/1115374 (32%)]\tLoss: 1.722481\n",
      "Train Epoch: 3 [384000/1115374 (34%)]\tLoss: 1.655469\n",
      "Train Epoch: 3 [409600/1115374 (37%)]\tLoss: 1.813828\n",
      "Train Epoch: 3 [435200/1115374 (39%)]\tLoss: 1.791356\n",
      "Train Epoch: 3 [460800/1115374 (41%)]\tLoss: 1.711065\n",
      "Train Epoch: 3 [486400/1115374 (44%)]\tLoss: 1.558026\n",
      "Train Epoch: 3 [512000/1115374 (46%)]\tLoss: 1.708714\n",
      "Train Epoch: 3 [537600/1115374 (48%)]\tLoss: 1.585575\n",
      "Train Epoch: 3 [563200/1115374 (50%)]\tLoss: 1.465443\n",
      "Train Epoch: 3 [588800/1115374 (53%)]\tLoss: 1.675397\n",
      "Train Epoch: 3 [614400/1115374 (55%)]\tLoss: 1.530720\n",
      "Train Epoch: 3 [640000/1115374 (57%)]\tLoss: 1.849279\n",
      "Train Epoch: 3 [665600/1115374 (60%)]\tLoss: 1.661240\n",
      "Train Epoch: 3 [691200/1115374 (62%)]\tLoss: 1.609781\n",
      "Train Epoch: 3 [716800/1115374 (64%)]\tLoss: 1.641935\n",
      "Train Epoch: 3 [742400/1115374 (67%)]\tLoss: 1.901382\n",
      "Train Epoch: 3 [768000/1115374 (69%)]\tLoss: 1.746677\n",
      "Train Epoch: 3 [793600/1115374 (71%)]\tLoss: 1.579865\n",
      "Train Epoch: 3 [819200/1115374 (73%)]\tLoss: 1.568947\n",
      "Train Epoch: 3 [844800/1115374 (76%)]\tLoss: 1.634872\n",
      "Train Epoch: 3 [870400/1115374 (78%)]\tLoss: 1.506008\n",
      "Train Epoch: 3 [896000/1115374 (80%)]\tLoss: 1.526545\n",
      "Train Epoch: 3 [921600/1115374 (83%)]\tLoss: 1.549640\n",
      "Train Epoch: 3 [947200/1115374 (85%)]\tLoss: 1.514759\n",
      "Train Epoch: 3 [972800/1115374 (87%)]\tLoss: 1.517265\n",
      "Train Epoch: 3 [998400/1115374 (90%)]\tLoss: 1.511843\n",
      "Train Epoch: 3 [1024000/1115374 (92%)]\tLoss: 1.604622\n",
      "Train Epoch: 3 [1049600/1115374 (94%)]\tLoss: 1.516505\n",
      "Train Epoch: 3 [1075200/1115374 (96%)]\tLoss: 1.639074\n",
      "Train Epoch: 3 [1100800/1115374 (99%)]\tLoss: 1.589594\n"
     ]
    },
    {
     "data": {
      "application/vnd.jupyter.widget-view+json": {
       "model_id": "9c92408c4b3648d2bc03adea2dee2287",
       "version_major": 2,
       "version_minor": 0
      },
      "text/plain": [
       "Training Epoch 4:   0%|          | 0/8714 [00:00<?, ?it/s]"
      ]
     },
     "metadata": {},
     "output_type": "display_data"
    },
    {
     "name": "stdout",
     "output_type": "stream",
     "text": [
      "Train Epoch: 4 [0/1115374 (0%)]\tLoss: 1.628476\n",
      "Train Epoch: 4 [25600/1115374 (2%)]\tLoss: 1.673342\n",
      "Train Epoch: 4 [51200/1115374 (5%)]\tLoss: 1.568448\n",
      "Train Epoch: 4 [76800/1115374 (7%)]\tLoss: 1.698754\n",
      "Train Epoch: 4 [102400/1115374 (9%)]\tLoss: 1.625651\n",
      "Train Epoch: 4 [128000/1115374 (11%)]\tLoss: 1.331128\n",
      "Train Epoch: 4 [153600/1115374 (14%)]\tLoss: 1.626625\n",
      "Train Epoch: 4 [179200/1115374 (16%)]\tLoss: 1.477084\n",
      "Train Epoch: 4 [204800/1115374 (18%)]\tLoss: 1.515971\n",
      "Train Epoch: 4 [230400/1115374 (21%)]\tLoss: 1.538875\n",
      "Train Epoch: 4 [256000/1115374 (23%)]\tLoss: 1.710585\n",
      "Train Epoch: 4 [281600/1115374 (25%)]\tLoss: 1.845536\n",
      "Train Epoch: 4 [307200/1115374 (28%)]\tLoss: 1.615008\n",
      "Train Epoch: 4 [332800/1115374 (30%)]\tLoss: 1.522805\n",
      "Train Epoch: 4 [358400/1115374 (32%)]\tLoss: 1.484212\n",
      "Train Epoch: 4 [384000/1115374 (34%)]\tLoss: 1.633295\n",
      "Train Epoch: 4 [409600/1115374 (37%)]\tLoss: 1.608667\n",
      "Train Epoch: 4 [435200/1115374 (39%)]\tLoss: 1.613888\n",
      "Train Epoch: 4 [460800/1115374 (41%)]\tLoss: 1.548276\n",
      "Train Epoch: 4 [486400/1115374 (44%)]\tLoss: 1.587500\n",
      "Train Epoch: 4 [512000/1115374 (46%)]\tLoss: 1.369257\n",
      "Train Epoch: 4 [537600/1115374 (48%)]\tLoss: 1.718868\n",
      "Train Epoch: 4 [563200/1115374 (50%)]\tLoss: 1.561731\n",
      "Train Epoch: 4 [588800/1115374 (53%)]\tLoss: 1.621256\n",
      "Train Epoch: 4 [614400/1115374 (55%)]\tLoss: 1.702628\n",
      "Train Epoch: 4 [640000/1115374 (57%)]\tLoss: 1.390452\n",
      "Train Epoch: 4 [665600/1115374 (60%)]\tLoss: 1.714176\n",
      "Train Epoch: 4 [691200/1115374 (62%)]\tLoss: 1.441190\n",
      "Train Epoch: 4 [716800/1115374 (64%)]\tLoss: 1.585715\n",
      "Train Epoch: 4 [742400/1115374 (67%)]\tLoss: 1.470760\n",
      "Train Epoch: 4 [768000/1115374 (69%)]\tLoss: 1.493003\n",
      "Train Epoch: 4 [793600/1115374 (71%)]\tLoss: 1.578149\n",
      "Train Epoch: 4 [819200/1115374 (73%)]\tLoss: 1.628210\n",
      "Train Epoch: 4 [844800/1115374 (76%)]\tLoss: 1.608939\n",
      "Train Epoch: 4 [870400/1115374 (78%)]\tLoss: 1.767666\n",
      "Train Epoch: 4 [896000/1115374 (80%)]\tLoss: 1.628398\n",
      "Train Epoch: 4 [921600/1115374 (83%)]\tLoss: 1.437986\n",
      "Train Epoch: 4 [947200/1115374 (85%)]\tLoss: 1.714698\n",
      "Train Epoch: 4 [972800/1115374 (87%)]\tLoss: 1.692555\n",
      "Train Epoch: 4 [998400/1115374 (90%)]\tLoss: 1.528221\n",
      "Train Epoch: 4 [1024000/1115374 (92%)]\tLoss: 1.708408\n",
      "Train Epoch: 4 [1049600/1115374 (94%)]\tLoss: 1.617025\n",
      "Train Epoch: 4 [1075200/1115374 (96%)]\tLoss: 1.553757\n",
      "Train Epoch: 4 [1100800/1115374 (99%)]\tLoss: 1.803728\n"
     ]
    },
    {
     "data": {
      "application/vnd.jupyter.widget-view+json": {
       "model_id": "61a8430ba51542589289061669dd5378",
       "version_major": 2,
       "version_minor": 0
      },
      "text/plain": [
       "Training Epoch 5:   0%|          | 0/8714 [00:00<?, ?it/s]"
      ]
     },
     "metadata": {},
     "output_type": "display_data"
    },
    {
     "name": "stdout",
     "output_type": "stream",
     "text": [
      "Train Epoch: 5 [0/1115374 (0%)]\tLoss: 1.663267\n",
      "Train Epoch: 5 [25600/1115374 (2%)]\tLoss: 1.650827\n",
      "Train Epoch: 5 [51200/1115374 (5%)]\tLoss: 1.562723\n",
      "Train Epoch: 5 [76800/1115374 (7%)]\tLoss: 1.387399\n",
      "Train Epoch: 5 [102400/1115374 (9%)]\tLoss: 1.441072\n",
      "Train Epoch: 5 [128000/1115374 (11%)]\tLoss: 1.544817\n",
      "Train Epoch: 5 [153600/1115374 (14%)]\tLoss: 1.618398\n",
      "Train Epoch: 5 [179200/1115374 (16%)]\tLoss: 1.633166\n",
      "Train Epoch: 5 [204800/1115374 (18%)]\tLoss: 1.547117\n",
      "Train Epoch: 5 [230400/1115374 (21%)]\tLoss: 1.344917\n",
      "Train Epoch: 5 [256000/1115374 (23%)]\tLoss: 1.581954\n",
      "Train Epoch: 5 [281600/1115374 (25%)]\tLoss: 1.401630\n",
      "Train Epoch: 5 [307200/1115374 (28%)]\tLoss: 1.600782\n",
      "Train Epoch: 5 [332800/1115374 (30%)]\tLoss: 1.544958\n",
      "Train Epoch: 5 [358400/1115374 (32%)]\tLoss: 1.439140\n",
      "Train Epoch: 5 [384000/1115374 (34%)]\tLoss: 1.718422\n",
      "Train Epoch: 5 [409600/1115374 (37%)]\tLoss: 1.454385\n",
      "Train Epoch: 5 [435200/1115374 (39%)]\tLoss: 1.528686\n",
      "Train Epoch: 5 [460800/1115374 (41%)]\tLoss: 1.473672\n",
      "Train Epoch: 5 [486400/1115374 (44%)]\tLoss: 1.562296\n",
      "Train Epoch: 5 [512000/1115374 (46%)]\tLoss: 1.739146\n",
      "Train Epoch: 5 [537600/1115374 (48%)]\tLoss: 1.624887\n",
      "Train Epoch: 5 [563200/1115374 (50%)]\tLoss: 1.525312\n",
      "Train Epoch: 5 [588800/1115374 (53%)]\tLoss: 1.388771\n",
      "Train Epoch: 5 [614400/1115374 (55%)]\tLoss: 1.391782\n",
      "Train Epoch: 5 [640000/1115374 (57%)]\tLoss: 1.689299\n",
      "Train Epoch: 5 [665600/1115374 (60%)]\tLoss: 1.782854\n",
      "Train Epoch: 5 [691200/1115374 (62%)]\tLoss: 1.515741\n",
      "Train Epoch: 5 [716800/1115374 (64%)]\tLoss: 1.516224\n",
      "Train Epoch: 5 [742400/1115374 (67%)]\tLoss: 1.494754\n",
      "Train Epoch: 5 [768000/1115374 (69%)]\tLoss: 1.610714\n",
      "Train Epoch: 5 [793600/1115374 (71%)]\tLoss: 1.498563\n",
      "Train Epoch: 5 [819200/1115374 (73%)]\tLoss: 1.689292\n",
      "Train Epoch: 5 [844800/1115374 (76%)]\tLoss: 1.622635\n",
      "Train Epoch: 5 [870400/1115374 (78%)]\tLoss: 1.721783\n",
      "Train Epoch: 5 [896000/1115374 (80%)]\tLoss: 1.593620\n",
      "Train Epoch: 5 [921600/1115374 (83%)]\tLoss: 1.349533\n",
      "Train Epoch: 5 [947200/1115374 (85%)]\tLoss: 1.800050\n",
      "Train Epoch: 5 [972800/1115374 (87%)]\tLoss: 1.660165\n",
      "Train Epoch: 5 [998400/1115374 (90%)]\tLoss: 1.619226\n",
      "Train Epoch: 5 [1024000/1115374 (92%)]\tLoss: 1.745382\n",
      "Train Epoch: 5 [1049600/1115374 (94%)]\tLoss: 1.582585\n",
      "Train Epoch: 5 [1075200/1115374 (96%)]\tLoss: 1.591749\n",
      "Train Epoch: 5 [1100800/1115374 (99%)]\tLoss: 1.719504\n"
     ]
    },
    {
     "data": {
      "application/vnd.jupyter.widget-view+json": {
       "model_id": "9287fc0785ae4e8192783ff357eca308",
       "version_major": 2,
       "version_minor": 0
      },
      "text/plain": [
       "Training Epoch 6:   0%|          | 0/8714 [00:00<?, ?it/s]"
      ]
     },
     "metadata": {},
     "output_type": "display_data"
    },
    {
     "name": "stdout",
     "output_type": "stream",
     "text": [
      "Train Epoch: 6 [0/1115374 (0%)]\tLoss: 1.455825\n",
      "Train Epoch: 6 [25600/1115374 (2%)]\tLoss: 1.395231\n",
      "Train Epoch: 6 [51200/1115374 (5%)]\tLoss: 1.348149\n",
      "Train Epoch: 6 [76800/1115374 (7%)]\tLoss: 1.412148\n",
      "Train Epoch: 6 [102400/1115374 (9%)]\tLoss: 1.817682\n",
      "Train Epoch: 6 [128000/1115374 (11%)]\tLoss: 1.650083\n",
      "Train Epoch: 6 [153600/1115374 (14%)]\tLoss: 1.443524\n",
      "Train Epoch: 6 [179200/1115374 (16%)]\tLoss: 1.637295\n",
      "Train Epoch: 6 [204800/1115374 (18%)]\tLoss: 1.591505\n",
      "Train Epoch: 6 [230400/1115374 (21%)]\tLoss: 1.694021\n",
      "Train Epoch: 6 [256000/1115374 (23%)]\tLoss: 1.263211\n",
      "Train Epoch: 6 [281600/1115374 (25%)]\tLoss: 1.528619\n",
      "Train Epoch: 6 [307200/1115374 (28%)]\tLoss: 1.524690\n",
      "Train Epoch: 6 [332800/1115374 (30%)]\tLoss: 1.651365\n",
      "Train Epoch: 6 [358400/1115374 (32%)]\tLoss: 1.541546\n",
      "Train Epoch: 6 [384000/1115374 (34%)]\tLoss: 1.527930\n",
      "Train Epoch: 6 [409600/1115374 (37%)]\tLoss: 1.744090\n",
      "Train Epoch: 6 [435200/1115374 (39%)]\tLoss: 1.608756\n",
      "Train Epoch: 6 [460800/1115374 (41%)]\tLoss: 1.453132\n",
      "Train Epoch: 6 [486400/1115374 (44%)]\tLoss: 1.696959\n",
      "Train Epoch: 6 [512000/1115374 (46%)]\tLoss: 1.542985\n",
      "Train Epoch: 6 [537600/1115374 (48%)]\tLoss: 1.364310\n",
      "Train Epoch: 6 [563200/1115374 (50%)]\tLoss: 1.468807\n",
      "Train Epoch: 6 [588800/1115374 (53%)]\tLoss: 1.692633\n",
      "Train Epoch: 6 [614400/1115374 (55%)]\tLoss: 1.844172\n",
      "Train Epoch: 6 [640000/1115374 (57%)]\tLoss: 1.479875\n",
      "Train Epoch: 6 [665600/1115374 (60%)]\tLoss: 1.611310\n",
      "Train Epoch: 6 [691200/1115374 (62%)]\tLoss: 1.397752\n",
      "Train Epoch: 6 [716800/1115374 (64%)]\tLoss: 1.500383\n",
      "Train Epoch: 6 [742400/1115374 (67%)]\tLoss: 1.681347\n",
      "Train Epoch: 6 [768000/1115374 (69%)]\tLoss: 1.672084\n",
      "Train Epoch: 6 [793600/1115374 (71%)]\tLoss: 1.525561\n",
      "Train Epoch: 6 [819200/1115374 (73%)]\tLoss: 1.618992\n",
      "Train Epoch: 6 [844800/1115374 (76%)]\tLoss: 1.708473\n",
      "Train Epoch: 6 [870400/1115374 (78%)]\tLoss: 1.680032\n",
      "Train Epoch: 6 [896000/1115374 (80%)]\tLoss: 1.402977\n",
      "Train Epoch: 6 [921600/1115374 (83%)]\tLoss: 1.392659\n",
      "Train Epoch: 6 [947200/1115374 (85%)]\tLoss: 1.576688\n",
      "Train Epoch: 6 [972800/1115374 (87%)]\tLoss: 1.641489\n",
      "Train Epoch: 6 [998400/1115374 (90%)]\tLoss: 1.375610\n",
      "Train Epoch: 6 [1024000/1115374 (92%)]\tLoss: 1.445133\n",
      "Train Epoch: 6 [1049600/1115374 (94%)]\tLoss: 1.722808\n",
      "Train Epoch: 6 [1075200/1115374 (96%)]\tLoss: 1.335664\n",
      "Train Epoch: 6 [1100800/1115374 (99%)]\tLoss: 1.326040\n"
     ]
    },
    {
     "data": {
      "application/vnd.jupyter.widget-view+json": {
       "model_id": "cf6d7637467842e5b0c3a917d71ed73b",
       "version_major": 2,
       "version_minor": 0
      },
      "text/plain": [
       "Training Epoch 7:   0%|          | 0/8714 [00:00<?, ?it/s]"
      ]
     },
     "metadata": {},
     "output_type": "display_data"
    },
    {
     "name": "stdout",
     "output_type": "stream",
     "text": [
      "Train Epoch: 7 [0/1115374 (0%)]\tLoss: 1.572369\n",
      "Train Epoch: 7 [25600/1115374 (2%)]\tLoss: 1.613103\n",
      "Train Epoch: 7 [51200/1115374 (5%)]\tLoss: 1.539670\n",
      "Train Epoch: 7 [76800/1115374 (7%)]\tLoss: 1.491674\n",
      "Train Epoch: 7 [102400/1115374 (9%)]\tLoss: 1.763354\n",
      "Train Epoch: 7 [128000/1115374 (11%)]\tLoss: 1.569413\n",
      "Train Epoch: 7 [153600/1115374 (14%)]\tLoss: 1.507401\n",
      "Train Epoch: 7 [179200/1115374 (16%)]\tLoss: 1.882342\n",
      "Train Epoch: 7 [204800/1115374 (18%)]\tLoss: 1.611797\n",
      "Train Epoch: 7 [230400/1115374 (21%)]\tLoss: 1.535619\n",
      "Train Epoch: 7 [256000/1115374 (23%)]\tLoss: 1.783667\n",
      "Train Epoch: 7 [281600/1115374 (25%)]\tLoss: 1.491929\n",
      "Train Epoch: 7 [307200/1115374 (28%)]\tLoss: 1.543199\n",
      "Train Epoch: 7 [332800/1115374 (30%)]\tLoss: 1.481814\n",
      "Train Epoch: 7 [358400/1115374 (32%)]\tLoss: 1.387993\n",
      "Train Epoch: 7 [384000/1115374 (34%)]\tLoss: 1.532188\n",
      "Train Epoch: 7 [409600/1115374 (37%)]\tLoss: 1.467701\n",
      "Train Epoch: 7 [435200/1115374 (39%)]\tLoss: 1.737835\n",
      "Train Epoch: 7 [460800/1115374 (41%)]\tLoss: 1.487697\n",
      "Train Epoch: 7 [486400/1115374 (44%)]\tLoss: 1.451942\n",
      "Train Epoch: 7 [512000/1115374 (46%)]\tLoss: 1.687736\n",
      "Train Epoch: 7 [537600/1115374 (48%)]\tLoss: 1.375912\n",
      "Train Epoch: 7 [563200/1115374 (50%)]\tLoss: 1.337402\n",
      "Train Epoch: 7 [588800/1115374 (53%)]\tLoss: 1.494198\n",
      "Train Epoch: 7 [614400/1115374 (55%)]\tLoss: 1.524741\n",
      "Train Epoch: 7 [640000/1115374 (57%)]\tLoss: 1.622756\n",
      "Train Epoch: 7 [665600/1115374 (60%)]\tLoss: 1.528624\n",
      "Train Epoch: 7 [691200/1115374 (62%)]\tLoss: 1.717472\n",
      "Train Epoch: 7 [716800/1115374 (64%)]\tLoss: 1.387896\n",
      "Train Epoch: 7 [742400/1115374 (67%)]\tLoss: 1.585750\n",
      "Train Epoch: 7 [768000/1115374 (69%)]\tLoss: 1.441861\n",
      "Train Epoch: 7 [793600/1115374 (71%)]\tLoss: 1.595972\n",
      "Train Epoch: 7 [819200/1115374 (73%)]\tLoss: 1.677970\n",
      "Train Epoch: 7 [844800/1115374 (76%)]\tLoss: 1.574006\n",
      "Train Epoch: 7 [870400/1115374 (78%)]\tLoss: 1.738501\n",
      "Train Epoch: 7 [896000/1115374 (80%)]\tLoss: 1.572565\n",
      "Train Epoch: 7 [921600/1115374 (83%)]\tLoss: 1.403608\n",
      "Train Epoch: 7 [947200/1115374 (85%)]\tLoss: 1.406410\n",
      "Train Epoch: 7 [972800/1115374 (87%)]\tLoss: 1.449898\n",
      "Train Epoch: 7 [998400/1115374 (90%)]\tLoss: 1.632572\n",
      "Train Epoch: 7 [1024000/1115374 (92%)]\tLoss: 1.655115\n",
      "Train Epoch: 7 [1049600/1115374 (94%)]\tLoss: 1.577950\n",
      "Train Epoch: 7 [1075200/1115374 (96%)]\tLoss: 1.426710\n",
      "Train Epoch: 7 [1100800/1115374 (99%)]\tLoss: 1.586665\n"
     ]
    },
    {
     "data": {
      "application/vnd.jupyter.widget-view+json": {
       "model_id": "fa0eac9dd10f431d8624039907ce96a9",
       "version_major": 2,
       "version_minor": 0
      },
      "text/plain": [
       "Training Epoch 8:   0%|          | 0/8714 [00:00<?, ?it/s]"
      ]
     },
     "metadata": {},
     "output_type": "display_data"
    },
    {
     "name": "stdout",
     "output_type": "stream",
     "text": [
      "Train Epoch: 8 [0/1115374 (0%)]\tLoss: 1.394031\n",
      "Train Epoch: 8 [25600/1115374 (2%)]\tLoss: 1.722870\n",
      "Train Epoch: 8 [51200/1115374 (5%)]\tLoss: 1.519711\n",
      "Train Epoch: 8 [76800/1115374 (7%)]\tLoss: 1.510985\n",
      "Train Epoch: 8 [102400/1115374 (9%)]\tLoss: 1.671777\n",
      "Train Epoch: 8 [128000/1115374 (11%)]\tLoss: 1.394284\n",
      "Train Epoch: 8 [153600/1115374 (14%)]\tLoss: 1.642728\n",
      "Train Epoch: 8 [179200/1115374 (16%)]\tLoss: 1.483497\n",
      "Train Epoch: 8 [204800/1115374 (18%)]\tLoss: 1.613371\n",
      "Train Epoch: 8 [230400/1115374 (21%)]\tLoss: 1.621354\n",
      "Train Epoch: 8 [256000/1115374 (23%)]\tLoss: 1.532810\n",
      "Train Epoch: 8 [281600/1115374 (25%)]\tLoss: 1.464196\n",
      "Train Epoch: 8 [307200/1115374 (28%)]\tLoss: 1.557190\n",
      "Train Epoch: 8 [332800/1115374 (30%)]\tLoss: 1.382360\n",
      "Train Epoch: 8 [358400/1115374 (32%)]\tLoss: 1.326828\n",
      "Train Epoch: 8 [384000/1115374 (34%)]\tLoss: 1.661571\n",
      "Train Epoch: 8 [409600/1115374 (37%)]\tLoss: 1.444420\n",
      "Train Epoch: 8 [435200/1115374 (39%)]\tLoss: 1.512709\n",
      "Train Epoch: 8 [460800/1115374 (41%)]\tLoss: 1.585636\n",
      "Train Epoch: 8 [486400/1115374 (44%)]\tLoss: 1.668247\n",
      "Train Epoch: 8 [512000/1115374 (46%)]\tLoss: 1.630862\n",
      "Train Epoch: 8 [537600/1115374 (48%)]\tLoss: 1.422538\n",
      "Train Epoch: 8 [563200/1115374 (50%)]\tLoss: 1.568573\n",
      "Train Epoch: 8 [588800/1115374 (53%)]\tLoss: 1.510405\n",
      "Train Epoch: 8 [614400/1115374 (55%)]\tLoss: 1.586169\n",
      "Train Epoch: 8 [640000/1115374 (57%)]\tLoss: 1.616639\n",
      "Train Epoch: 8 [665600/1115374 (60%)]\tLoss: 1.300997\n",
      "Train Epoch: 8 [691200/1115374 (62%)]\tLoss: 1.551016\n",
      "Train Epoch: 8 [716800/1115374 (64%)]\tLoss: 1.545660\n",
      "Train Epoch: 8 [742400/1115374 (67%)]\tLoss: 1.496672\n",
      "Train Epoch: 8 [768000/1115374 (69%)]\tLoss: 1.294680\n",
      "Train Epoch: 8 [793600/1115374 (71%)]\tLoss: 1.573450\n",
      "Train Epoch: 8 [819200/1115374 (73%)]\tLoss: 1.674556\n",
      "Train Epoch: 8 [844800/1115374 (76%)]\tLoss: 1.459049\n",
      "Train Epoch: 8 [870400/1115374 (78%)]\tLoss: 1.588083\n",
      "Train Epoch: 8 [896000/1115374 (80%)]\tLoss: 1.696547\n",
      "Train Epoch: 8 [921600/1115374 (83%)]\tLoss: 1.438422\n",
      "Train Epoch: 8 [947200/1115374 (85%)]\tLoss: 1.483878\n",
      "Train Epoch: 8 [972800/1115374 (87%)]\tLoss: 1.610768\n",
      "Train Epoch: 8 [998400/1115374 (90%)]\tLoss: 1.465859\n",
      "Train Epoch: 8 [1024000/1115374 (92%)]\tLoss: 1.472554\n",
      "Train Epoch: 8 [1049600/1115374 (94%)]\tLoss: 1.432370\n",
      "Train Epoch: 8 [1075200/1115374 (96%)]\tLoss: 1.457308\n",
      "Train Epoch: 8 [1100800/1115374 (99%)]\tLoss: 1.500665\n"
     ]
    },
    {
     "data": {
      "application/vnd.jupyter.widget-view+json": {
       "model_id": "692666f9e1e0497bbeba2c6681c76acf",
       "version_major": 2,
       "version_minor": 0
      },
      "text/plain": [
       "Training Epoch 9:   0%|          | 0/8714 [00:00<?, ?it/s]"
      ]
     },
     "metadata": {},
     "output_type": "display_data"
    },
    {
     "name": "stdout",
     "output_type": "stream",
     "text": [
      "Train Epoch: 9 [0/1115374 (0%)]\tLoss: 1.247814\n",
      "Train Epoch: 9 [25600/1115374 (2%)]\tLoss: 1.563518\n",
      "Train Epoch: 9 [51200/1115374 (5%)]\tLoss: 1.745325\n",
      "Train Epoch: 9 [76800/1115374 (7%)]\tLoss: 1.704841\n",
      "Train Epoch: 9 [102400/1115374 (9%)]\tLoss: 1.519532\n",
      "Train Epoch: 9 [128000/1115374 (11%)]\tLoss: 1.779722\n",
      "Train Epoch: 9 [153600/1115374 (14%)]\tLoss: 1.397050\n",
      "Train Epoch: 9 [179200/1115374 (16%)]\tLoss: 1.787843\n",
      "Train Epoch: 9 [204800/1115374 (18%)]\tLoss: 1.517735\n",
      "Train Epoch: 9 [230400/1115374 (21%)]\tLoss: 1.417898\n",
      "Train Epoch: 9 [256000/1115374 (23%)]\tLoss: 1.627772\n",
      "Train Epoch: 9 [281600/1115374 (25%)]\tLoss: 1.350984\n",
      "Train Epoch: 9 [307200/1115374 (28%)]\tLoss: 1.609475\n",
      "Train Epoch: 9 [332800/1115374 (30%)]\tLoss: 1.429184\n",
      "Train Epoch: 9 [358400/1115374 (32%)]\tLoss: 1.351100\n",
      "Train Epoch: 9 [384000/1115374 (34%)]\tLoss: 1.430286\n",
      "Train Epoch: 9 [409600/1115374 (37%)]\tLoss: 1.433340\n",
      "Train Epoch: 9 [435200/1115374 (39%)]\tLoss: 1.766405\n",
      "Train Epoch: 9 [460800/1115374 (41%)]\tLoss: 1.514033\n",
      "Train Epoch: 9 [486400/1115374 (44%)]\tLoss: 1.469441\n",
      "Train Epoch: 9 [512000/1115374 (46%)]\tLoss: 1.266741\n",
      "Train Epoch: 9 [537600/1115374 (48%)]\tLoss: 1.431336\n",
      "Train Epoch: 9 [563200/1115374 (50%)]\tLoss: 1.480564\n",
      "Train Epoch: 9 [588800/1115374 (53%)]\tLoss: 1.571037\n",
      "Train Epoch: 9 [614400/1115374 (55%)]\tLoss: 1.543647\n",
      "Train Epoch: 9 [640000/1115374 (57%)]\tLoss: 1.516838\n",
      "Train Epoch: 9 [665600/1115374 (60%)]\tLoss: 1.562124\n",
      "Train Epoch: 9 [691200/1115374 (62%)]\tLoss: 1.682863\n",
      "Train Epoch: 9 [716800/1115374 (64%)]\tLoss: 1.478761\n",
      "Train Epoch: 9 [742400/1115374 (67%)]\tLoss: 1.326495\n",
      "Train Epoch: 9 [768000/1115374 (69%)]\tLoss: 1.564029\n",
      "Train Epoch: 9 [793600/1115374 (71%)]\tLoss: 1.352071\n",
      "Train Epoch: 9 [819200/1115374 (73%)]\tLoss: 1.640018\n",
      "Train Epoch: 9 [844800/1115374 (76%)]\tLoss: 1.519426\n",
      "Train Epoch: 9 [870400/1115374 (78%)]\tLoss: 1.477119\n",
      "Train Epoch: 9 [896000/1115374 (80%)]\tLoss: 1.515985\n",
      "Train Epoch: 9 [921600/1115374 (83%)]\tLoss: 1.716554\n",
      "Train Epoch: 9 [947200/1115374 (85%)]\tLoss: 1.613191\n",
      "Train Epoch: 9 [972800/1115374 (87%)]\tLoss: 1.656174\n",
      "Train Epoch: 9 [998400/1115374 (90%)]\tLoss: 1.541209\n",
      "Train Epoch: 9 [1024000/1115374 (92%)]\tLoss: 1.575908\n",
      "Train Epoch: 9 [1049600/1115374 (94%)]\tLoss: 1.482531\n",
      "Train Epoch: 9 [1075200/1115374 (96%)]\tLoss: 1.601278\n",
      "Train Epoch: 9 [1100800/1115374 (99%)]\tLoss: 1.522904\n"
     ]
    },
    {
     "data": {
      "application/vnd.jupyter.widget-view+json": {
       "model_id": "1dc2f49c53c9465b8575da0a4fa80c09",
       "version_major": 2,
       "version_minor": 0
      },
      "text/plain": [
       "Training Epoch 10:   0%|          | 0/8714 [00:00<?, ?it/s]"
      ]
     },
     "metadata": {},
     "output_type": "display_data"
    },
    {
     "name": "stdout",
     "output_type": "stream",
     "text": [
      "Train Epoch: 10 [0/1115374 (0%)]\tLoss: 1.633830\n",
      "Train Epoch: 10 [25600/1115374 (2%)]\tLoss: 1.504240\n",
      "Train Epoch: 10 [51200/1115374 (5%)]\tLoss: 1.612590\n",
      "Train Epoch: 10 [76800/1115374 (7%)]\tLoss: 1.515229\n",
      "Train Epoch: 10 [102400/1115374 (9%)]\tLoss: 1.343975\n",
      "Train Epoch: 10 [128000/1115374 (11%)]\tLoss: 1.854024\n",
      "Train Epoch: 10 [153600/1115374 (14%)]\tLoss: 1.419483\n",
      "Train Epoch: 10 [179200/1115374 (16%)]\tLoss: 1.478558\n",
      "Train Epoch: 10 [204800/1115374 (18%)]\tLoss: 1.545510\n",
      "Train Epoch: 10 [230400/1115374 (21%)]\tLoss: 1.596822\n",
      "Train Epoch: 10 [256000/1115374 (23%)]\tLoss: 1.465683\n",
      "Train Epoch: 10 [281600/1115374 (25%)]\tLoss: 1.738907\n",
      "Train Epoch: 10 [307200/1115374 (28%)]\tLoss: 1.496520\n",
      "Train Epoch: 10 [332800/1115374 (30%)]\tLoss: 1.562315\n",
      "Train Epoch: 10 [358400/1115374 (32%)]\tLoss: 1.580261\n",
      "Train Epoch: 10 [384000/1115374 (34%)]\tLoss: 1.424862\n",
      "Train Epoch: 10 [409600/1115374 (37%)]\tLoss: 1.244634\n",
      "Train Epoch: 10 [435200/1115374 (39%)]\tLoss: 1.789104\n",
      "Train Epoch: 10 [460800/1115374 (41%)]\tLoss: 1.587310\n",
      "Train Epoch: 10 [486400/1115374 (44%)]\tLoss: 1.568849\n",
      "Train Epoch: 10 [512000/1115374 (46%)]\tLoss: 1.385946\n",
      "Train Epoch: 10 [537600/1115374 (48%)]\tLoss: 1.490144\n",
      "Train Epoch: 10 [563200/1115374 (50%)]\tLoss: 1.647900\n",
      "Train Epoch: 10 [588800/1115374 (53%)]\tLoss: 1.245037\n",
      "Train Epoch: 10 [614400/1115374 (55%)]\tLoss: 1.535732\n",
      "Train Epoch: 10 [640000/1115374 (57%)]\tLoss: 1.419335\n",
      "Train Epoch: 10 [665600/1115374 (60%)]\tLoss: 1.758016\n",
      "Train Epoch: 10 [691200/1115374 (62%)]\tLoss: 1.422003\n",
      "Train Epoch: 10 [716800/1115374 (64%)]\tLoss: 1.399306\n",
      "Train Epoch: 10 [742400/1115374 (67%)]\tLoss: 1.375341\n",
      "Train Epoch: 10 [768000/1115374 (69%)]\tLoss: 1.373253\n",
      "Train Epoch: 10 [793600/1115374 (71%)]\tLoss: 1.306074\n",
      "Train Epoch: 10 [819200/1115374 (73%)]\tLoss: 1.387794\n",
      "Train Epoch: 10 [844800/1115374 (76%)]\tLoss: 1.625903\n",
      "Train Epoch: 10 [870400/1115374 (78%)]\tLoss: 1.307145\n",
      "Train Epoch: 10 [896000/1115374 (80%)]\tLoss: 1.555375\n",
      "Train Epoch: 10 [921600/1115374 (83%)]\tLoss: 1.391227\n",
      "Train Epoch: 10 [947200/1115374 (85%)]\tLoss: 1.444363\n",
      "Train Epoch: 10 [972800/1115374 (87%)]\tLoss: 1.577375\n",
      "Train Epoch: 10 [998400/1115374 (90%)]\tLoss: 1.906362\n",
      "Train Epoch: 10 [1024000/1115374 (92%)]\tLoss: 1.517009\n",
      "Train Epoch: 10 [1049600/1115374 (94%)]\tLoss: 1.606481\n",
      "Train Epoch: 10 [1075200/1115374 (96%)]\tLoss: 1.241100\n",
      "Train Epoch: 10 [1100800/1115374 (99%)]\tLoss: 1.336317\n"
     ]
    }
   ],
   "source": [
    "# train the model\n",
    "#%%time\n",
    "\n",
    "# Keep track of stats to plot them\n",
    "train_losses = []\n",
    "train_accuracies = []\n",
    "val_losses = []\n",
    "val_accuracies = []\n",
    "\n",
    "epochs = 10\n",
    "for epoch in range(1, epochs + 1):\n",
    "    train_result = train(epoch, model, train_loader)\n",
    "    train_losses.append(train_result[\"loss\"])\n",
    "    train_accuracies.append(train_result[\"accuracy\"])\n",
    "    "
   ]
  },
  {
   "cell_type": "code",
   "execution_count": 15,
   "metadata": {},
   "outputs": [
    {
     "data": {
      "image/png": "[encoded data removed]",
      "text/plain": [
       "<Figure size 432x288 with 1 Axes>"
      ]
     },
     "metadata": {
      "needs_background": "light"
     },
     "output_type": "display_data"
    }
   ],
   "source": [
    "plt.plot(train_losses, label='Training loss')\n",
    "plt.legend()\n",
    "plt.grid()"
   ]
  },
  {
   "cell_type": "code",
   "execution_count": 16,
   "metadata": {},
   "outputs": [
    {
     "name": "stdout",
     "output_type": "stream",
     "text": [
      "seed = Once upon a time in \n",
      "me than I am love port's as intopt,\n",
      "Thy soul stay, us and gentle poor decext post that firsublo's sist mine!\n",
      "Anch, Romer on thee, yet he knee\n",
      "full true heir of moce to Richard.\n",
      "\n",
      "POMPEY:\n",
      "Now entent they so, my lord.\n",
      "\n",
      "ROMEO:\n",
      "Pay's hungling awaicother his quaints of man than\n",
      "A find'd so let us appreice,\n",
      "And father we was fell will -wompedly sifel king,\n",
      "thou hath were is is his frath, or present and govisuim in minimable\n",
      "And pleasare livine mear grievens for\n",
      "thee.\n",
      "\n",
      "LEONTES:\n",
      "There's Couss'd, stay you\n"
     ]
    }
   ],
   "source": [
    "def make_seed(seed_phrase=\"\"):\n",
    "        if seed_phrase:  # make sure the seed has the right length\n",
    "            phrase_length = len(seed_phrase)\n",
    "            pattern = \"\"\n",
    "            for i in range (0, sentence_length):\n",
    "                pattern += seed_phrase[i % phrase_length]\n",
    "        else:            # sample randomly the seed from corpus\n",
    "            seed = random.randint(0, corpus_length - sentence_length)\n",
    "            pattern = corpus[seed:seed + sentence_length]\n",
    "        return pattern\n",
    "    \n",
    "    \n",
    "\n",
    "seed_pattern = make_seed(\"Once upon a time in \")\n",
    "print(\"seed = \" + seed_pattern)\n",
    "\n",
    "encoded_text = torch.tensor([encoding[char] for char in seed_pattern])\n",
    "encoded_text = F.one_hot(encoded_text, num_classes=num_chars).to(torch.float)\n",
    "# Add a single batch dimension at the beginning\n",
    "encoded_text = encoded_text.unsqueeze(0)\n",
    "encoded_text = encoded_text.to(device)\n",
    "\n",
    "generated_text = \"\"\n",
    "for i in range(500):\n",
    "    # predict() gives a tensor of shape (1, 65) \n",
    "    # with 1 being the size of the batch, for that we use [0] to get a vector\n",
    "    output = predict(model, encoded_text)[0]\n",
    "    # Convert the output to probabilities\n",
    "    probs = torch.softmax(output, dim=-1)\n",
    "    # Randomly choose from a multinomial distribution with the output probabilities\n",
    "    # make the generation more diverse.\n",
    "    prediction = torch.multinomial(probs, num_samples=1)\n",
    "    generated_text += decoding[int(prediction)]\n",
    "    \n",
    "    # One hot encode the new (predicted) character\n",
    "    next_char_encoded = F.one_hot(prediction, num_classes=num_chars)\n",
    "    # Make sure it has a singular batch and seq_len dimension in order to concatenate them.\n",
    "    next_char_encoded = next_char_encoded.view(1, 1, num_chars)\n",
    "    # Remove first char and glue the predicted one to the end\n",
    "    encoded_text = torch.cat((encoded_text[:, 1:], next_char_encoded), dim=1)\n",
    "print(generated_text)"
   ]
  },
  {
   "cell_type": "markdown",
   "metadata": {},
   "source": [
    "## Many to many approach"
   ]
  },
  {
   "cell_type": "code",
   "execution_count": 43,
   "metadata": {},
   "outputs": [
    {
     "name": "stdout",
     "output_type": "stream",
     "text": [
      "Sliced our corpus into 1115374 sentences of length 20\n"
     ]
    }
   ],
   "source": [
    "# chop up our data into X and y, slice into roughly \n",
    "# (num_chars / skip) overlapping 'sentences' of length \n",
    "# sentence_length, and encode the chars\n",
    "sentence_length = 20\n",
    "skip = 1\n",
    "X_data = []\n",
    "y_data = []\n",
    "for i in range (0, len(corpus) - sentence_length, skip):\n",
    "    sentence = corpus[i:i + sentence_length]\n",
    "    next_char = corpus[i+1:i+1 + sentence_length]\n",
    "    X_data.append([encoding[char] for char in sentence])\n",
    "    y_data.append([encoding[char] for char in next_char])\n",
    "\n",
    "num_sentences = len(X_data)\n",
    "print(\"Sliced our corpus into {0} sentences of length {1}\"\n",
    "      .format(num_sentences, sentence_length))"
   ]
  },
  {
   "cell_type": "code",
   "execution_count": 44,
   "metadata": {},
   "outputs": [
    {
     "name": "stdout",
     "output_type": "stream",
     "text": [
      "[18, 47, 56, 57, 58, 1, 15, 47, 58, 47, 64, 43, 52, 10, 0, 14, 43, 44, 53, 56]\n"
     ]
    }
   ],
   "source": [
    "print(X_data[0])"
   ]
  },
  {
   "cell_type": "code",
   "execution_count": 45,
   "metadata": {},
   "outputs": [
    {
     "name": "stdout",
     "output_type": "stream",
     "text": [
      "['F', 'i', 'r', 's', 't', ' ', 'C', 'i', 't', 'i', 'z', 'e', 'n', ':', '\\n', 'B', 'e', 'f', 'o', 'r']\n",
      "['i', 'r', 's', 't', ' ', 'C', 'i', 't', 'i', 'z', 'e', 'n', ':', '\\n', 'B', 'e', 'f', 'o', 'r', 'e']\n"
     ]
    }
   ],
   "source": [
    "print([decoding[idx] for idx in X_data[0]])\n",
    "print([decoding[idx] for idx in y_data[0]])\n"
   ]
  },
  {
   "cell_type": "code",
   "execution_count": 46,
   "metadata": {},
   "outputs": [],
   "source": [
    "# One-hot encode the data.\n",
    "X = F.one_hot(torch.tensor(X_data), num_classes=num_chars).to(torch.float)\n",
    "y = torch.tensor(y_data)"
   ]
  },
  {
   "cell_type": "code",
   "execution_count": 51,
   "metadata": {},
   "outputs": [],
   "source": [
    "# many2many model\n",
    "class mmRNNModel(nn.Module):\n",
    "    def __init__(self, input_size, hidden_size, layer_size, num_classes):\n",
    "        super().__init__()\n",
    "        \n",
    "        # Defining the number of h layers and the nodes in each layer\n",
    "        self.layer_size = layer_size\n",
    "        self.hidden_size = hidden_size\n",
    "        # RNN layers\n",
    "        self.rnn = nn.RNN(input_size, hidden_size, layer_size, batch_first=True)\n",
    "        # Fully connected layer\n",
    "        self.fc = nn.Linear(hidden_size, num_classes)\n",
    "        \n",
    "    def forward(self, x):\n",
    "        out, _ = self.rnn(x)\n",
    "        #out = out[:, -1] # as you can see this line was deleted: This means instead of taking just the last hidden\n",
    "        #state with out = out[:, -1] (size: batch_size x num_classes), we keep all the hidden states because out has \n",
    "        #a size of: batch_size x seq_len x num_classes (one hidden state per character in the sequence).\n",
    "\n",
    "        \n",
    "        #During inference, we take only the last hidden state\n",
    "        #because other predictions are used only to train the model\n",
    "        if not self.train:\n",
    "            out = out[:, -1]\n",
    "            \n",
    "        # the Linear layer works automatically with one more dimension.\n",
    "        out = self.fc(out)\n",
    "        \n",
    "        return out"
   ]
  },
  {
   "cell_type": "code",
   "execution_count": 52,
   "metadata": {},
   "outputs": [
    {
     "data": {
      "text/plain": [
       "==========================================================================================\n",
       "Layer (type:depth-idx)                   Output Shape              Param #\n",
       "==========================================================================================\n",
       "mmRNNModel                               --                        --\n",
       "├─RNN: 1-1                               [128, 20, 256]            82,688\n",
       "├─Linear: 1-2                            [128, 20, 65]             16,705\n",
       "==========================================================================================\n",
       "Total params: 99,393\n",
       "Trainable params: 99,393\n",
       "Non-trainable params: 0\n",
       "Total mult-adds (M): 213.82\n",
       "==========================================================================================\n",
       "Input size (MB): 0.67\n",
       "Forward/backward pass size (MB): 6.57\n",
       "Params size (MB): 0.40\n",
       "Estimated Total Size (MB): 7.64\n",
       "=========================================================================================="
      ]
     },
     "execution_count": 52,
     "metadata": {},
     "output_type": "execute_result"
    }
   ],
   "source": [
    "hidden_size = 256\n",
    "seq_length = 20\n",
    "num_classes = 65\n",
    "layer_size = 1\n",
    "batch_size= 128\n",
    "\n",
    "device = torch.device(\"cuda\" if torch.cuda.is_available() else \"cpu\")\n",
    "modelmm = mmRNNModel(num_classes, hidden_size, layer_size, num_classes).to(device)\n",
    "optimizer = torch.optim.Adam(modelmm.parameters(), lr=0.001)\n",
    "criterion = nn.CrossEntropyLoss()\n",
    "\n",
    "summary(modelmm, input_size=(batch_size, seq_length, num_classes))"
   ]
  },
  {
   "cell_type": "code",
   "execution_count": 53,
   "metadata": {},
   "outputs": [],
   "source": [
    "def train(epoch, model, data_loader, log_interval=200):\n",
    "    model.train()\n",
    "    total_train_loss = 0\n",
    "    total_correct = 0 \n",
    "    # Loop over each batch from the training set\n",
    "    for batch_idx, (data, target) in enumerate(tqdm(data_loader, desc=f\"Training Epoch {epoch}\")):\n",
    "        data = data.to(device)\n",
    "        target = target.to(device)\n",
    "        optimizer.zero_grad() \n",
    "\n",
    "        output = model(data)\n",
    "        \n",
    "        #the only modification here consists in modifying the cross-entropy, because it takes inputs with \n",
    "        #dimensions: (N, C, d1, d2, ..., dk), that means the dimension of the classes is always the 2nd, \n",
    "        #and all the extra dimensions come at the end. You have to change your output to size:\n",
    "        # batch_size x seq_len x num_classes -> batch_size x num_classes x seq_len. \n",
    "        #It's just a transpose of the loss criterion (output.transpose(1, 2), target).\n",
    "        output = output.transpose(1, 2) \n",
    "        loss = criterion(output, target)\n",
    "\n",
    "        loss.backward()\n",
    "\n",
    "        optimizer.step()\n",
    "        \n",
    "        total_train_loss += loss.item()\n",
    "        \n",
    "        _, pred = torch.max(output, dim=1)\n",
    "\n",
    "        total_correct += torch.sum(pred == target).item()\n",
    "                  \n",
    "        \n",
    "        if batch_idx % log_interval == 0:\n",
    "            print('Train Epoch: {} [{}/{} ({:.0f}%)]\\tLoss: {:.6f}'.format(\n",
    "                epoch, batch_idx * len(data), len(data_loader.dataset),\n",
    "                100. * batch_idx / len(data_loader), loss.data.item()))\n",
    "    \n",
    "    accuracy_train = total_correct / len(data_loader.dataset)\n",
    "\n",
    "    \n",
    "    total_train_loss = total_train_loss / len(data_loader)\n",
    "\n",
    "    return {\n",
    "        \"loss\": total_train_loss,\n",
    "        \"accuracy\": accuracy_train,\n",
    "    }"
   ]
  },
  {
   "cell_type": "code",
   "execution_count": 59,
   "metadata": {},
   "outputs": [],
   "source": [
    "@torch.inference_mode() \n",
    "def predict(model, data):\n",
    "    # Put the model in eval mode\n",
    "    model.eval()\n",
    "    output = model(data)\n",
    "    return output"
   ]
  },
  {
   "cell_type": "code",
   "execution_count": 55,
   "metadata": {},
   "outputs": [],
   "source": [
    "# Create dataloader from X,y tensors\n",
    "datasett = TensorDataset(X, y)\n",
    "train_loader = DataLoader(datasett, batch_size=batch_size, shuffle=True)"
   ]
  },
  {
   "cell_type": "code",
   "execution_count": 56,
   "metadata": {},
   "outputs": [
    {
     "data": {
      "application/vnd.jupyter.widget-view+json": {
       "model_id": "46dc7217a1794c2ba3d66305dd059698",
       "version_major": 2,
       "version_minor": 0
      },
      "text/plain": [
       "Training Epoch 1:   0%|          | 0/8714 [00:00<?, ?it/s]"
      ]
     },
     "metadata": {},
     "output_type": "display_data"
    },
    {
     "name": "stdout",
     "output_type": "stream",
     "text": [
      "Train Epoch: 1 [0/1115374 (0%)]\tLoss: 4.172177\n",
      "Train Epoch: 1 [25600/1115374 (2%)]\tLoss: 2.544350\n",
      "Train Epoch: 1 [51200/1115374 (5%)]\tLoss: 2.233426\n",
      "Train Epoch: 1 [76800/1115374 (7%)]\tLoss: 2.088389\n",
      "Train Epoch: 1 [102400/1115374 (9%)]\tLoss: 2.093889\n",
      "Train Epoch: 1 [128000/1115374 (11%)]\tLoss: 2.030957\n",
      "Train Epoch: 1 [153600/1115374 (14%)]\tLoss: 1.971463\n",
      "Train Epoch: 1 [179200/1115374 (16%)]\tLoss: 1.950469\n",
      "Train Epoch: 1 [204800/1115374 (18%)]\tLoss: 1.923469\n",
      "Train Epoch: 1 [230400/1115374 (21%)]\tLoss: 1.884498\n",
      "Train Epoch: 1 [256000/1115374 (23%)]\tLoss: 1.864313\n",
      "Train Epoch: 1 [281600/1115374 (25%)]\tLoss: 1.828224\n",
      "Train Epoch: 1 [307200/1115374 (28%)]\tLoss: 1.817915\n",
      "Train Epoch: 1 [332800/1115374 (30%)]\tLoss: 1.736223\n",
      "Train Epoch: 1 [358400/1115374 (32%)]\tLoss: 1.711920\n",
      "Train Epoch: 1 [384000/1115374 (34%)]\tLoss: 1.743092\n",
      "Train Epoch: 1 [409600/1115374 (37%)]\tLoss: 1.754062\n",
      "Train Epoch: 1 [435200/1115374 (39%)]\tLoss: 1.767477\n",
      "Train Epoch: 1 [460800/1115374 (41%)]\tLoss: 1.722563\n",
      "Train Epoch: 1 [486400/1115374 (44%)]\tLoss: 1.702817\n",
      "Train Epoch: 1 [512000/1115374 (46%)]\tLoss: 1.718565\n",
      "Train Epoch: 1 [537600/1115374 (48%)]\tLoss: 1.713435\n",
      "Train Epoch: 1 [563200/1115374 (50%)]\tLoss: 1.678163\n",
      "Train Epoch: 1 [588800/1115374 (53%)]\tLoss: 1.742047\n",
      "Train Epoch: 1 [614400/1115374 (55%)]\tLoss: 1.659556\n",
      "Train Epoch: 1 [640000/1115374 (57%)]\tLoss: 1.637041\n",
      "Train Epoch: 1 [665600/1115374 (60%)]\tLoss: 1.627295\n",
      "Train Epoch: 1 [691200/1115374 (62%)]\tLoss: 1.713288\n",
      "Train Epoch: 1 [716800/1115374 (64%)]\tLoss: 1.715913\n",
      "Train Epoch: 1 [742400/1115374 (67%)]\tLoss: 1.636680\n",
      "Train Epoch: 1 [768000/1115374 (69%)]\tLoss: 1.621563\n",
      "Train Epoch: 1 [793600/1115374 (71%)]\tLoss: 1.577881\n",
      "Train Epoch: 1 [819200/1115374 (73%)]\tLoss: 1.613419\n",
      "Train Epoch: 1 [844800/1115374 (76%)]\tLoss: 1.614644\n",
      "Train Epoch: 1 [870400/1115374 (78%)]\tLoss: 1.598505\n",
      "Train Epoch: 1 [896000/1115374 (80%)]\tLoss: 1.607293\n",
      "Train Epoch: 1 [921600/1115374 (83%)]\tLoss: 1.610091\n",
      "Train Epoch: 1 [947200/1115374 (85%)]\tLoss: 1.659287\n",
      "Train Epoch: 1 [972800/1115374 (87%)]\tLoss: 1.604076\n",
      "Train Epoch: 1 [998400/1115374 (90%)]\tLoss: 1.522610\n",
      "Train Epoch: 1 [1024000/1115374 (92%)]\tLoss: 1.511707\n",
      "Train Epoch: 1 [1049600/1115374 (94%)]\tLoss: 1.563700\n",
      "Train Epoch: 1 [1075200/1115374 (96%)]\tLoss: 1.622288\n",
      "Train Epoch: 1 [1100800/1115374 (99%)]\tLoss: 1.566473\n"
     ]
    },
    {
     "data": {
      "application/vnd.jupyter.widget-view+json": {
       "model_id": "ce366bde051a49ba8e2b67b0139367c4",
       "version_major": 2,
       "version_minor": 0
      },
      "text/plain": [
       "Training Epoch 2:   0%|          | 0/8714 [00:00<?, ?it/s]"
      ]
     },
     "metadata": {},
     "output_type": "display_data"
    },
    {
     "name": "stdout",
     "output_type": "stream",
     "text": [
      "Train Epoch: 2 [0/1115374 (0%)]\tLoss: 1.536698\n",
      "Train Epoch: 2 [25600/1115374 (2%)]\tLoss: 1.569369\n",
      "Train Epoch: 2 [51200/1115374 (5%)]\tLoss: 1.588265\n",
      "Train Epoch: 2 [76800/1115374 (7%)]\tLoss: 1.587728\n",
      "Train Epoch: 2 [102400/1115374 (9%)]\tLoss: 1.563061\n",
      "Train Epoch: 2 [128000/1115374 (11%)]\tLoss: 1.554513\n",
      "Train Epoch: 2 [153600/1115374 (14%)]\tLoss: 1.564109\n",
      "Train Epoch: 2 [179200/1115374 (16%)]\tLoss: 1.569998\n",
      "Train Epoch: 2 [204800/1115374 (18%)]\tLoss: 1.608607\n",
      "Train Epoch: 2 [230400/1115374 (21%)]\tLoss: 1.558463\n",
      "Train Epoch: 2 [256000/1115374 (23%)]\tLoss: 1.547767\n",
      "Train Epoch: 2 [281600/1115374 (25%)]\tLoss: 1.553298\n",
      "Train Epoch: 2 [307200/1115374 (28%)]\tLoss: 1.517699\n",
      "Train Epoch: 2 [332800/1115374 (30%)]\tLoss: 1.587879\n",
      "Train Epoch: 2 [358400/1115374 (32%)]\tLoss: 1.592025\n",
      "Train Epoch: 2 [384000/1115374 (34%)]\tLoss: 1.552779\n",
      "Train Epoch: 2 [409600/1115374 (37%)]\tLoss: 1.541762\n",
      "Train Epoch: 2 [435200/1115374 (39%)]\tLoss: 1.551604\n",
      "Train Epoch: 2 [460800/1115374 (41%)]\tLoss: 1.579680\n",
      "Train Epoch: 2 [486400/1115374 (44%)]\tLoss: 1.533309\n",
      "Train Epoch: 2 [512000/1115374 (46%)]\tLoss: 1.601537\n",
      "Train Epoch: 2 [537600/1115374 (48%)]\tLoss: 1.517098\n",
      "Train Epoch: 2 [563200/1115374 (50%)]\tLoss: 1.545440\n",
      "Train Epoch: 2 [588800/1115374 (53%)]\tLoss: 1.477999\n",
      "Train Epoch: 2 [614400/1115374 (55%)]\tLoss: 1.559029\n",
      "Train Epoch: 2 [640000/1115374 (57%)]\tLoss: 1.553525\n",
      "Train Epoch: 2 [665600/1115374 (60%)]\tLoss: 1.537999\n",
      "Train Epoch: 2 [691200/1115374 (62%)]\tLoss: 1.572468\n",
      "Train Epoch: 2 [716800/1115374 (64%)]\tLoss: 1.547580\n",
      "Train Epoch: 2 [742400/1115374 (67%)]\tLoss: 1.534140\n",
      "Train Epoch: 2 [768000/1115374 (69%)]\tLoss: 1.529367\n",
      "Train Epoch: 2 [793600/1115374 (71%)]\tLoss: 1.532044\n",
      "Train Epoch: 2 [819200/1115374 (73%)]\tLoss: 1.528825\n",
      "Train Epoch: 2 [844800/1115374 (76%)]\tLoss: 1.625347\n",
      "Train Epoch: 2 [870400/1115374 (78%)]\tLoss: 1.505432\n",
      "Train Epoch: 2 [896000/1115374 (80%)]\tLoss: 1.525162\n",
      "Train Epoch: 2 [921600/1115374 (83%)]\tLoss: 1.516687\n",
      "Train Epoch: 2 [947200/1115374 (85%)]\tLoss: 1.537430\n",
      "Train Epoch: 2 [972800/1115374 (87%)]\tLoss: 1.541378\n",
      "Train Epoch: 2 [998400/1115374 (90%)]\tLoss: 1.567547\n",
      "Train Epoch: 2 [1024000/1115374 (92%)]\tLoss: 1.574924\n",
      "Train Epoch: 2 [1049600/1115374 (94%)]\tLoss: 1.510939\n",
      "Train Epoch: 2 [1075200/1115374 (96%)]\tLoss: 1.549513\n",
      "Train Epoch: 2 [1100800/1115374 (99%)]\tLoss: 1.524175\n"
     ]
    },
    {
     "data": {
      "application/vnd.jupyter.widget-view+json": {
       "model_id": "4398a81ea93f49eb93f15ffa9b7000bb",
       "version_major": 2,
       "version_minor": 0
      },
      "text/plain": [
       "Training Epoch 3:   0%|          | 0/8714 [00:00<?, ?it/s]"
      ]
     },
     "metadata": {},
     "output_type": "display_data"
    },
    {
     "name": "stdout",
     "output_type": "stream",
     "text": [
      "Train Epoch: 3 [0/1115374 (0%)]\tLoss: 1.539454\n",
      "Train Epoch: 3 [25600/1115374 (2%)]\tLoss: 1.504982\n",
      "Train Epoch: 3 [51200/1115374 (5%)]\tLoss: 1.529754\n",
      "Train Epoch: 3 [76800/1115374 (7%)]\tLoss: 1.518779\n",
      "Train Epoch: 3 [102400/1115374 (9%)]\tLoss: 1.512467\n",
      "Train Epoch: 3 [128000/1115374 (11%)]\tLoss: 1.484903\n",
      "Train Epoch: 3 [153600/1115374 (14%)]\tLoss: 1.470957\n",
      "Train Epoch: 3 [179200/1115374 (16%)]\tLoss: 1.526166\n",
      "Train Epoch: 3 [204800/1115374 (18%)]\tLoss: 1.515310\n",
      "Train Epoch: 3 [230400/1115374 (21%)]\tLoss: 1.527707\n",
      "Train Epoch: 3 [256000/1115374 (23%)]\tLoss: 1.516012\n",
      "Train Epoch: 3 [281600/1115374 (25%)]\tLoss: 1.533146\n",
      "Train Epoch: 3 [307200/1115374 (28%)]\tLoss: 1.525366\n",
      "Train Epoch: 3 [332800/1115374 (30%)]\tLoss: 1.495656\n",
      "Train Epoch: 3 [358400/1115374 (32%)]\tLoss: 1.561352\n",
      "Train Epoch: 3 [384000/1115374 (34%)]\tLoss: 1.526683\n",
      "Train Epoch: 3 [409600/1115374 (37%)]\tLoss: 1.531038\n",
      "Train Epoch: 3 [435200/1115374 (39%)]\tLoss: 1.534438\n",
      "Train Epoch: 3 [460800/1115374 (41%)]\tLoss: 1.498658\n",
      "Train Epoch: 3 [486400/1115374 (44%)]\tLoss: 1.485160\n",
      "Train Epoch: 3 [512000/1115374 (46%)]\tLoss: 1.499262\n",
      "Train Epoch: 3 [537600/1115374 (48%)]\tLoss: 1.470828\n",
      "Train Epoch: 3 [563200/1115374 (50%)]\tLoss: 1.504914\n",
      "Train Epoch: 3 [588800/1115374 (53%)]\tLoss: 1.523214\n",
      "Train Epoch: 3 [614400/1115374 (55%)]\tLoss: 1.421133\n",
      "Train Epoch: 3 [640000/1115374 (57%)]\tLoss: 1.526392\n",
      "Train Epoch: 3 [665600/1115374 (60%)]\tLoss: 1.573068\n",
      "Train Epoch: 3 [691200/1115374 (62%)]\tLoss: 1.491848\n",
      "Train Epoch: 3 [716800/1115374 (64%)]\tLoss: 1.481472\n",
      "Train Epoch: 3 [742400/1115374 (67%)]\tLoss: 1.518303\n",
      "Train Epoch: 3 [768000/1115374 (69%)]\tLoss: 1.491001\n",
      "Train Epoch: 3 [793600/1115374 (71%)]\tLoss: 1.514973\n",
      "Train Epoch: 3 [819200/1115374 (73%)]\tLoss: 1.503780\n",
      "Train Epoch: 3 [844800/1115374 (76%)]\tLoss: 1.500012\n",
      "Train Epoch: 3 [870400/1115374 (78%)]\tLoss: 1.533174\n",
      "Train Epoch: 3 [896000/1115374 (80%)]\tLoss: 1.472688\n",
      "Train Epoch: 3 [921600/1115374 (83%)]\tLoss: 1.531636\n",
      "Train Epoch: 3 [947200/1115374 (85%)]\tLoss: 1.503141\n",
      "Train Epoch: 3 [972800/1115374 (87%)]\tLoss: 1.493779\n",
      "Train Epoch: 3 [998400/1115374 (90%)]\tLoss: 1.470555\n",
      "Train Epoch: 3 [1024000/1115374 (92%)]\tLoss: 1.496726\n",
      "Train Epoch: 3 [1049600/1115374 (94%)]\tLoss: 1.516667\n",
      "Train Epoch: 3 [1075200/1115374 (96%)]\tLoss: 1.510700\n",
      "Train Epoch: 3 [1100800/1115374 (99%)]\tLoss: 1.538691\n"
     ]
    },
    {
     "data": {
      "application/vnd.jupyter.widget-view+json": {
       "model_id": "a7c6c9490e164b20a234895ff0182557",
       "version_major": 2,
       "version_minor": 0
      },
      "text/plain": [
       "Training Epoch 4:   0%|          | 0/8714 [00:00<?, ?it/s]"
      ]
     },
     "metadata": {},
     "output_type": "display_data"
    },
    {
     "name": "stdout",
     "output_type": "stream",
     "text": [
      "Train Epoch: 4 [0/1115374 (0%)]\tLoss: 1.509487\n",
      "Train Epoch: 4 [25600/1115374 (2%)]\tLoss: 1.458155\n",
      "Train Epoch: 4 [51200/1115374 (5%)]\tLoss: 1.523409\n",
      "Train Epoch: 4 [76800/1115374 (7%)]\tLoss: 1.476128\n",
      "Train Epoch: 4 [102400/1115374 (9%)]\tLoss: 1.466203\n",
      "Train Epoch: 4 [128000/1115374 (11%)]\tLoss: 1.473978\n",
      "Train Epoch: 4 [153600/1115374 (14%)]\tLoss: 1.531862\n",
      "Train Epoch: 4 [179200/1115374 (16%)]\tLoss: 1.470111\n",
      "Train Epoch: 4 [204800/1115374 (18%)]\tLoss: 1.447136\n",
      "Train Epoch: 4 [230400/1115374 (21%)]\tLoss: 1.481505\n",
      "Train Epoch: 4 [256000/1115374 (23%)]\tLoss: 1.501323\n",
      "Train Epoch: 4 [281600/1115374 (25%)]\tLoss: 1.530830\n",
      "Train Epoch: 4 [307200/1115374 (28%)]\tLoss: 1.525326\n",
      "Train Epoch: 4 [332800/1115374 (30%)]\tLoss: 1.508922\n",
      "Train Epoch: 4 [358400/1115374 (32%)]\tLoss: 1.518891\n",
      "Train Epoch: 4 [384000/1115374 (34%)]\tLoss: 1.500841\n",
      "Train Epoch: 4 [409600/1115374 (37%)]\tLoss: 1.539945\n",
      "Train Epoch: 4 [435200/1115374 (39%)]\tLoss: 1.486008\n",
      "Train Epoch: 4 [460800/1115374 (41%)]\tLoss: 1.498008\n",
      "Train Epoch: 4 [486400/1115374 (44%)]\tLoss: 1.472452\n",
      "Train Epoch: 4 [512000/1115374 (46%)]\tLoss: 1.474781\n",
      "Train Epoch: 4 [537600/1115374 (48%)]\tLoss: 1.478297\n",
      "Train Epoch: 4 [563200/1115374 (50%)]\tLoss: 1.492854\n",
      "Train Epoch: 4 [588800/1115374 (53%)]\tLoss: 1.458335\n",
      "Train Epoch: 4 [614400/1115374 (55%)]\tLoss: 1.526650\n",
      "Train Epoch: 4 [640000/1115374 (57%)]\tLoss: 1.575663\n",
      "Train Epoch: 4 [665600/1115374 (60%)]\tLoss: 1.453042\n",
      "Train Epoch: 4 [691200/1115374 (62%)]\tLoss: 1.448340\n",
      "Train Epoch: 4 [716800/1115374 (64%)]\tLoss: 1.471894\n",
      "Train Epoch: 4 [742400/1115374 (67%)]\tLoss: 1.508975\n",
      "Train Epoch: 4 [768000/1115374 (69%)]\tLoss: 1.508686\n",
      "Train Epoch: 4 [793600/1115374 (71%)]\tLoss: 1.476904\n",
      "Train Epoch: 4 [819200/1115374 (73%)]\tLoss: 1.483311\n",
      "Train Epoch: 4 [844800/1115374 (76%)]\tLoss: 1.556363\n",
      "Train Epoch: 4 [870400/1115374 (78%)]\tLoss: 1.553830\n",
      "Train Epoch: 4 [896000/1115374 (80%)]\tLoss: 1.501948\n",
      "Train Epoch: 4 [921600/1115374 (83%)]\tLoss: 1.508304\n",
      "Train Epoch: 4 [947200/1115374 (85%)]\tLoss: 1.414902\n",
      "Train Epoch: 4 [972800/1115374 (87%)]\tLoss: 1.425732\n",
      "Train Epoch: 4 [998400/1115374 (90%)]\tLoss: 1.472522\n",
      "Train Epoch: 4 [1024000/1115374 (92%)]\tLoss: 1.518438\n",
      "Train Epoch: 4 [1049600/1115374 (94%)]\tLoss: 1.478074\n",
      "Train Epoch: 4 [1075200/1115374 (96%)]\tLoss: 1.479930\n",
      "Train Epoch: 4 [1100800/1115374 (99%)]\tLoss: 1.435904\n"
     ]
    },
    {
     "data": {
      "application/vnd.jupyter.widget-view+json": {
       "model_id": "44a097f50f0b4cde9d9d4982e6cee9b0",
       "version_major": 2,
       "version_minor": 0
      },
      "text/plain": [
       "Training Epoch 5:   0%|          | 0/8714 [00:00<?, ?it/s]"
      ]
     },
     "metadata": {},
     "output_type": "display_data"
    },
    {
     "name": "stdout",
     "output_type": "stream",
     "text": [
      "Train Epoch: 5 [0/1115374 (0%)]\tLoss: 1.396901\n",
      "Train Epoch: 5 [25600/1115374 (2%)]\tLoss: 1.472029\n",
      "Train Epoch: 5 [51200/1115374 (5%)]\tLoss: 1.564534\n",
      "Train Epoch: 5 [76800/1115374 (7%)]\tLoss: 1.464843\n",
      "Train Epoch: 5 [102400/1115374 (9%)]\tLoss: 1.471632\n",
      "Train Epoch: 5 [128000/1115374 (11%)]\tLoss: 1.447609\n",
      "Train Epoch: 5 [153600/1115374 (14%)]\tLoss: 1.465453\n",
      "Train Epoch: 5 [179200/1115374 (16%)]\tLoss: 1.504221\n",
      "Train Epoch: 5 [204800/1115374 (18%)]\tLoss: 1.491246\n",
      "Train Epoch: 5 [230400/1115374 (21%)]\tLoss: 1.449474\n",
      "Train Epoch: 5 [256000/1115374 (23%)]\tLoss: 1.462004\n",
      "Train Epoch: 5 [281600/1115374 (25%)]\tLoss: 1.463349\n",
      "Train Epoch: 5 [307200/1115374 (28%)]\tLoss: 1.461627\n",
      "Train Epoch: 5 [332800/1115374 (30%)]\tLoss: 1.502609\n",
      "Train Epoch: 5 [358400/1115374 (32%)]\tLoss: 1.510509\n",
      "Train Epoch: 5 [384000/1115374 (34%)]\tLoss: 1.460523\n",
      "Train Epoch: 5 [409600/1115374 (37%)]\tLoss: 1.463245\n",
      "Train Epoch: 5 [435200/1115374 (39%)]\tLoss: 1.479582\n",
      "Train Epoch: 5 [460800/1115374 (41%)]\tLoss: 1.491033\n",
      "Train Epoch: 5 [486400/1115374 (44%)]\tLoss: 1.437676\n",
      "Train Epoch: 5 [512000/1115374 (46%)]\tLoss: 1.484835\n",
      "Train Epoch: 5 [537600/1115374 (48%)]\tLoss: 1.460322\n",
      "Train Epoch: 5 [563200/1115374 (50%)]\tLoss: 1.514116\n",
      "Train Epoch: 5 [588800/1115374 (53%)]\tLoss: 1.457910\n",
      "Train Epoch: 5 [614400/1115374 (55%)]\tLoss: 1.516675\n",
      "Train Epoch: 5 [640000/1115374 (57%)]\tLoss: 1.485370\n",
      "Train Epoch: 5 [665600/1115374 (60%)]\tLoss: 1.444726\n",
      "Train Epoch: 5 [691200/1115374 (62%)]\tLoss: 1.478731\n",
      "Train Epoch: 5 [716800/1115374 (64%)]\tLoss: 1.462720\n",
      "Train Epoch: 5 [742400/1115374 (67%)]\tLoss: 1.511688\n",
      "Train Epoch: 5 [768000/1115374 (69%)]\tLoss: 1.488659\n",
      "Train Epoch: 5 [793600/1115374 (71%)]\tLoss: 1.521250\n",
      "Train Epoch: 5 [819200/1115374 (73%)]\tLoss: 1.486764\n",
      "Train Epoch: 5 [844800/1115374 (76%)]\tLoss: 1.515293\n",
      "Train Epoch: 5 [870400/1115374 (78%)]\tLoss: 1.434067\n",
      "Train Epoch: 5 [896000/1115374 (80%)]\tLoss: 1.501543\n",
      "Train Epoch: 5 [921600/1115374 (83%)]\tLoss: 1.477628\n",
      "Train Epoch: 5 [947200/1115374 (85%)]\tLoss: 1.499131\n",
      "Train Epoch: 5 [972800/1115374 (87%)]\tLoss: 1.477966\n",
      "Train Epoch: 5 [998400/1115374 (90%)]\tLoss: 1.497991\n",
      "Train Epoch: 5 [1024000/1115374 (92%)]\tLoss: 1.501472\n",
      "Train Epoch: 5 [1049600/1115374 (94%)]\tLoss: 1.440531\n",
      "Train Epoch: 5 [1075200/1115374 (96%)]\tLoss: 1.461797\n",
      "Train Epoch: 5 [1100800/1115374 (99%)]\tLoss: 1.454492\n"
     ]
    },
    {
     "data": {
      "application/vnd.jupyter.widget-view+json": {
       "model_id": "d90d5d42f23d4a328402b4731c7e60e0",
       "version_major": 2,
       "version_minor": 0
      },
      "text/plain": [
       "Training Epoch 6:   0%|          | 0/8714 [00:00<?, ?it/s]"
      ]
     },
     "metadata": {},
     "output_type": "display_data"
    },
    {
     "name": "stdout",
     "output_type": "stream",
     "text": [
      "Train Epoch: 6 [0/1115374 (0%)]\tLoss: 1.477747\n",
      "Train Epoch: 6 [25600/1115374 (2%)]\tLoss: 1.495365\n",
      "Train Epoch: 6 [51200/1115374 (5%)]\tLoss: 1.442849\n",
      "Train Epoch: 6 [76800/1115374 (7%)]\tLoss: 1.472844\n",
      "Train Epoch: 6 [102400/1115374 (9%)]\tLoss: 1.455407\n",
      "Train Epoch: 6 [128000/1115374 (11%)]\tLoss: 1.513244\n",
      "Train Epoch: 6 [153600/1115374 (14%)]\tLoss: 1.474970\n",
      "Train Epoch: 6 [179200/1115374 (16%)]\tLoss: 1.447728\n",
      "Train Epoch: 6 [204800/1115374 (18%)]\tLoss: 1.443928\n",
      "Train Epoch: 6 [230400/1115374 (21%)]\tLoss: 1.488297\n",
      "Train Epoch: 6 [256000/1115374 (23%)]\tLoss: 1.417107\n",
      "Train Epoch: 6 [281600/1115374 (25%)]\tLoss: 1.464979\n",
      "Train Epoch: 6 [307200/1115374 (28%)]\tLoss: 1.517345\n",
      "Train Epoch: 6 [332800/1115374 (30%)]\tLoss: 1.466341\n",
      "Train Epoch: 6 [358400/1115374 (32%)]\tLoss: 1.452345\n",
      "Train Epoch: 6 [384000/1115374 (34%)]\tLoss: 1.479474\n",
      "Train Epoch: 6 [409600/1115374 (37%)]\tLoss: 1.489272\n",
      "Train Epoch: 6 [435200/1115374 (39%)]\tLoss: 1.517976\n",
      "Train Epoch: 6 [460800/1115374 (41%)]\tLoss: 1.453275\n",
      "Train Epoch: 6 [486400/1115374 (44%)]\tLoss: 1.423764\n",
      "Train Epoch: 6 [512000/1115374 (46%)]\tLoss: 1.450188\n",
      "Train Epoch: 6 [537600/1115374 (48%)]\tLoss: 1.460539\n",
      "Train Epoch: 6 [563200/1115374 (50%)]\tLoss: 1.463769\n",
      "Train Epoch: 6 [588800/1115374 (53%)]\tLoss: 1.458011\n",
      "Train Epoch: 6 [614400/1115374 (55%)]\tLoss: 1.462814\n",
      "Train Epoch: 6 [640000/1115374 (57%)]\tLoss: 1.467906\n",
      "Train Epoch: 6 [665600/1115374 (60%)]\tLoss: 1.419646\n",
      "Train Epoch: 6 [691200/1115374 (62%)]\tLoss: 1.430097\n",
      "Train Epoch: 6 [716800/1115374 (64%)]\tLoss: 1.433466\n",
      "Train Epoch: 6 [742400/1115374 (67%)]\tLoss: 1.467058\n",
      "Train Epoch: 6 [768000/1115374 (69%)]\tLoss: 1.445907\n",
      "Train Epoch: 6 [793600/1115374 (71%)]\tLoss: 1.509182\n",
      "Train Epoch: 6 [819200/1115374 (73%)]\tLoss: 1.441646\n",
      "Train Epoch: 6 [844800/1115374 (76%)]\tLoss: 1.494821\n",
      "Train Epoch: 6 [870400/1115374 (78%)]\tLoss: 1.503986\n",
      "Train Epoch: 6 [896000/1115374 (80%)]\tLoss: 1.473492\n",
      "Train Epoch: 6 [921600/1115374 (83%)]\tLoss: 1.530211\n",
      "Train Epoch: 6 [947200/1115374 (85%)]\tLoss: 1.434288\n",
      "Train Epoch: 6 [972800/1115374 (87%)]\tLoss: 1.448491\n",
      "Train Epoch: 6 [998400/1115374 (90%)]\tLoss: 1.423240\n",
      "Train Epoch: 6 [1024000/1115374 (92%)]\tLoss: 1.467148\n",
      "Train Epoch: 6 [1049600/1115374 (94%)]\tLoss: 1.483970\n",
      "Train Epoch: 6 [1075200/1115374 (96%)]\tLoss: 1.475513\n",
      "Train Epoch: 6 [1100800/1115374 (99%)]\tLoss: 1.463122\n"
     ]
    },
    {
     "data": {
      "application/vnd.jupyter.widget-view+json": {
       "model_id": "6fb83de1356042d5964bfb492b200025",
       "version_major": 2,
       "version_minor": 0
      },
      "text/plain": [
       "Training Epoch 7:   0%|          | 0/8714 [00:00<?, ?it/s]"
      ]
     },
     "metadata": {},
     "output_type": "display_data"
    },
    {
     "name": "stdout",
     "output_type": "stream",
     "text": [
      "Train Epoch: 7 [0/1115374 (0%)]\tLoss: 1.458042\n",
      "Train Epoch: 7 [25600/1115374 (2%)]\tLoss: 1.505295\n",
      "Train Epoch: 7 [51200/1115374 (5%)]\tLoss: 1.487973\n",
      "Train Epoch: 7 [76800/1115374 (7%)]\tLoss: 1.450532\n",
      "Train Epoch: 7 [102400/1115374 (9%)]\tLoss: 1.519175\n",
      "Train Epoch: 7 [128000/1115374 (11%)]\tLoss: 1.447730\n",
      "Train Epoch: 7 [153600/1115374 (14%)]\tLoss: 1.385994\n",
      "Train Epoch: 7 [179200/1115374 (16%)]\tLoss: 1.455643\n",
      "Train Epoch: 7 [204800/1115374 (18%)]\tLoss: 1.431857\n",
      "Train Epoch: 7 [230400/1115374 (21%)]\tLoss: 1.508147\n",
      "Train Epoch: 7 [256000/1115374 (23%)]\tLoss: 1.490445\n",
      "Train Epoch: 7 [281600/1115374 (25%)]\tLoss: 1.458014\n",
      "Train Epoch: 7 [307200/1115374 (28%)]\tLoss: 1.456334\n",
      "Train Epoch: 7 [332800/1115374 (30%)]\tLoss: 1.439624\n",
      "Train Epoch: 7 [358400/1115374 (32%)]\tLoss: 1.438722\n",
      "Train Epoch: 7 [384000/1115374 (34%)]\tLoss: 1.507646\n",
      "Train Epoch: 7 [409600/1115374 (37%)]\tLoss: 1.516918\n",
      "Train Epoch: 7 [435200/1115374 (39%)]\tLoss: 1.486762\n",
      "Train Epoch: 7 [460800/1115374 (41%)]\tLoss: 1.422819\n",
      "Train Epoch: 7 [486400/1115374 (44%)]\tLoss: 1.465782\n",
      "Train Epoch: 7 [512000/1115374 (46%)]\tLoss: 1.487692\n",
      "Train Epoch: 7 [537600/1115374 (48%)]\tLoss: 1.427302\n",
      "Train Epoch: 7 [563200/1115374 (50%)]\tLoss: 1.475469\n",
      "Train Epoch: 7 [588800/1115374 (53%)]\tLoss: 1.416759\n",
      "Train Epoch: 7 [614400/1115374 (55%)]\tLoss: 1.469768\n",
      "Train Epoch: 7 [640000/1115374 (57%)]\tLoss: 1.435179\n",
      "Train Epoch: 7 [665600/1115374 (60%)]\tLoss: 1.534303\n",
      "Train Epoch: 7 [691200/1115374 (62%)]\tLoss: 1.437838\n",
      "Train Epoch: 7 [716800/1115374 (64%)]\tLoss: 1.473480\n",
      "Train Epoch: 7 [742400/1115374 (67%)]\tLoss: 1.445138\n",
      "Train Epoch: 7 [768000/1115374 (69%)]\tLoss: 1.476663\n",
      "Train Epoch: 7 [793600/1115374 (71%)]\tLoss: 1.395319\n",
      "Train Epoch: 7 [819200/1115374 (73%)]\tLoss: 1.438384\n",
      "Train Epoch: 7 [844800/1115374 (76%)]\tLoss: 1.492942\n",
      "Train Epoch: 7 [870400/1115374 (78%)]\tLoss: 1.422236\n",
      "Train Epoch: 7 [896000/1115374 (80%)]\tLoss: 1.436942\n",
      "Train Epoch: 7 [921600/1115374 (83%)]\tLoss: 1.507779\n",
      "Train Epoch: 7 [947200/1115374 (85%)]\tLoss: 1.486897\n",
      "Train Epoch: 7 [972800/1115374 (87%)]\tLoss: 1.497970\n",
      "Train Epoch: 7 [998400/1115374 (90%)]\tLoss: 1.451367\n",
      "Train Epoch: 7 [1024000/1115374 (92%)]\tLoss: 1.420813\n",
      "Train Epoch: 7 [1049600/1115374 (94%)]\tLoss: 1.441002\n",
      "Train Epoch: 7 [1075200/1115374 (96%)]\tLoss: 1.457745\n",
      "Train Epoch: 7 [1100800/1115374 (99%)]\tLoss: 1.418947\n"
     ]
    },
    {
     "data": {
      "application/vnd.jupyter.widget-view+json": {
       "model_id": "db36c958eb77467fa5696fef011f1ed9",
       "version_major": 2,
       "version_minor": 0
      },
      "text/plain": [
       "Training Epoch 8:   0%|          | 0/8714 [00:00<?, ?it/s]"
      ]
     },
     "metadata": {},
     "output_type": "display_data"
    },
    {
     "name": "stdout",
     "output_type": "stream",
     "text": [
      "Train Epoch: 8 [0/1115374 (0%)]\tLoss: 1.501893\n",
      "Train Epoch: 8 [25600/1115374 (2%)]\tLoss: 1.496443\n",
      "Train Epoch: 8 [51200/1115374 (5%)]\tLoss: 1.450829\n",
      "Train Epoch: 8 [76800/1115374 (7%)]\tLoss: 1.478724\n",
      "Train Epoch: 8 [102400/1115374 (9%)]\tLoss: 1.395806\n",
      "Train Epoch: 8 [128000/1115374 (11%)]\tLoss: 1.430150\n",
      "Train Epoch: 8 [153600/1115374 (14%)]\tLoss: 1.437168\n",
      "Train Epoch: 8 [179200/1115374 (16%)]\tLoss: 1.479817\n",
      "Train Epoch: 8 [204800/1115374 (18%)]\tLoss: 1.469563\n",
      "Train Epoch: 8 [230400/1115374 (21%)]\tLoss: 1.448378\n",
      "Train Epoch: 8 [256000/1115374 (23%)]\tLoss: 1.436480\n",
      "Train Epoch: 8 [281600/1115374 (25%)]\tLoss: 1.424918\n",
      "Train Epoch: 8 [307200/1115374 (28%)]\tLoss: 1.464126\n",
      "Train Epoch: 8 [332800/1115374 (30%)]\tLoss: 1.479537\n",
      "Train Epoch: 8 [358400/1115374 (32%)]\tLoss: 1.473022\n",
      "Train Epoch: 8 [384000/1115374 (34%)]\tLoss: 1.481032\n",
      "Train Epoch: 8 [409600/1115374 (37%)]\tLoss: 1.422234\n",
      "Train Epoch: 8 [435200/1115374 (39%)]\tLoss: 1.468623\n",
      "Train Epoch: 8 [460800/1115374 (41%)]\tLoss: 1.452960\n",
      "Train Epoch: 8 [486400/1115374 (44%)]\tLoss: 1.467458\n",
      "Train Epoch: 8 [512000/1115374 (46%)]\tLoss: 1.436022\n",
      "Train Epoch: 8 [537600/1115374 (48%)]\tLoss: 1.434984\n",
      "Train Epoch: 8 [563200/1115374 (50%)]\tLoss: 1.442519\n",
      "Train Epoch: 8 [588800/1115374 (53%)]\tLoss: 1.490997\n",
      "Train Epoch: 8 [614400/1115374 (55%)]\tLoss: 1.483490\n",
      "Train Epoch: 8 [640000/1115374 (57%)]\tLoss: 1.448991\n",
      "Train Epoch: 8 [665600/1115374 (60%)]\tLoss: 1.443021\n",
      "Train Epoch: 8 [691200/1115374 (62%)]\tLoss: 1.499524\n",
      "Train Epoch: 8 [716800/1115374 (64%)]\tLoss: 1.475067\n",
      "Train Epoch: 8 [742400/1115374 (67%)]\tLoss: 1.424111\n",
      "Train Epoch: 8 [768000/1115374 (69%)]\tLoss: 1.464528\n",
      "Train Epoch: 8 [793600/1115374 (71%)]\tLoss: 1.407474\n",
      "Train Epoch: 8 [819200/1115374 (73%)]\tLoss: 1.398280\n",
      "Train Epoch: 8 [844800/1115374 (76%)]\tLoss: 1.471123\n",
      "Train Epoch: 8 [870400/1115374 (78%)]\tLoss: 1.467194\n",
      "Train Epoch: 8 [896000/1115374 (80%)]\tLoss: 1.452739\n",
      "Train Epoch: 8 [921600/1115374 (83%)]\tLoss: 1.496434\n",
      "Train Epoch: 8 [947200/1115374 (85%)]\tLoss: 1.441111\n",
      "Train Epoch: 8 [972800/1115374 (87%)]\tLoss: 1.459824\n",
      "Train Epoch: 8 [998400/1115374 (90%)]\tLoss: 1.425419\n",
      "Train Epoch: 8 [1024000/1115374 (92%)]\tLoss: 1.441763\n",
      "Train Epoch: 8 [1049600/1115374 (94%)]\tLoss: 1.487888\n",
      "Train Epoch: 8 [1075200/1115374 (96%)]\tLoss: 1.416043\n",
      "Train Epoch: 8 [1100800/1115374 (99%)]\tLoss: 1.467430\n"
     ]
    },
    {
     "data": {
      "application/vnd.jupyter.widget-view+json": {
       "model_id": "469da97767d344dba1039954098b014e",
       "version_major": 2,
       "version_minor": 0
      },
      "text/plain": [
       "Training Epoch 9:   0%|          | 0/8714 [00:00<?, ?it/s]"
      ]
     },
     "metadata": {},
     "output_type": "display_data"
    },
    {
     "name": "stdout",
     "output_type": "stream",
     "text": [
      "Train Epoch: 9 [0/1115374 (0%)]\tLoss: 1.413422\n",
      "Train Epoch: 9 [25600/1115374 (2%)]\tLoss: 1.488958\n",
      "Train Epoch: 9 [51200/1115374 (5%)]\tLoss: 1.499605\n",
      "Train Epoch: 9 [76800/1115374 (7%)]\tLoss: 1.484985\n",
      "Train Epoch: 9 [102400/1115374 (9%)]\tLoss: 1.448737\n",
      "Train Epoch: 9 [128000/1115374 (11%)]\tLoss: 1.461100\n",
      "Train Epoch: 9 [153600/1115374 (14%)]\tLoss: 1.419195\n",
      "Train Epoch: 9 [179200/1115374 (16%)]\tLoss: 1.469285\n",
      "Train Epoch: 9 [204800/1115374 (18%)]\tLoss: 1.456138\n",
      "Train Epoch: 9 [230400/1115374 (21%)]\tLoss: 1.452205\n",
      "Train Epoch: 9 [256000/1115374 (23%)]\tLoss: 1.426126\n",
      "Train Epoch: 9 [281600/1115374 (25%)]\tLoss: 1.420633\n",
      "Train Epoch: 9 [307200/1115374 (28%)]\tLoss: 1.471583\n",
      "Train Epoch: 9 [332800/1115374 (30%)]\tLoss: 1.476816\n",
      "Train Epoch: 9 [358400/1115374 (32%)]\tLoss: 1.497860\n",
      "Train Epoch: 9 [384000/1115374 (34%)]\tLoss: 1.518155\n",
      "Train Epoch: 9 [409600/1115374 (37%)]\tLoss: 1.450316\n",
      "Train Epoch: 9 [435200/1115374 (39%)]\tLoss: 1.466191\n",
      "Train Epoch: 9 [460800/1115374 (41%)]\tLoss: 1.479591\n",
      "Train Epoch: 9 [486400/1115374 (44%)]\tLoss: 1.426466\n",
      "Train Epoch: 9 [512000/1115374 (46%)]\tLoss: 1.418297\n",
      "Train Epoch: 9 [537600/1115374 (48%)]\tLoss: 1.429575\n",
      "Train Epoch: 9 [563200/1115374 (50%)]\tLoss: 1.502835\n",
      "Train Epoch: 9 [588800/1115374 (53%)]\tLoss: 1.469111\n",
      "Train Epoch: 9 [614400/1115374 (55%)]\tLoss: 1.420828\n",
      "Train Epoch: 9 [640000/1115374 (57%)]\tLoss: 1.419250\n",
      "Train Epoch: 9 [665600/1115374 (60%)]\tLoss: 1.403242\n",
      "Train Epoch: 9 [691200/1115374 (62%)]\tLoss: 1.391512\n",
      "Train Epoch: 9 [716800/1115374 (64%)]\tLoss: 1.498649\n",
      "Train Epoch: 9 [742400/1115374 (67%)]\tLoss: 1.460079\n",
      "Train Epoch: 9 [768000/1115374 (69%)]\tLoss: 1.448150\n",
      "Train Epoch: 9 [793600/1115374 (71%)]\tLoss: 1.427986\n",
      "Train Epoch: 9 [819200/1115374 (73%)]\tLoss: 1.446872\n",
      "Train Epoch: 9 [844800/1115374 (76%)]\tLoss: 1.486021\n",
      "Train Epoch: 9 [870400/1115374 (78%)]\tLoss: 1.469147\n",
      "Train Epoch: 9 [896000/1115374 (80%)]\tLoss: 1.423284\n",
      "Train Epoch: 9 [921600/1115374 (83%)]\tLoss: 1.459876\n",
      "Train Epoch: 9 [947200/1115374 (85%)]\tLoss: 1.384783\n",
      "Train Epoch: 9 [972800/1115374 (87%)]\tLoss: 1.434539\n",
      "Train Epoch: 9 [998400/1115374 (90%)]\tLoss: 1.367823\n",
      "Train Epoch: 9 [1024000/1115374 (92%)]\tLoss: 1.470762\n",
      "Train Epoch: 9 [1049600/1115374 (94%)]\tLoss: 1.503571\n",
      "Train Epoch: 9 [1075200/1115374 (96%)]\tLoss: 1.450894\n",
      "Train Epoch: 9 [1100800/1115374 (99%)]\tLoss: 1.410057\n"
     ]
    },
    {
     "data": {
      "application/vnd.jupyter.widget-view+json": {
       "model_id": "db25517e956448ee914d1a4d5d7cc297",
       "version_major": 2,
       "version_minor": 0
      },
      "text/plain": [
       "Training Epoch 10:   0%|          | 0/8714 [00:00<?, ?it/s]"
      ]
     },
     "metadata": {},
     "output_type": "display_data"
    },
    {
     "name": "stdout",
     "output_type": "stream",
     "text": [
      "Train Epoch: 10 [0/1115374 (0%)]\tLoss: 1.434524\n",
      "Train Epoch: 10 [25600/1115374 (2%)]\tLoss: 1.475028\n",
      "Train Epoch: 10 [51200/1115374 (5%)]\tLoss: 1.410230\n",
      "Train Epoch: 10 [76800/1115374 (7%)]\tLoss: 1.415122\n",
      "Train Epoch: 10 [102400/1115374 (9%)]\tLoss: 1.391300\n",
      "Train Epoch: 10 [128000/1115374 (11%)]\tLoss: 1.477898\n",
      "Train Epoch: 10 [153600/1115374 (14%)]\tLoss: 1.475510\n",
      "Train Epoch: 10 [179200/1115374 (16%)]\tLoss: 1.444108\n",
      "Train Epoch: 10 [204800/1115374 (18%)]\tLoss: 1.461217\n",
      "Train Epoch: 10 [230400/1115374 (21%)]\tLoss: 1.455505\n",
      "Train Epoch: 10 [256000/1115374 (23%)]\tLoss: 1.439392\n",
      "Train Epoch: 10 [281600/1115374 (25%)]\tLoss: 1.430392\n",
      "Train Epoch: 10 [307200/1115374 (28%)]\tLoss: 1.508476\n",
      "Train Epoch: 10 [332800/1115374 (30%)]\tLoss: 1.406947\n",
      "Train Epoch: 10 [358400/1115374 (32%)]\tLoss: 1.451527\n",
      "Train Epoch: 10 [384000/1115374 (34%)]\tLoss: 1.459649\n",
      "Train Epoch: 10 [409600/1115374 (37%)]\tLoss: 1.451418\n",
      "Train Epoch: 10 [435200/1115374 (39%)]\tLoss: 1.448162\n",
      "Train Epoch: 10 [460800/1115374 (41%)]\tLoss: 1.434488\n",
      "Train Epoch: 10 [486400/1115374 (44%)]\tLoss: 1.469977\n",
      "Train Epoch: 10 [512000/1115374 (46%)]\tLoss: 1.490957\n",
      "Train Epoch: 10 [537600/1115374 (48%)]\tLoss: 1.511632\n",
      "Train Epoch: 10 [563200/1115374 (50%)]\tLoss: 1.430611\n",
      "Train Epoch: 10 [588800/1115374 (53%)]\tLoss: 1.449369\n",
      "Train Epoch: 10 [614400/1115374 (55%)]\tLoss: 1.473430\n",
      "Train Epoch: 10 [640000/1115374 (57%)]\tLoss: 1.396227\n",
      "Train Epoch: 10 [665600/1115374 (60%)]\tLoss: 1.441802\n",
      "Train Epoch: 10 [691200/1115374 (62%)]\tLoss: 1.429743\n",
      "Train Epoch: 10 [716800/1115374 (64%)]\tLoss: 1.434426\n",
      "Train Epoch: 10 [742400/1115374 (67%)]\tLoss: 1.434520\n",
      "Train Epoch: 10 [768000/1115374 (69%)]\tLoss: 1.483518\n",
      "Train Epoch: 10 [793600/1115374 (71%)]\tLoss: 1.392015\n",
      "Train Epoch: 10 [819200/1115374 (73%)]\tLoss: 1.400261\n",
      "Train Epoch: 10 [844800/1115374 (76%)]\tLoss: 1.443609\n",
      "Train Epoch: 10 [870400/1115374 (78%)]\tLoss: 1.430792\n",
      "Train Epoch: 10 [896000/1115374 (80%)]\tLoss: 1.401811\n",
      "Train Epoch: 10 [921600/1115374 (83%)]\tLoss: 1.432697\n",
      "Train Epoch: 10 [947200/1115374 (85%)]\tLoss: 1.426106\n",
      "Train Epoch: 10 [972800/1115374 (87%)]\tLoss: 1.398462\n",
      "Train Epoch: 10 [998400/1115374 (90%)]\tLoss: 1.421353\n",
      "Train Epoch: 10 [1024000/1115374 (92%)]\tLoss: 1.427849\n",
      "Train Epoch: 10 [1049600/1115374 (94%)]\tLoss: 1.438199\n",
      "Train Epoch: 10 [1075200/1115374 (96%)]\tLoss: 1.482077\n",
      "Train Epoch: 10 [1100800/1115374 (99%)]\tLoss: 1.442235\n"
     ]
    },
    {
     "data": {
      "image/png": "[encoded data removed]",
      "text/plain": [
       "<Figure size 432x288 with 1 Axes>"
      ]
     },
     "metadata": {
      "needs_background": "light"
     },
     "output_type": "display_data"
    }
   ],
   "source": [
    "# train the model\n",
    "# Keep track of stats to plot them\n",
    "train_losses = []\n",
    "train_accuracies = []\n",
    "val_losses = []\n",
    "val_accuracies = []\n",
    "\n",
    "epochs = 10\n",
    "for epoch in range(1, epochs + 1):\n",
    "    train_result = train(epoch, modelmm, train_loader)\n",
    "    train_losses.append(train_result[\"loss\"])\n",
    "    train_accuracies.append(train_result[\"accuracy\"])\n",
    "    \n",
    "\n",
    "plt.plot(train_losses, label='Training loss')\n",
    "plt.legend()\n",
    "plt.grid()"
   ]
  },
  {
   "cell_type": "code",
   "execution_count": 133,
   "metadata": {},
   "outputs": [
    {
     "name": "stdout",
     "output_type": "stream",
     "text": [
      " is loud and first, for ever do spoke and some purson in man go divito cqure of the maid the nupheling the Tiren\n",
      "Herefor fame!\n",
      "He'll at need flesh:\n",
      "I though an own shep\n",
      "him not hear, though it have becomes hide?\n",
      "Think your holy her;\n",
      "We was a crow: I did kiss and were course?\n",
      "Doou may I spoke anot bring. Come, fair 'nighter'd him.\n",
      "\n",
      "PROSPERO:\n",
      "I will this how you,\n",
      "When tributy,--Sound, conded at the birn's reasour expeach,\n",
      "Though now to juit twice done a man, both duke\n",
      "I saw bring he succe,\n",
      "Her hav\n"
     ]
    }
   ],
   "source": [
    "def make_seed(seed_phrase=\"\"):\n",
    "        if seed_phrase:  \n",
    "            phrase_length = len(seed_phrase)\n",
    "            pattern = \"\"\n",
    "            for i in range (0, sentence_length):\n",
    "                pattern += seed_phrase[i % phrase_length]\n",
    "        else:            \n",
    "            seed = random.randint(0, corpus_length - sentence_length)\n",
    "            pattern = corpus[seed:seed + sentence_length]\n",
    "        return pattern\n",
    "\n",
    "seed_pattern = make_seed(\"In the early morning, the flower is shining\")\n",
    "\n",
    "# To Do as an optimization: add function here that takes as parameters the seed_pattern and the model\n",
    "\n",
    "encoded_text = torch.tensor([encoding[char] for char in seed_pattern])\n",
    "encoded_text = F.one_hot(encoded_text, num_classes=num_chars).to(torch.float)\n",
    "# Add a single batch dimension at the beginning\n",
    "encoded_text = encoded_text.unsqueeze(0)\n",
    "encoded_text = encoded_text.to(device)\n",
    "torch.manual_seed(42)\n",
    "generated_text = \"\"\n",
    "for i in range(500):\n",
    "    output = predict(modelmm, encoded_text)[0]\n",
    "    # Convert the output to probabilities\n",
    "    probs = torch.softmax(output[-1], dim=-1)\n",
    "    # make the generation more diverse.\n",
    "    prediction = torch.multinomial(probs, num_samples=1)\n",
    "\n",
    "    generated_text += decoding[int(prediction)]\n",
    "    # One hot encode the new (predicted) character\n",
    "    next_char_encoded = F.one_hot(prediction, num_classes=num_chars)\n",
    "    # Make sure it has a singular batch and seq_len dimension in order to concatenate them.\n",
    "    next_char_encoded = next_char_encoded.view(1, 1, num_chars)\n",
    "    # Remove first char and glue the predicted one to the end\n",
    "    encoded_text = torch.cat((encoded_text[:, 1:], next_char_encoded), dim=1)\n",
    "print(generated_text)"
   ]
  }
 ],
 "metadata": {
  "kernelspec": {
   "display_name": "Python 3 (ipykernel)",
   "language": "python",
   "name": "python3"
  },
  "language_info": {
   "codemirror_mode": {
    "name": "ipython",
    "version": 3
   },
   "file_extension": ".py",
   "mimetype": "text/x-python",
   "name": "python",
   "nbconvert_exporter": "python",
   "pygments_lexer": "ipython3",
   "version": "3.8.2"
  }
 },
 "nbformat": 4,
 "nbformat_minor": 4
}
