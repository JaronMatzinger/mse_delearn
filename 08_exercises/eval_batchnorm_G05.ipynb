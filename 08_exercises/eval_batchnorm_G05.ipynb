{
 "cells": [
  {
   "cell_type": "code",
   "execution_count": 1,
   "id": "0072cc8f",
   "metadata": {},
   "outputs": [],
   "source": [
    "import torch\n",
    "import torch.nn as nn\n",
    "import torch.nn.functional as F\n",
    "\n",
    "from torch.utils.data import DataLoader\n",
    "from torchvision import datasets\n",
    "from torchvision.transforms import ToTensor, Compose, Normalize\n",
    "from torchsummary import summary\n",
    "\n",
    "import random\n",
    "import numpy as np\n",
    "import matplotlib.pyplot as plt\n",
    "\n",
    "from tqdm import tqdm\n",
    "\n",
    "%matplotlib inline\n",
    "random.seed(123)"
   ]
  },
  {
   "cell_type": "code",
   "execution_count": 2,
   "id": "2466d7bf",
   "metadata": {},
   "outputs": [
    {
     "name": "stdout",
     "output_type": "stream",
     "text": [
      "Torch version: 2.6.0, Device: mps\n"
     ]
    }
   ],
   "source": [
    "device = torch.device('cuda' if torch.cuda.is_available() else 'mps' if torch.backends.mps.is_available() else 'cpu')\n",
    "print(f'Torch version: {torch.__version__}, Device: {device.type}')"
   ]
  },
  {
   "cell_type": "code",
   "execution_count": 3,
   "id": "52fbddd7",
   "metadata": {},
   "outputs": [],
   "source": [
    "train_data = datasets.CIFAR10(\n",
    "    root = 'data',\n",
    "    train = True,                    \n",
    "    transform = ToTensor(), \n",
    "    download = True,            \n",
    ")"
   ]
  },
  {
   "cell_type": "code",
   "execution_count": 4,
   "id": "02bb6773",
   "metadata": {},
   "outputs": [],
   "source": [
    "dataloader = DataLoader(train_data, 50000, shuffle=False, num_workers=2)\n",
    "X, _ = next(iter(dataloader))\n",
    "mean, std = torch.mean(X).item(), torch.std(X).item()"
   ]
  },
  {
   "cell_type": "code",
   "execution_count": 5,
   "id": "ac074f37",
   "metadata": {},
   "outputs": [],
   "source": [
    "train_data = datasets.CIFAR10(\n",
    "    root = 'data',\n",
    "    train = True,                    \n",
    "    transform = Compose([ToTensor(), Normalize(mean, std)]),\n",
    "    download = True,\n",
    ")\n",
    "\n",
    "test_data = datasets.CIFAR10(\n",
    "    root = 'data', \n",
    "    train = False, \n",
    "    transform = Compose([ToTensor(), Normalize(mean, std)]),\n",
    "    download = True\n",
    ")"
   ]
  },
  {
   "cell_type": "code",
   "execution_count": 6,
   "id": "a7f8a3c0",
   "metadata": {},
   "outputs": [],
   "source": [
    "train_data, val_data = torch.utils.data.random_split(train_data, [40000, 10000])"
   ]
  },
  {
   "cell_type": "markdown",
   "id": "0f4e82e5",
   "metadata": {},
   "source": [
    "## Architecture"
   ]
  },
  {
   "cell_type": "code",
   "execution_count": 7,
   "id": "69e069bb",
   "metadata": {},
   "outputs": [],
   "source": [
    "class Baseline(nn.Module):\n",
    "    def __init__(self, activation):\n",
    "        super().__init__()\n",
    "        self.conv1 = nn.Conv2d(3, 32, 3, padding='same')\n",
    "        self.conv2 = nn.Conv2d(32, 32, 3, padding='same')\n",
    "        self.pool = nn.MaxPool2d(2)\n",
    "        self.flatten = nn.Flatten()\n",
    "        self.fc1 = nn.Linear(8*8*32, 512)\n",
    "        self.fc2 = nn.Linear(512, 128)\n",
    "        self.fc3 = nn.Linear(128, 10)\n",
    "        self.activation = activation\n",
    "\n",
    "    def forward(self, x):\n",
    "        x = self.pool(self.activation(self.conv1(x)))\n",
    "        x = self.pool(self.activation(self.conv2(x)))\n",
    "        x = self.flatten(x)\n",
    "        x = self.activation(self.fc1(x))\n",
    "        x = self.activation(self.fc2(x))\n",
    "        return self.fc3(x)"
   ]
  },
  {
   "cell_type": "code",
   "execution_count": 8,
   "id": "5c9d1cc5",
   "metadata": {},
   "outputs": [],
   "source": [
    "def run_epoch(model, dataloader, optimizer, criterion, train=True):\n",
    "    \"\"\"\n",
    "    Runs one epoch for training or validation.\n",
    "    \"\"\"\n",
    "    epoch_loss = 0\n",
    "    correct = 0\n",
    "    total_samples = len(dataloader.dataset)\n",
    "\n",
    "    if train:\n",
    "        model.train()\n",
    "    else:\n",
    "        model.eval()\n",
    "\n",
    "    for X, y in tqdm(dataloader, desc=f'{\"Train\" if train else \"Val\"} Epoch'):\n",
    "        X, y = X.to(device), y.to(device)\n",
    "\n",
    "        if train:\n",
    "            optimizer.zero_grad()\n",
    "\n",
    "        with torch.set_grad_enabled(train):\n",
    "            output = model(X)\n",
    "            loss = criterion(output, y)\n",
    "\n",
    "        epoch_loss += loss.item()\n",
    "        _, y_pred = torch.max(output, dim=1)\n",
    "        correct += torch.sum(y_pred == y).item()\n",
    "\n",
    "        if train:\n",
    "            loss.backward()\n",
    "            optimizer.step()\n",
    "\n",
    "    avg_loss = epoch_loss / len(dataloader)\n",
    "    accuracy = correct / total_samples\n",
    "\n",
    "    return avg_loss, accuracy\n",
    "\n",
    "def trainer(model, train_loader, val_loader, optimizer, criterion, n_epochs, patience=None, delta=None):\n",
    "    \"\"\"\n",
    "    Trains and evaluates the model for n_epochs.\n",
    "    \"\"\"\n",
    "    epoch_train_losses = []\n",
    "    epoch_val_losses = []\n",
    "    epoch_train_accs = []\n",
    "    epoch_val_accs = []\n",
    "\n",
    "    best_val_loss = float('inf')\n",
    "    counter = 0\n",
    "\n",
    "    for epoch in range(n_epochs):\n",
    "\n",
    "        print(f'\\nEpoch {epoch+1}/{n_epochs}')\n",
    "        print('----------')\n",
    "\n",
    "        train_loss, train_acc = run_epoch(model, train_loader, optimizer, criterion, train=True)\n",
    "        val_loss, val_acc = run_epoch(model, val_loader, optimizer, criterion, train=False)\n",
    "            \n",
    "        epoch_train_losses.append(train_loss)\n",
    "        epoch_val_losses.append(val_loss)\n",
    "        epoch_train_accs.append(train_acc)\n",
    "        epoch_val_accs.append(val_acc)\n",
    "\n",
    "        print(f'Train Loss: {train_loss:.4f}, Train Accuracy: {train_acc:.4f}\\nVal Loss: {val_loss:.4f}, Val Accuracy: {val_acc:.4f}')\n",
    "\n",
    "        if patience == None and delta == None:\n",
    "            continue\n",
    "        else:\n",
    "            if val_loss < best_val_loss - delta:\n",
    "                best_val_loss = val_loss\n",
    "                counter = 0\n",
    "            else:\n",
    "                counter += 1\n",
    "                print(f'Val loss has not increased for {counter}/{patience} epochs')\n",
    "                if counter >= patience:\n",
    "                    print(f'Training stopped after {epoch+1} epochs')\n",
    "                    break\n",
    "    \n",
    "    return epoch_train_losses, epoch_val_losses, epoch_train_accs, epoch_val_accs"
   ]
  },
  {
   "cell_type": "markdown",
   "id": "ece6eac0",
   "metadata": {},
   "source": [
    "## Init"
   ]
  },
  {
   "cell_type": "code",
   "execution_count": null,
   "id": "d09728db",
   "metadata": {},
   "outputs": [],
   "source": [
    "results = {}\n",
    "n_epochs = 10\n",
    "\n",
    "train_loader = DataLoader(train_data, batch_size=512, shuffle=True)\n",
    "val_loader = DataLoader(val_data, batch_size=512, shuffle=False)\n"
   ]
  },
  {
   "cell_type": "markdown",
   "id": "f252c072",
   "metadata": {},
   "source": [
    "## Baseline with ReLU"
   ]
  },
  {
   "cell_type": "code",
   "execution_count": null,
   "id": "b5742443",
   "metadata": {},
   "outputs": [
    {
     "name": "stdout",
     "output_type": "stream",
     "text": [
      "\n",
      "Epoch 1/10\n",
      "----------\n"
     ]
    },
    {
     "name": "stderr",
     "output_type": "stream",
     "text": [
      "Train Epoch: 100%|██████████| 313/313 [00:05<00:00, 60.46it/s]\n",
      "Val Epoch: 100%|██████████| 79/79 [00:01<00:00, 76.96it/s]\n"
     ]
    },
    {
     "name": "stdout",
     "output_type": "stream",
     "text": [
      "Train Loss: 1.4668, Train Accuracy: 0.4670\n",
      "Val Loss: 1.2282, Val Accuracy: 0.5681\n",
      "\n",
      "Epoch 2/10\n",
      "----------\n"
     ]
    },
    {
     "name": "stderr",
     "output_type": "stream",
     "text": [
      "Train Epoch: 100%|██████████| 313/313 [00:04<00:00, 68.84it/s]\n",
      "Val Epoch: 100%|██████████| 79/79 [00:00<00:00, 88.77it/s]\n"
     ]
    },
    {
     "name": "stdout",
     "output_type": "stream",
     "text": [
      "Train Loss: 1.0861, Train Accuracy: 0.6127\n",
      "Val Loss: 1.0288, Val Accuracy: 0.6346\n",
      "\n",
      "Epoch 3/10\n",
      "----------\n"
     ]
    },
    {
     "name": "stderr",
     "output_type": "stream",
     "text": [
      "Train Epoch: 100%|██████████| 313/313 [00:04<00:00, 68.10it/s]\n",
      "Val Epoch: 100%|██████████| 79/79 [00:00<00:00, 93.47it/s]\n"
     ]
    },
    {
     "name": "stdout",
     "output_type": "stream",
     "text": [
      "Train Loss: 0.9031, Train Accuracy: 0.6833\n",
      "Val Loss: 0.9326, Val Accuracy: 0.6717\n",
      "\n",
      "Epoch 4/10\n",
      "----------\n"
     ]
    },
    {
     "name": "stderr",
     "output_type": "stream",
     "text": [
      "Train Epoch: 100%|██████████| 313/313 [00:04<00:00, 65.75it/s]\n",
      "Val Epoch: 100%|██████████| 79/79 [00:00<00:00, 91.96it/s]\n"
     ]
    },
    {
     "name": "stdout",
     "output_type": "stream",
     "text": [
      "Train Loss: 0.7728, Train Accuracy: 0.7272\n",
      "Val Loss: 0.8981, Val Accuracy: 0.6887\n",
      "\n",
      "Epoch 5/10\n",
      "----------\n"
     ]
    },
    {
     "name": "stderr",
     "output_type": "stream",
     "text": [
      "Train Epoch: 100%|██████████| 313/313 [00:04<00:00, 67.74it/s]\n",
      "Val Epoch: 100%|██████████| 79/79 [00:00<00:00, 91.54it/s]\n"
     ]
    },
    {
     "name": "stdout",
     "output_type": "stream",
     "text": [
      "Train Loss: 0.6509, Train Accuracy: 0.7706\n",
      "Val Loss: 0.8551, Val Accuracy: 0.7056\n",
      "\n",
      "Epoch 6/10\n",
      "----------\n"
     ]
    },
    {
     "name": "stderr",
     "output_type": "stream",
     "text": [
      "Train Epoch: 100%|██████████| 313/313 [00:04<00:00, 69.73it/s]\n",
      "Val Epoch: 100%|██████████| 79/79 [00:00<00:00, 94.71it/s]\n"
     ]
    },
    {
     "name": "stdout",
     "output_type": "stream",
     "text": [
      "Train Loss: 0.5390, Train Accuracy: 0.8115\n",
      "Val Loss: 0.8989, Val Accuracy: 0.7028\n",
      "\n",
      "Epoch 7/10\n",
      "----------\n"
     ]
    },
    {
     "name": "stderr",
     "output_type": "stream",
     "text": [
      "Train Epoch: 100%|██████████| 313/313 [00:04<00:00, 66.37it/s]\n",
      "Val Epoch: 100%|██████████| 79/79 [00:00<00:00, 91.99it/s]\n"
     ]
    },
    {
     "name": "stdout",
     "output_type": "stream",
     "text": [
      "Train Loss: 0.4314, Train Accuracy: 0.8480\n",
      "Val Loss: 0.9124, Val Accuracy: 0.7096\n",
      "\n",
      "Epoch 8/10\n",
      "----------\n"
     ]
    },
    {
     "name": "stderr",
     "output_type": "stream",
     "text": [
      "Train Epoch: 100%|██████████| 313/313 [00:04<00:00, 67.42it/s]\n",
      "Val Epoch: 100%|██████████| 79/79 [00:00<00:00, 92.10it/s]\n"
     ]
    },
    {
     "name": "stdout",
     "output_type": "stream",
     "text": [
      "Train Loss: 0.3271, Train Accuracy: 0.8853\n",
      "Val Loss: 0.9587, Val Accuracy: 0.7111\n",
      "\n",
      "Epoch 9/10\n",
      "----------\n"
     ]
    },
    {
     "name": "stderr",
     "output_type": "stream",
     "text": [
      "Train Epoch: 100%|██████████| 313/313 [00:04<00:00, 69.17it/s]\n",
      "Val Epoch: 100%|██████████| 79/79 [00:00<00:00, 90.60it/s]\n"
     ]
    },
    {
     "name": "stdout",
     "output_type": "stream",
     "text": [
      "Train Loss: 0.2286, Train Accuracy: 0.9213\n",
      "Val Loss: 1.1082, Val Accuracy: 0.7084\n",
      "\n",
      "Epoch 10/10\n",
      "----------\n"
     ]
    },
    {
     "name": "stderr",
     "output_type": "stream",
     "text": [
      "Train Epoch: 100%|██████████| 313/313 [00:04<00:00, 69.23it/s]\n",
      "Val Epoch: 100%|██████████| 79/79 [00:00<00:00, 89.35it/s]"
     ]
    },
    {
     "name": "stdout",
     "output_type": "stream",
     "text": [
      "Train Loss: 0.1619, Train Accuracy: 0.9446\n",
      "Val Loss: 1.2788, Val Accuracy: 0.7100\n"
     ]
    },
    {
     "name": "stderr",
     "output_type": "stream",
     "text": [
      "\n"
     ]
    }
   ],
   "source": [
    "model = Baseline(activation=nn.ReLU()).to(device)\n",
    "criterion = nn.CrossEntropyLoss()\n",
    "optimizer = torch.optim.Adam(model.parameters())\n",
    "\n",
    "epoch_train_losses, epoch_val_losses, epoch_train_accs, epoch_val_accs = trainer(model, train_loader, val_loader, optimizer, criterion, n_epochs)\n",
    "results['baseline_relu'] = [epoch_train_losses, epoch_val_losses, epoch_train_accs, epoch_val_accs]"
   ]
  },
  {
   "cell_type": "markdown",
   "id": "0f4d7ed6",
   "metadata": {},
   "source": [
    "## Baseline with Tanh"
   ]
  },
  {
   "cell_type": "code",
   "execution_count": null,
   "id": "76f653b5",
   "metadata": {},
   "outputs": [
    {
     "name": "stdout",
     "output_type": "stream",
     "text": [
      "\n",
      "Epoch 1/10\n",
      "----------\n"
     ]
    },
    {
     "name": "stderr",
     "output_type": "stream",
     "text": [
      "Train Epoch: 100%|██████████| 313/313 [00:04<00:00, 65.09it/s]\n",
      "Val Epoch: 100%|██████████| 79/79 [00:00<00:00, 93.30it/s]\n"
     ]
    },
    {
     "name": "stdout",
     "output_type": "stream",
     "text": [
      "Train Loss: 1.3733, Train Accuracy: 0.5097\n",
      "Val Loss: 1.0896, Val Accuracy: 0.6163\n",
      "\n",
      "Epoch 2/10\n",
      "----------\n"
     ]
    },
    {
     "name": "stderr",
     "output_type": "stream",
     "text": [
      "Train Epoch: 100%|██████████| 313/313 [00:04<00:00, 70.88it/s]\n",
      "Val Epoch: 100%|██████████| 79/79 [00:00<00:00, 91.97it/s]\n"
     ]
    },
    {
     "name": "stdout",
     "output_type": "stream",
     "text": [
      "Train Loss: 1.0039, Train Accuracy: 0.6474\n",
      "Val Loss: 0.9708, Val Accuracy: 0.6590\n",
      "\n",
      "Epoch 3/10\n",
      "----------\n"
     ]
    },
    {
     "name": "stderr",
     "output_type": "stream",
     "text": [
      "Train Epoch: 100%|██████████| 313/313 [00:04<00:00, 68.03it/s]\n",
      "Val Epoch: 100%|██████████| 79/79 [00:00<00:00, 87.83it/s]\n"
     ]
    },
    {
     "name": "stdout",
     "output_type": "stream",
     "text": [
      "Train Loss: 0.8509, Train Accuracy: 0.7007\n",
      "Val Loss: 0.9065, Val Accuracy: 0.6913\n",
      "\n",
      "Epoch 4/10\n",
      "----------\n"
     ]
    },
    {
     "name": "stderr",
     "output_type": "stream",
     "text": [
      "Train Epoch: 100%|██████████| 313/313 [00:04<00:00, 69.77it/s]\n",
      "Val Epoch: 100%|██████████| 79/79 [00:00<00:00, 92.47it/s]\n"
     ]
    },
    {
     "name": "stdout",
     "output_type": "stream",
     "text": [
      "Train Loss: 0.7206, Train Accuracy: 0.7488\n",
      "Val Loss: 0.9044, Val Accuracy: 0.6832\n",
      "\n",
      "Epoch 5/10\n",
      "----------\n"
     ]
    },
    {
     "name": "stderr",
     "output_type": "stream",
     "text": [
      "Train Epoch: 100%|██████████| 313/313 [00:04<00:00, 69.83it/s]\n",
      "Val Epoch: 100%|██████████| 79/79 [00:00<00:00, 91.88it/s]\n"
     ]
    },
    {
     "name": "stdout",
     "output_type": "stream",
     "text": [
      "Train Loss: 0.5829, Train Accuracy: 0.7978\n",
      "Val Loss: 0.8798, Val Accuracy: 0.7000\n",
      "\n",
      "Epoch 6/10\n",
      "----------\n"
     ]
    },
    {
     "name": "stderr",
     "output_type": "stream",
     "text": [
      "Train Epoch: 100%|██████████| 313/313 [00:04<00:00, 69.13it/s]\n",
      "Val Epoch: 100%|██████████| 79/79 [00:00<00:00, 84.27it/s]\n"
     ]
    },
    {
     "name": "stdout",
     "output_type": "stream",
     "text": [
      "Train Loss: 0.4344, Train Accuracy: 0.8533\n",
      "Val Loss: 0.9283, Val Accuracy: 0.6982\n",
      "\n",
      "Epoch 7/10\n",
      "----------\n"
     ]
    },
    {
     "name": "stderr",
     "output_type": "stream",
     "text": [
      "Train Epoch: 100%|██████████| 313/313 [00:04<00:00, 64.58it/s]\n",
      "Val Epoch: 100%|██████████| 79/79 [00:01<00:00, 78.70it/s]\n"
     ]
    },
    {
     "name": "stdout",
     "output_type": "stream",
     "text": [
      "Train Loss: 0.2949, Train Accuracy: 0.9042\n",
      "Val Loss: 1.0010, Val Accuracy: 0.6955\n",
      "\n",
      "Epoch 8/10\n",
      "----------\n"
     ]
    },
    {
     "name": "stderr",
     "output_type": "stream",
     "text": [
      "Train Epoch: 100%|██████████| 313/313 [00:04<00:00, 66.49it/s]\n",
      "Val Epoch: 100%|██████████| 79/79 [00:00<00:00, 94.22it/s]\n"
     ]
    },
    {
     "name": "stdout",
     "output_type": "stream",
     "text": [
      "Train Loss: 0.1742, Train Accuracy: 0.9478\n",
      "Val Loss: 1.1147, Val Accuracy: 0.6908\n",
      "\n",
      "Epoch 9/10\n",
      "----------\n"
     ]
    },
    {
     "name": "stderr",
     "output_type": "stream",
     "text": [
      "Train Epoch: 100%|██████████| 313/313 [00:04<00:00, 68.73it/s]\n",
      "Val Epoch: 100%|██████████| 79/79 [00:00<00:00, 89.71it/s]\n"
     ]
    },
    {
     "name": "stdout",
     "output_type": "stream",
     "text": [
      "Train Loss: 0.0972, Train Accuracy: 0.9744\n",
      "Val Loss: 1.2479, Val Accuracy: 0.6915\n",
      "\n",
      "Epoch 10/10\n",
      "----------\n"
     ]
    },
    {
     "name": "stderr",
     "output_type": "stream",
     "text": [
      "Train Epoch: 100%|██████████| 313/313 [00:04<00:00, 69.51it/s]\n",
      "Val Epoch: 100%|██████████| 79/79 [00:00<00:00, 86.69it/s]"
     ]
    },
    {
     "name": "stdout",
     "output_type": "stream",
     "text": [
      "Train Loss: 0.0709, Train Accuracy: 0.9806\n",
      "Val Loss: 1.3302, Val Accuracy: 0.6889\n"
     ]
    },
    {
     "name": "stderr",
     "output_type": "stream",
     "text": [
      "\n"
     ]
    }
   ],
   "source": [
    "model = Baseline(activation=nn.Tanh()).to(device)\n",
    "criterion = nn.CrossEntropyLoss()\n",
    "optimizer = torch.optim.Adam(model.parameters())\n",
    "\n",
    "epoch_train_losses, epoch_val_losses, epoch_train_accs, epoch_val_accs = trainer(model, train_loader, val_loader, optimizer, criterion, n_epochs)\n",
    "results['baseline_tanh'] = [epoch_train_losses, epoch_val_losses, epoch_train_accs, epoch_val_accs]"
   ]
  },
  {
   "cell_type": "markdown",
   "id": "d78b409e",
   "metadata": {},
   "source": [
    "## BatchNorm"
   ]
  },
  {
   "cell_type": "code",
   "execution_count": 13,
   "id": "8e2199d4",
   "metadata": {},
   "outputs": [],
   "source": [
    "class BatchNorm(nn.Module):\n",
    "    def __init__(self, activation):\n",
    "        super().__init__()\n",
    "        self.conv1 = nn.Conv2d(3, 32, 3, padding='same')\n",
    "        self.conv2 = nn.Conv2d(32, 32, 3, padding='same')\n",
    "        self.pool = nn.MaxPool2d(2)\n",
    "        self.flatten = nn.Flatten()\n",
    "        self.fc1 = nn.Linear(8*8*32, 512)\n",
    "        self.fc2 = nn.Linear(512, 128)\n",
    "        self.fc3 = nn.Linear(128, 10)\n",
    "        self.activation = activation\n",
    "        self.bn1 = nn.BatchNorm2d(32)\n",
    "        self.bn2 = nn.BatchNorm2d(32)\n",
    "        self.bn3 = nn.BatchNorm1d(512)\n",
    "        self.bn4 = nn.BatchNorm1d(128)\n",
    "\n",
    "    def forward(self, x):\n",
    "        x = self.pool(self.activation(self.bn1(self.conv1(x))))\n",
    "        x = self.pool(self.activation(self.bn2(self.conv2(x))))\n",
    "        x = self.flatten(x)\n",
    "        x = self.activation(self.bn3(self.fc1(x)))\n",
    "        x = self.activation(self.bn4(self.fc2(x)))\n",
    "        return self.fc3(x)"
   ]
  },
  {
   "cell_type": "code",
   "execution_count": 14,
   "id": "8df57171",
   "metadata": {},
   "outputs": [
    {
     "name": "stdout",
     "output_type": "stream",
     "text": [
      "\n",
      "Epoch 1/10\n",
      "----------\n"
     ]
    },
    {
     "name": "stderr",
     "output_type": "stream",
     "text": [
      "Train Epoch: 100%|██████████| 313/313 [00:07<00:00, 43.00it/s]\n",
      "Val Epoch: 100%|██████████| 79/79 [00:00<00:00, 82.88it/s]\n"
     ]
    },
    {
     "name": "stdout",
     "output_type": "stream",
     "text": [
      "Train Loss: 1.1776, Train Accuracy: 0.5815\n",
      "Val Loss: 0.9865, Val Accuracy: 0.6482\n",
      "\n",
      "Epoch 2/10\n",
      "----------\n"
     ]
    },
    {
     "name": "stderr",
     "output_type": "stream",
     "text": [
      "Train Epoch: 100%|██████████| 313/313 [00:05<00:00, 56.94it/s]\n",
      "Val Epoch: 100%|██████████| 79/79 [00:00<00:00, 85.26it/s]\n"
     ]
    },
    {
     "name": "stdout",
     "output_type": "stream",
     "text": [
      "Train Loss: 0.8089, Train Accuracy: 0.7147\n",
      "Val Loss: 0.8482, Val Accuracy: 0.7016\n",
      "\n",
      "Epoch 3/10\n",
      "----------\n"
     ]
    },
    {
     "name": "stderr",
     "output_type": "stream",
     "text": [
      "Train Epoch: 100%|██████████| 313/313 [00:05<00:00, 57.28it/s]\n",
      "Val Epoch: 100%|██████████| 79/79 [00:01<00:00, 72.34it/s]\n"
     ]
    },
    {
     "name": "stdout",
     "output_type": "stream",
     "text": [
      "Train Loss: 0.6226, Train Accuracy: 0.7815\n",
      "Val Loss: 0.8838, Val Accuracy: 0.6909\n",
      "\n",
      "Epoch 4/10\n",
      "----------\n"
     ]
    },
    {
     "name": "stderr",
     "output_type": "stream",
     "text": [
      "Train Epoch: 100%|██████████| 313/313 [00:05<00:00, 56.10it/s]\n",
      "Val Epoch: 100%|██████████| 79/79 [00:01<00:00, 77.48it/s]\n"
     ]
    },
    {
     "name": "stdout",
     "output_type": "stream",
     "text": [
      "Train Loss: 0.4646, Train Accuracy: 0.8387\n",
      "Val Loss: 0.9465, Val Accuracy: 0.6905\n",
      "\n",
      "Epoch 5/10\n",
      "----------\n"
     ]
    },
    {
     "name": "stderr",
     "output_type": "stream",
     "text": [
      "Train Epoch: 100%|██████████| 313/313 [00:05<00:00, 53.91it/s]\n",
      "Val Epoch: 100%|██████████| 79/79 [00:00<00:00, 80.77it/s]\n"
     ]
    },
    {
     "name": "stdout",
     "output_type": "stream",
     "text": [
      "Train Loss: 0.3191, Train Accuracy: 0.8904\n",
      "Val Loss: 0.9285, Val Accuracy: 0.7134\n",
      "\n",
      "Epoch 6/10\n",
      "----------\n"
     ]
    },
    {
     "name": "stderr",
     "output_type": "stream",
     "text": [
      "Train Epoch: 100%|██████████| 313/313 [00:05<00:00, 56.60it/s]\n",
      "Val Epoch: 100%|██████████| 79/79 [00:00<00:00, 79.77it/s]\n"
     ]
    },
    {
     "name": "stdout",
     "output_type": "stream",
     "text": [
      "Train Loss: 0.2218, Train Accuracy: 0.9258\n",
      "Val Loss: 1.0063, Val Accuracy: 0.7100\n",
      "\n",
      "Epoch 7/10\n",
      "----------\n"
     ]
    },
    {
     "name": "stderr",
     "output_type": "stream",
     "text": [
      "Train Epoch: 100%|██████████| 313/313 [00:05<00:00, 55.32it/s]\n",
      "Val Epoch: 100%|██████████| 79/79 [00:00<00:00, 87.37it/s]\n"
     ]
    },
    {
     "name": "stdout",
     "output_type": "stream",
     "text": [
      "Train Loss: 0.1498, Train Accuracy: 0.9505\n",
      "Val Loss: 1.1199, Val Accuracy: 0.7109\n",
      "\n",
      "Epoch 8/10\n",
      "----------\n"
     ]
    },
    {
     "name": "stderr",
     "output_type": "stream",
     "text": [
      "Train Epoch: 100%|██████████| 313/313 [00:05<00:00, 56.47it/s]\n",
      "Val Epoch: 100%|██████████| 79/79 [00:00<00:00, 84.44it/s]\n"
     ]
    },
    {
     "name": "stdout",
     "output_type": "stream",
     "text": [
      "Train Loss: 0.1073, Train Accuracy: 0.9651\n",
      "Val Loss: 1.1996, Val Accuracy: 0.7036\n",
      "\n",
      "Epoch 9/10\n",
      "----------\n"
     ]
    },
    {
     "name": "stderr",
     "output_type": "stream",
     "text": [
      "Train Epoch: 100%|██████████| 313/313 [00:05<00:00, 57.33it/s]\n",
      "Val Epoch: 100%|██████████| 79/79 [00:00<00:00, 82.20it/s]\n"
     ]
    },
    {
     "name": "stdout",
     "output_type": "stream",
     "text": [
      "Train Loss: 0.0873, Train Accuracy: 0.9714\n",
      "Val Loss: 1.2026, Val Accuracy: 0.7138\n",
      "\n",
      "Epoch 10/10\n",
      "----------\n"
     ]
    },
    {
     "name": "stderr",
     "output_type": "stream",
     "text": [
      "Train Epoch: 100%|██████████| 313/313 [00:05<00:00, 53.43it/s]\n",
      "Val Epoch: 100%|██████████| 79/79 [00:01<00:00, 69.25it/s]\n"
     ]
    },
    {
     "name": "stdout",
     "output_type": "stream",
     "text": [
      "Train Loss: 0.0806, Train Accuracy: 0.9727\n",
      "Val Loss: 1.2784, Val Accuracy: 0.7115\n",
      "\n",
      "Epoch 1/10\n",
      "----------\n"
     ]
    },
    {
     "name": "stderr",
     "output_type": "stream",
     "text": [
      "Train Epoch: 100%|██████████| 313/313 [00:05<00:00, 54.30it/s]\n",
      "Val Epoch: 100%|██████████| 79/79 [00:00<00:00, 85.67it/s]\n"
     ]
    },
    {
     "name": "stdout",
     "output_type": "stream",
     "text": [
      "Train Loss: 1.3577, Train Accuracy: 0.5188\n",
      "Val Loss: 1.1773, Val Accuracy: 0.5867\n",
      "\n",
      "Epoch 2/10\n",
      "----------\n"
     ]
    },
    {
     "name": "stderr",
     "output_type": "stream",
     "text": [
      "Train Epoch: 100%|██████████| 313/313 [00:05<00:00, 56.27it/s]\n",
      "Val Epoch: 100%|██████████| 79/79 [00:00<00:00, 79.43it/s]\n"
     ]
    },
    {
     "name": "stdout",
     "output_type": "stream",
     "text": [
      "Train Loss: 1.0317, Train Accuracy: 0.6388\n",
      "Val Loss: 1.0299, Val Accuracy: 0.6425\n",
      "\n",
      "Epoch 3/10\n",
      "----------\n"
     ]
    },
    {
     "name": "stderr",
     "output_type": "stream",
     "text": [
      "Train Epoch: 100%|██████████| 313/313 [00:05<00:00, 54.29it/s]\n",
      "Val Epoch: 100%|██████████| 79/79 [00:01<00:00, 69.84it/s]\n"
     ]
    },
    {
     "name": "stdout",
     "output_type": "stream",
     "text": [
      "Train Loss: 0.8816, Train Accuracy: 0.6928\n",
      "Val Loss: 0.9918, Val Accuracy: 0.6548\n",
      "\n",
      "Epoch 4/10\n",
      "----------\n"
     ]
    },
    {
     "name": "stderr",
     "output_type": "stream",
     "text": [
      "Train Epoch: 100%|██████████| 313/313 [00:05<00:00, 53.17it/s]\n",
      "Val Epoch: 100%|██████████| 79/79 [00:01<00:00, 78.93it/s]\n"
     ]
    },
    {
     "name": "stdout",
     "output_type": "stream",
     "text": [
      "Train Loss: 0.7747, Train Accuracy: 0.7287\n",
      "Val Loss: 0.9195, Val Accuracy: 0.6857\n",
      "\n",
      "Epoch 5/10\n",
      "----------\n"
     ]
    },
    {
     "name": "stderr",
     "output_type": "stream",
     "text": [
      "Train Epoch: 100%|██████████| 313/313 [00:05<00:00, 56.13it/s]\n",
      "Val Epoch: 100%|██████████| 79/79 [00:00<00:00, 79.97it/s]\n"
     ]
    },
    {
     "name": "stdout",
     "output_type": "stream",
     "text": [
      "Train Loss: 0.6839, Train Accuracy: 0.7607\n",
      "Val Loss: 0.9434, Val Accuracy: 0.6787\n",
      "\n",
      "Epoch 6/10\n",
      "----------\n"
     ]
    },
    {
     "name": "stderr",
     "output_type": "stream",
     "text": [
      "Train Epoch: 100%|██████████| 313/313 [00:05<00:00, 54.05it/s]\n",
      "Val Epoch: 100%|██████████| 79/79 [00:01<00:00, 71.59it/s]\n"
     ]
    },
    {
     "name": "stdout",
     "output_type": "stream",
     "text": [
      "Train Loss: 0.5810, Train Accuracy: 0.7971\n",
      "Val Loss: 0.9540, Val Accuracy: 0.6840\n",
      "\n",
      "Epoch 7/10\n",
      "----------\n"
     ]
    },
    {
     "name": "stderr",
     "output_type": "stream",
     "text": [
      "Train Epoch: 100%|██████████| 313/313 [00:05<00:00, 54.49it/s]\n",
      "Val Epoch: 100%|██████████| 79/79 [00:00<00:00, 80.39it/s]\n"
     ]
    },
    {
     "name": "stdout",
     "output_type": "stream",
     "text": [
      "Train Loss: 0.4882, Train Accuracy: 0.8313\n",
      "Val Loss: 1.0003, Val Accuracy: 0.6784\n",
      "\n",
      "Epoch 8/10\n",
      "----------\n"
     ]
    },
    {
     "name": "stderr",
     "output_type": "stream",
     "text": [
      "Train Epoch: 100%|██████████| 313/313 [00:05<00:00, 55.56it/s]\n",
      "Val Epoch: 100%|██████████| 79/79 [00:01<00:00, 76.97it/s]\n"
     ]
    },
    {
     "name": "stdout",
     "output_type": "stream",
     "text": [
      "Train Loss: 0.3923, Train Accuracy: 0.8667\n",
      "Val Loss: 1.0040, Val Accuracy: 0.6942\n",
      "\n",
      "Epoch 9/10\n",
      "----------\n"
     ]
    },
    {
     "name": "stderr",
     "output_type": "stream",
     "text": [
      "Train Epoch: 100%|██████████| 313/313 [00:05<00:00, 54.73it/s]\n",
      "Val Epoch: 100%|██████████| 79/79 [00:01<00:00, 77.42it/s]\n"
     ]
    },
    {
     "name": "stdout",
     "output_type": "stream",
     "text": [
      "Train Loss: 0.3055, Train Accuracy: 0.8961\n",
      "Val Loss: 1.1308, Val Accuracy: 0.6818\n",
      "\n",
      "Epoch 10/10\n",
      "----------\n"
     ]
    },
    {
     "name": "stderr",
     "output_type": "stream",
     "text": [
      "Train Epoch: 100%|██████████| 313/313 [00:05<00:00, 54.45it/s]\n",
      "Val Epoch: 100%|██████████| 79/79 [00:00<00:00, 82.08it/s]"
     ]
    },
    {
     "name": "stdout",
     "output_type": "stream",
     "text": [
      "Train Loss: 0.2197, Train Accuracy: 0.9263\n",
      "Val Loss: 1.3104, Val Accuracy: 0.6685\n"
     ]
    },
    {
     "name": "stderr",
     "output_type": "stream",
     "text": [
      "\n"
     ]
    }
   ],
   "source": [
    "activations = {'relu': nn.ReLU(), 'tanh': nn.Tanh()}\n",
    "\n",
    "for name, function in activations.items():\n",
    "    model = BatchNorm(activation=function).to(device)\n",
    "    criterion = nn.CrossEntropyLoss()\n",
    "    optimizer = torch.optim.Adam(model.parameters())\n",
    "\n",
    "    epoch_train_losses, epoch_val_losses, epoch_train_accs, epoch_val_accs = trainer(model, train_loader, val_loader, optimizer, criterion, n_epochs)\n",
    "    results[f'batchnorm_{name}'] = [epoch_train_losses, epoch_val_losses, epoch_train_accs, epoch_val_accs]"
   ]
  },
  {
   "cell_type": "markdown",
   "id": "f147d9c4",
   "metadata": {},
   "source": [
    "## Dropout without BatchNorm"
   ]
  },
  {
   "cell_type": "code",
   "execution_count": 16,
   "id": "7968e85e",
   "metadata": {},
   "outputs": [],
   "source": [
    "class Dropout(nn.Module):\n",
    "    def __init__(self, activation):\n",
    "        super().__init__()\n",
    "        self.conv1 = nn.Conv2d(3, 32, 3, padding='same')\n",
    "        self.conv2 = nn.Conv2d(32, 32, 3, padding='same')\n",
    "        self.pool = nn.MaxPool2d(2)\n",
    "        self.flatten = nn.Flatten()\n",
    "        self.fc1 = nn.Linear(8*8*32, 512)\n",
    "        self.fc2 = nn.Linear(512, 128)\n",
    "        self.fc3 = nn.Linear(128, 10)\n",
    "        self.activation = activation\n",
    "        self.dropout = nn.Dropout()\n",
    "\n",
    "    def forward(self, x):\n",
    "        x = self.pool(self.activation(self.conv1(x)))\n",
    "        x = self.pool(self.activation(self.conv2(x)))\n",
    "        x = self.flatten(x)\n",
    "        x = self.dropout(self.activation(self.fc1(x)))\n",
    "        x = self.dropout(self.activation(self.fc2(x)))\n",
    "        return self.fc3(x)"
   ]
  },
  {
   "cell_type": "code",
   "execution_count": 17,
   "id": "0666d446",
   "metadata": {},
   "outputs": [
    {
     "name": "stdout",
     "output_type": "stream",
     "text": [
      "\n",
      "Epoch 1/10\n",
      "----------\n"
     ]
    },
    {
     "name": "stderr",
     "output_type": "stream",
     "text": [
      "Train Epoch: 100%|██████████| 313/313 [00:04<00:00, 64.16it/s]\n",
      "Val Epoch: 100%|██████████| 79/79 [00:00<00:00, 93.21it/s]\n"
     ]
    },
    {
     "name": "stdout",
     "output_type": "stream",
     "text": [
      "Train Loss: 1.6488, Train Accuracy: 0.3953\n",
      "Val Loss: 1.2745, Val Accuracy: 0.5362\n",
      "\n",
      "Epoch 2/10\n",
      "----------\n"
     ]
    },
    {
     "name": "stderr",
     "output_type": "stream",
     "text": [
      "Train Epoch: 100%|██████████| 313/313 [00:04<00:00, 70.08it/s]\n",
      "Val Epoch: 100%|██████████| 79/79 [00:00<00:00, 92.85it/s]\n"
     ]
    },
    {
     "name": "stdout",
     "output_type": "stream",
     "text": [
      "Train Loss: 1.2841, Train Accuracy: 0.5390\n",
      "Val Loss: 1.1056, Val Accuracy: 0.6049\n",
      "\n",
      "Epoch 3/10\n",
      "----------\n"
     ]
    },
    {
     "name": "stderr",
     "output_type": "stream",
     "text": [
      "Train Epoch: 100%|██████████| 313/313 [00:04<00:00, 65.95it/s]\n",
      "Val Epoch: 100%|██████████| 79/79 [00:00<00:00, 94.51it/s]\n"
     ]
    },
    {
     "name": "stdout",
     "output_type": "stream",
     "text": [
      "Train Loss: 1.1203, Train Accuracy: 0.6035\n",
      "Val Loss: 1.0339, Val Accuracy: 0.6344\n",
      "\n",
      "Epoch 4/10\n",
      "----------\n"
     ]
    },
    {
     "name": "stderr",
     "output_type": "stream",
     "text": [
      "Train Epoch: 100%|██████████| 313/313 [00:04<00:00, 71.38it/s]\n",
      "Val Epoch: 100%|██████████| 79/79 [00:00<00:00, 94.80it/s]\n"
     ]
    },
    {
     "name": "stdout",
     "output_type": "stream",
     "text": [
      "Train Loss: 1.0134, Train Accuracy: 0.6467\n",
      "Val Loss: 0.9257, Val Accuracy: 0.6744\n",
      "\n",
      "Epoch 5/10\n",
      "----------\n"
     ]
    },
    {
     "name": "stderr",
     "output_type": "stream",
     "text": [
      "Train Epoch: 100%|██████████| 313/313 [00:04<00:00, 67.63it/s]\n",
      "Val Epoch: 100%|██████████| 79/79 [00:00<00:00, 88.31it/s]\n"
     ]
    },
    {
     "name": "stdout",
     "output_type": "stream",
     "text": [
      "Train Loss: 0.9334, Train Accuracy: 0.6753\n",
      "Val Loss: 0.9091, Val Accuracy: 0.6799\n",
      "\n",
      "Epoch 6/10\n",
      "----------\n"
     ]
    },
    {
     "name": "stderr",
     "output_type": "stream",
     "text": [
      "Train Epoch: 100%|██████████| 313/313 [00:04<00:00, 63.72it/s]\n",
      "Val Epoch: 100%|██████████| 79/79 [00:00<00:00, 91.94it/s]\n"
     ]
    },
    {
     "name": "stdout",
     "output_type": "stream",
     "text": [
      "Train Loss: 0.8653, Train Accuracy: 0.7014\n",
      "Val Loss: 0.8630, Val Accuracy: 0.6984\n",
      "\n",
      "Epoch 7/10\n",
      "----------\n"
     ]
    },
    {
     "name": "stderr",
     "output_type": "stream",
     "text": [
      "Train Epoch: 100%|██████████| 313/313 [00:04<00:00, 66.56it/s]\n",
      "Val Epoch: 100%|██████████| 79/79 [00:00<00:00, 89.49it/s]\n"
     ]
    },
    {
     "name": "stdout",
     "output_type": "stream",
     "text": [
      "Train Loss: 0.7967, Train Accuracy: 0.7262\n",
      "Val Loss: 0.8524, Val Accuracy: 0.7018\n",
      "\n",
      "Epoch 8/10\n",
      "----------\n"
     ]
    },
    {
     "name": "stderr",
     "output_type": "stream",
     "text": [
      "Train Epoch: 100%|██████████| 313/313 [00:04<00:00, 67.25it/s]\n",
      "Val Epoch: 100%|██████████| 79/79 [00:00<00:00, 82.46it/s]\n"
     ]
    },
    {
     "name": "stdout",
     "output_type": "stream",
     "text": [
      "Train Loss: 0.7412, Train Accuracy: 0.7415\n",
      "Val Loss: 0.8438, Val Accuracy: 0.7071\n",
      "\n",
      "Epoch 9/10\n",
      "----------\n"
     ]
    },
    {
     "name": "stderr",
     "output_type": "stream",
     "text": [
      "Train Epoch: 100%|██████████| 313/313 [00:04<00:00, 68.39it/s]\n",
      "Val Epoch: 100%|██████████| 79/79 [00:00<00:00, 89.04it/s]\n"
     ]
    },
    {
     "name": "stdout",
     "output_type": "stream",
     "text": [
      "Train Loss: 0.6888, Train Accuracy: 0.7604\n",
      "Val Loss: 0.8306, Val Accuracy: 0.7104\n",
      "\n",
      "Epoch 10/10\n",
      "----------\n"
     ]
    },
    {
     "name": "stderr",
     "output_type": "stream",
     "text": [
      "Train Epoch: 100%|██████████| 313/313 [00:04<00:00, 68.58it/s]\n",
      "Val Epoch: 100%|██████████| 79/79 [00:00<00:00, 85.27it/s]\n"
     ]
    },
    {
     "name": "stdout",
     "output_type": "stream",
     "text": [
      "Train Loss: 0.6396, Train Accuracy: 0.7785\n",
      "Val Loss: 0.8238, Val Accuracy: 0.7209\n",
      "\n",
      "Epoch 1/10\n",
      "----------\n"
     ]
    },
    {
     "name": "stderr",
     "output_type": "stream",
     "text": [
      "Train Epoch: 100%|██████████| 313/313 [00:04<00:00, 68.05it/s]\n",
      "Val Epoch: 100%|██████████| 79/79 [00:00<00:00, 93.35it/s]\n"
     ]
    },
    {
     "name": "stdout",
     "output_type": "stream",
     "text": [
      "Train Loss: 1.5072, Train Accuracy: 0.4576\n",
      "Val Loss: 1.1832, Val Accuracy: 0.5787\n",
      "\n",
      "Epoch 2/10\n",
      "----------\n"
     ]
    },
    {
     "name": "stderr",
     "output_type": "stream",
     "text": [
      "Train Epoch: 100%|██████████| 313/313 [00:04<00:00, 66.95it/s]\n",
      "Val Epoch: 100%|██████████| 79/79 [00:00<00:00, 85.79it/s]\n"
     ]
    },
    {
     "name": "stdout",
     "output_type": "stream",
     "text": [
      "Train Loss: 1.1888, Train Accuracy: 0.5850\n",
      "Val Loss: 1.0657, Val Accuracy: 0.6295\n",
      "\n",
      "Epoch 3/10\n",
      "----------\n"
     ]
    },
    {
     "name": "stderr",
     "output_type": "stream",
     "text": [
      "Train Epoch: 100%|██████████| 313/313 [00:04<00:00, 67.46it/s]\n",
      "Val Epoch: 100%|██████████| 79/79 [00:00<00:00, 93.32it/s]\n"
     ]
    },
    {
     "name": "stdout",
     "output_type": "stream",
     "text": [
      "Train Loss: 1.0779, Train Accuracy: 0.6275\n",
      "Val Loss: 1.0081, Val Accuracy: 0.6487\n",
      "\n",
      "Epoch 4/10\n",
      "----------\n"
     ]
    },
    {
     "name": "stderr",
     "output_type": "stream",
     "text": [
      "Train Epoch: 100%|██████████| 313/313 [00:04<00:00, 68.90it/s]\n",
      "Val Epoch: 100%|██████████| 79/79 [00:00<00:00, 92.36it/s]\n"
     ]
    },
    {
     "name": "stdout",
     "output_type": "stream",
     "text": [
      "Train Loss: 0.9983, Train Accuracy: 0.6573\n",
      "Val Loss: 0.9500, Val Accuracy: 0.6717\n",
      "\n",
      "Epoch 5/10\n",
      "----------\n"
     ]
    },
    {
     "name": "stderr",
     "output_type": "stream",
     "text": [
      "Train Epoch: 100%|██████████| 313/313 [00:04<00:00, 67.19it/s]\n",
      "Val Epoch: 100%|██████████| 79/79 [00:00<00:00, 92.62it/s]\n"
     ]
    },
    {
     "name": "stdout",
     "output_type": "stream",
     "text": [
      "Train Loss: 0.9455, Train Accuracy: 0.6718\n",
      "Val Loss: 0.9191, Val Accuracy: 0.6846\n",
      "\n",
      "Epoch 6/10\n",
      "----------\n"
     ]
    },
    {
     "name": "stderr",
     "output_type": "stream",
     "text": [
      "Train Epoch: 100%|██████████| 313/313 [00:04<00:00, 67.94it/s]\n",
      "Val Epoch: 100%|██████████| 79/79 [00:00<00:00, 92.66it/s]\n"
     ]
    },
    {
     "name": "stdout",
     "output_type": "stream",
     "text": [
      "Train Loss: 0.8937, Train Accuracy: 0.6917\n",
      "Val Loss: 0.9635, Val Accuracy: 0.6732\n",
      "\n",
      "Epoch 7/10\n",
      "----------\n"
     ]
    },
    {
     "name": "stderr",
     "output_type": "stream",
     "text": [
      "Train Epoch: 100%|██████████| 313/313 [00:04<00:00, 67.65it/s]\n",
      "Val Epoch: 100%|██████████| 79/79 [00:00<00:00, 92.82it/s]\n"
     ]
    },
    {
     "name": "stdout",
     "output_type": "stream",
     "text": [
      "Train Loss: 0.8584, Train Accuracy: 0.7031\n",
      "Val Loss: 0.9505, Val Accuracy: 0.6764\n",
      "\n",
      "Epoch 8/10\n",
      "----------\n"
     ]
    },
    {
     "name": "stderr",
     "output_type": "stream",
     "text": [
      "Train Epoch: 100%|██████████| 313/313 [00:04<00:00, 67.20it/s]\n",
      "Val Epoch: 100%|██████████| 79/79 [00:00<00:00, 93.24it/s]\n"
     ]
    },
    {
     "name": "stdout",
     "output_type": "stream",
     "text": [
      "Train Loss: 0.8073, Train Accuracy: 0.7184\n",
      "Val Loss: 0.9056, Val Accuracy: 0.6902\n",
      "\n",
      "Epoch 9/10\n",
      "----------\n"
     ]
    },
    {
     "name": "stderr",
     "output_type": "stream",
     "text": [
      "Train Epoch: 100%|██████████| 313/313 [00:04<00:00, 65.79it/s]\n",
      "Val Epoch: 100%|██████████| 79/79 [00:01<00:00, 73.35it/s]\n"
     ]
    },
    {
     "name": "stdout",
     "output_type": "stream",
     "text": [
      "Train Loss: 0.7733, Train Accuracy: 0.7344\n",
      "Val Loss: 0.8799, Val Accuracy: 0.6977\n",
      "\n",
      "Epoch 10/10\n",
      "----------\n"
     ]
    },
    {
     "name": "stderr",
     "output_type": "stream",
     "text": [
      "Train Epoch: 100%|██████████| 313/313 [00:04<00:00, 64.26it/s]\n",
      "Val Epoch: 100%|██████████| 79/79 [00:00<00:00, 88.28it/s]"
     ]
    },
    {
     "name": "stdout",
     "output_type": "stream",
     "text": [
      "Train Loss: 0.7345, Train Accuracy: 0.7468\n",
      "Val Loss: 0.8764, Val Accuracy: 0.7046\n"
     ]
    },
    {
     "name": "stderr",
     "output_type": "stream",
     "text": [
      "\n"
     ]
    }
   ],
   "source": [
    "activations = {'relu': nn.ReLU(), 'tanh': nn.Tanh()}\n",
    "\n",
    "for name, function in activations.items():\n",
    "    model = Dropout(activation=function).to(device)\n",
    "    criterion = nn.CrossEntropyLoss()\n",
    "    optimizer = torch.optim.Adam(model.parameters())\n",
    "\n",
    "    epoch_train_losses, epoch_val_losses, epoch_train_accs, epoch_val_accs = trainer(model, train_loader, val_loader, optimizer, criterion, n_epochs)\n",
    "    results[f'dropout_{name}'] = [epoch_train_losses, epoch_val_losses, epoch_train_accs, epoch_val_accs]"
   ]
  },
  {
   "cell_type": "markdown",
   "id": "88ece6fd",
   "metadata": {},
   "source": [
    "## Dropout with BatchNorm"
   ]
  },
  {
   "cell_type": "code",
   "execution_count": 18,
   "id": "1d7ce4b4",
   "metadata": {},
   "outputs": [],
   "source": [
    "class DropoutBatchNorm(nn.Module):\n",
    "    def __init__(self, activation):\n",
    "        super().__init__()\n",
    "        self.conv1 = nn.Conv2d(3, 32, 3, padding='same')\n",
    "        self.conv2 = nn.Conv2d(32, 32, 3, padding='same')\n",
    "        self.pool = nn.MaxPool2d(2)\n",
    "        self.flatten = nn.Flatten()\n",
    "        self.fc1 = nn.Linear(8*8*32, 512)\n",
    "        self.fc2 = nn.Linear(512, 128)\n",
    "        self.fc3 = nn.Linear(128, 10)\n",
    "        self.activation = activation\n",
    "        self.bn1 = nn.BatchNorm2d(32)\n",
    "        self.bn2 = nn.BatchNorm2d(32)\n",
    "        self.bn3 = nn.BatchNorm1d(512)\n",
    "        self.bn4 = nn.BatchNorm1d(128)\n",
    "        self.dropout = nn.Dropout()\n",
    "\n",
    "    def forward(self, x):\n",
    "        x = self.pool(self.activation(self.bn1(self.conv1(x))))\n",
    "        x = self.pool(self.activation(self.bn2(self.conv2(x))))\n",
    "        x = self.flatten(x)\n",
    "        x = self.dropout(self.activation(self.bn3(self.fc1(x))))\n",
    "        x = self.dropout(self.activation(self.bn4(self.fc2(x))))\n",
    "        return self.fc3(x)"
   ]
  },
  {
   "cell_type": "code",
   "execution_count": null,
   "id": "f1c18fd7",
   "metadata": {},
   "outputs": [
    {
     "name": "stdout",
     "output_type": "stream",
     "text": [
      "\n",
      "Epoch 1/10\n",
      "----------\n"
     ]
    },
    {
     "name": "stderr",
     "output_type": "stream",
     "text": [
      "Train Epoch: 100%|██████████| 313/313 [00:05<00:00, 55.38it/s]\n",
      "Val Epoch: 100%|██████████| 79/79 [00:00<00:00, 83.60it/s]\n"
     ]
    },
    {
     "name": "stdout",
     "output_type": "stream",
     "text": [
      "Train Loss: 1.3933, Train Accuracy: 0.5023\n",
      "Val Loss: 1.0436, Val Accuracy: 0.6321\n",
      "\n",
      "Epoch 2/10\n",
      "----------\n"
     ]
    },
    {
     "name": "stderr",
     "output_type": "stream",
     "text": [
      "Train Epoch: 100%|██████████| 313/313 [00:05<00:00, 55.62it/s]\n",
      "Val Epoch: 100%|██████████| 79/79 [00:00<00:00, 82.91it/s]\n"
     ]
    },
    {
     "name": "stdout",
     "output_type": "stream",
     "text": [
      "Train Loss: 1.0512, Train Accuracy: 0.6340\n",
      "Val Loss: 0.9492, Val Accuracy: 0.6683\n",
      "\n",
      "Epoch 3/10\n",
      "----------\n"
     ]
    },
    {
     "name": "stderr",
     "output_type": "stream",
     "text": [
      "Train Epoch: 100%|██████████| 313/313 [00:05<00:00, 57.28it/s]\n",
      "Val Epoch: 100%|██████████| 79/79 [00:00<00:00, 87.96it/s]\n"
     ]
    },
    {
     "name": "stdout",
     "output_type": "stream",
     "text": [
      "Train Loss: 0.9198, Train Accuracy: 0.6813\n",
      "Val Loss: 0.8760, Val Accuracy: 0.6924\n",
      "\n",
      "Epoch 4/10\n",
      "----------\n"
     ]
    },
    {
     "name": "stderr",
     "output_type": "stream",
     "text": [
      "Train Epoch: 100%|██████████| 313/313 [00:05<00:00, 54.97it/s]\n",
      "Val Epoch: 100%|██████████| 79/79 [00:01<00:00, 78.61it/s]\n"
     ]
    },
    {
     "name": "stdout",
     "output_type": "stream",
     "text": [
      "Train Loss: 0.8335, Train Accuracy: 0.7115\n",
      "Val Loss: 0.8869, Val Accuracy: 0.6817\n",
      "\n",
      "Epoch 5/10\n",
      "----------\n"
     ]
    },
    {
     "name": "stderr",
     "output_type": "stream",
     "text": [
      "Train Epoch: 100%|██████████| 313/313 [00:05<00:00, 56.58it/s]\n",
      "Val Epoch: 100%|██████████| 79/79 [00:00<00:00, 86.03it/s]\n"
     ]
    },
    {
     "name": "stdout",
     "output_type": "stream",
     "text": [
      "Train Loss: 0.7732, Train Accuracy: 0.7323\n",
      "Val Loss: 0.7941, Val Accuracy: 0.7225\n",
      "\n",
      "Epoch 6/10\n",
      "----------\n"
     ]
    },
    {
     "name": "stderr",
     "output_type": "stream",
     "text": [
      "Train Epoch: 100%|██████████| 313/313 [00:05<00:00, 57.19it/s]\n",
      "Val Epoch: 100%|██████████| 79/79 [00:00<00:00, 86.33it/s]\n"
     ]
    },
    {
     "name": "stdout",
     "output_type": "stream",
     "text": [
      "Train Loss: 0.7095, Train Accuracy: 0.7531\n",
      "Val Loss: 0.7560, Val Accuracy: 0.7385\n",
      "\n",
      "Epoch 7/10\n",
      "----------\n"
     ]
    },
    {
     "name": "stderr",
     "output_type": "stream",
     "text": [
      "Train Epoch: 100%|██████████| 313/313 [00:05<00:00, 56.23it/s]\n",
      "Val Epoch: 100%|██████████| 79/79 [00:00<00:00, 87.56it/s]\n"
     ]
    },
    {
     "name": "stdout",
     "output_type": "stream",
     "text": [
      "Train Loss: 0.6502, Train Accuracy: 0.7743\n",
      "Val Loss: 0.7755, Val Accuracy: 0.7341\n",
      "\n",
      "Epoch 8/10\n",
      "----------\n"
     ]
    },
    {
     "name": "stderr",
     "output_type": "stream",
     "text": [
      "Train Epoch: 100%|██████████| 313/313 [00:05<00:00, 56.93it/s]\n",
      "Val Epoch: 100%|██████████| 79/79 [00:00<00:00, 86.41it/s]\n"
     ]
    },
    {
     "name": "stdout",
     "output_type": "stream",
     "text": [
      "Train Loss: 0.6011, Train Accuracy: 0.7941\n",
      "Val Loss: 0.7673, Val Accuracy: 0.7355\n",
      "\n",
      "Epoch 9/10\n",
      "----------\n"
     ]
    },
    {
     "name": "stderr",
     "output_type": "stream",
     "text": [
      "Train Epoch: 100%|██████████| 313/313 [00:05<00:00, 56.88it/s]\n",
      "Val Epoch: 100%|██████████| 79/79 [00:00<00:00, 87.02it/s]\n"
     ]
    },
    {
     "name": "stdout",
     "output_type": "stream",
     "text": [
      "Train Loss: 0.5557, Train Accuracy: 0.8063\n",
      "Val Loss: 0.7843, Val Accuracy: 0.7331\n",
      "\n",
      "Epoch 10/10\n",
      "----------\n"
     ]
    },
    {
     "name": "stderr",
     "output_type": "stream",
     "text": [
      "Train Epoch: 100%|██████████| 313/313 [00:05<00:00, 57.31it/s]\n",
      "Val Epoch: 100%|██████████| 79/79 [00:00<00:00, 87.21it/s]\n"
     ]
    },
    {
     "name": "stdout",
     "output_type": "stream",
     "text": [
      "Train Loss: 0.5127, Train Accuracy: 0.8199\n",
      "Val Loss: 0.7727, Val Accuracy: 0.7437\n",
      "\n",
      "Epoch 1/10\n",
      "----------\n"
     ]
    },
    {
     "name": "stderr",
     "output_type": "stream",
     "text": [
      "Train Epoch: 100%|██████████| 313/313 [00:05<00:00, 56.46it/s]\n",
      "Val Epoch: 100%|██████████| 79/79 [00:00<00:00, 83.44it/s]\n"
     ]
    },
    {
     "name": "stdout",
     "output_type": "stream",
     "text": [
      "Train Loss: 1.4893, Train Accuracy: 0.4708\n",
      "Val Loss: 1.2034, Val Accuracy: 0.5694\n",
      "\n",
      "Epoch 2/10\n",
      "----------\n"
     ]
    },
    {
     "name": "stderr",
     "output_type": "stream",
     "text": [
      "Train Epoch: 100%|██████████| 313/313 [00:05<00:00, 57.03it/s]\n",
      "Val Epoch: 100%|██████████| 79/79 [00:00<00:00, 83.18it/s]\n"
     ]
    },
    {
     "name": "stdout",
     "output_type": "stream",
     "text": [
      "Train Loss: 1.1704, Train Accuracy: 0.5896\n",
      "Val Loss: 1.0603, Val Accuracy: 0.6262\n",
      "\n",
      "Epoch 3/10\n",
      "----------\n"
     ]
    },
    {
     "name": "stderr",
     "output_type": "stream",
     "text": [
      "Train Epoch: 100%|██████████| 313/313 [00:05<00:00, 55.91it/s]\n",
      "Val Epoch: 100%|██████████| 79/79 [00:00<00:00, 85.85it/s]\n"
     ]
    },
    {
     "name": "stdout",
     "output_type": "stream",
     "text": [
      "Train Loss: 1.0397, Train Accuracy: 0.6362\n",
      "Val Loss: 1.0064, Val Accuracy: 0.6422\n",
      "\n",
      "Epoch 4/10\n",
      "----------\n"
     ]
    },
    {
     "name": "stderr",
     "output_type": "stream",
     "text": [
      "Train Epoch: 100%|██████████| 313/313 [00:05<00:00, 56.77it/s]\n",
      "Val Epoch: 100%|██████████| 79/79 [00:00<00:00, 86.17it/s]\n"
     ]
    },
    {
     "name": "stdout",
     "output_type": "stream",
     "text": [
      "Train Loss: 0.9703, Train Accuracy: 0.6608\n",
      "Val Loss: 0.9460, Val Accuracy: 0.6700\n",
      "\n",
      "Epoch 5/10\n",
      "----------\n"
     ]
    },
    {
     "name": "stderr",
     "output_type": "stream",
     "text": [
      "Train Epoch: 100%|██████████| 313/313 [00:05<00:00, 56.27it/s]\n",
      "Val Epoch: 100%|██████████| 79/79 [00:01<00:00, 75.18it/s]\n"
     ]
    },
    {
     "name": "stdout",
     "output_type": "stream",
     "text": [
      "Train Loss: 0.9068, Train Accuracy: 0.6846\n",
      "Val Loss: 0.9173, Val Accuracy: 0.6797\n",
      "\n",
      "Epoch 6/10\n",
      "----------\n"
     ]
    },
    {
     "name": "stderr",
     "output_type": "stream",
     "text": [
      "Train Epoch: 100%|██████████| 313/313 [00:05<00:00, 54.66it/s]\n",
      "Val Epoch: 100%|██████████| 79/79 [00:01<00:00, 76.26it/s]\n"
     ]
    },
    {
     "name": "stdout",
     "output_type": "stream",
     "text": [
      "Train Loss: 0.8614, Train Accuracy: 0.7013\n",
      "Val Loss: 0.9372, Val Accuracy: 0.6688\n",
      "\n",
      "Epoch 7/10\n",
      "----------\n"
     ]
    },
    {
     "name": "stderr",
     "output_type": "stream",
     "text": [
      "Train Epoch: 100%|██████████| 313/313 [00:05<00:00, 56.38it/s]\n",
      "Val Epoch: 100%|██████████| 79/79 [00:01<00:00, 76.03it/s]\n"
     ]
    },
    {
     "name": "stdout",
     "output_type": "stream",
     "text": [
      "Train Loss: 0.8266, Train Accuracy: 0.7149\n",
      "Val Loss: 0.9607, Val Accuracy: 0.6663\n",
      "\n",
      "Epoch 8/10\n",
      "----------\n"
     ]
    },
    {
     "name": "stderr",
     "output_type": "stream",
     "text": [
      "Train Epoch: 100%|██████████| 313/313 [00:05<00:00, 52.96it/s]\n",
      "Val Epoch: 100%|██████████| 79/79 [00:00<00:00, 80.53it/s]\n"
     ]
    },
    {
     "name": "stdout",
     "output_type": "stream",
     "text": [
      "Train Loss: 0.7896, Train Accuracy: 0.7244\n",
      "Val Loss: 0.9233, Val Accuracy: 0.6784\n",
      "\n",
      "Epoch 9/10\n",
      "----------\n"
     ]
    },
    {
     "name": "stderr",
     "output_type": "stream",
     "text": [
      "Train Epoch: 100%|██████████| 313/313 [00:05<00:00, 53.30it/s]\n",
      "Val Epoch: 100%|██████████| 79/79 [00:01<00:00, 77.83it/s]\n"
     ]
    },
    {
     "name": "stdout",
     "output_type": "stream",
     "text": [
      "Train Loss: 0.7526, Train Accuracy: 0.7375\n",
      "Val Loss: 0.9213, Val Accuracy: 0.6855\n",
      "\n",
      "Epoch 10/10\n",
      "----------\n"
     ]
    },
    {
     "name": "stderr",
     "output_type": "stream",
     "text": [
      "Train Epoch: 100%|██████████| 313/313 [00:05<00:00, 54.53it/s]\n",
      "Val Epoch: 100%|██████████| 79/79 [00:01<00:00, 78.77it/s]"
     ]
    },
    {
     "name": "stdout",
     "output_type": "stream",
     "text": [
      "Train Loss: 0.7284, Train Accuracy: 0.7488\n",
      "Val Loss: 0.9176, Val Accuracy: 0.6808\n"
     ]
    },
    {
     "name": "stderr",
     "output_type": "stream",
     "text": [
      "\n"
     ]
    }
   ],
   "source": [
    "model = DropoutBatchNorm(activation=nn.ReLU()).to(device)\n",
    "criterion = nn.CrossEntropyLoss()\n",
    "optimizer = torch.optim.Adam(model.parameters())\n",
    "\n",
    "epoch_train_losses, epoch_val_losses, epoch_train_accs, epoch_val_accs = trainer(model, train_loader, val_loader, optimizer, criterion, n_epochs)\n",
    "results[f'dropout_batchnorm_relu'] = [epoch_train_losses, epoch_val_losses, epoch_train_accs, epoch_val_accs]"
   ]
  },
  {
   "cell_type": "markdown",
   "id": "58417feb",
   "metadata": {},
   "source": [
    "## More Epochs"
   ]
  },
  {
   "cell_type": "code",
   "execution_count": null,
   "id": "260b778a",
   "metadata": {},
   "outputs": [
    {
     "name": "stdout",
     "output_type": "stream",
     "text": [
      "\n",
      "Epoch 1/30\n",
      "----------\n"
     ]
    },
    {
     "name": "stderr",
     "output_type": "stream",
     "text": [
      "Train Epoch: 100%|██████████| 313/313 [00:05<00:00, 56.31it/s]\n",
      "Val Epoch: 100%|██████████| 79/79 [00:01<00:00, 70.17it/s]\n"
     ]
    },
    {
     "name": "stdout",
     "output_type": "stream",
     "text": [
      "Train Loss: 1.4478, Train Accuracy: 0.4807\n",
      "Val Loss: 1.1020, Val Accuracy: 0.6127\n",
      "\n",
      "Epoch 2/30\n",
      "----------\n"
     ]
    },
    {
     "name": "stderr",
     "output_type": "stream",
     "text": [
      "Train Epoch: 100%|██████████| 313/313 [00:05<00:00, 53.67it/s]\n",
      "Val Epoch: 100%|██████████| 79/79 [00:00<00:00, 82.08it/s]\n"
     ]
    },
    {
     "name": "stdout",
     "output_type": "stream",
     "text": [
      "Train Loss: 1.1056, Train Accuracy: 0.6110\n",
      "Val Loss: 0.9095, Val Accuracy: 0.6829\n",
      "\n",
      "Epoch 3/30\n",
      "----------\n"
     ]
    },
    {
     "name": "stderr",
     "output_type": "stream",
     "text": [
      "Train Epoch: 100%|██████████| 313/313 [00:05<00:00, 56.60it/s]\n",
      "Val Epoch: 100%|██████████| 79/79 [00:00<00:00, 90.16it/s]\n"
     ]
    },
    {
     "name": "stdout",
     "output_type": "stream",
     "text": [
      "Train Loss: 0.9625, Train Accuracy: 0.6645\n",
      "Val Loss: 0.8645, Val Accuracy: 0.7025\n",
      "\n",
      "Epoch 4/30\n",
      "----------\n"
     ]
    },
    {
     "name": "stderr",
     "output_type": "stream",
     "text": [
      "Train Epoch: 100%|██████████| 313/313 [00:05<00:00, 58.02it/s]\n",
      "Val Epoch: 100%|██████████| 79/79 [00:00<00:00, 89.24it/s]\n"
     ]
    },
    {
     "name": "stdout",
     "output_type": "stream",
     "text": [
      "Train Loss: 0.8712, Train Accuracy: 0.6984\n",
      "Val Loss: 0.8211, Val Accuracy: 0.7128\n",
      "\n",
      "Epoch 5/30\n",
      "----------\n"
     ]
    },
    {
     "name": "stderr",
     "output_type": "stream",
     "text": [
      "Train Epoch: 100%|██████████| 313/313 [00:05<00:00, 57.41it/s]\n",
      "Val Epoch: 100%|██████████| 79/79 [00:00<00:00, 87.90it/s]\n"
     ]
    },
    {
     "name": "stdout",
     "output_type": "stream",
     "text": [
      "Train Loss: 0.7964, Train Accuracy: 0.7248\n",
      "Val Loss: 0.7726, Val Accuracy: 0.7279\n",
      "\n",
      "Epoch 6/30\n",
      "----------\n"
     ]
    },
    {
     "name": "stderr",
     "output_type": "stream",
     "text": [
      "Train Epoch: 100%|██████████| 313/313 [00:05<00:00, 58.29it/s]\n",
      "Val Epoch: 100%|██████████| 79/79 [00:00<00:00, 87.78it/s]\n"
     ]
    },
    {
     "name": "stdout",
     "output_type": "stream",
     "text": [
      "Train Loss: 0.7491, Train Accuracy: 0.7421\n",
      "Val Loss: 0.7685, Val Accuracy: 0.7343\n",
      "\n",
      "Epoch 7/30\n",
      "----------\n"
     ]
    },
    {
     "name": "stderr",
     "output_type": "stream",
     "text": [
      "Train Epoch: 100%|██████████| 313/313 [00:05<00:00, 55.90it/s]\n",
      "Val Epoch: 100%|██████████| 79/79 [00:01<00:00, 72.25it/s]\n"
     ]
    },
    {
     "name": "stdout",
     "output_type": "stream",
     "text": [
      "Train Loss: 0.6897, Train Accuracy: 0.7619\n",
      "Val Loss: 0.7643, Val Accuracy: 0.7395\n",
      "\n",
      "Epoch 8/30\n",
      "----------\n"
     ]
    },
    {
     "name": "stderr",
     "output_type": "stream",
     "text": [
      "Train Epoch: 100%|██████████| 313/313 [00:05<00:00, 54.12it/s]\n",
      "Val Epoch: 100%|██████████| 79/79 [00:00<00:00, 86.63it/s]\n"
     ]
    },
    {
     "name": "stdout",
     "output_type": "stream",
     "text": [
      "Train Loss: 0.6594, Train Accuracy: 0.7719\n",
      "Val Loss: 0.7250, Val Accuracy: 0.7486\n",
      "\n",
      "Epoch 9/30\n",
      "----------\n"
     ]
    },
    {
     "name": "stderr",
     "output_type": "stream",
     "text": [
      "Train Epoch: 100%|██████████| 313/313 [00:05<00:00, 56.04it/s]\n",
      "Val Epoch: 100%|██████████| 79/79 [00:00<00:00, 86.50it/s]\n"
     ]
    },
    {
     "name": "stdout",
     "output_type": "stream",
     "text": [
      "Train Loss: 0.5970, Train Accuracy: 0.7912\n",
      "Val Loss: 0.7324, Val Accuracy: 0.7474\n",
      "\n",
      "Epoch 10/30\n",
      "----------\n"
     ]
    },
    {
     "name": "stderr",
     "output_type": "stream",
     "text": [
      "Train Epoch: 100%|██████████| 313/313 [00:05<00:00, 56.72it/s]\n",
      "Val Epoch: 100%|██████████| 79/79 [00:00<00:00, 82.65it/s]\n"
     ]
    },
    {
     "name": "stdout",
     "output_type": "stream",
     "text": [
      "Train Loss: 0.5683, Train Accuracy: 0.8039\n",
      "Val Loss: 0.7342, Val Accuracy: 0.7489\n",
      "\n",
      "Epoch 11/30\n",
      "----------\n"
     ]
    },
    {
     "name": "stderr",
     "output_type": "stream",
     "text": [
      "Train Epoch: 100%|██████████| 313/313 [00:05<00:00, 56.50it/s]\n",
      "Val Epoch: 100%|██████████| 79/79 [00:00<00:00, 80.77it/s]\n"
     ]
    },
    {
     "name": "stdout",
     "output_type": "stream",
     "text": [
      "Train Loss: 0.5414, Train Accuracy: 0.8137\n",
      "Val Loss: 0.7301, Val Accuracy: 0.7512\n",
      "\n",
      "Epoch 12/30\n",
      "----------\n"
     ]
    },
    {
     "name": "stderr",
     "output_type": "stream",
     "text": [
      "Train Epoch: 100%|██████████| 313/313 [00:05<00:00, 56.33it/s]\n",
      "Val Epoch: 100%|██████████| 79/79 [00:00<00:00, 84.22it/s]\n"
     ]
    },
    {
     "name": "stdout",
     "output_type": "stream",
     "text": [
      "Train Loss: 0.5098, Train Accuracy: 0.8225\n",
      "Val Loss: 0.7427, Val Accuracy: 0.7503\n",
      "\n",
      "Epoch 13/30\n",
      "----------\n"
     ]
    },
    {
     "name": "stderr",
     "output_type": "stream",
     "text": [
      "Train Epoch: 100%|██████████| 313/313 [00:05<00:00, 56.32it/s]\n",
      "Val Epoch: 100%|██████████| 79/79 [00:01<00:00, 74.78it/s]\n"
     ]
    },
    {
     "name": "stdout",
     "output_type": "stream",
     "text": [
      "Train Loss: 0.4641, Train Accuracy: 0.8386\n",
      "Val Loss: 0.7464, Val Accuracy: 0.7517\n",
      "\n",
      "Epoch 14/30\n",
      "----------\n"
     ]
    },
    {
     "name": "stderr",
     "output_type": "stream",
     "text": [
      "Train Epoch: 100%|██████████| 313/313 [00:05<00:00, 54.22it/s]\n",
      "Val Epoch: 100%|██████████| 79/79 [00:00<00:00, 86.42it/s]\n"
     ]
    },
    {
     "name": "stdout",
     "output_type": "stream",
     "text": [
      "Train Loss: 0.4360, Train Accuracy: 0.8493\n",
      "Val Loss: 0.7672, Val Accuracy: 0.7519\n",
      "\n",
      "Epoch 15/30\n",
      "----------\n"
     ]
    },
    {
     "name": "stderr",
     "output_type": "stream",
     "text": [
      "Train Epoch: 100%|██████████| 313/313 [00:05<00:00, 55.80it/s]\n",
      "Val Epoch: 100%|██████████| 79/79 [00:00<00:00, 81.74it/s]\n"
     ]
    },
    {
     "name": "stdout",
     "output_type": "stream",
     "text": [
      "Train Loss: 0.4408, Train Accuracy: 0.8485\n",
      "Val Loss: 0.7744, Val Accuracy: 0.7541\n",
      "\n",
      "Epoch 16/30\n",
      "----------\n"
     ]
    },
    {
     "name": "stderr",
     "output_type": "stream",
     "text": [
      "Train Epoch: 100%|██████████| 313/313 [00:05<00:00, 56.89it/s]\n",
      "Val Epoch: 100%|██████████| 79/79 [00:00<00:00, 84.37it/s]\n"
     ]
    },
    {
     "name": "stdout",
     "output_type": "stream",
     "text": [
      "Train Loss: 0.3959, Train Accuracy: 0.8623\n",
      "Val Loss: 0.7717, Val Accuracy: 0.7528\n",
      "\n",
      "Epoch 17/30\n",
      "----------\n"
     ]
    },
    {
     "name": "stderr",
     "output_type": "stream",
     "text": [
      "Train Epoch: 100%|██████████| 313/313 [00:05<00:00, 56.35it/s]\n",
      "Val Epoch: 100%|██████████| 79/79 [00:00<00:00, 83.37it/s]\n"
     ]
    },
    {
     "name": "stdout",
     "output_type": "stream",
     "text": [
      "Train Loss: 0.3671, Train Accuracy: 0.8716\n",
      "Val Loss: 0.7794, Val Accuracy: 0.7588\n",
      "\n",
      "Epoch 18/30\n",
      "----------\n"
     ]
    },
    {
     "name": "stderr",
     "output_type": "stream",
     "text": [
      "Train Epoch: 100%|██████████| 313/313 [00:05<00:00, 55.24it/s]\n",
      "Val Epoch: 100%|██████████| 79/79 [00:01<00:00, 78.42it/s]\n"
     ]
    },
    {
     "name": "stdout",
     "output_type": "stream",
     "text": [
      "Train Loss: 0.4451, Train Accuracy: 0.8501\n",
      "Val Loss: 0.7718, Val Accuracy: 0.7450\n",
      "\n",
      "Epoch 19/30\n",
      "----------\n"
     ]
    },
    {
     "name": "stderr",
     "output_type": "stream",
     "text": [
      "Train Epoch: 100%|██████████| 313/313 [00:05<00:00, 54.45it/s]\n",
      "Val Epoch: 100%|██████████| 79/79 [00:00<00:00, 86.81it/s]\n"
     ]
    },
    {
     "name": "stdout",
     "output_type": "stream",
     "text": [
      "Train Loss: 0.3759, Train Accuracy: 0.8700\n",
      "Val Loss: 0.8528, Val Accuracy: 0.7328\n",
      "\n",
      "Epoch 20/30\n",
      "----------\n"
     ]
    },
    {
     "name": "stderr",
     "output_type": "stream",
     "text": [
      "Train Epoch: 100%|██████████| 313/313 [00:05<00:00, 56.46it/s]\n",
      "Val Epoch: 100%|██████████| 79/79 [00:00<00:00, 86.13it/s]\n"
     ]
    },
    {
     "name": "stdout",
     "output_type": "stream",
     "text": [
      "Train Loss: 0.3334, Train Accuracy: 0.8857\n",
      "Val Loss: 0.7989, Val Accuracy: 0.7533\n",
      "\n",
      "Epoch 21/30\n",
      "----------\n"
     ]
    },
    {
     "name": "stderr",
     "output_type": "stream",
     "text": [
      "Train Epoch: 100%|██████████| 313/313 [00:05<00:00, 55.75it/s]\n",
      "Val Epoch: 100%|██████████| 79/79 [00:00<00:00, 86.83it/s]\n"
     ]
    },
    {
     "name": "stdout",
     "output_type": "stream",
     "text": [
      "Train Loss: 0.3950, Train Accuracy: 0.8660\n",
      "Val Loss: 0.7812, Val Accuracy: 0.7524\n",
      "\n",
      "Epoch 22/30\n",
      "----------\n"
     ]
    },
    {
     "name": "stderr",
     "output_type": "stream",
     "text": [
      "Train Epoch: 100%|██████████| 313/313 [00:05<00:00, 56.53it/s]\n",
      "Val Epoch: 100%|██████████| 79/79 [00:00<00:00, 86.00it/s]\n"
     ]
    },
    {
     "name": "stdout",
     "output_type": "stream",
     "text": [
      "Train Loss: 0.3147, Train Accuracy: 0.8912\n",
      "Val Loss: 0.8016, Val Accuracy: 0.7549\n",
      "\n",
      "Epoch 23/30\n",
      "----------\n"
     ]
    },
    {
     "name": "stderr",
     "output_type": "stream",
     "text": [
      "Train Epoch: 100%|██████████| 313/313 [00:05<00:00, 56.57it/s]\n",
      "Val Epoch: 100%|██████████| 79/79 [00:00<00:00, 86.25it/s]\n"
     ]
    },
    {
     "name": "stdout",
     "output_type": "stream",
     "text": [
      "Train Loss: 0.3131, Train Accuracy: 0.8928\n",
      "Val Loss: 0.8167, Val Accuracy: 0.7555\n",
      "\n",
      "Epoch 24/30\n",
      "----------\n"
     ]
    },
    {
     "name": "stderr",
     "output_type": "stream",
     "text": [
      "Train Epoch: 100%|██████████| 313/313 [00:05<00:00, 57.12it/s]\n",
      "Val Epoch: 100%|██████████| 79/79 [00:00<00:00, 89.42it/s]\n"
     ]
    },
    {
     "name": "stdout",
     "output_type": "stream",
     "text": [
      "Train Loss: 0.3327, Train Accuracy: 0.8869\n",
      "Val Loss: 0.8208, Val Accuracy: 0.7507\n",
      "\n",
      "Epoch 25/30\n",
      "----------\n"
     ]
    },
    {
     "name": "stderr",
     "output_type": "stream",
     "text": [
      "Train Epoch: 100%|██████████| 313/313 [00:05<00:00, 56.76it/s]\n",
      "Val Epoch: 100%|██████████| 79/79 [00:00<00:00, 87.40it/s]\n"
     ]
    },
    {
     "name": "stdout",
     "output_type": "stream",
     "text": [
      "Train Loss: 0.3577, Train Accuracy: 0.8791\n",
      "Val Loss: 0.8099, Val Accuracy: 0.7458\n",
      "\n",
      "Epoch 26/30\n",
      "----------\n"
     ]
    },
    {
     "name": "stderr",
     "output_type": "stream",
     "text": [
      "Train Epoch: 100%|██████████| 313/313 [00:05<00:00, 56.91it/s]\n",
      "Val Epoch: 100%|██████████| 79/79 [00:00<00:00, 86.36it/s]\n"
     ]
    },
    {
     "name": "stdout",
     "output_type": "stream",
     "text": [
      "Train Loss: 0.2839, Train Accuracy: 0.9022\n",
      "Val Loss: 0.8436, Val Accuracy: 0.7449\n",
      "\n",
      "Epoch 27/30\n",
      "----------\n"
     ]
    },
    {
     "name": "stderr",
     "output_type": "stream",
     "text": [
      "Train Epoch: 100%|██████████| 313/313 [00:05<00:00, 57.18it/s]\n",
      "Val Epoch: 100%|██████████| 79/79 [00:00<00:00, 86.78it/s]\n"
     ]
    },
    {
     "name": "stdout",
     "output_type": "stream",
     "text": [
      "Train Loss: 0.2921, Train Accuracy: 0.9006\n",
      "Val Loss: 0.9019, Val Accuracy: 0.7327\n",
      "\n",
      "Epoch 28/30\n",
      "----------\n"
     ]
    },
    {
     "name": "stderr",
     "output_type": "stream",
     "text": [
      "Train Epoch: 100%|██████████| 313/313 [00:05<00:00, 56.70it/s]\n",
      "Val Epoch: 100%|██████████| 79/79 [00:00<00:00, 86.62it/s]\n"
     ]
    },
    {
     "name": "stdout",
     "output_type": "stream",
     "text": [
      "Train Loss: 0.2602, Train Accuracy: 0.9102\n",
      "Val Loss: 0.8264, Val Accuracy: 0.7543\n",
      "\n",
      "Epoch 29/30\n",
      "----------\n"
     ]
    },
    {
     "name": "stderr",
     "output_type": "stream",
     "text": [
      "Train Epoch: 100%|██████████| 313/313 [00:05<00:00, 56.87it/s]\n",
      "Val Epoch: 100%|██████████| 79/79 [00:00<00:00, 87.08it/s]\n"
     ]
    },
    {
     "name": "stdout",
     "output_type": "stream",
     "text": [
      "Train Loss: 0.2526, Train Accuracy: 0.9137\n",
      "Val Loss: 0.8508, Val Accuracy: 0.7504\n",
      "\n",
      "Epoch 30/30\n",
      "----------\n"
     ]
    },
    {
     "name": "stderr",
     "output_type": "stream",
     "text": [
      "Train Epoch: 100%|██████████| 313/313 [00:05<00:00, 57.09it/s]\n",
      "Val Epoch: 100%|██████████| 79/79 [00:00<00:00, 86.95it/s]"
     ]
    },
    {
     "name": "stdout",
     "output_type": "stream",
     "text": [
      "Train Loss: 0.2450, Train Accuracy: 0.9167\n",
      "Val Loss: 0.8650, Val Accuracy: 0.7499\n"
     ]
    },
    {
     "name": "stderr",
     "output_type": "stream",
     "text": [
      "\n"
     ]
    }
   ],
   "source": [
    "n_epochs = 15\n",
    "\n",
    "model = DropoutBatchNorm(activation=nn.ReLU()).to(device)\n",
    "criterion = nn.CrossEntropyLoss()\n",
    "optimizer = torch.optim.Adam(model.parameters())\n",
    "\n",
    "epoch_train_losses, epoch_val_losses, epoch_train_accs, epoch_val_accs = trainer(model, train_loader, val_loader, optimizer, criterion, n_epochs)"
   ]
  },
  {
   "cell_type": "markdown",
   "id": "ad9286c7",
   "metadata": {},
   "source": [
    "How far can you bring up the test accuracy by continuing the training\n",
    "possibly over more epochs?"
   ]
  },
  {
   "cell_type": "markdown",
   "id": "ddf43ce6",
   "metadata": {},
   "source": [
    "## figs and nuts version"
   ]
  },
  {
   "cell_type": "code",
   "execution_count": 22,
   "id": "ae23f052",
   "metadata": {},
   "outputs": [],
   "source": [
    "class FigNuts(nn.Module):\n",
    "    def __init__(self, activation):\n",
    "        super().__init__()\n",
    "        self.conv1 = nn.Conv2d(3, 32, 3, padding='same')\n",
    "        self.conv2 = nn.Conv2d(32, 32, 3, padding='same')\n",
    "        self.pool = nn.MaxPool2d(2)\n",
    "        self.flatten = nn.Flatten()\n",
    "        self.fc1 = nn.Linear(8*8*32, 512)\n",
    "        self.fc2 = nn.Linear(512, 128)\n",
    "        self.fc3 = nn.Linear(128, 10)\n",
    "        self.activation = activation\n",
    "        self.bn1 = nn.BatchNorm2d(32)\n",
    "        self.bn2 = nn.BatchNorm2d(32)\n",
    "        self.bn3 = nn.BatchNorm1d(512)\n",
    "        self.bn4 = nn.BatchNorm1d(128)\n",
    "        self.dropout = nn.Dropout()\n",
    "\n",
    "    def forward(self, x):\n",
    "        x = self.pool(self.bn1(self.activation(self.conv1(x))))\n",
    "        x = self.pool(self.bn2(self.activation(self.conv2(x))))\n",
    "        x = self.flatten(x)\n",
    "        x = self.bn3(self.dropout(self.activation(self.fc1(x))))\n",
    "        x = self.bn4(self.dropout(self.activation(self.fc2(x))))\n",
    "        return self.fc3(x)"
   ]
  },
  {
   "cell_type": "code",
   "execution_count": 23,
   "id": "f044bc67",
   "metadata": {},
   "outputs": [
    {
     "name": "stdout",
     "output_type": "stream",
     "text": [
      "\n",
      "Epoch 1/10\n",
      "----------\n"
     ]
    },
    {
     "name": "stderr",
     "output_type": "stream",
     "text": [
      "Train Epoch: 100%|██████████| 313/313 [00:05<00:00, 55.69it/s]\n",
      "Val Epoch: 100%|██████████| 79/79 [00:00<00:00, 86.72it/s]\n"
     ]
    },
    {
     "name": "stdout",
     "output_type": "stream",
     "text": [
      "Train Loss: 1.4614, Train Accuracy: 0.4760\n",
      "Val Loss: 1.1112, Val Accuracy: 0.6025\n",
      "\n",
      "Epoch 2/10\n",
      "----------\n"
     ]
    },
    {
     "name": "stderr",
     "output_type": "stream",
     "text": [
      "Train Epoch: 100%|██████████| 313/313 [00:05<00:00, 56.44it/s]\n",
      "Val Epoch: 100%|██████████| 79/79 [00:00<00:00, 87.18it/s]\n"
     ]
    },
    {
     "name": "stdout",
     "output_type": "stream",
     "text": [
      "Train Loss: 1.1096, Train Accuracy: 0.6089\n",
      "Val Loss: 0.9412, Val Accuracy: 0.6676\n",
      "\n",
      "Epoch 3/10\n",
      "----------\n"
     ]
    },
    {
     "name": "stderr",
     "output_type": "stream",
     "text": [
      "Train Epoch: 100%|██████████| 313/313 [00:05<00:00, 56.34it/s]\n",
      "Val Epoch: 100%|██████████| 79/79 [00:00<00:00, 87.38it/s]\n"
     ]
    },
    {
     "name": "stdout",
     "output_type": "stream",
     "text": [
      "Train Loss: 0.9675, Train Accuracy: 0.6642\n",
      "Val Loss: 0.8702, Val Accuracy: 0.6886\n",
      "\n",
      "Epoch 4/10\n",
      "----------\n"
     ]
    },
    {
     "name": "stderr",
     "output_type": "stream",
     "text": [
      "Train Epoch: 100%|██████████| 313/313 [00:05<00:00, 56.01it/s]\n",
      "Val Epoch: 100%|██████████| 79/79 [00:00<00:00, 84.12it/s]\n"
     ]
    },
    {
     "name": "stdout",
     "output_type": "stream",
     "text": [
      "Train Loss: 0.8682, Train Accuracy: 0.6989\n",
      "Val Loss: 0.8296, Val Accuracy: 0.7126\n",
      "\n",
      "Epoch 5/10\n",
      "----------\n"
     ]
    },
    {
     "name": "stderr",
     "output_type": "stream",
     "text": [
      "Train Epoch: 100%|██████████| 313/313 [00:05<00:00, 53.67it/s]\n",
      "Val Epoch: 100%|██████████| 79/79 [00:00<00:00, 83.56it/s]\n"
     ]
    },
    {
     "name": "stdout",
     "output_type": "stream",
     "text": [
      "Train Loss: 0.7895, Train Accuracy: 0.7270\n",
      "Val Loss: 0.8159, Val Accuracy: 0.7154\n",
      "\n",
      "Epoch 6/10\n",
      "----------\n"
     ]
    },
    {
     "name": "stderr",
     "output_type": "stream",
     "text": [
      "Train Epoch: 100%|██████████| 313/313 [00:05<00:00, 56.39it/s]\n",
      "Val Epoch: 100%|██████████| 79/79 [00:00<00:00, 86.45it/s]\n"
     ]
    },
    {
     "name": "stdout",
     "output_type": "stream",
     "text": [
      "Train Loss: 0.7418, Train Accuracy: 0.7429\n",
      "Val Loss: 0.7763, Val Accuracy: 0.7252\n",
      "\n",
      "Epoch 7/10\n",
      "----------\n"
     ]
    },
    {
     "name": "stderr",
     "output_type": "stream",
     "text": [
      "Train Epoch: 100%|██████████| 313/313 [00:05<00:00, 56.73it/s]\n",
      "Val Epoch: 100%|██████████| 79/79 [00:00<00:00, 86.03it/s]\n"
     ]
    },
    {
     "name": "stdout",
     "output_type": "stream",
     "text": [
      "Train Loss: 0.6887, Train Accuracy: 0.7624\n",
      "Val Loss: 0.8356, Val Accuracy: 0.7115\n",
      "\n",
      "Epoch 8/10\n",
      "----------\n"
     ]
    },
    {
     "name": "stderr",
     "output_type": "stream",
     "text": [
      "Train Epoch: 100%|██████████| 313/313 [00:05<00:00, 56.12it/s]\n",
      "Val Epoch: 100%|██████████| 79/79 [00:00<00:00, 84.35it/s]\n"
     ]
    },
    {
     "name": "stdout",
     "output_type": "stream",
     "text": [
      "Train Loss: 0.6467, Train Accuracy: 0.7783\n",
      "Val Loss: 0.7964, Val Accuracy: 0.7248\n",
      "\n",
      "Epoch 9/10\n",
      "----------\n"
     ]
    },
    {
     "name": "stderr",
     "output_type": "stream",
     "text": [
      "Train Epoch: 100%|██████████| 313/313 [00:05<00:00, 56.10it/s]\n",
      "Val Epoch: 100%|██████████| 79/79 [00:00<00:00, 84.11it/s]\n"
     ]
    },
    {
     "name": "stdout",
     "output_type": "stream",
     "text": [
      "Train Loss: 0.6583, Train Accuracy: 0.7742\n",
      "Val Loss: 0.7739, Val Accuracy: 0.7355\n",
      "\n",
      "Epoch 10/10\n",
      "----------\n"
     ]
    },
    {
     "name": "stderr",
     "output_type": "stream",
     "text": [
      "Train Epoch: 100%|██████████| 313/313 [00:05<00:00, 56.37it/s]\n",
      "Val Epoch: 100%|██████████| 79/79 [00:00<00:00, 85.10it/s]"
     ]
    },
    {
     "name": "stdout",
     "output_type": "stream",
     "text": [
      "Train Loss: 0.5814, Train Accuracy: 0.7993\n",
      "Val Loss: 0.8651, Val Accuracy: 0.7065\n"
     ]
    },
    {
     "name": "stderr",
     "output_type": "stream",
     "text": [
      "\n"
     ]
    }
   ],
   "source": [
    "model = FigNuts(activation=nn.ReLU()).to(device)\n",
    "criterion = nn.CrossEntropyLoss()\n",
    "optimizer = torch.optim.Adam(model.parameters())\n",
    "\n",
    "epoch_train_losses, epoch_val_losses, epoch_train_accs, epoch_val_accs = trainer(model, train_loader, val_loader, optimizer, criterion, n_epochs)\n",
    "results[f'fig_and_nuts_relu'] = [epoch_train_losses, epoch_val_losses, epoch_train_accs, epoch_val_accs]"
   ]
  },
  {
   "cell_type": "markdown",
   "id": "8e2ff0a9",
   "metadata": {},
   "source": [
    "## Comparison"
   ]
  },
  {
   "cell_type": "code",
   "execution_count": 31,
   "id": "7997b552",
   "metadata": {},
   "outputs": [],
   "source": [
    "def plot_loss_curves(n_epochs, results):\n",
    "    \n",
    "    fig, ax = plt.subplots(2, 2, figsize=(24,18))\n",
    "    \n",
    "    line_styles = ['-', '--', '-.', ':']\n",
    "    colors = plt.cm.tab10.colors\n",
    "    \n",
    "    for i, (name, metric) in enumerate(results.items()):\n",
    "\n",
    "        style = random.choice(line_styles)\n",
    "        color = colors[i % len(colors)]\n",
    "\n",
    "        x = range(1, n_epochs + 1)\n",
    "\n",
    "        ax[0, 0].plot(x, metric[0], linestyle=style, color=color, label=name)\n",
    "        ax[0, 0].set_title('Train Loss')\n",
    "        ax[0, 0].set_ylabel('Loss')\n",
    "        ax[0, 0].set_ylim(0, 1.7)\n",
    "\n",
    "        ax[0, 1].plot(x, metric[1], linestyle=style, color=color, label=name)\n",
    "        ax[0, 1].set_title('Validation Loss')\n",
    "        ax[0, 1].set_ylabel('Loss')\n",
    "        ax[0, 1].set_ylim(0, 1.7)\n",
    "        \n",
    "        ax[1, 0].plot(x, metric[2], linestyle=style, color=color, label=name)\n",
    "        ax[1, 0].set_title('Train Accuracy')\n",
    "        ax[1, 0].set_ylabel('Accuracy')\n",
    "        ax[1, 0].set_ylim(0.4, 1)\n",
    "\n",
    "        ax[1, 1].plot(x, metric[3], linestyle=style, color=color, label=name)\n",
    "        ax[1, 1].set_title('Validation Accuracy')\n",
    "        ax[1, 1].set_ylabel('Accuracy')\n",
    "        ax[1, 1].set_ylim(0.4, 1)\n",
    "        \n",
    "    for axes in ax.flat:\n",
    "        axes.set_xlabel('Epochs')\n",
    "        axes.set_xticks(range(1, n_epochs+1))\n",
    "        axes.grid()\n",
    "        axes.legend()\n",
    "\n",
    "    fig.suptitle('Train/Val Losses and Accuracies', fontsize=18)\n",
    "    plt.show()"
   ]
  },
  {
   "cell_type": "code",
   "execution_count": 32,
   "id": "8fb60130",
   "metadata": {},
   "outputs": [
    {
     "ename": "ValueError",
     "evalue": "x and y must have same first dimension, but have shapes (30,) and (10,)",
     "output_type": "error",
     "traceback": [
      "\u001b[0;31m---------------------------------------------------------------------------\u001b[0m",
      "\u001b[0;31mValueError\u001b[0m                                Traceback (most recent call last)",
      "Cell \u001b[0;32mIn[32], line 1\u001b[0m\n\u001b[0;32m----> 1\u001b[0m \u001b[43mplot_loss_curves\u001b[49m\u001b[43m(\u001b[49m\u001b[43mn_epochs\u001b[49m\u001b[43m,\u001b[49m\u001b[43m \u001b[49m\u001b[43mresults\u001b[49m\u001b[43m)\u001b[49m\n",
      "Cell \u001b[0;32mIn[31], line 15\u001b[0m, in \u001b[0;36mplot_loss_curves\u001b[0;34m(n_epochs, results)\u001b[0m\n\u001b[1;32m     11\u001b[0m color \u001b[38;5;241m=\u001b[39m colors[i \u001b[38;5;241m%\u001b[39m \u001b[38;5;28mlen\u001b[39m(colors)]\n\u001b[1;32m     13\u001b[0m x \u001b[38;5;241m=\u001b[39m \u001b[38;5;28mrange\u001b[39m(\u001b[38;5;241m1\u001b[39m, n_epochs \u001b[38;5;241m+\u001b[39m \u001b[38;5;241m1\u001b[39m)\n\u001b[0;32m---> 15\u001b[0m \u001b[43max\u001b[49m\u001b[43m[\u001b[49m\u001b[38;5;241;43m0\u001b[39;49m\u001b[43m,\u001b[49m\u001b[43m \u001b[49m\u001b[38;5;241;43m0\u001b[39;49m\u001b[43m]\u001b[49m\u001b[38;5;241;43m.\u001b[39;49m\u001b[43mplot\u001b[49m\u001b[43m(\u001b[49m\u001b[43mx\u001b[49m\u001b[43m,\u001b[49m\u001b[43m \u001b[49m\u001b[43mmetric\u001b[49m\u001b[43m[\u001b[49m\u001b[38;5;241;43m0\u001b[39;49m\u001b[43m]\u001b[49m\u001b[43m,\u001b[49m\u001b[43m \u001b[49m\u001b[43mlinestyle\u001b[49m\u001b[38;5;241;43m=\u001b[39;49m\u001b[43mstyle\u001b[49m\u001b[43m,\u001b[49m\u001b[43m \u001b[49m\u001b[43mcolor\u001b[49m\u001b[38;5;241;43m=\u001b[39;49m\u001b[43mcolor\u001b[49m\u001b[43m,\u001b[49m\u001b[43m \u001b[49m\u001b[43mlabel\u001b[49m\u001b[38;5;241;43m=\u001b[39;49m\u001b[43mname\u001b[49m\u001b[43m)\u001b[49m\n\u001b[1;32m     16\u001b[0m ax[\u001b[38;5;241m0\u001b[39m, \u001b[38;5;241m0\u001b[39m]\u001b[38;5;241m.\u001b[39mset_title(\u001b[38;5;124m'\u001b[39m\u001b[38;5;124mTrain Loss\u001b[39m\u001b[38;5;124m'\u001b[39m)\n\u001b[1;32m     17\u001b[0m ax[\u001b[38;5;241m0\u001b[39m, \u001b[38;5;241m0\u001b[39m]\u001b[38;5;241m.\u001b[39mset_ylabel(\u001b[38;5;124m'\u001b[39m\u001b[38;5;124mLoss\u001b[39m\u001b[38;5;124m'\u001b[39m)\n",
      "File \u001b[0;32m~/workspace/mse_delearn/.venv/lib/python3.12/site-packages/matplotlib/axes/_axes.py:1777\u001b[0m, in \u001b[0;36mAxes.plot\u001b[0;34m(self, scalex, scaley, data, *args, **kwargs)\u001b[0m\n\u001b[1;32m   1534\u001b[0m \u001b[38;5;250m\u001b[39m\u001b[38;5;124;03m\"\"\"\u001b[39;00m\n\u001b[1;32m   1535\u001b[0m \u001b[38;5;124;03mPlot y versus x as lines and/or markers.\u001b[39;00m\n\u001b[1;32m   1536\u001b[0m \n\u001b[0;32m   (...)\u001b[0m\n\u001b[1;32m   1774\u001b[0m \u001b[38;5;124;03m(``'green'``) or hex strings (``'#008000'``).\u001b[39;00m\n\u001b[1;32m   1775\u001b[0m \u001b[38;5;124;03m\"\"\"\u001b[39;00m\n\u001b[1;32m   1776\u001b[0m kwargs \u001b[38;5;241m=\u001b[39m cbook\u001b[38;5;241m.\u001b[39mnormalize_kwargs(kwargs, mlines\u001b[38;5;241m.\u001b[39mLine2D)\n\u001b[0;32m-> 1777\u001b[0m lines \u001b[38;5;241m=\u001b[39m [\u001b[38;5;241m*\u001b[39m\u001b[38;5;28mself\u001b[39m\u001b[38;5;241m.\u001b[39m_get_lines(\u001b[38;5;28mself\u001b[39m, \u001b[38;5;241m*\u001b[39margs, data\u001b[38;5;241m=\u001b[39mdata, \u001b[38;5;241m*\u001b[39m\u001b[38;5;241m*\u001b[39mkwargs)]\n\u001b[1;32m   1778\u001b[0m \u001b[38;5;28;01mfor\u001b[39;00m line \u001b[38;5;129;01min\u001b[39;00m lines:\n\u001b[1;32m   1779\u001b[0m     \u001b[38;5;28mself\u001b[39m\u001b[38;5;241m.\u001b[39madd_line(line)\n",
      "File \u001b[0;32m~/workspace/mse_delearn/.venv/lib/python3.12/site-packages/matplotlib/axes/_base.py:297\u001b[0m, in \u001b[0;36m_process_plot_var_args.__call__\u001b[0;34m(self, axes, data, return_kwargs, *args, **kwargs)\u001b[0m\n\u001b[1;32m    295\u001b[0m     this \u001b[38;5;241m+\u001b[39m\u001b[38;5;241m=\u001b[39m args[\u001b[38;5;241m0\u001b[39m],\n\u001b[1;32m    296\u001b[0m     args \u001b[38;5;241m=\u001b[39m args[\u001b[38;5;241m1\u001b[39m:]\n\u001b[0;32m--> 297\u001b[0m \u001b[38;5;28;01myield from\u001b[39;00m \u001b[38;5;28;43mself\u001b[39;49m\u001b[38;5;241;43m.\u001b[39;49m\u001b[43m_plot_args\u001b[49m\u001b[43m(\u001b[49m\n\u001b[1;32m    298\u001b[0m \u001b[43m    \u001b[49m\u001b[43maxes\u001b[49m\u001b[43m,\u001b[49m\u001b[43m \u001b[49m\u001b[43mthis\u001b[49m\u001b[43m,\u001b[49m\u001b[43m \u001b[49m\u001b[43mkwargs\u001b[49m\u001b[43m,\u001b[49m\u001b[43m \u001b[49m\u001b[43mambiguous_fmt_datakey\u001b[49m\u001b[38;5;241;43m=\u001b[39;49m\u001b[43mambiguous_fmt_datakey\u001b[49m\u001b[43m,\u001b[49m\n\u001b[1;32m    299\u001b[0m \u001b[43m    \u001b[49m\u001b[43mreturn_kwargs\u001b[49m\u001b[38;5;241;43m=\u001b[39;49m\u001b[43mreturn_kwargs\u001b[49m\n\u001b[1;32m    300\u001b[0m \u001b[43m\u001b[49m\u001b[43m)\u001b[49m\n",
      "File \u001b[0;32m~/workspace/mse_delearn/.venv/lib/python3.12/site-packages/matplotlib/axes/_base.py:494\u001b[0m, in \u001b[0;36m_process_plot_var_args._plot_args\u001b[0;34m(self, axes, tup, kwargs, return_kwargs, ambiguous_fmt_datakey)\u001b[0m\n\u001b[1;32m    491\u001b[0m     axes\u001b[38;5;241m.\u001b[39myaxis\u001b[38;5;241m.\u001b[39mupdate_units(y)\n\u001b[1;32m    493\u001b[0m \u001b[38;5;28;01mif\u001b[39;00m x\u001b[38;5;241m.\u001b[39mshape[\u001b[38;5;241m0\u001b[39m] \u001b[38;5;241m!=\u001b[39m y\u001b[38;5;241m.\u001b[39mshape[\u001b[38;5;241m0\u001b[39m]:\n\u001b[0;32m--> 494\u001b[0m     \u001b[38;5;28;01mraise\u001b[39;00m \u001b[38;5;167;01mValueError\u001b[39;00m(\u001b[38;5;124mf\u001b[39m\u001b[38;5;124m\"\u001b[39m\u001b[38;5;124mx and y must have same first dimension, but \u001b[39m\u001b[38;5;124m\"\u001b[39m\n\u001b[1;32m    495\u001b[0m                      \u001b[38;5;124mf\u001b[39m\u001b[38;5;124m\"\u001b[39m\u001b[38;5;124mhave shapes \u001b[39m\u001b[38;5;132;01m{\u001b[39;00mx\u001b[38;5;241m.\u001b[39mshape\u001b[38;5;132;01m}\u001b[39;00m\u001b[38;5;124m and \u001b[39m\u001b[38;5;132;01m{\u001b[39;00my\u001b[38;5;241m.\u001b[39mshape\u001b[38;5;132;01m}\u001b[39;00m\u001b[38;5;124m\"\u001b[39m)\n\u001b[1;32m    496\u001b[0m \u001b[38;5;28;01mif\u001b[39;00m x\u001b[38;5;241m.\u001b[39mndim \u001b[38;5;241m>\u001b[39m \u001b[38;5;241m2\u001b[39m \u001b[38;5;129;01mor\u001b[39;00m y\u001b[38;5;241m.\u001b[39mndim \u001b[38;5;241m>\u001b[39m \u001b[38;5;241m2\u001b[39m:\n\u001b[1;32m    497\u001b[0m     \u001b[38;5;28;01mraise\u001b[39;00m \u001b[38;5;167;01mValueError\u001b[39;00m(\u001b[38;5;124mf\u001b[39m\u001b[38;5;124m\"\u001b[39m\u001b[38;5;124mx and y can be no greater than 2D, but have \u001b[39m\u001b[38;5;124m\"\u001b[39m\n\u001b[1;32m    498\u001b[0m                      \u001b[38;5;124mf\u001b[39m\u001b[38;5;124m\"\u001b[39m\u001b[38;5;124mshapes \u001b[39m\u001b[38;5;132;01m{\u001b[39;00mx\u001b[38;5;241m.\u001b[39mshape\u001b[38;5;132;01m}\u001b[39;00m\u001b[38;5;124m and \u001b[39m\u001b[38;5;132;01m{\u001b[39;00my\u001b[38;5;241m.\u001b[39mshape\u001b[38;5;132;01m}\u001b[39;00m\u001b[38;5;124m\"\u001b[39m)\n",
      "\u001b[0;31mValueError\u001b[0m: x and y must have same first dimension, but have shapes (30,) and (10,)"
     ]
    },
    {
     "data": {
      "image/png": "[encoded data removed]",
      "text/plain": [
       "<Figure size 2400x1800 with 4 Axes>"
      ]
     },
     "metadata": {},
     "output_type": "display_data"
    }
   ],
   "source": [
    "plot_loss_curves(n_epochs, results)"
   ]
  },
  {
   "cell_type": "markdown",
   "id": "fe0b1a73",
   "metadata": {},
   "source": [
    "## Discussion"
   ]
  },
  {
   "cell_type": "markdown",
   "id": "2137cad7",
   "metadata": {},
   "source": [
    "Discuss your findings and make a statement about whether the\n",
    "results are as you expect."
   ]
  }
 ],
 "metadata": {
  "kernelspec": {
   "display_name": ".venv",
   "language": "python",
   "name": "python3"
  },
  "language_info": {
   "codemirror_mode": {
    "name": "ipython",
    "version": 3
   },
   "file_extension": ".py",
   "mimetype": "text/x-python",
   "name": "python",
   "nbconvert_exporter": "python",
   "pygments_lexer": "ipython3",
   "version": "3.12.8"
  }
 },
 "nbformat": 4,
 "nbformat_minor": 5
}
