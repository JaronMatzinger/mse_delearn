{
 "cells": [
  {
   "cell_type": "code",
   "execution_count": 2,
   "id": "0072cc8f",
   "metadata": {},
   "outputs": [
    {
     "data": {
      "text/plain": [
       "<torch._C.Generator at 0x117eea830>"
      ]
     },
     "execution_count": 2,
     "metadata": {},
     "output_type": "execute_result"
    }
   ],
   "source": [
    "import torch\n",
    "import torch.nn as nn\n",
    "import torch.nn.functional as F\n",
    "\n",
    "from torch.utils.data import DataLoader\n",
    "from torchvision import datasets\n",
    "from torchvision.transforms import ToTensor, Compose, Normalize\n",
    "from torchsummary import summary\n",
    "\n",
    "import random\n",
    "import numpy as np\n",
    "import matplotlib.pyplot as plt\n",
    "\n",
    "from tqdm import tqdm\n",
    "\n",
    "%matplotlib inline\n",
    "torch.manual_seed(42)"
   ]
  },
  {
   "cell_type": "code",
   "execution_count": 3,
   "id": "2466d7bf",
   "metadata": {},
   "outputs": [
    {
     "name": "stdout",
     "output_type": "stream",
     "text": [
      "Torch version: 2.6.0, Device: mps\n"
     ]
    }
   ],
   "source": [
    "device = torch.device('cuda' if torch.cuda.is_available() else 'mps' if torch.backends.mps.is_available() else 'cpu')\n",
    "print(f'Torch version: {torch.__version__}, Device: {device.type}')"
   ]
  },
  {
   "cell_type": "code",
   "execution_count": null,
   "id": "52fbddd7",
   "metadata": {},
   "outputs": [],
   "source": [
    "train_data = datasets.CIFAR10(\n",
    "    root = '../data/',\n",
    "    train = True,                    \n",
    "    transform = ToTensor(), \n",
    "    download = True,            \n",
    ")"
   ]
  },
  {
   "cell_type": "code",
   "execution_count": 5,
   "id": "02bb6773",
   "metadata": {},
   "outputs": [],
   "source": [
    "dataloader = DataLoader(train_data, 50000, shuffle=False, num_workers=2)\n",
    "X, _ = next(iter(dataloader))\n",
    "mean, std = torch.mean(X).item(), torch.std(X).item()"
   ]
  },
  {
   "cell_type": "code",
   "execution_count": null,
   "id": "ac074f37",
   "metadata": {},
   "outputs": [],
   "source": [
    "train_data = datasets.CIFAR10(\n",
    "    root = '../data/',\n",
    "    train = True,                    \n",
    "    transform = Compose([ToTensor(), Normalize(mean, std)]),\n",
    "    download = True,\n",
    ")\n",
    "\n",
    "test_data = datasets.CIFAR10(\n",
    "    root = '../data/', \n",
    "    train = False, \n",
    "    transform = Compose([ToTensor(), Normalize(mean, std)]),\n",
    "    download = True\n",
    ")"
   ]
  },
  {
   "cell_type": "code",
   "execution_count": 7,
   "id": "a7f8a3c0",
   "metadata": {},
   "outputs": [],
   "source": [
    "train_data, val_data = torch.utils.data.random_split(train_data, [40000, 10000])"
   ]
  },
  {
   "cell_type": "markdown",
   "id": "0f4e82e5",
   "metadata": {},
   "source": [
    "## Architecture"
   ]
  },
  {
   "cell_type": "code",
   "execution_count": 8,
   "id": "69e069bb",
   "metadata": {},
   "outputs": [],
   "source": [
    "class Baseline(nn.Module):\n",
    "    def __init__(self, activation):\n",
    "        super().__init__()\n",
    "        self.conv1 = nn.Conv2d(3, 32, kernel_size=3, padding=1)\n",
    "        self.conv2 = nn.Conv2d(32, 64, kernel_size=3, padding=1)\n",
    "        self.conv3 = nn.Conv2d(64, 64, kernel_size=3, padding=1)\n",
    "        self.pool = nn.MaxPool2d(2)\n",
    "        self.flatten = nn.Flatten()\n",
    "        self.fc1 = nn.Linear(64*4*4, 128)\n",
    "        self.fc2 = nn.Linear(128, 64)\n",
    "        self.fc3 = nn.Linear(64, 10)\n",
    "        self.activation = activation\n",
    "\n",
    "    def forward(self, x):\n",
    "        x = self.pool(self.activation(self.conv1(x)))\n",
    "        x = self.pool(self.activation(self.conv2(x)))\n",
    "        x = self.pool(self.activation(self.conv3(x)))\n",
    "        x = self.flatten(x)\n",
    "        x = self.activation(self.fc1(x))\n",
    "        x = self.activation(self.fc2(x))\n",
    "        return self.fc3(x)"
   ]
  },
  {
   "cell_type": "code",
   "execution_count": 9,
   "id": "5c9d1cc5",
   "metadata": {},
   "outputs": [],
   "source": [
    "def run_epoch(model, dataloader, optimizer, criterion, train=True):\n",
    "    \"\"\"\n",
    "    Runs one epoch for training or validation.\n",
    "    \"\"\"\n",
    "    epoch_loss = 0\n",
    "    correct = 0\n",
    "    total_samples = len(dataloader.dataset)\n",
    "\n",
    "    if train:\n",
    "        model.train()\n",
    "    else:\n",
    "        model.eval()\n",
    "\n",
    "    for X, y in tqdm(dataloader, desc=f'{\"Train\" if train else \"Val\"} Epoch'):\n",
    "        X, y = X.to(device), y.to(device)\n",
    "\n",
    "        if train:\n",
    "            optimizer.zero_grad()\n",
    "\n",
    "        with torch.set_grad_enabled(train):\n",
    "            output = model(X)\n",
    "            loss = criterion(output, y)\n",
    "\n",
    "        epoch_loss += loss.item()\n",
    "        _, y_pred = torch.max(output, dim=1)\n",
    "        correct += torch.sum(y_pred == y).item()\n",
    "\n",
    "        if train:\n",
    "            loss.backward()\n",
    "            optimizer.step()\n",
    "\n",
    "    avg_loss = epoch_loss / len(dataloader)\n",
    "    accuracy = correct / total_samples\n",
    "\n",
    "    return avg_loss, accuracy\n",
    "\n",
    "def trainer(model, train_loader, val_loader, optimizer, criterion, n_epochs, patience=None, delta=None):\n",
    "    \"\"\"\n",
    "    Trains and evaluates the model for n_epochs.\n",
    "    \"\"\"\n",
    "    epoch_train_losses = []\n",
    "    epoch_val_losses = []\n",
    "    epoch_train_accs = []\n",
    "    epoch_val_accs = []\n",
    "\n",
    "    best_val_loss = float('inf')\n",
    "    counter = 0\n",
    "\n",
    "    for epoch in range(n_epochs):\n",
    "\n",
    "        print(f'\\nEpoch {epoch+1}/{n_epochs}')\n",
    "        print('----------')\n",
    "\n",
    "        train_loss, train_acc = run_epoch(model, train_loader, optimizer, criterion, train=True)\n",
    "        val_loss, val_acc = run_epoch(model, val_loader, optimizer, criterion, train=False)\n",
    "            \n",
    "        epoch_train_losses.append(train_loss)\n",
    "        epoch_val_losses.append(val_loss)\n",
    "        epoch_train_accs.append(train_acc)\n",
    "        epoch_val_accs.append(val_acc)\n",
    "\n",
    "        print(f'Train Loss: {train_loss:.4f}, Train Accuracy: {train_acc:.4f}\\nVal Loss: {val_loss:.4f}, Val Accuracy: {val_acc:.4f}')\n",
    "\n",
    "        if patience == None and delta == None:\n",
    "            continue\n",
    "        else:\n",
    "            if val_loss < best_val_loss - delta:\n",
    "                best_val_loss = val_loss\n",
    "                counter = 0\n",
    "            else:\n",
    "                counter += 1\n",
    "                print(f'Val loss has not increased for {counter}/{patience} epochs')\n",
    "                if counter >= patience:\n",
    "                    print(f'Training stopped after {epoch+1} epochs')\n",
    "                    break\n",
    "    \n",
    "    return epoch_train_losses, epoch_val_losses, epoch_train_accs, epoch_val_accs"
   ]
  },
  {
   "cell_type": "markdown",
   "id": "ece6eac0",
   "metadata": {},
   "source": [
    "## Init"
   ]
  },
  {
   "cell_type": "code",
   "execution_count": 10,
   "id": "d09728db",
   "metadata": {},
   "outputs": [],
   "source": [
    "results = {}\n",
    "n_epochs = 10\n",
    "\n",
    "train_loader = DataLoader(train_data, batch_size=512, shuffle=True)\n",
    "val_loader = DataLoader(val_data, batch_size=512, shuffle=False)\n"
   ]
  },
  {
   "cell_type": "markdown",
   "id": "f252c072",
   "metadata": {},
   "source": [
    "## Baseline with ReLU"
   ]
  },
  {
   "cell_type": "code",
   "execution_count": 11,
   "id": "b5742443",
   "metadata": {},
   "outputs": [
    {
     "name": "stdout",
     "output_type": "stream",
     "text": [
      "\n",
      "Epoch 1/10\n",
      "----------\n"
     ]
    },
    {
     "name": "stderr",
     "output_type": "stream",
     "text": [
      "Train Epoch: 100%|██████████| 79/79 [00:04<00:00, 18.35it/s]\n",
      "Val Epoch: 100%|██████████| 20/20 [00:00<00:00, 24.01it/s]\n"
     ]
    },
    {
     "name": "stdout",
     "output_type": "stream",
     "text": [
      "Train Loss: 1.8545, Train Accuracy: 0.3134\n",
      "Val Loss: 1.6456, Val Accuracy: 0.4016\n",
      "\n",
      "Epoch 2/10\n",
      "----------\n"
     ]
    },
    {
     "name": "stderr",
     "output_type": "stream",
     "text": [
      "Train Epoch: 100%|██████████| 79/79 [00:03<00:00, 24.01it/s]\n",
      "Val Epoch: 100%|██████████| 20/20 [00:00<00:00, 25.31it/s]\n"
     ]
    },
    {
     "name": "stdout",
     "output_type": "stream",
     "text": [
      "Train Loss: 1.4976, Train Accuracy: 0.4496\n",
      "Val Loss: 1.4641, Val Accuracy: 0.4761\n",
      "\n",
      "Epoch 3/10\n",
      "----------\n"
     ]
    },
    {
     "name": "stderr",
     "output_type": "stream",
     "text": [
      "Train Epoch: 100%|██████████| 79/79 [00:03<00:00, 24.51it/s]\n",
      "Val Epoch: 100%|██████████| 20/20 [00:00<00:00, 24.43it/s]\n"
     ]
    },
    {
     "name": "stdout",
     "output_type": "stream",
     "text": [
      "Train Loss: 1.3656, Train Accuracy: 0.5062\n",
      "Val Loss: 1.3235, Val Accuracy: 0.5244\n",
      "\n",
      "Epoch 4/10\n",
      "----------\n"
     ]
    },
    {
     "name": "stderr",
     "output_type": "stream",
     "text": [
      "Train Epoch: 100%|██████████| 79/79 [00:03<00:00, 24.35it/s]\n",
      "Val Epoch: 100%|██████████| 20/20 [00:00<00:00, 23.79it/s]\n"
     ]
    },
    {
     "name": "stdout",
     "output_type": "stream",
     "text": [
      "Train Loss: 1.2548, Train Accuracy: 0.5485\n",
      "Val Loss: 1.2476, Val Accuracy: 0.5636\n",
      "\n",
      "Epoch 5/10\n",
      "----------\n"
     ]
    },
    {
     "name": "stderr",
     "output_type": "stream",
     "text": [
      "Train Epoch: 100%|██████████| 79/79 [00:03<00:00, 24.29it/s]\n",
      "Val Epoch: 100%|██████████| 20/20 [00:00<00:00, 25.86it/s]\n"
     ]
    },
    {
     "name": "stdout",
     "output_type": "stream",
     "text": [
      "Train Loss: 1.1789, Train Accuracy: 0.5795\n",
      "Val Loss: 1.2730, Val Accuracy: 0.5448\n",
      "\n",
      "Epoch 6/10\n",
      "----------\n"
     ]
    },
    {
     "name": "stderr",
     "output_type": "stream",
     "text": [
      "Train Epoch: 100%|██████████| 79/79 [00:03<00:00, 24.17it/s]\n",
      "Val Epoch: 100%|██████████| 20/20 [00:00<00:00, 26.10it/s]\n"
     ]
    },
    {
     "name": "stdout",
     "output_type": "stream",
     "text": [
      "Train Loss: 1.1061, Train Accuracy: 0.6075\n",
      "Val Loss: 1.1463, Val Accuracy: 0.5993\n",
      "\n",
      "Epoch 7/10\n",
      "----------\n"
     ]
    },
    {
     "name": "stderr",
     "output_type": "stream",
     "text": [
      "Train Epoch: 100%|██████████| 79/79 [00:03<00:00, 24.32it/s]\n",
      "Val Epoch: 100%|██████████| 20/20 [00:00<00:00, 25.48it/s]\n"
     ]
    },
    {
     "name": "stdout",
     "output_type": "stream",
     "text": [
      "Train Loss: 1.0356, Train Accuracy: 0.6332\n",
      "Val Loss: 1.1142, Val Accuracy: 0.6025\n",
      "\n",
      "Epoch 8/10\n",
      "----------\n"
     ]
    },
    {
     "name": "stderr",
     "output_type": "stream",
     "text": [
      "Train Epoch: 100%|██████████| 79/79 [00:03<00:00, 24.24it/s]\n",
      "Val Epoch: 100%|██████████| 20/20 [00:00<00:00, 25.74it/s]\n"
     ]
    },
    {
     "name": "stdout",
     "output_type": "stream",
     "text": [
      "Train Loss: 0.9869, Train Accuracy: 0.6498\n",
      "Val Loss: 1.0552, Val Accuracy: 0.6334\n",
      "\n",
      "Epoch 9/10\n",
      "----------\n"
     ]
    },
    {
     "name": "stderr",
     "output_type": "stream",
     "text": [
      "Train Epoch: 100%|██████████| 79/79 [00:03<00:00, 24.13it/s]\n",
      "Val Epoch: 100%|██████████| 20/20 [00:00<00:00, 25.85it/s]\n"
     ]
    },
    {
     "name": "stdout",
     "output_type": "stream",
     "text": [
      "Train Loss: 0.9288, Train Accuracy: 0.6702\n",
      "Val Loss: 0.9694, Val Accuracy: 0.6616\n",
      "\n",
      "Epoch 10/10\n",
      "----------\n"
     ]
    },
    {
     "name": "stderr",
     "output_type": "stream",
     "text": [
      "Train Epoch: 100%|██████████| 79/79 [00:03<00:00, 24.35it/s]\n",
      "Val Epoch: 100%|██████████| 20/20 [00:00<00:00, 25.55it/s]"
     ]
    },
    {
     "name": "stdout",
     "output_type": "stream",
     "text": [
      "Train Loss: 0.8939, Train Accuracy: 0.6844\n",
      "Val Loss: 1.0198, Val Accuracy: 0.6530\n"
     ]
    },
    {
     "name": "stderr",
     "output_type": "stream",
     "text": [
      "\n"
     ]
    }
   ],
   "source": [
    "model = Baseline(activation=nn.ReLU()).to(device)\n",
    "criterion = nn.CrossEntropyLoss()\n",
    "optimizer = torch.optim.Adam(model.parameters())\n",
    "\n",
    "epoch_train_losses, epoch_val_losses, epoch_train_accs, epoch_val_accs = trainer(model, train_loader, val_loader, optimizer, criterion, n_epochs)\n",
    "results['baseline_relu'] = [epoch_train_losses, epoch_val_losses, epoch_train_accs, epoch_val_accs]"
   ]
  },
  {
   "cell_type": "markdown",
   "id": "0f4d7ed6",
   "metadata": {},
   "source": [
    "## Baseline with Tanh"
   ]
  },
  {
   "cell_type": "code",
   "execution_count": 12,
   "id": "76f653b5",
   "metadata": {},
   "outputs": [
    {
     "name": "stdout",
     "output_type": "stream",
     "text": [
      "\n",
      "Epoch 1/10\n",
      "----------\n"
     ]
    },
    {
     "name": "stderr",
     "output_type": "stream",
     "text": [
      "Train Epoch: 100%|██████████| 79/79 [00:03<00:00, 22.83it/s]\n",
      "Val Epoch: 100%|██████████| 20/20 [00:00<00:00, 25.67it/s]\n"
     ]
    },
    {
     "name": "stdout",
     "output_type": "stream",
     "text": [
      "Train Loss: 1.6990, Train Accuracy: 0.3908\n",
      "Val Loss: 1.4460, Val Accuracy: 0.4718\n",
      "\n",
      "Epoch 2/10\n",
      "----------\n"
     ]
    },
    {
     "name": "stderr",
     "output_type": "stream",
     "text": [
      "Train Epoch: 100%|██████████| 79/79 [00:03<00:00, 24.36it/s]\n",
      "Val Epoch: 100%|██████████| 20/20 [00:00<00:00, 24.09it/s]\n"
     ]
    },
    {
     "name": "stdout",
     "output_type": "stream",
     "text": [
      "Train Loss: 1.2823, Train Accuracy: 0.5382\n",
      "Val Loss: 1.1946, Val Accuracy: 0.5785\n",
      "\n",
      "Epoch 3/10\n",
      "----------\n"
     ]
    },
    {
     "name": "stderr",
     "output_type": "stream",
     "text": [
      "Train Epoch: 100%|██████████| 79/79 [00:03<00:00, 23.36it/s]\n",
      "Val Epoch: 100%|██████████| 20/20 [00:00<00:00, 25.38it/s]\n"
     ]
    },
    {
     "name": "stdout",
     "output_type": "stream",
     "text": [
      "Train Loss: 1.0926, Train Accuracy: 0.6121\n",
      "Val Loss: 1.0882, Val Accuracy: 0.6137\n",
      "\n",
      "Epoch 4/10\n",
      "----------\n"
     ]
    },
    {
     "name": "stderr",
     "output_type": "stream",
     "text": [
      "Train Epoch: 100%|██████████| 79/79 [00:03<00:00, 23.91it/s]\n",
      "Val Epoch: 100%|██████████| 20/20 [00:00<00:00, 25.86it/s]\n"
     ]
    },
    {
     "name": "stdout",
     "output_type": "stream",
     "text": [
      "Train Loss: 0.9724, Train Accuracy: 0.6550\n",
      "Val Loss: 0.9820, Val Accuracy: 0.6582\n",
      "\n",
      "Epoch 5/10\n",
      "----------\n"
     ]
    },
    {
     "name": "stderr",
     "output_type": "stream",
     "text": [
      "Train Epoch: 100%|██████████| 79/79 [00:03<00:00, 22.91it/s]\n",
      "Val Epoch: 100%|██████████| 20/20 [00:00<00:00, 24.98it/s]\n"
     ]
    },
    {
     "name": "stdout",
     "output_type": "stream",
     "text": [
      "Train Loss: 0.8804, Train Accuracy: 0.6908\n",
      "Val Loss: 0.9202, Val Accuracy: 0.6796\n",
      "\n",
      "Epoch 6/10\n",
      "----------\n"
     ]
    },
    {
     "name": "stderr",
     "output_type": "stream",
     "text": [
      "Train Epoch: 100%|██████████| 79/79 [00:03<00:00, 23.90it/s]\n",
      "Val Epoch: 100%|██████████| 20/20 [00:00<00:00, 23.06it/s]\n"
     ]
    },
    {
     "name": "stdout",
     "output_type": "stream",
     "text": [
      "Train Loss: 0.7938, Train Accuracy: 0.7213\n",
      "Val Loss: 0.8553, Val Accuracy: 0.7028\n",
      "\n",
      "Epoch 7/10\n",
      "----------\n"
     ]
    },
    {
     "name": "stderr",
     "output_type": "stream",
     "text": [
      "Train Epoch: 100%|██████████| 79/79 [00:03<00:00, 23.06it/s]\n",
      "Val Epoch: 100%|██████████| 20/20 [00:00<00:00, 22.90it/s]\n"
     ]
    },
    {
     "name": "stdout",
     "output_type": "stream",
     "text": [
      "Train Loss: 0.7191, Train Accuracy: 0.7533\n",
      "Val Loss: 0.8515, Val Accuracy: 0.7028\n",
      "\n",
      "Epoch 8/10\n",
      "----------\n"
     ]
    },
    {
     "name": "stderr",
     "output_type": "stream",
     "text": [
      "Train Epoch: 100%|██████████| 79/79 [00:03<00:00, 23.81it/s]\n",
      "Val Epoch: 100%|██████████| 20/20 [00:00<00:00, 25.74it/s]\n"
     ]
    },
    {
     "name": "stdout",
     "output_type": "stream",
     "text": [
      "Train Loss: 0.6566, Train Accuracy: 0.7739\n",
      "Val Loss: 0.8315, Val Accuracy: 0.7113\n",
      "\n",
      "Epoch 9/10\n",
      "----------\n"
     ]
    },
    {
     "name": "stderr",
     "output_type": "stream",
     "text": [
      "Train Epoch: 100%|██████████| 79/79 [00:03<00:00, 23.19it/s]\n",
      "Val Epoch: 100%|██████████| 20/20 [00:00<00:00, 26.02it/s]\n"
     ]
    },
    {
     "name": "stdout",
     "output_type": "stream",
     "text": [
      "Train Loss: 0.6133, Train Accuracy: 0.7883\n",
      "Val Loss: 0.8181, Val Accuracy: 0.7176\n",
      "\n",
      "Epoch 10/10\n",
      "----------\n"
     ]
    },
    {
     "name": "stderr",
     "output_type": "stream",
     "text": [
      "Train Epoch: 100%|██████████| 79/79 [00:03<00:00, 23.81it/s]\n",
      "Val Epoch: 100%|██████████| 20/20 [00:00<00:00, 25.14it/s]"
     ]
    },
    {
     "name": "stdout",
     "output_type": "stream",
     "text": [
      "Train Loss: 0.5583, Train Accuracy: 0.8055\n",
      "Val Loss: 0.8310, Val Accuracy: 0.7173\n"
     ]
    },
    {
     "name": "stderr",
     "output_type": "stream",
     "text": [
      "\n"
     ]
    }
   ],
   "source": [
    "model = Baseline(activation=nn.Tanh()).to(device)\n",
    "criterion = nn.CrossEntropyLoss()\n",
    "optimizer = torch.optim.Adam(model.parameters())\n",
    "\n",
    "epoch_train_losses, epoch_val_losses, epoch_train_accs, epoch_val_accs = trainer(model, train_loader, val_loader, optimizer, criterion, n_epochs)\n",
    "results['baseline_tanh'] = [epoch_train_losses, epoch_val_losses, epoch_train_accs, epoch_val_accs]"
   ]
  },
  {
   "cell_type": "markdown",
   "id": "d78b409e",
   "metadata": {},
   "source": [
    "## BatchNorm"
   ]
  },
  {
   "cell_type": "code",
   "execution_count": null,
   "id": "8e2199d4",
   "metadata": {},
   "outputs": [],
   "source": [
    "class BatchNorm(nn.Module):\n",
    "    def __init__(self, activation):\n",
    "        super().__init__()\n",
    "        self.conv1 = nn.Conv2d(3, 32, 3, padding=1)\n",
    "        self.conv2 = nn.Conv2d(32, 32, 3, padding=1)\n",
    "        self.pool = nn.MaxPool2d(2)\n",
    "        self.flatten = nn.Flatten()\n",
    "        self.fc1 = nn.Linear(8*8*32, 512)\n",
    "        self.fc2 = nn.Linear(512, 128)\n",
    "        self.fc3 = nn.Linear(128, 10)\n",
    "        self.activation = activation\n",
    "        self.bn1 = nn.BatchNorm2d(32)\n",
    "        self.bn2 = nn.BatchNorm2d(32)\n",
    "        self.bn3 = nn.BatchNorm1d(512)\n",
    "        self.bn4 = nn.BatchNorm1d(128)\n",
    "\n",
    "    def forward(self, x):\n",
    "        x = self.pool(self.activation(self.bn1(self.conv1(x))))\n",
    "        x = self.pool(self.activation(self.bn2(self.conv2(x))))\n",
    "        x = self.flatten(x)\n",
    "        x = self.activation(self.bn3(self.fc1(x)))\n",
    "        x = self.activation(self.bn4(self.fc2(x)))\n",
    "        return self.fc3(x)"
   ]
  },
  {
   "cell_type": "code",
   "execution_count": 14,
   "id": "8df57171",
   "metadata": {},
   "outputs": [
    {
     "name": "stdout",
     "output_type": "stream",
     "text": [
      "\n",
      "Epoch 1/10\n",
      "----------\n"
     ]
    },
    {
     "name": "stderr",
     "output_type": "stream",
     "text": [
      "Train Epoch: 100%|██████████| 313/313 [00:07<00:00, 43.00it/s]\n",
      "Val Epoch: 100%|██████████| 79/79 [00:00<00:00, 82.88it/s]\n"
     ]
    },
    {
     "name": "stdout",
     "output_type": "stream",
     "text": [
      "Train Loss: 1.1776, Train Accuracy: 0.5815\n",
      "Val Loss: 0.9865, Val Accuracy: 0.6482\n",
      "\n",
      "Epoch 2/10\n",
      "----------\n"
     ]
    },
    {
     "name": "stderr",
     "output_type": "stream",
     "text": [
      "Train Epoch: 100%|██████████| 313/313 [00:05<00:00, 56.94it/s]\n",
      "Val Epoch: 100%|██████████| 79/79 [00:00<00:00, 85.26it/s]\n"
     ]
    },
    {
     "name": "stdout",
     "output_type": "stream",
     "text": [
      "Train Loss: 0.8089, Train Accuracy: 0.7147\n",
      "Val Loss: 0.8482, Val Accuracy: 0.7016\n",
      "\n",
      "Epoch 3/10\n",
      "----------\n"
     ]
    },
    {
     "name": "stderr",
     "output_type": "stream",
     "text": [
      "Train Epoch: 100%|██████████| 313/313 [00:05<00:00, 57.28it/s]\n",
      "Val Epoch: 100%|██████████| 79/79 [00:01<00:00, 72.34it/s]\n"
     ]
    },
    {
     "name": "stdout",
     "output_type": "stream",
     "text": [
      "Train Loss: 0.6226, Train Accuracy: 0.7815\n",
      "Val Loss: 0.8838, Val Accuracy: 0.6909\n",
      "\n",
      "Epoch 4/10\n",
      "----------\n"
     ]
    },
    {
     "name": "stderr",
     "output_type": "stream",
     "text": [
      "Train Epoch: 100%|██████████| 313/313 [00:05<00:00, 56.10it/s]\n",
      "Val Epoch: 100%|██████████| 79/79 [00:01<00:00, 77.48it/s]\n"
     ]
    },
    {
     "name": "stdout",
     "output_type": "stream",
     "text": [
      "Train Loss: 0.4646, Train Accuracy: 0.8387\n",
      "Val Loss: 0.9465, Val Accuracy: 0.6905\n",
      "\n",
      "Epoch 5/10\n",
      "----------\n"
     ]
    },
    {
     "name": "stderr",
     "output_type": "stream",
     "text": [
      "Train Epoch: 100%|██████████| 313/313 [00:05<00:00, 53.91it/s]\n",
      "Val Epoch: 100%|██████████| 79/79 [00:00<00:00, 80.77it/s]\n"
     ]
    },
    {
     "name": "stdout",
     "output_type": "stream",
     "text": [
      "Train Loss: 0.3191, Train Accuracy: 0.8904\n",
      "Val Loss: 0.9285, Val Accuracy: 0.7134\n",
      "\n",
      "Epoch 6/10\n",
      "----------\n"
     ]
    },
    {
     "name": "stderr",
     "output_type": "stream",
     "text": [
      "Train Epoch: 100%|██████████| 313/313 [00:05<00:00, 56.60it/s]\n",
      "Val Epoch: 100%|██████████| 79/79 [00:00<00:00, 79.77it/s]\n"
     ]
    },
    {
     "name": "stdout",
     "output_type": "stream",
     "text": [
      "Train Loss: 0.2218, Train Accuracy: 0.9258\n",
      "Val Loss: 1.0063, Val Accuracy: 0.7100\n",
      "\n",
      "Epoch 7/10\n",
      "----------\n"
     ]
    },
    {
     "name": "stderr",
     "output_type": "stream",
     "text": [
      "Train Epoch: 100%|██████████| 313/313 [00:05<00:00, 55.32it/s]\n",
      "Val Epoch: 100%|██████████| 79/79 [00:00<00:00, 87.37it/s]\n"
     ]
    },
    {
     "name": "stdout",
     "output_type": "stream",
     "text": [
      "Train Loss: 0.1498, Train Accuracy: 0.9505\n",
      "Val Loss: 1.1199, Val Accuracy: 0.7109\n",
      "\n",
      "Epoch 8/10\n",
      "----------\n"
     ]
    },
    {
     "name": "stderr",
     "output_type": "stream",
     "text": [
      "Train Epoch: 100%|██████████| 313/313 [00:05<00:00, 56.47it/s]\n",
      "Val Epoch: 100%|██████████| 79/79 [00:00<00:00, 84.44it/s]\n"
     ]
    },
    {
     "name": "stdout",
     "output_type": "stream",
     "text": [
      "Train Loss: 0.1073, Train Accuracy: 0.9651\n",
      "Val Loss: 1.1996, Val Accuracy: 0.7036\n",
      "\n",
      "Epoch 9/10\n",
      "----------\n"
     ]
    },
    {
     "name": "stderr",
     "output_type": "stream",
     "text": [
      "Train Epoch: 100%|██████████| 313/313 [00:05<00:00, 57.33it/s]\n",
      "Val Epoch: 100%|██████████| 79/79 [00:00<00:00, 82.20it/s]\n"
     ]
    },
    {
     "name": "stdout",
     "output_type": "stream",
     "text": [
      "Train Loss: 0.0873, Train Accuracy: 0.9714\n",
      "Val Loss: 1.2026, Val Accuracy: 0.7138\n",
      "\n",
      "Epoch 10/10\n",
      "----------\n"
     ]
    },
    {
     "name": "stderr",
     "output_type": "stream",
     "text": [
      "Train Epoch: 100%|██████████| 313/313 [00:05<00:00, 53.43it/s]\n",
      "Val Epoch: 100%|██████████| 79/79 [00:01<00:00, 69.25it/s]\n"
     ]
    },
    {
     "name": "stdout",
     "output_type": "stream",
     "text": [
      "Train Loss: 0.0806, Train Accuracy: 0.9727\n",
      "Val Loss: 1.2784, Val Accuracy: 0.7115\n",
      "\n",
      "Epoch 1/10\n",
      "----------\n"
     ]
    },
    {
     "name": "stderr",
     "output_type": "stream",
     "text": [
      "Train Epoch: 100%|██████████| 313/313 [00:05<00:00, 54.30it/s]\n",
      "Val Epoch: 100%|██████████| 79/79 [00:00<00:00, 85.67it/s]\n"
     ]
    },
    {
     "name": "stdout",
     "output_type": "stream",
     "text": [
      "Train Loss: 1.3577, Train Accuracy: 0.5188\n",
      "Val Loss: 1.1773, Val Accuracy: 0.5867\n",
      "\n",
      "Epoch 2/10\n",
      "----------\n"
     ]
    },
    {
     "name": "stderr",
     "output_type": "stream",
     "text": [
      "Train Epoch: 100%|██████████| 313/313 [00:05<00:00, 56.27it/s]\n",
      "Val Epoch: 100%|██████████| 79/79 [00:00<00:00, 79.43it/s]\n"
     ]
    },
    {
     "name": "stdout",
     "output_type": "stream",
     "text": [
      "Train Loss: 1.0317, Train Accuracy: 0.6388\n",
      "Val Loss: 1.0299, Val Accuracy: 0.6425\n",
      "\n",
      "Epoch 3/10\n",
      "----------\n"
     ]
    },
    {
     "name": "stderr",
     "output_type": "stream",
     "text": [
      "Train Epoch: 100%|██████████| 313/313 [00:05<00:00, 54.29it/s]\n",
      "Val Epoch: 100%|██████████| 79/79 [00:01<00:00, 69.84it/s]\n"
     ]
    },
    {
     "name": "stdout",
     "output_type": "stream",
     "text": [
      "Train Loss: 0.8816, Train Accuracy: 0.6928\n",
      "Val Loss: 0.9918, Val Accuracy: 0.6548\n",
      "\n",
      "Epoch 4/10\n",
      "----------\n"
     ]
    },
    {
     "name": "stderr",
     "output_type": "stream",
     "text": [
      "Train Epoch: 100%|██████████| 313/313 [00:05<00:00, 53.17it/s]\n",
      "Val Epoch: 100%|██████████| 79/79 [00:01<00:00, 78.93it/s]\n"
     ]
    },
    {
     "name": "stdout",
     "output_type": "stream",
     "text": [
      "Train Loss: 0.7747, Train Accuracy: 0.7287\n",
      "Val Loss: 0.9195, Val Accuracy: 0.6857\n",
      "\n",
      "Epoch 5/10\n",
      "----------\n"
     ]
    },
    {
     "name": "stderr",
     "output_type": "stream",
     "text": [
      "Train Epoch: 100%|██████████| 313/313 [00:05<00:00, 56.13it/s]\n",
      "Val Epoch: 100%|██████████| 79/79 [00:00<00:00, 79.97it/s]\n"
     ]
    },
    {
     "name": "stdout",
     "output_type": "stream",
     "text": [
      "Train Loss: 0.6839, Train Accuracy: 0.7607\n",
      "Val Loss: 0.9434, Val Accuracy: 0.6787\n",
      "\n",
      "Epoch 6/10\n",
      "----------\n"
     ]
    },
    {
     "name": "stderr",
     "output_type": "stream",
     "text": [
      "Train Epoch: 100%|██████████| 313/313 [00:05<00:00, 54.05it/s]\n",
      "Val Epoch: 100%|██████████| 79/79 [00:01<00:00, 71.59it/s]\n"
     ]
    },
    {
     "name": "stdout",
     "output_type": "stream",
     "text": [
      "Train Loss: 0.5810, Train Accuracy: 0.7971\n",
      "Val Loss: 0.9540, Val Accuracy: 0.6840\n",
      "\n",
      "Epoch 7/10\n",
      "----------\n"
     ]
    },
    {
     "name": "stderr",
     "output_type": "stream",
     "text": [
      "Train Epoch: 100%|██████████| 313/313 [00:05<00:00, 54.49it/s]\n",
      "Val Epoch: 100%|██████████| 79/79 [00:00<00:00, 80.39it/s]\n"
     ]
    },
    {
     "name": "stdout",
     "output_type": "stream",
     "text": [
      "Train Loss: 0.4882, Train Accuracy: 0.8313\n",
      "Val Loss: 1.0003, Val Accuracy: 0.6784\n",
      "\n",
      "Epoch 8/10\n",
      "----------\n"
     ]
    },
    {
     "name": "stderr",
     "output_type": "stream",
     "text": [
      "Train Epoch: 100%|██████████| 313/313 [00:05<00:00, 55.56it/s]\n",
      "Val Epoch: 100%|██████████| 79/79 [00:01<00:00, 76.97it/s]\n"
     ]
    },
    {
     "name": "stdout",
     "output_type": "stream",
     "text": [
      "Train Loss: 0.3923, Train Accuracy: 0.8667\n",
      "Val Loss: 1.0040, Val Accuracy: 0.6942\n",
      "\n",
      "Epoch 9/10\n",
      "----------\n"
     ]
    },
    {
     "name": "stderr",
     "output_type": "stream",
     "text": [
      "Train Epoch: 100%|██████████| 313/313 [00:05<00:00, 54.73it/s]\n",
      "Val Epoch: 100%|██████████| 79/79 [00:01<00:00, 77.42it/s]\n"
     ]
    },
    {
     "name": "stdout",
     "output_type": "stream",
     "text": [
      "Train Loss: 0.3055, Train Accuracy: 0.8961\n",
      "Val Loss: 1.1308, Val Accuracy: 0.6818\n",
      "\n",
      "Epoch 10/10\n",
      "----------\n"
     ]
    },
    {
     "name": "stderr",
     "output_type": "stream",
     "text": [
      "Train Epoch: 100%|██████████| 313/313 [00:05<00:00, 54.45it/s]\n",
      "Val Epoch: 100%|██████████| 79/79 [00:00<00:00, 82.08it/s]"
     ]
    },
    {
     "name": "stdout",
     "output_type": "stream",
     "text": [
      "Train Loss: 0.2197, Train Accuracy: 0.9263\n",
      "Val Loss: 1.3104, Val Accuracy: 0.6685\n"
     ]
    },
    {
     "name": "stderr",
     "output_type": "stream",
     "text": [
      "\n"
     ]
    }
   ],
   "source": [
    "activations = {'relu': nn.ReLU(), 'tanh': nn.Tanh()}\n",
    "\n",
    "for name, function in activations.items():\n",
    "    model = BatchNorm(activation=function).to(device)\n",
    "    criterion = nn.CrossEntropyLoss()\n",
    "    optimizer = torch.optim.Adam(model.parameters())\n",
    "\n",
    "    epoch_train_losses, epoch_val_losses, epoch_train_accs, epoch_val_accs = trainer(model, train_loader, val_loader, optimizer, criterion, n_epochs)\n",
    "    results[f'batchnorm_{name}'] = [epoch_train_losses, epoch_val_losses, epoch_train_accs, epoch_val_accs]"
   ]
  },
  {
   "cell_type": "markdown",
   "id": "f147d9c4",
   "metadata": {},
   "source": [
    "## Dropout without BatchNorm"
   ]
  },
  {
   "cell_type": "code",
   "execution_count": 18,
   "id": "7968e85e",
   "metadata": {},
   "outputs": [],
   "source": [
    "class Dropout(nn.Module):\n",
    "    def __init__(self, activation):\n",
    "        super().__init__()\n",
    "        self.conv1 = nn.Conv2d(3, 32, kernel_size=3, padding=1)\n",
    "        self.conv2 = nn.Conv2d(32, 64, kernel_size=3, padding=1)\n",
    "        self.conv3 = nn.Conv2d(64, 64, kernel_size=3, padding=1)\n",
    "        self.pool = nn.MaxPool2d(2)\n",
    "        self.flatten = nn.Flatten()\n",
    "        self.fc1 = nn.Linear(64*4*4, 128)\n",
    "        self.fc2 = nn.Linear(128, 64)\n",
    "        self.fc3 = nn.Linear(64, 10)\n",
    "        self.activation = activation\n",
    "        self.dropout = nn.Dropout()\n",
    "\n",
    "    def forward(self, x):\n",
    "        x = self.pool(self.activation(self.conv1(x)))\n",
    "        x = self.pool(self.activation(self.conv2(x)))\n",
    "        x = self.pool(self.activation(self.conv3(x)))\n",
    "        x = self.flatten(x)\n",
    "        x = self.dropout(self.activation(self.fc1(x)))\n",
    "        x = self.dropout(self.activation(self.fc2(x)))\n",
    "        return self.fc3(x)"
   ]
  },
  {
   "cell_type": "code",
   "execution_count": 19,
   "id": "0666d446",
   "metadata": {},
   "outputs": [
    {
     "name": "stdout",
     "output_type": "stream",
     "text": [
      "\n",
      "Epoch 1/10\n",
      "----------\n"
     ]
    },
    {
     "name": "stderr",
     "output_type": "stream",
     "text": [
      "Train Epoch:   0%|          | 0/79 [00:00<?, ?it/s]"
     ]
    },
    {
     "name": "stderr",
     "output_type": "stream",
     "text": [
      "Train Epoch: 100%|██████████| 79/79 [00:03<00:00, 23.69it/s]\n",
      "Val Epoch: 100%|██████████| 20/20 [00:00<00:00, 25.25it/s]\n"
     ]
    },
    {
     "name": "stdout",
     "output_type": "stream",
     "text": [
      "Train Loss: 2.0427, Train Accuracy: 0.2394\n",
      "Val Loss: 1.7120, Val Accuracy: 0.3955\n",
      "\n",
      "Epoch 2/10\n",
      "----------\n"
     ]
    },
    {
     "name": "stderr",
     "output_type": "stream",
     "text": [
      "Train Epoch: 100%|██████████| 79/79 [00:03<00:00, 24.05it/s]\n",
      "Val Epoch: 100%|██████████| 20/20 [00:00<00:00, 24.38it/s]\n"
     ]
    },
    {
     "name": "stdout",
     "output_type": "stream",
     "text": [
      "Train Loss: 1.6813, Train Accuracy: 0.3725\n",
      "Val Loss: 1.5162, Val Accuracy: 0.4614\n",
      "\n",
      "Epoch 3/10\n",
      "----------\n"
     ]
    },
    {
     "name": "stderr",
     "output_type": "stream",
     "text": [
      "Train Epoch: 100%|██████████| 79/79 [00:03<00:00, 24.04it/s]\n",
      "Val Epoch: 100%|██████████| 20/20 [00:00<00:00, 26.38it/s]\n"
     ]
    },
    {
     "name": "stdout",
     "output_type": "stream",
     "text": [
      "Train Loss: 1.5209, Train Accuracy: 0.4404\n",
      "Val Loss: 1.3415, Val Accuracy: 0.5160\n",
      "\n",
      "Epoch 4/10\n",
      "----------\n"
     ]
    },
    {
     "name": "stderr",
     "output_type": "stream",
     "text": [
      "Train Epoch: 100%|██████████| 79/79 [00:03<00:00, 23.85it/s]\n",
      "Val Epoch: 100%|██████████| 20/20 [00:00<00:00, 25.41it/s]\n"
     ]
    },
    {
     "name": "stdout",
     "output_type": "stream",
     "text": [
      "Train Loss: 1.4170, Train Accuracy: 0.4872\n",
      "Val Loss: 1.2411, Val Accuracy: 0.5573\n",
      "\n",
      "Epoch 5/10\n",
      "----------\n"
     ]
    },
    {
     "name": "stderr",
     "output_type": "stream",
     "text": [
      "Train Epoch: 100%|██████████| 79/79 [00:03<00:00, 23.44it/s]\n",
      "Val Epoch: 100%|██████████| 20/20 [00:00<00:00, 24.43it/s]\n"
     ]
    },
    {
     "name": "stdout",
     "output_type": "stream",
     "text": [
      "Train Loss: 1.3327, Train Accuracy: 0.5202\n",
      "Val Loss: 1.1773, Val Accuracy: 0.5815\n",
      "\n",
      "Epoch 6/10\n",
      "----------\n"
     ]
    },
    {
     "name": "stderr",
     "output_type": "stream",
     "text": [
      "Train Epoch: 100%|██████████| 79/79 [00:03<00:00, 23.37it/s]\n",
      "Val Epoch: 100%|██████████| 20/20 [00:00<00:00, 25.22it/s]\n"
     ]
    },
    {
     "name": "stdout",
     "output_type": "stream",
     "text": [
      "Train Loss: 1.2488, Train Accuracy: 0.5550\n",
      "Val Loss: 1.1236, Val Accuracy: 0.5990\n",
      "\n",
      "Epoch 7/10\n",
      "----------\n"
     ]
    },
    {
     "name": "stderr",
     "output_type": "stream",
     "text": [
      "Train Epoch: 100%|██████████| 79/79 [00:03<00:00, 23.15it/s]\n",
      "Val Epoch: 100%|██████████| 20/20 [00:00<00:00, 24.26it/s]\n"
     ]
    },
    {
     "name": "stdout",
     "output_type": "stream",
     "text": [
      "Train Loss: 1.2016, Train Accuracy: 0.5744\n",
      "Val Loss: 1.0813, Val Accuracy: 0.6120\n",
      "\n",
      "Epoch 8/10\n",
      "----------\n"
     ]
    },
    {
     "name": "stderr",
     "output_type": "stream",
     "text": [
      "Train Epoch: 100%|██████████| 79/79 [00:03<00:00, 23.58it/s]\n",
      "Val Epoch: 100%|██████████| 20/20 [00:00<00:00, 23.49it/s]\n"
     ]
    },
    {
     "name": "stdout",
     "output_type": "stream",
     "text": [
      "Train Loss: 1.1362, Train Accuracy: 0.5990\n",
      "Val Loss: 1.0442, Val Accuracy: 0.6271\n",
      "\n",
      "Epoch 9/10\n",
      "----------\n"
     ]
    },
    {
     "name": "stderr",
     "output_type": "stream",
     "text": [
      "Train Epoch: 100%|██████████| 79/79 [00:03<00:00, 23.08it/s]\n",
      "Val Epoch: 100%|██████████| 20/20 [00:00<00:00, 23.37it/s]\n"
     ]
    },
    {
     "name": "stdout",
     "output_type": "stream",
     "text": [
      "Train Loss: 1.0872, Train Accuracy: 0.6203\n",
      "Val Loss: 0.9674, Val Accuracy: 0.6578\n",
      "\n",
      "Epoch 10/10\n",
      "----------\n"
     ]
    },
    {
     "name": "stderr",
     "output_type": "stream",
     "text": [
      "Train Epoch: 100%|██████████| 79/79 [00:03<00:00, 23.40it/s]\n",
      "Val Epoch: 100%|██████████| 20/20 [00:00<00:00, 25.82it/s]\n"
     ]
    },
    {
     "name": "stdout",
     "output_type": "stream",
     "text": [
      "Train Loss: 1.0396, Train Accuracy: 0.6354\n",
      "Val Loss: 0.9586, Val Accuracy: 0.6627\n",
      "\n",
      "Epoch 1/10\n",
      "----------\n"
     ]
    },
    {
     "name": "stderr",
     "output_type": "stream",
     "text": [
      "Train Epoch: 100%|██████████| 79/79 [00:03<00:00, 23.56it/s]\n",
      "Val Epoch: 100%|██████████| 20/20 [00:00<00:00, 24.27it/s]\n"
     ]
    },
    {
     "name": "stdout",
     "output_type": "stream",
     "text": [
      "Train Loss: 1.8243, Train Accuracy: 0.3312\n",
      "Val Loss: 1.4533, Val Accuracy: 0.4822\n",
      "\n",
      "Epoch 2/10\n",
      "----------\n"
     ]
    },
    {
     "name": "stderr",
     "output_type": "stream",
     "text": [
      "Train Epoch: 100%|██████████| 79/79 [00:03<00:00, 23.28it/s]\n",
      "Val Epoch: 100%|██████████| 20/20 [00:00<00:00, 24.69it/s]\n"
     ]
    },
    {
     "name": "stdout",
     "output_type": "stream",
     "text": [
      "Train Loss: 1.4328, Train Accuracy: 0.4831\n",
      "Val Loss: 1.2729, Val Accuracy: 0.5426\n",
      "\n",
      "Epoch 3/10\n",
      "----------\n"
     ]
    },
    {
     "name": "stderr",
     "output_type": "stream",
     "text": [
      "Train Epoch: 100%|██████████| 79/79 [00:03<00:00, 24.07it/s]\n",
      "Val Epoch: 100%|██████████| 20/20 [00:00<00:00, 24.89it/s]\n"
     ]
    },
    {
     "name": "stdout",
     "output_type": "stream",
     "text": [
      "Train Loss: 1.2814, Train Accuracy: 0.5445\n",
      "Val Loss: 1.1362, Val Accuracy: 0.5936\n",
      "\n",
      "Epoch 4/10\n",
      "----------\n"
     ]
    },
    {
     "name": "stderr",
     "output_type": "stream",
     "text": [
      "Train Epoch: 100%|██████████| 79/79 [00:03<00:00, 23.43it/s]\n",
      "Val Epoch: 100%|██████████| 20/20 [00:00<00:00, 25.68it/s]\n"
     ]
    },
    {
     "name": "stdout",
     "output_type": "stream",
     "text": [
      "Train Loss: 1.1739, Train Accuracy: 0.5861\n",
      "Val Loss: 1.0622, Val Accuracy: 0.6280\n",
      "\n",
      "Epoch 5/10\n",
      "----------\n"
     ]
    },
    {
     "name": "stderr",
     "output_type": "stream",
     "text": [
      "Train Epoch: 100%|██████████| 79/79 [00:03<00:00, 23.86it/s]\n",
      "Val Epoch: 100%|██████████| 20/20 [00:00<00:00, 24.03it/s]\n"
     ]
    },
    {
     "name": "stdout",
     "output_type": "stream",
     "text": [
      "Train Loss: 1.0924, Train Accuracy: 0.6149\n",
      "Val Loss: 1.0111, Val Accuracy: 0.6449\n",
      "\n",
      "Epoch 6/10\n",
      "----------\n"
     ]
    },
    {
     "name": "stderr",
     "output_type": "stream",
     "text": [
      "Train Epoch: 100%|██████████| 79/79 [00:03<00:00, 23.18it/s]\n",
      "Val Epoch: 100%|██████████| 20/20 [00:00<00:00, 24.35it/s]\n"
     ]
    },
    {
     "name": "stdout",
     "output_type": "stream",
     "text": [
      "Train Loss: 1.0272, Train Accuracy: 0.6446\n",
      "Val Loss: 0.9263, Val Accuracy: 0.6786\n",
      "\n",
      "Epoch 7/10\n",
      "----------\n"
     ]
    },
    {
     "name": "stderr",
     "output_type": "stream",
     "text": [
      "Train Epoch: 100%|██████████| 79/79 [00:03<00:00, 23.41it/s]\n",
      "Val Epoch: 100%|██████████| 20/20 [00:00<00:00, 23.70it/s]\n"
     ]
    },
    {
     "name": "stdout",
     "output_type": "stream",
     "text": [
      "Train Loss: 0.9824, Train Accuracy: 0.6618\n",
      "Val Loss: 0.9786, Val Accuracy: 0.6620\n",
      "\n",
      "Epoch 8/10\n",
      "----------\n"
     ]
    },
    {
     "name": "stderr",
     "output_type": "stream",
     "text": [
      "Train Epoch: 100%|██████████| 79/79 [00:03<00:00, 23.25it/s]\n",
      "Val Epoch: 100%|██████████| 20/20 [00:00<00:00, 22.35it/s]\n"
     ]
    },
    {
     "name": "stdout",
     "output_type": "stream",
     "text": [
      "Train Loss: 0.9480, Train Accuracy: 0.6746\n",
      "Val Loss: 0.8852, Val Accuracy: 0.6928\n",
      "\n",
      "Epoch 9/10\n",
      "----------\n"
     ]
    },
    {
     "name": "stderr",
     "output_type": "stream",
     "text": [
      "Train Epoch: 100%|██████████| 79/79 [00:03<00:00, 23.66it/s]\n",
      "Val Epoch: 100%|██████████| 20/20 [00:00<00:00, 24.32it/s]\n"
     ]
    },
    {
     "name": "stdout",
     "output_type": "stream",
     "text": [
      "Train Loss: 0.8979, Train Accuracy: 0.6913\n",
      "Val Loss: 0.8605, Val Accuracy: 0.7078\n",
      "\n",
      "Epoch 10/10\n",
      "----------\n"
     ]
    },
    {
     "name": "stderr",
     "output_type": "stream",
     "text": [
      "Train Epoch: 100%|██████████| 79/79 [00:03<00:00, 23.93it/s]\n",
      "Val Epoch: 100%|██████████| 20/20 [00:00<00:00, 22.89it/s]"
     ]
    },
    {
     "name": "stdout",
     "output_type": "stream",
     "text": [
      "Train Loss: 0.8617, Train Accuracy: 0.7052\n",
      "Val Loss: 0.8514, Val Accuracy: 0.7084\n"
     ]
    },
    {
     "name": "stderr",
     "output_type": "stream",
     "text": [
      "\n"
     ]
    }
   ],
   "source": [
    "activations = {'relu': nn.ReLU(), 'tanh': nn.Tanh()}\n",
    "\n",
    "for name, function in activations.items():\n",
    "    model = Dropout(activation=function).to(device)\n",
    "    criterion = nn.CrossEntropyLoss()\n",
    "    optimizer = torch.optim.Adam(model.parameters())\n",
    "\n",
    "    epoch_train_losses, epoch_val_losses, epoch_train_accs, epoch_val_accs = trainer(model, train_loader, val_loader, optimizer, criterion, n_epochs)\n",
    "    results[f'dropout_{name}'] = [epoch_train_losses, epoch_val_losses, epoch_train_accs, epoch_val_accs]"
   ]
  },
  {
   "cell_type": "markdown",
   "id": "88ece6fd",
   "metadata": {},
   "source": [
    "## Dropout with BatchNorm"
   ]
  },
  {
   "cell_type": "code",
   "execution_count": 20,
   "id": "1d7ce4b4",
   "metadata": {},
   "outputs": [],
   "source": [
    "class DropoutBatchNorm(nn.Module):\n",
    "    def __init__(self, activation):\n",
    "        super().__init__()\n",
    "        self.conv1 = nn.Conv2d(3, 32, kernel_size=3, padding=1)\n",
    "        self.conv2 = nn.Conv2d(32, 64, kernel_size=3, padding=1)\n",
    "        self.conv3 = nn.Conv2d(64, 64, kernel_size=3, padding=1)\n",
    "        self.pool = nn.MaxPool2d(2)\n",
    "        self.flatten = nn.Flatten()\n",
    "        self.fc1 = nn.Linear(64*4*4, 128)\n",
    "        self.fc2 = nn.Linear(128, 64)\n",
    "        self.fc3 = nn.Linear(64, 10)\n",
    "        self.activation = activation\n",
    "        self.bn1 = nn.BatchNorm2d(32)\n",
    "        self.bn2 = nn.BatchNorm2d(64)\n",
    "        self.bn3 = nn.BatchNorm2d(64)\n",
    "        self.bn4 = nn.BatchNorm1d(128)\n",
    "        self.bn5 = nn.BatchNorm1d(64)\n",
    "        self.dropout = nn.Dropout()\n",
    "\n",
    "    def forward(self, x):\n",
    "        x = self.pool(self.activation(self.bn1(self.conv1(x))))\n",
    "        x = self.pool(self.activation(self.bn2(self.conv2(x))))\n",
    "        x = self.pool(self.activation(self.bn3(self.conv3(x))))\n",
    "        x = self.flatten(x)\n",
    "        x = self.dropout(self.activation(self.bn4(self.fc1(x))))\n",
    "        x = self.dropout(self.activation(self.bn5(self.fc2(x))))\n",
    "        return self.fc3(x)"
   ]
  },
  {
   "cell_type": "code",
   "execution_count": 21,
   "id": "f1c18fd7",
   "metadata": {},
   "outputs": [
    {
     "name": "stdout",
     "output_type": "stream",
     "text": [
      "\n",
      "Epoch 1/10\n",
      "----------\n"
     ]
    },
    {
     "name": "stderr",
     "output_type": "stream",
     "text": [
      "Train Epoch:   0%|          | 0/79 [00:00<?, ?it/s]"
     ]
    },
    {
     "name": "stderr",
     "output_type": "stream",
     "text": [
      "Train Epoch: 100%|██████████| 79/79 [00:04<00:00, 18.46it/s]\n",
      "Val Epoch: 100%|██████████| 20/20 [00:00<00:00, 23.84it/s]\n"
     ]
    },
    {
     "name": "stdout",
     "output_type": "stream",
     "text": [
      "Train Loss: 1.7860, Train Accuracy: 0.3654\n",
      "Val Loss: 1.3521, Val Accuracy: 0.5428\n",
      "\n",
      "Epoch 2/10\n",
      "----------\n"
     ]
    },
    {
     "name": "stderr",
     "output_type": "stream",
     "text": [
      "Train Epoch: 100%|██████████| 79/79 [00:03<00:00, 20.03it/s]\n",
      "Val Epoch: 100%|██████████| 20/20 [00:00<00:00, 24.84it/s]\n"
     ]
    },
    {
     "name": "stdout",
     "output_type": "stream",
     "text": [
      "Train Loss: 1.3457, Train Accuracy: 0.5327\n",
      "Val Loss: 1.2573, Val Accuracy: 0.5495\n",
      "\n",
      "Epoch 3/10\n",
      "----------\n"
     ]
    },
    {
     "name": "stderr",
     "output_type": "stream",
     "text": [
      "Train Epoch: 100%|██████████| 79/79 [00:03<00:00, 19.76it/s]\n",
      "Val Epoch: 100%|██████████| 20/20 [00:00<00:00, 24.70it/s]\n"
     ]
    },
    {
     "name": "stdout",
     "output_type": "stream",
     "text": [
      "Train Loss: 1.1439, Train Accuracy: 0.6077\n",
      "Val Loss: 0.9579, Val Accuracy: 0.6701\n",
      "\n",
      "Epoch 4/10\n",
      "----------\n"
     ]
    },
    {
     "name": "stderr",
     "output_type": "stream",
     "text": [
      "Train Epoch: 100%|██████████| 79/79 [00:04<00:00, 19.58it/s]\n",
      "Val Epoch: 100%|██████████| 20/20 [00:00<00:00, 24.01it/s]\n"
     ]
    },
    {
     "name": "stdout",
     "output_type": "stream",
     "text": [
      "Train Loss: 1.0416, Train Accuracy: 0.6474\n",
      "Val Loss: 0.9001, Val Accuracy: 0.6900\n",
      "\n",
      "Epoch 5/10\n",
      "----------\n"
     ]
    },
    {
     "name": "stderr",
     "output_type": "stream",
     "text": [
      "Train Epoch: 100%|██████████| 79/79 [00:04<00:00, 19.58it/s]\n",
      "Val Epoch: 100%|██████████| 20/20 [00:00<00:00, 25.27it/s]\n"
     ]
    },
    {
     "name": "stdout",
     "output_type": "stream",
     "text": [
      "Train Loss: 0.9480, Train Accuracy: 0.6796\n",
      "Val Loss: 0.8545, Val Accuracy: 0.7050\n",
      "\n",
      "Epoch 6/10\n",
      "----------\n"
     ]
    },
    {
     "name": "stderr",
     "output_type": "stream",
     "text": [
      "Train Epoch: 100%|██████████| 79/79 [00:03<00:00, 20.26it/s]\n",
      "Val Epoch: 100%|██████████| 20/20 [00:00<00:00, 24.75it/s]\n"
     ]
    },
    {
     "name": "stdout",
     "output_type": "stream",
     "text": [
      "Train Loss: 0.8829, Train Accuracy: 0.7053\n",
      "Val Loss: 0.8065, Val Accuracy: 0.7228\n",
      "\n",
      "Epoch 7/10\n",
      "----------\n"
     ]
    },
    {
     "name": "stderr",
     "output_type": "stream",
     "text": [
      "Train Epoch: 100%|██████████| 79/79 [00:04<00:00, 19.68it/s]\n",
      "Val Epoch: 100%|██████████| 20/20 [00:00<00:00, 22.72it/s]\n"
     ]
    },
    {
     "name": "stdout",
     "output_type": "stream",
     "text": [
      "Train Loss: 0.8172, Train Accuracy: 0.7275\n",
      "Val Loss: 0.8381, Val Accuracy: 0.7115\n",
      "\n",
      "Epoch 8/10\n",
      "----------\n"
     ]
    },
    {
     "name": "stderr",
     "output_type": "stream",
     "text": [
      "Train Epoch: 100%|██████████| 79/79 [00:04<00:00, 19.27it/s]\n",
      "Val Epoch: 100%|██████████| 20/20 [00:00<00:00, 24.77it/s]\n"
     ]
    },
    {
     "name": "stdout",
     "output_type": "stream",
     "text": [
      "Train Loss: 0.7758, Train Accuracy: 0.7406\n",
      "Val Loss: 0.8113, Val Accuracy: 0.7207\n",
      "\n",
      "Epoch 9/10\n",
      "----------\n"
     ]
    },
    {
     "name": "stderr",
     "output_type": "stream",
     "text": [
      "Train Epoch: 100%|██████████| 79/79 [00:04<00:00, 19.44it/s]\n",
      "Val Epoch: 100%|██████████| 20/20 [00:00<00:00, 23.27it/s]\n"
     ]
    },
    {
     "name": "stdout",
     "output_type": "stream",
     "text": [
      "Train Loss: 0.7332, Train Accuracy: 0.7583\n",
      "Val Loss: 0.8083, Val Accuracy: 0.7247\n",
      "\n",
      "Epoch 10/10\n",
      "----------\n"
     ]
    },
    {
     "name": "stderr",
     "output_type": "stream",
     "text": [
      "Train Epoch: 100%|██████████| 79/79 [00:04<00:00, 19.05it/s]\n",
      "Val Epoch: 100%|██████████| 20/20 [00:00<00:00, 21.18it/s]"
     ]
    },
    {
     "name": "stdout",
     "output_type": "stream",
     "text": [
      "Train Loss: 0.6934, Train Accuracy: 0.7672\n",
      "Val Loss: 0.7698, Val Accuracy: 0.7379\n"
     ]
    },
    {
     "name": "stderr",
     "output_type": "stream",
     "text": [
      "\n"
     ]
    }
   ],
   "source": [
    "model = DropoutBatchNorm(activation=nn.ReLU()).to(device)\n",
    "criterion = nn.CrossEntropyLoss()\n",
    "optimizer = torch.optim.Adam(model.parameters())\n",
    "\n",
    "epoch_train_losses, epoch_val_losses, epoch_train_accs, epoch_val_accs = trainer(model, train_loader, val_loader, optimizer, criterion, n_epochs)\n",
    "results[f'dropout_batchnorm_relu'] = [epoch_train_losses, epoch_val_losses, epoch_train_accs, epoch_val_accs]"
   ]
  },
  {
   "cell_type": "markdown",
   "id": "58417feb",
   "metadata": {},
   "source": [
    "## More Epochs"
   ]
  },
  {
   "cell_type": "code",
   "execution_count": 22,
   "id": "260b778a",
   "metadata": {},
   "outputs": [
    {
     "name": "stdout",
     "output_type": "stream",
     "text": [
      "\n",
      "Epoch 1/20\n",
      "----------\n"
     ]
    },
    {
     "name": "stderr",
     "output_type": "stream",
     "text": [
      "Train Epoch: 100%|██████████| 79/79 [00:04<00:00, 19.65it/s]\n",
      "Val Epoch: 100%|██████████| 20/20 [00:00<00:00, 24.34it/s]\n"
     ]
    },
    {
     "name": "stdout",
     "output_type": "stream",
     "text": [
      "Train Loss: 1.7737, Train Accuracy: 0.3666\n",
      "Val Loss: 1.4102, Val Accuracy: 0.5345\n",
      "\n",
      "Epoch 2/20\n",
      "----------\n"
     ]
    },
    {
     "name": "stderr",
     "output_type": "stream",
     "text": [
      "Train Epoch: 100%|██████████| 79/79 [00:03<00:00, 20.05it/s]\n",
      "Val Epoch: 100%|██████████| 20/20 [00:00<00:00, 24.97it/s]\n"
     ]
    },
    {
     "name": "stdout",
     "output_type": "stream",
     "text": [
      "Train Loss: 1.3402, Train Accuracy: 0.5323\n",
      "Val Loss: 1.1279, Val Accuracy: 0.6149\n",
      "\n",
      "Epoch 3/20\n",
      "----------\n"
     ]
    },
    {
     "name": "stderr",
     "output_type": "stream",
     "text": [
      "Train Epoch: 100%|██████████| 79/79 [00:03<00:00, 19.84it/s]\n",
      "Val Epoch: 100%|██████████| 20/20 [00:00<00:00, 24.40it/s]\n"
     ]
    },
    {
     "name": "stdout",
     "output_type": "stream",
     "text": [
      "Train Loss: 1.1564, Train Accuracy: 0.6011\n",
      "Val Loss: 1.0099, Val Accuracy: 0.6531\n",
      "\n",
      "Epoch 4/20\n",
      "----------\n"
     ]
    },
    {
     "name": "stderr",
     "output_type": "stream",
     "text": [
      "Train Epoch: 100%|██████████| 79/79 [00:03<00:00, 20.28it/s]\n",
      "Val Epoch: 100%|██████████| 20/20 [00:00<00:00, 23.50it/s]\n"
     ]
    },
    {
     "name": "stdout",
     "output_type": "stream",
     "text": [
      "Train Loss: 1.0302, Train Accuracy: 0.6475\n",
      "Val Loss: 0.9704, Val Accuracy: 0.6643\n",
      "\n",
      "Epoch 5/20\n",
      "----------\n"
     ]
    },
    {
     "name": "stderr",
     "output_type": "stream",
     "text": [
      "Train Epoch: 100%|██████████| 79/79 [00:03<00:00, 20.20it/s]\n",
      "Val Epoch: 100%|██████████| 20/20 [00:00<00:00, 25.42it/s]\n"
     ]
    },
    {
     "name": "stdout",
     "output_type": "stream",
     "text": [
      "Train Loss: 0.9403, Train Accuracy: 0.6835\n",
      "Val Loss: 0.8696, Val Accuracy: 0.7006\n",
      "\n",
      "Epoch 6/20\n",
      "----------\n"
     ]
    },
    {
     "name": "stderr",
     "output_type": "stream",
     "text": [
      "Train Epoch: 100%|██████████| 79/79 [00:03<00:00, 20.19it/s]\n",
      "Val Epoch: 100%|██████████| 20/20 [00:00<00:00, 24.96it/s]\n"
     ]
    },
    {
     "name": "stdout",
     "output_type": "stream",
     "text": [
      "Train Loss: 0.8880, Train Accuracy: 0.7013\n",
      "Val Loss: 0.8455, Val Accuracy: 0.7054\n",
      "\n",
      "Epoch 7/20\n",
      "----------\n"
     ]
    },
    {
     "name": "stderr",
     "output_type": "stream",
     "text": [
      "Train Epoch: 100%|██████████| 79/79 [00:04<00:00, 19.70it/s]\n",
      "Val Epoch: 100%|██████████| 20/20 [00:00<00:00, 25.15it/s]\n"
     ]
    },
    {
     "name": "stdout",
     "output_type": "stream",
     "text": [
      "Train Loss: 0.8228, Train Accuracy: 0.7237\n",
      "Val Loss: 0.8485, Val Accuracy: 0.7065\n",
      "\n",
      "Epoch 8/20\n",
      "----------\n"
     ]
    },
    {
     "name": "stderr",
     "output_type": "stream",
     "text": [
      "Train Epoch: 100%|██████████| 79/79 [00:03<00:00, 19.88it/s]\n",
      "Val Epoch: 100%|██████████| 20/20 [00:00<00:00, 24.98it/s]\n"
     ]
    },
    {
     "name": "stdout",
     "output_type": "stream",
     "text": [
      "Train Loss: 0.7788, Train Accuracy: 0.7425\n",
      "Val Loss: 0.8961, Val Accuracy: 0.7015\n",
      "\n",
      "Epoch 9/20\n",
      "----------\n"
     ]
    },
    {
     "name": "stderr",
     "output_type": "stream",
     "text": [
      "Train Epoch: 100%|██████████| 79/79 [00:03<00:00, 20.30it/s]\n",
      "Val Epoch: 100%|██████████| 20/20 [00:00<00:00, 24.80it/s]\n"
     ]
    },
    {
     "name": "stdout",
     "output_type": "stream",
     "text": [
      "Train Loss: 0.7421, Train Accuracy: 0.7519\n",
      "Val Loss: 0.8190, Val Accuracy: 0.7268\n",
      "\n",
      "Epoch 10/20\n",
      "----------\n"
     ]
    },
    {
     "name": "stderr",
     "output_type": "stream",
     "text": [
      "Train Epoch: 100%|██████████| 79/79 [00:03<00:00, 19.95it/s]\n",
      "Val Epoch: 100%|██████████| 20/20 [00:00<00:00, 24.27it/s]\n"
     ]
    },
    {
     "name": "stdout",
     "output_type": "stream",
     "text": [
      "Train Loss: 0.6947, Train Accuracy: 0.7689\n",
      "Val Loss: 0.7903, Val Accuracy: 0.7296\n",
      "\n",
      "Epoch 11/20\n",
      "----------\n"
     ]
    },
    {
     "name": "stderr",
     "output_type": "stream",
     "text": [
      "Train Epoch: 100%|██████████| 79/79 [00:03<00:00, 20.07it/s]\n",
      "Val Epoch: 100%|██████████| 20/20 [00:00<00:00, 24.86it/s]\n"
     ]
    },
    {
     "name": "stdout",
     "output_type": "stream",
     "text": [
      "Train Loss: 0.6602, Train Accuracy: 0.7811\n",
      "Val Loss: 0.7772, Val Accuracy: 0.7373\n",
      "\n",
      "Epoch 12/20\n",
      "----------\n"
     ]
    },
    {
     "name": "stderr",
     "output_type": "stream",
     "text": [
      "Train Epoch: 100%|██████████| 79/79 [00:03<00:00, 20.01it/s]\n",
      "Val Epoch: 100%|██████████| 20/20 [00:00<00:00, 24.71it/s]\n"
     ]
    },
    {
     "name": "stdout",
     "output_type": "stream",
     "text": [
      "Train Loss: 0.6363, Train Accuracy: 0.7890\n",
      "Val Loss: 0.7621, Val Accuracy: 0.7442\n",
      "\n",
      "Epoch 13/20\n",
      "----------\n"
     ]
    },
    {
     "name": "stderr",
     "output_type": "stream",
     "text": [
      "Train Epoch: 100%|██████████| 79/79 [00:03<00:00, 20.27it/s]\n",
      "Val Epoch: 100%|██████████| 20/20 [00:00<00:00, 23.76it/s]\n"
     ]
    },
    {
     "name": "stdout",
     "output_type": "stream",
     "text": [
      "Train Loss: 0.5947, Train Accuracy: 0.8044\n",
      "Val Loss: 0.7801, Val Accuracy: 0.7388\n",
      "\n",
      "Epoch 14/20\n",
      "----------\n"
     ]
    },
    {
     "name": "stderr",
     "output_type": "stream",
     "text": [
      "Train Epoch: 100%|██████████| 79/79 [00:03<00:00, 20.22it/s]\n",
      "Val Epoch: 100%|██████████| 20/20 [00:00<00:00, 25.02it/s]\n"
     ]
    },
    {
     "name": "stdout",
     "output_type": "stream",
     "text": [
      "Train Loss: 0.5653, Train Accuracy: 0.8139\n",
      "Val Loss: 0.7496, Val Accuracy: 0.7550\n",
      "\n",
      "Epoch 15/20\n",
      "----------\n"
     ]
    },
    {
     "name": "stderr",
     "output_type": "stream",
     "text": [
      "Train Epoch: 100%|██████████| 79/79 [00:03<00:00, 20.12it/s]\n",
      "Val Epoch: 100%|██████████| 20/20 [00:00<00:00, 24.98it/s]\n"
     ]
    },
    {
     "name": "stdout",
     "output_type": "stream",
     "text": [
      "Train Loss: 0.5442, Train Accuracy: 0.8196\n",
      "Val Loss: 0.8067, Val Accuracy: 0.7414\n",
      "\n",
      "Epoch 16/20\n",
      "----------\n"
     ]
    },
    {
     "name": "stderr",
     "output_type": "stream",
     "text": [
      "Train Epoch: 100%|██████████| 79/79 [00:04<00:00, 19.66it/s]\n",
      "Val Epoch: 100%|██████████| 20/20 [00:00<00:00, 24.10it/s]\n"
     ]
    },
    {
     "name": "stdout",
     "output_type": "stream",
     "text": [
      "Train Loss: 0.5140, Train Accuracy: 0.8314\n",
      "Val Loss: 0.8185, Val Accuracy: 0.7359\n",
      "\n",
      "Epoch 17/20\n",
      "----------\n"
     ]
    },
    {
     "name": "stderr",
     "output_type": "stream",
     "text": [
      "Train Epoch: 100%|██████████| 79/79 [00:03<00:00, 20.19it/s]\n",
      "Val Epoch: 100%|██████████| 20/20 [00:00<00:00, 23.97it/s]\n"
     ]
    },
    {
     "name": "stdout",
     "output_type": "stream",
     "text": [
      "Train Loss: 0.4925, Train Accuracy: 0.8374\n",
      "Val Loss: 0.7736, Val Accuracy: 0.7533\n",
      "\n",
      "Epoch 18/20\n",
      "----------\n"
     ]
    },
    {
     "name": "stderr",
     "output_type": "stream",
     "text": [
      "Train Epoch: 100%|██████████| 79/79 [00:03<00:00, 20.08it/s]\n",
      "Val Epoch: 100%|██████████| 20/20 [00:00<00:00, 24.69it/s]\n"
     ]
    },
    {
     "name": "stdout",
     "output_type": "stream",
     "text": [
      "Train Loss: 0.4791, Train Accuracy: 0.8425\n",
      "Val Loss: 0.7924, Val Accuracy: 0.7434\n",
      "\n",
      "Epoch 19/20\n",
      "----------\n"
     ]
    },
    {
     "name": "stderr",
     "output_type": "stream",
     "text": [
      "Train Epoch: 100%|██████████| 79/79 [00:03<00:00, 20.05it/s]\n",
      "Val Epoch: 100%|██████████| 20/20 [00:00<00:00, 24.35it/s]\n"
     ]
    },
    {
     "name": "stdout",
     "output_type": "stream",
     "text": [
      "Train Loss: 0.4646, Train Accuracy: 0.8513\n",
      "Val Loss: 0.8195, Val Accuracy: 0.7469\n",
      "\n",
      "Epoch 20/20\n",
      "----------\n"
     ]
    },
    {
     "name": "stderr",
     "output_type": "stream",
     "text": [
      "Train Epoch: 100%|██████████| 79/79 [00:03<00:00, 20.05it/s]\n",
      "Val Epoch: 100%|██████████| 20/20 [00:00<00:00, 24.03it/s]"
     ]
    },
    {
     "name": "stdout",
     "output_type": "stream",
     "text": [
      "Train Loss: 0.4616, Train Accuracy: 0.8491\n",
      "Val Loss: 0.7814, Val Accuracy: 0.7562\n"
     ]
    },
    {
     "name": "stderr",
     "output_type": "stream",
     "text": [
      "\n"
     ]
    }
   ],
   "source": [
    "n_epochs = 20\n",
    "\n",
    "model = DropoutBatchNorm(activation=nn.ReLU()).to(device)\n",
    "criterion = nn.CrossEntropyLoss()\n",
    "optimizer = torch.optim.Adam(model.parameters())\n",
    "\n",
    "epoch_train_losses, epoch_val_losses, epoch_train_accs, epoch_val_accs = trainer(model, train_loader, val_loader, optimizer, criterion, n_epochs)"
   ]
  },
  {
   "cell_type": "markdown",
   "id": "ad9286c7",
   "metadata": {},
   "source": [
    "How far can you bring up the test accuracy by continuing the training\n",
    "possibly over more epochs?"
   ]
  },
  {
   "cell_type": "markdown",
   "id": "ddf43ce6",
   "metadata": {},
   "source": [
    "## figs and nuts version"
   ]
  },
  {
   "cell_type": "code",
   "execution_count": 23,
   "id": "ae23f052",
   "metadata": {},
   "outputs": [],
   "source": [
    "class FigNuts(nn.Module):\n",
    "    def __init__(self, activation):\n",
    "        super().__init__()\n",
    "        self.conv1 = nn.Conv2d(3, 32, kernel_size=3, padding=1)\n",
    "        self.conv2 = nn.Conv2d(32, 64, kernel_size=3, padding=1)\n",
    "        self.conv3 = nn.Conv2d(64, 64, kernel_size=3, padding=1)\n",
    "        self.pool = nn.MaxPool2d(2)\n",
    "        self.flatten = nn.Flatten()\n",
    "        self.fc1 = nn.Linear(64*4*4, 128)\n",
    "        self.fc2 = nn.Linear(128, 64)\n",
    "        self.fc3 = nn.Linear(64, 10)\n",
    "        self.activation = activation\n",
    "        self.bn1 = nn.BatchNorm2d(32)\n",
    "        self.bn2 = nn.BatchNorm2d(64)\n",
    "        self.bn3 = nn.BatchNorm2d(64)\n",
    "        self.bn4 = nn.BatchNorm1d(128)\n",
    "        self.bn5 = nn.BatchNorm1d(64)\n",
    "        self.dropout = nn.Dropout()\n",
    "\n",
    "    def forward(self, x):\n",
    "        x = self.pool(self.bn1(self.activation(self.conv1(x))))\n",
    "        x = self.pool(self.bn2(self.activation(self.conv2(x))))\n",
    "        x = self.pool(self.bn3(self.activation(self.conv3(x))))\n",
    "        x = self.flatten(x)\n",
    "        x = self.bn4(self.dropout(self.activation(self.fc1(x))))\n",
    "        x = self.bn5(self.dropout(self.activation(self.fc2(x))))\n",
    "        return self.fc3(x)"
   ]
  },
  {
   "cell_type": "code",
   "execution_count": 24,
   "id": "f044bc67",
   "metadata": {},
   "outputs": [
    {
     "name": "stdout",
     "output_type": "stream",
     "text": [
      "\n",
      "Epoch 1/10\n",
      "----------\n"
     ]
    },
    {
     "name": "stderr",
     "output_type": "stream",
     "text": [
      "Train Epoch: 100%|██████████| 79/79 [00:03<00:00, 20.09it/s]\n",
      "Val Epoch: 100%|██████████| 20/20 [00:00<00:00, 24.82it/s]\n"
     ]
    },
    {
     "name": "stdout",
     "output_type": "stream",
     "text": [
      "Train Loss: 1.8245, Train Accuracy: 0.3481\n",
      "Val Loss: 1.3933, Val Accuracy: 0.5194\n",
      "\n",
      "Epoch 2/10\n",
      "----------\n"
     ]
    },
    {
     "name": "stderr",
     "output_type": "stream",
     "text": [
      "Train Epoch: 100%|██████████| 79/79 [00:03<00:00, 20.09it/s]\n",
      "Val Epoch: 100%|██████████| 20/20 [00:00<00:00, 24.59it/s]\n"
     ]
    },
    {
     "name": "stdout",
     "output_type": "stream",
     "text": [
      "Train Loss: 1.3750, Train Accuracy: 0.5143\n",
      "Val Loss: 1.1230, Val Accuracy: 0.6154\n",
      "\n",
      "Epoch 3/10\n",
      "----------\n"
     ]
    },
    {
     "name": "stderr",
     "output_type": "stream",
     "text": [
      "Train Epoch: 100%|██████████| 79/79 [00:03<00:00, 20.07it/s]\n",
      "Val Epoch: 100%|██████████| 20/20 [00:00<00:00, 24.41it/s]\n"
     ]
    },
    {
     "name": "stdout",
     "output_type": "stream",
     "text": [
      "Train Loss: 1.1592, Train Accuracy: 0.6036\n",
      "Val Loss: 0.9681, Val Accuracy: 0.6684\n",
      "\n",
      "Epoch 4/10\n",
      "----------\n"
     ]
    },
    {
     "name": "stderr",
     "output_type": "stream",
     "text": [
      "Train Epoch: 100%|██████████| 79/79 [00:03<00:00, 20.27it/s]\n",
      "Val Epoch: 100%|██████████| 20/20 [00:00<00:00, 22.48it/s]\n"
     ]
    },
    {
     "name": "stdout",
     "output_type": "stream",
     "text": [
      "Train Loss: 1.0222, Train Accuracy: 0.6552\n",
      "Val Loss: 0.8695, Val Accuracy: 0.6999\n",
      "\n",
      "Epoch 5/10\n",
      "----------\n"
     ]
    },
    {
     "name": "stderr",
     "output_type": "stream",
     "text": [
      "Train Epoch: 100%|██████████| 79/79 [00:04<00:00, 18.42it/s]\n",
      "Val Epoch: 100%|██████████| 20/20 [00:01<00:00, 18.37it/s]\n"
     ]
    },
    {
     "name": "stdout",
     "output_type": "stream",
     "text": [
      "Train Loss: 0.9477, Train Accuracy: 0.6848\n",
      "Val Loss: 0.8968, Val Accuracy: 0.6913\n",
      "\n",
      "Epoch 6/10\n",
      "----------\n"
     ]
    },
    {
     "name": "stderr",
     "output_type": "stream",
     "text": [
      "Train Epoch: 100%|██████████| 79/79 [00:05<00:00, 14.91it/s]\n",
      "Val Epoch: 100%|██████████| 20/20 [00:01<00:00, 15.16it/s]\n"
     ]
    },
    {
     "name": "stdout",
     "output_type": "stream",
     "text": [
      "Train Loss: 0.8748, Train Accuracy: 0.7108\n",
      "Val Loss: 0.8102, Val Accuracy: 0.7261\n",
      "\n",
      "Epoch 7/10\n",
      "----------\n"
     ]
    },
    {
     "name": "stderr",
     "output_type": "stream",
     "text": [
      "Train Epoch: 100%|██████████| 79/79 [00:06<00:00, 12.45it/s]\n",
      "Val Epoch: 100%|██████████| 20/20 [00:01<00:00, 14.67it/s]\n"
     ]
    },
    {
     "name": "stdout",
     "output_type": "stream",
     "text": [
      "Train Loss: 0.7872, Train Accuracy: 0.7401\n",
      "Val Loss: 0.7758, Val Accuracy: 0.7327\n",
      "\n",
      "Epoch 8/10\n",
      "----------\n"
     ]
    },
    {
     "name": "stderr",
     "output_type": "stream",
     "text": [
      "Train Epoch: 100%|██████████| 79/79 [00:08<00:00,  9.70it/s]\n",
      "Val Epoch: 100%|██████████| 20/20 [00:01<00:00, 13.50it/s]\n"
     ]
    },
    {
     "name": "stdout",
     "output_type": "stream",
     "text": [
      "Train Loss: 0.7396, Train Accuracy: 0.7574\n",
      "Val Loss: 0.7697, Val Accuracy: 0.7380\n",
      "\n",
      "Epoch 9/10\n",
      "----------\n"
     ]
    },
    {
     "name": "stderr",
     "output_type": "stream",
     "text": [
      "Train Epoch: 100%|██████████| 79/79 [00:08<00:00,  8.78it/s]\n",
      "Val Epoch: 100%|██████████| 20/20 [00:01<00:00, 13.81it/s]\n"
     ]
    },
    {
     "name": "stdout",
     "output_type": "stream",
     "text": [
      "Train Loss: 0.6949, Train Accuracy: 0.7708\n",
      "Val Loss: 0.7498, Val Accuracy: 0.7470\n",
      "\n",
      "Epoch 10/10\n",
      "----------\n"
     ]
    },
    {
     "name": "stderr",
     "output_type": "stream",
     "text": [
      "Train Epoch: 100%|██████████| 79/79 [00:08<00:00,  9.22it/s]\n",
      "Val Epoch: 100%|██████████| 20/20 [00:01<00:00, 13.99it/s]"
     ]
    },
    {
     "name": "stdout",
     "output_type": "stream",
     "text": [
      "Train Loss: 0.6612, Train Accuracy: 0.7839\n",
      "Val Loss: 0.7565, Val Accuracy: 0.7525\n"
     ]
    },
    {
     "name": "stderr",
     "output_type": "stream",
     "text": [
      "\n"
     ]
    }
   ],
   "source": [
    "n_epochs = 10\n",
    "\n",
    "model = FigNuts(activation=nn.ReLU()).to(device)\n",
    "criterion = nn.CrossEntropyLoss()\n",
    "optimizer = torch.optim.Adam(model.parameters())\n",
    "\n",
    "epoch_train_losses, epoch_val_losses, epoch_train_accs, epoch_val_accs = trainer(model, train_loader, val_loader, optimizer, criterion, n_epochs)\n",
    "results[f'fig_and_nuts_relu'] = [epoch_train_losses, epoch_val_losses, epoch_train_accs, epoch_val_accs]"
   ]
  },
  {
   "cell_type": "markdown",
   "id": "8e2ff0a9",
   "metadata": {},
   "source": [
    "## Comparison"
   ]
  },
  {
   "cell_type": "code",
   "execution_count": 25,
   "id": "7997b552",
   "metadata": {},
   "outputs": [],
   "source": [
    "def plot_loss_curves(n_epochs, results):\n",
    "    \n",
    "    fig, ax = plt.subplots(2, 2, figsize=(24,18))\n",
    "    \n",
    "    line_styles = ['-', '--', '-.', ':']\n",
    "    colors = plt.cm.tab10.colors\n",
    "    \n",
    "    for i, (name, metric) in enumerate(results.items()):\n",
    "\n",
    "        style = random.choice(line_styles)\n",
    "        color = colors[i % len(colors)]\n",
    "\n",
    "        x = range(1, n_epochs + 1)\n",
    "\n",
    "        ax[0, 0].plot(x, metric[0], linestyle=style, color=color, label=name)\n",
    "        ax[0, 0].set_title('Train Loss')\n",
    "        ax[0, 0].set_ylabel('Loss')\n",
    "        ax[0, 0].set_ylim(0, 1.7)\n",
    "\n",
    "        ax[0, 1].plot(x, metric[1], linestyle=style, color=color, label=name)\n",
    "        ax[0, 1].set_title('Validation Loss')\n",
    "        ax[0, 1].set_ylabel('Loss')\n",
    "        ax[0, 1].set_ylim(0, 1.7)\n",
    "        \n",
    "        ax[1, 0].plot(x, metric[2], linestyle=style, color=color, label=name)\n",
    "        ax[1, 0].set_title('Train Accuracy')\n",
    "        ax[1, 0].set_ylabel('Accuracy')\n",
    "        ax[1, 0].set_ylim(0.4, 1)\n",
    "\n",
    "        ax[1, 1].plot(x, metric[3], linestyle=style, color=color, label=name)\n",
    "        ax[1, 1].set_title('Validation Accuracy')\n",
    "        ax[1, 1].set_ylabel('Accuracy')\n",
    "        ax[1, 1].set_ylim(0.4, 1)\n",
    "        \n",
    "    for axes in ax.flat:\n",
    "        axes.set_xlabel('Epochs')\n",
    "        axes.set_xticks(range(1, n_epochs+1))\n",
    "        axes.grid()\n",
    "        axes.legend()\n",
    "\n",
    "    fig.suptitle('Train/Val Losses and Accuracies', fontsize=18)\n",
    "    plt.show()"
   ]
  },
  {
   "cell_type": "code",
   "execution_count": 26,
   "id": "8fb60130",
   "metadata": {},
   "outputs": [
    {
     "data": {
      "image/png": "[encoded data removed]",
      "text/plain": [
       "<Figure size 2400x1800 with 4 Axes>"
      ]
     },
     "metadata": {},
     "output_type": "display_data"
    }
   ],
   "source": [
    "plot_loss_curves(n_epochs, results)"
   ]
  },
  {
   "cell_type": "markdown",
   "id": "fe0b1a73",
   "metadata": {},
   "source": [
    "## Discussion"
   ]
  },
  {
   "cell_type": "markdown",
   "id": "2137cad7",
   "metadata": {},
   "source": [
    "Discuss your findings and make a statement about whether the\n",
    "results are as you expect."
   ]
  }
 ],
 "metadata": {
  "kernelspec": {
   "display_name": ".venv",
   "language": "python",
   "name": "python3"
  },
  "language_info": {
   "codemirror_mode": {
    "name": "ipython",
    "version": 3
   },
   "file_extension": ".py",
   "mimetype": "text/x-python",
   "name": "python",
   "nbconvert_exporter": "python",
   "pygments_lexer": "ipython3",
   "version": "3.12.8"
  }
 },
 "nbformat": 4,
 "nbformat_minor": 5
}
