{
 "cells": [
  {
   "cell_type": "markdown",
   "id": "8400dff9",
   "metadata": {},
   "source": [
    "G05: Jakober, Winkler, Matzinger, Salzmann"
   ]
  },
  {
   "cell_type": "code",
   "execution_count": null,
   "id": "d3b881bf",
   "metadata": {},
   "outputs": [],
   "source": [
    "import torch\n",
    "import torch.nn as nn\n",
    "import torch.nn.functional as F\n",
    "\n",
    "from torch.utils.data import DataLoader\n",
    "from torchvision import datasets\n",
    "from torchvision.transforms import ToTensor, Compose, Normalize\n",
    "from torchsummary import summary\n",
    "\n",
    "import random\n",
    "import numpy as np\n",
    "import matplotlib.pyplot as plt\n",
    "\n",
    "from tqdm import tqdm\n",
    "\n",
    "%matplotlib inline\n",
    "random.seed(123)"
   ]
  },
  {
   "cell_type": "code",
   "execution_count": 2,
   "id": "4f326686",
   "metadata": {},
   "outputs": [
    {
     "name": "stdout",
     "output_type": "stream",
     "text": [
      "Torch version: 2.6.0, Device: mps\n"
     ]
    }
   ],
   "source": [
    "device = torch.device('cuda' if torch.cuda.is_available() else 'mps' if torch.backends.mps.is_available() else 'cpu')\n",
    "print(f'Torch version: {torch.__version__}, Device: {device.type}')"
   ]
  },
  {
   "cell_type": "code",
   "execution_count": 3,
   "id": "a7ead175",
   "metadata": {},
   "outputs": [],
   "source": [
    "train_data = datasets.FashionMNIST(\n",
    "    root = 'data',\n",
    "    train = True,                    \n",
    "    transform = ToTensor(), \n",
    "    download = True,            \n",
    ")"
   ]
  },
  {
   "cell_type": "code",
   "execution_count": 4,
   "id": "3b735eaf",
   "metadata": {},
   "outputs": [],
   "source": [
    "dataloader = DataLoader(train_data, 60000, shuffle=False, num_workers=2)\n",
    "X, _ = next(iter(dataloader))\n",
    "mean, std = torch.mean(X).item(), torch.std(X).item()"
   ]
  },
  {
   "cell_type": "code",
   "execution_count": 5,
   "id": "62057189",
   "metadata": {},
   "outputs": [],
   "source": [
    "train_data = datasets.FashionMNIST(\n",
    "    root = 'data',\n",
    "    train = True,                    \n",
    "    transform = Compose([ToTensor(), Normalize(mean, std)]),\n",
    "    download = True,\n",
    ")\n",
    "\n",
    "test_data = datasets.FashionMNIST(\n",
    "    root = 'data', \n",
    "    train = False, \n",
    "    transform = Compose([ToTensor(), Normalize(mean, std)]),\n",
    "    download = True\n",
    ")"
   ]
  },
  {
   "cell_type": "code",
   "execution_count": 6,
   "id": "ee0d7c4e",
   "metadata": {},
   "outputs": [],
   "source": [
    "train_data, val_data = torch.utils.data.random_split(train_data, [50000, 10000])"
   ]
  },
  {
   "cell_type": "markdown",
   "id": "40ed6584",
   "metadata": {},
   "source": [
    "## Define the architecture"
   ]
  },
  {
   "cell_type": "code",
   "execution_count": 7,
   "id": "5331448f",
   "metadata": {},
   "outputs": [],
   "source": [
    "class CNN(nn.Module):\n",
    "    def __init__(self):\n",
    "        super().__init__()\n",
    "        self.conv1 = nn.Conv2d(1, 32, kernel_size=3, padding='same')\n",
    "        self.conv2 = nn.Conv2d(32, 32, kernel_size=3, padding='same')\n",
    "        self.conv3 = nn.Conv2d(32, 32, kernel_size=3, padding='same')\n",
    "        self.conv4 = nn.Conv2d(32, 32, kernel_size=3, padding='same')\n",
    "        self.conv5 = nn.Conv2d(32, 32, kernel_size=3, padding='same')\n",
    "        self.flatten = nn.Flatten()\n",
    "        self.fc = nn.Linear(28*28*32, 10)\n",
    "\n",
    "    def forward(self, x):\n",
    "        x = F.tanh(self.conv1(x))\n",
    "        x = F.tanh(self.conv2(x))\n",
    "        x = F.tanh(self.conv3(x))\n",
    "        x = F.tanh(self.conv4(x))\n",
    "        x = F.tanh(self.conv5(x))\n",
    "        return self.fc(self.flatten(x))"
   ]
  },
  {
   "cell_type": "code",
   "execution_count": 8,
   "id": "eb0700af",
   "metadata": {},
   "outputs": [
    {
     "name": "stdout",
     "output_type": "stream",
     "text": [
      "=================================================================\n",
      "Layer (type:depth-idx)                   Param #\n",
      "=================================================================\n",
      "├─Conv2d: 1-1                            320\n",
      "├─Conv2d: 1-2                            9,248\n",
      "├─Conv2d: 1-3                            9,248\n",
      "├─Conv2d: 1-4                            9,248\n",
      "├─Conv2d: 1-5                            9,248\n",
      "├─Flatten: 1-6                           --\n",
      "├─Linear: 1-7                            250,890\n",
      "=================================================================\n",
      "Total params: 288,202\n",
      "Trainable params: 288,202\n",
      "Non-trainable params: 0\n",
      "=================================================================\n"
     ]
    },
    {
     "data": {
      "text/plain": [
       "=================================================================\n",
       "Layer (type:depth-idx)                   Param #\n",
       "=================================================================\n",
       "├─Conv2d: 1-1                            320\n",
       "├─Conv2d: 1-2                            9,248\n",
       "├─Conv2d: 1-3                            9,248\n",
       "├─Conv2d: 1-4                            9,248\n",
       "├─Conv2d: 1-5                            9,248\n",
       "├─Flatten: 1-6                           --\n",
       "├─Linear: 1-7                            250,890\n",
       "=================================================================\n",
       "Total params: 288,202\n",
       "Trainable params: 288,202\n",
       "Non-trainable params: 0\n",
       "================================================================="
      ]
     },
     "execution_count": 8,
     "metadata": {},
     "output_type": "execute_result"
    }
   ],
   "source": [
    "summary(CNN())"
   ]
  },
  {
   "cell_type": "code",
   "execution_count": 9,
   "id": "34b6a6fd",
   "metadata": {},
   "outputs": [],
   "source": [
    "def run_epoch(model, dataloader, optimizer, criterion, train=True):\n",
    "    \"\"\"\n",
    "    Runs one epoch for training or validation.\n",
    "    \"\"\"\n",
    "    epoch_loss = 0\n",
    "    correct = 0\n",
    "    total_samples = len(dataloader.dataset)\n",
    "\n",
    "    if train:\n",
    "        model.train()\n",
    "    else:\n",
    "        model.eval()\n",
    "\n",
    "    for X, y in tqdm(dataloader, desc=f'{\"Train\" if train else \"Val\"} Epoch'):\n",
    "        X, y = X.to(device), y.to(device)\n",
    "\n",
    "        if train:\n",
    "            optimizer.zero_grad()\n",
    "\n",
    "        with torch.set_grad_enabled(train):\n",
    "            output = model(X)\n",
    "            loss = criterion(output, y)\n",
    "\n",
    "        epoch_loss += loss.item()\n",
    "        _, y_pred = torch.max(output, dim=1)\n",
    "        correct += torch.sum(y_pred == y).item()\n",
    "\n",
    "        if train:\n",
    "            loss.backward()\n",
    "            optimizer.step()\n",
    "\n",
    "    avg_loss = epoch_loss / len(dataloader)\n",
    "    accuracy = correct / total_samples\n",
    "\n",
    "    return avg_loss, accuracy\n",
    "\n",
    "def trainer(model, train_loader, val_loader, optimizer, criterion, n_epochs):\n",
    "    \"\"\"\n",
    "    Trains and evaluates the model for n_epochs.\n",
    "    \"\"\"\n",
    "    epoch_train_losses = []\n",
    "    epoch_val_losses = []\n",
    "    epoch_train_accs = []\n",
    "    epoch_val_accs = []\n",
    "\n",
    "    for epoch in range(n_epochs):\n",
    "\n",
    "        print(f'\\nEpoch {epoch+1}/{n_epochs}')\n",
    "        print('----------')\n",
    "\n",
    "        train_loss, train_acc = run_epoch(model, train_loader, optimizer, criterion, train=True)\n",
    "        val_loss, val_acc = run_epoch(model, val_loader, optimizer, criterion, train=False)\n",
    "            \n",
    "        epoch_train_losses.append(train_loss)\n",
    "        epoch_val_losses.append(val_loss)\n",
    "        epoch_train_accs.append(train_acc)\n",
    "        epoch_val_accs.append(val_acc)\n",
    "\n",
    "        print(f'Train Loss: {train_loss:.4f}, Train Accuracy: {train_acc:.4f}\\nVal Loss: {val_loss:.4f}, Val Accuracy: {val_acc:.4f}')\n",
    "    \n",
    "    return epoch_train_losses, epoch_val_losses, epoch_train_accs, epoch_val_accs"
   ]
  },
  {
   "cell_type": "code",
   "execution_count": 10,
   "id": "7c6e5cce",
   "metadata": {},
   "outputs": [],
   "source": [
    "def eval(model, test_loader, criterion):\n",
    "    \"\"\"\n",
    "    Evaluates the model on the test set.\n",
    "    \"\"\"\n",
    "    epoch_loss = 0\n",
    "    correct = 0\n",
    "    y_preds = []\n",
    "\n",
    "    model.eval()\n",
    "    with torch.no_grad():\n",
    "        for X_test, y_test in tqdm(test_loader):\n",
    "            X_test, y_test = X_test.to(device), y_test.to(device)\n",
    "\n",
    "            output = model(X_test)\n",
    "            loss = criterion(output, y_test)\n",
    "            epoch_loss += loss.item()\n",
    "\n",
    "            _, y_pred = torch.max(output, dim=1)\n",
    "            y_preds.append(y_pred.cpu())\n",
    "            correct += torch.sum(y_pred == y_test).item()\n",
    "        \n",
    "        epoch_loss /= len(test_loader)\n",
    "        accuracy = correct / len(test_loader.dataset)\n",
    "    \n",
    "    y_preds = torch.cat(y_preds).numpy()\n",
    "\n",
    "    return epoch_loss, accuracy, y_preds"
   ]
  },
  {
   "cell_type": "code",
   "execution_count": 11,
   "id": "6015a5b3",
   "metadata": {},
   "outputs": [],
   "source": [
    "def plot_loss_curve(n_epochs, train_losses, val_losses, train_acc, val_acc):\n",
    "    \n",
    "    fig, ax = plt.subplots(1, 2, figsize=(12,6), layout='tight')\n",
    "\n",
    "    ax[0].plot(range(1, n_epochs + 1), train_losses, label='Training Loss')\n",
    "    ax[0].plot(range(1, n_epochs + 1), val_losses, label='Validation Loss')\n",
    "    ax[0].set_xlabel('Epochs')\n",
    "    ax[0].set_xticks(range(1, n_epochs+1))\n",
    "    ax[0].set_ylabel('Loss')\n",
    "    ax[0].grid()\n",
    "    ax[0].legend()\n",
    "\n",
    "    ax[1].plot(range(1, n_epochs + 1), train_acc, label='Training Accuracy')\n",
    "    ax[1].plot(range(1, n_epochs + 1), val_acc, label='Validation Accuracy')\n",
    "    ax[1].set_xlabel('Epochs')\n",
    "    ax[1].set_xticks(range(1, n_epochs+1))\n",
    "    ax[1].set_ylabel('Accuracy')\n",
    "    ax[1].set_ylim(0,1)\n",
    "    ax[1].grid()\n",
    "    ax[1].legend()\n",
    "\n",
    "    fig.suptitle('Train/Val Losses and Accuracies')\n",
    "    plt.show()"
   ]
  },
  {
   "cell_type": "code",
   "execution_count": 12,
   "id": "9f0986bd",
   "metadata": {},
   "outputs": [],
   "source": [
    "results = {}"
   ]
  },
  {
   "cell_type": "markdown",
   "id": "f9caf57a",
   "metadata": {},
   "source": [
    "## Baseline"
   ]
  },
  {
   "cell_type": "code",
   "execution_count": 13,
   "id": "a01032f1",
   "metadata": {},
   "outputs": [
    {
     "name": "stdout",
     "output_type": "stream",
     "text": [
      "\n",
      "Epoch 1/10\n",
      "----------\n"
     ]
    },
    {
     "name": "stderr",
     "output_type": "stream",
     "text": [
      "Train Epoch: 100%|██████████| 391/391 [00:07<00:00, 52.05it/s]\n",
      "Val Epoch: 100%|██████████| 79/79 [00:00<00:00, 84.23it/s]\n"
     ]
    },
    {
     "name": "stdout",
     "output_type": "stream",
     "text": [
      "Train Loss: 0.4791, Train Accuracy: 0.8301\n",
      "Val Loss: 0.3858, Val Accuracy: 0.8618\n",
      "\n",
      "Epoch 2/10\n",
      "----------\n"
     ]
    },
    {
     "name": "stderr",
     "output_type": "stream",
     "text": [
      "Train Epoch: 100%|██████████| 391/391 [00:07<00:00, 51.79it/s]\n",
      "Val Epoch: 100%|██████████| 79/79 [00:01<00:00, 66.17it/s]\n"
     ]
    },
    {
     "name": "stdout",
     "output_type": "stream",
     "text": [
      "Train Loss: 0.3355, Train Accuracy: 0.8800\n",
      "Val Loss: 0.3246, Val Accuracy: 0.8890\n",
      "\n",
      "Epoch 3/10\n",
      "----------\n"
     ]
    },
    {
     "name": "stderr",
     "output_type": "stream",
     "text": [
      "Train Epoch: 100%|██████████| 391/391 [00:07<00:00, 53.30it/s]\n",
      "Val Epoch: 100%|██████████| 79/79 [00:00<00:00, 86.57it/s]\n"
     ]
    },
    {
     "name": "stdout",
     "output_type": "stream",
     "text": [
      "Train Loss: 0.2848, Train Accuracy: 0.8989\n",
      "Val Loss: 0.3023, Val Accuracy: 0.8953\n",
      "\n",
      "Epoch 4/10\n",
      "----------\n"
     ]
    },
    {
     "name": "stderr",
     "output_type": "stream",
     "text": [
      "Train Epoch: 100%|██████████| 391/391 [00:07<00:00, 53.06it/s]\n",
      "Val Epoch: 100%|██████████| 79/79 [00:01<00:00, 73.77it/s]\n"
     ]
    },
    {
     "name": "stdout",
     "output_type": "stream",
     "text": [
      "Train Loss: 0.2462, Train Accuracy: 0.9117\n",
      "Val Loss: 0.2821, Val Accuracy: 0.9030\n",
      "\n",
      "Epoch 5/10\n",
      "----------\n"
     ]
    },
    {
     "name": "stderr",
     "output_type": "stream",
     "text": [
      "Train Epoch: 100%|██████████| 391/391 [00:07<00:00, 53.10it/s]\n",
      "Val Epoch: 100%|██████████| 79/79 [00:00<00:00, 82.78it/s]\n"
     ]
    },
    {
     "name": "stdout",
     "output_type": "stream",
     "text": [
      "Train Loss: 0.2168, Train Accuracy: 0.9223\n",
      "Val Loss: 0.2960, Val Accuracy: 0.8983\n",
      "\n",
      "Epoch 6/10\n",
      "----------\n"
     ]
    },
    {
     "name": "stderr",
     "output_type": "stream",
     "text": [
      "Train Epoch: 100%|██████████| 391/391 [00:07<00:00, 53.54it/s]\n",
      "Val Epoch: 100%|██████████| 79/79 [00:00<00:00, 82.88it/s]\n"
     ]
    },
    {
     "name": "stdout",
     "output_type": "stream",
     "text": [
      "Train Loss: 0.1972, Train Accuracy: 0.9299\n",
      "Val Loss: 0.3066, Val Accuracy: 0.8966\n",
      "\n",
      "Epoch 7/10\n",
      "----------\n"
     ]
    },
    {
     "name": "stderr",
     "output_type": "stream",
     "text": [
      "Train Epoch: 100%|██████████| 391/391 [00:07<00:00, 53.48it/s]\n",
      "Val Epoch: 100%|██████████| 79/79 [00:01<00:00, 75.98it/s]\n"
     ]
    },
    {
     "name": "stdout",
     "output_type": "stream",
     "text": [
      "Train Loss: 0.1732, Train Accuracy: 0.9371\n",
      "Val Loss: 0.2973, Val Accuracy: 0.9020\n",
      "\n",
      "Epoch 8/10\n",
      "----------\n"
     ]
    },
    {
     "name": "stderr",
     "output_type": "stream",
     "text": [
      "Train Epoch: 100%|██████████| 391/391 [00:07<00:00, 54.43it/s]\n",
      "Val Epoch: 100%|██████████| 79/79 [00:00<00:00, 87.33it/s]\n"
     ]
    },
    {
     "name": "stdout",
     "output_type": "stream",
     "text": [
      "Train Loss: 0.1605, Train Accuracy: 0.9420\n",
      "Val Loss: 0.3258, Val Accuracy: 0.8969\n",
      "\n",
      "Epoch 9/10\n",
      "----------\n"
     ]
    },
    {
     "name": "stderr",
     "output_type": "stream",
     "text": [
      "Train Epoch: 100%|██████████| 391/391 [00:07<00:00, 54.34it/s]\n",
      "Val Epoch: 100%|██████████| 79/79 [00:00<00:00, 84.95it/s]\n"
     ]
    },
    {
     "name": "stdout",
     "output_type": "stream",
     "text": [
      "Train Loss: 0.1498, Train Accuracy: 0.9455\n",
      "Val Loss: 0.3418, Val Accuracy: 0.8965\n",
      "\n",
      "Epoch 10/10\n",
      "----------\n"
     ]
    },
    {
     "name": "stderr",
     "output_type": "stream",
     "text": [
      "Train Epoch: 100%|██████████| 391/391 [00:07<00:00, 54.42it/s]\n",
      "Val Epoch: 100%|██████████| 79/79 [00:00<00:00, 84.79it/s]\n"
     ]
    },
    {
     "name": "stdout",
     "output_type": "stream",
     "text": [
      "Train Loss: 0.1303, Train Accuracy: 0.9525\n",
      "Val Loss: 0.3529, Val Accuracy: 0.9040\n"
     ]
    },
    {
     "data": {
      "image/png": "[encoded data removed]",
      "text/plain": [
       "<Figure size 1200x600 with 2 Axes>"
      ]
     },
     "metadata": {},
     "output_type": "display_data"
    }
   ],
   "source": [
    "n_epochs = 10\n",
    "\n",
    "train_loader = DataLoader(train_data, batch_size=128, shuffle=True)\n",
    "val_loader = DataLoader(val_data, batch_size=128, shuffle=False)\n",
    "\n",
    "model = CNN().to(device)\n",
    "criterion = nn.CrossEntropyLoss()\n",
    "optimizer = torch.optim.Adam(model.parameters())\n",
    "\n",
    "epoch_train_losses, epoch_val_losses, epoch_train_accs, epoch_val_accs = trainer(model, train_loader, val_loader, optimizer, criterion, n_epochs)\n",
    "results['baseline'] = [epoch_train_losses, epoch_val_losses, epoch_train_accs, epoch_val_accs]\n",
    "plot_loss_curve(n_epochs, epoch_train_losses, epoch_val_losses, epoch_train_accs, epoch_val_accs)"
   ]
  },
  {
   "cell_type": "markdown",
   "id": "806d664f",
   "metadata": {},
   "source": [
    "## Different Weights & Zero Bias"
   ]
  },
  {
   "cell_type": "code",
   "execution_count": 14,
   "id": "37226e49",
   "metadata": {},
   "outputs": [],
   "source": [
    "def init_weights_by_name(name):\n",
    "    def initializer(model):\n",
    "        if isinstance(model, (nn.Conv2d, nn.Linear)):\n",
    "            if name == 'zero':\n",
    "                nn.init.constant_(model.weight, 0.0)\n",
    "            elif name == 'normal':\n",
    "                nn.init.normal_(model.weight, mean=0.0, std=1.0)\n",
    "            elif name == 'uniform':\n",
    "                nn.init.uniform_(model.weight, a=-0.5, b=0.5)\n",
    "            elif name == 'xavier_tanh':\n",
    "                gain = nn.init.calculate_gain('tanh')\n",
    "                nn.init.xavier_uniform_(model.weight, gain=gain)\n",
    "            elif name == 'kaiming_relu':\n",
    "                nn.init.kaiming_uniform_(model.weight, nonlinearity='relu')\n",
    "            else:\n",
    "                raise ValueError(f'Unknown init method: {name}')\n",
    "\n",
    "            if model.bias is not None:\n",
    "                nn.init.constant_(model.bias, 0.0)\n",
    "                \n",
    "    return initializer"
   ]
  },
  {
   "cell_type": "code",
   "execution_count": 15,
   "id": "a03817c9",
   "metadata": {},
   "outputs": [],
   "source": [
    "methods = ['zero', 'normal', 'uniform', 'xavier_tanh', 'kaiming_relu']"
   ]
  },
  {
   "cell_type": "code",
   "execution_count": 16,
   "id": "d2e48248",
   "metadata": {},
   "outputs": [
    {
     "name": "stdout",
     "output_type": "stream",
     "text": [
      "\n",
      "Epoch 1/10\n",
      "----------\n"
     ]
    },
    {
     "name": "stderr",
     "output_type": "stream",
     "text": [
      "Train Epoch: 100%|██████████| 391/391 [00:07<00:00, 54.08it/s]\n",
      "Val Epoch: 100%|██████████| 79/79 [00:00<00:00, 86.30it/s]\n"
     ]
    },
    {
     "name": "stdout",
     "output_type": "stream",
     "text": [
      "Train Loss: 2.3027, Train Accuracy: 0.0986\n",
      "Val Loss: 2.3027, Val Accuracy: 0.0976\n",
      "\n",
      "Epoch 2/10\n",
      "----------\n"
     ]
    },
    {
     "name": "stderr",
     "output_type": "stream",
     "text": [
      "Train Epoch: 100%|██████████| 391/391 [00:07<00:00, 53.65it/s]\n",
      "Val Epoch: 100%|██████████| 79/79 [00:01<00:00, 73.00it/s]\n"
     ]
    },
    {
     "name": "stdout",
     "output_type": "stream",
     "text": [
      "Train Loss: 2.3027, Train Accuracy: 0.0979\n",
      "Val Loss: 2.3027, Val Accuracy: 0.0967\n",
      "\n",
      "Epoch 3/10\n",
      "----------\n"
     ]
    },
    {
     "name": "stderr",
     "output_type": "stream",
     "text": [
      "Train Epoch: 100%|██████████| 391/391 [00:07<00:00, 54.28it/s]\n",
      "Val Epoch: 100%|██████████| 79/79 [00:00<00:00, 87.28it/s]\n"
     ]
    },
    {
     "name": "stdout",
     "output_type": "stream",
     "text": [
      "Train Loss: 2.3027, Train Accuracy: 0.0991\n",
      "Val Loss: 2.3027, Val Accuracy: 0.0976\n",
      "\n",
      "Epoch 4/10\n",
      "----------\n"
     ]
    },
    {
     "name": "stderr",
     "output_type": "stream",
     "text": [
      "Train Epoch: 100%|██████████| 391/391 [00:07<00:00, 54.24it/s]\n",
      "Val Epoch: 100%|██████████| 79/79 [00:00<00:00, 87.71it/s]\n"
     ]
    },
    {
     "name": "stdout",
     "output_type": "stream",
     "text": [
      "Train Loss: 2.3027, Train Accuracy: 0.0985\n",
      "Val Loss: 2.3027, Val Accuracy: 0.0987\n",
      "\n",
      "Epoch 5/10\n",
      "----------\n"
     ]
    },
    {
     "name": "stderr",
     "output_type": "stream",
     "text": [
      "Train Epoch: 100%|██████████| 391/391 [00:07<00:00, 53.81it/s]\n",
      "Val Epoch: 100%|██████████| 79/79 [00:00<00:00, 87.88it/s]\n"
     ]
    },
    {
     "name": "stdout",
     "output_type": "stream",
     "text": [
      "Train Loss: 2.3027, Train Accuracy: 0.0977\n",
      "Val Loss: 2.3027, Val Accuracy: 0.0976\n",
      "\n",
      "Epoch 6/10\n",
      "----------\n"
     ]
    },
    {
     "name": "stderr",
     "output_type": "stream",
     "text": [
      "Train Epoch: 100%|██████████| 391/391 [00:07<00:00, 54.19it/s]\n",
      "Val Epoch: 100%|██████████| 79/79 [00:00<00:00, 84.33it/s]\n"
     ]
    },
    {
     "name": "stdout",
     "output_type": "stream",
     "text": [
      "Train Loss: 2.3027, Train Accuracy: 0.0960\n",
      "Val Loss: 2.3027, Val Accuracy: 0.0967\n",
      "\n",
      "Epoch 7/10\n",
      "----------\n"
     ]
    },
    {
     "name": "stderr",
     "output_type": "stream",
     "text": [
      "Train Epoch: 100%|██████████| 391/391 [00:07<00:00, 54.13it/s]\n",
      "Val Epoch: 100%|██████████| 79/79 [00:00<00:00, 83.51it/s]\n"
     ]
    },
    {
     "name": "stdout",
     "output_type": "stream",
     "text": [
      "Train Loss: 2.3027, Train Accuracy: 0.0982\n",
      "Val Loss: 2.3028, Val Accuracy: 0.0966\n",
      "\n",
      "Epoch 8/10\n",
      "----------\n"
     ]
    },
    {
     "name": "stderr",
     "output_type": "stream",
     "text": [
      "Train Epoch: 100%|██████████| 391/391 [00:07<00:00, 54.28it/s]\n",
      "Val Epoch: 100%|██████████| 79/79 [00:00<00:00, 83.27it/s]\n"
     ]
    },
    {
     "name": "stdout",
     "output_type": "stream",
     "text": [
      "Train Loss: 2.3027, Train Accuracy: 0.0981\n",
      "Val Loss: 2.3027, Val Accuracy: 0.0976\n",
      "\n",
      "Epoch 9/10\n",
      "----------\n"
     ]
    },
    {
     "name": "stderr",
     "output_type": "stream",
     "text": [
      "Train Epoch: 100%|██████████| 391/391 [00:07<00:00, 54.17it/s]\n",
      "Val Epoch: 100%|██████████| 79/79 [00:00<00:00, 83.73it/s]\n"
     ]
    },
    {
     "name": "stdout",
     "output_type": "stream",
     "text": [
      "Train Loss: 2.3027, Train Accuracy: 0.0998\n",
      "Val Loss: 2.3027, Val Accuracy: 0.0966\n",
      "\n",
      "Epoch 10/10\n",
      "----------\n"
     ]
    },
    {
     "name": "stderr",
     "output_type": "stream",
     "text": [
      "Train Epoch: 100%|██████████| 391/391 [00:07<00:00, 53.02it/s]\n",
      "Val Epoch: 100%|██████████| 79/79 [00:00<00:00, 86.73it/s]\n"
     ]
    },
    {
     "name": "stdout",
     "output_type": "stream",
     "text": [
      "Train Loss: 2.3027, Train Accuracy: 0.0978\n",
      "Val Loss: 2.3026, Val Accuracy: 0.1019\n",
      "\n",
      "Epoch 1/10\n",
      "----------\n"
     ]
    },
    {
     "name": "stderr",
     "output_type": "stream",
     "text": [
      "Train Epoch: 100%|██████████| 391/391 [00:07<00:00, 52.91it/s]\n",
      "Val Epoch: 100%|██████████| 79/79 [00:00<00:00, 86.90it/s]\n"
     ]
    },
    {
     "name": "stdout",
     "output_type": "stream",
     "text": [
      "Train Loss: 68.7699, Train Accuracy: 0.5534\n",
      "Val Loss: 49.0177, Val Accuracy: 0.6549\n",
      "\n",
      "Epoch 2/10\n",
      "----------\n"
     ]
    },
    {
     "name": "stderr",
     "output_type": "stream",
     "text": [
      "Train Epoch: 100%|██████████| 391/391 [00:07<00:00, 54.01it/s]\n",
      "Val Epoch: 100%|██████████| 79/79 [00:01<00:00, 74.21it/s]\n"
     ]
    },
    {
     "name": "stdout",
     "output_type": "stream",
     "text": [
      "Train Loss: 42.8881, Train Accuracy: 0.6868\n",
      "Val Loss: 39.4854, Val Accuracy: 0.7012\n",
      "\n",
      "Epoch 3/10\n",
      "----------\n"
     ]
    },
    {
     "name": "stderr",
     "output_type": "stream",
     "text": [
      "Train Epoch: 100%|██████████| 391/391 [00:07<00:00, 53.22it/s]\n",
      "Val Epoch: 100%|██████████| 79/79 [00:00<00:00, 82.15it/s]\n"
     ]
    },
    {
     "name": "stdout",
     "output_type": "stream",
     "text": [
      "Train Loss: 35.6773, Train Accuracy: 0.7208\n",
      "Val Loss: 33.4063, Val Accuracy: 0.7344\n",
      "\n",
      "Epoch 4/10\n",
      "----------\n"
     ]
    },
    {
     "name": "stderr",
     "output_type": "stream",
     "text": [
      "Train Epoch: 100%|██████████| 391/391 [00:07<00:00, 52.84it/s]\n",
      "Val Epoch: 100%|██████████| 79/79 [00:00<00:00, 87.15it/s]\n"
     ]
    },
    {
     "name": "stdout",
     "output_type": "stream",
     "text": [
      "Train Loss: 29.8176, Train Accuracy: 0.7454\n",
      "Val Loss: 29.9921, Val Accuracy: 0.7527\n",
      "\n",
      "Epoch 5/10\n",
      "----------\n"
     ]
    },
    {
     "name": "stderr",
     "output_type": "stream",
     "text": [
      "Train Epoch: 100%|██████████| 391/391 [00:07<00:00, 49.05it/s]\n",
      "Val Epoch: 100%|██████████| 79/79 [00:00<00:00, 81.01it/s]\n"
     ]
    },
    {
     "name": "stdout",
     "output_type": "stream",
     "text": [
      "Train Loss: 26.7695, Train Accuracy: 0.7545\n",
      "Val Loss: 26.5928, Val Accuracy: 0.7600\n",
      "\n",
      "Epoch 6/10\n",
      "----------\n"
     ]
    },
    {
     "name": "stderr",
     "output_type": "stream",
     "text": [
      "Train Epoch: 100%|██████████| 391/391 [00:08<00:00, 47.69it/s]\n",
      "Val Epoch: 100%|██████████| 79/79 [00:01<00:00, 77.20it/s]\n"
     ]
    },
    {
     "name": "stdout",
     "output_type": "stream",
     "text": [
      "Train Loss: 23.9800, Train Accuracy: 0.7654\n",
      "Val Loss: 24.2949, Val Accuracy: 0.7664\n",
      "\n",
      "Epoch 7/10\n",
      "----------\n"
     ]
    },
    {
     "name": "stderr",
     "output_type": "stream",
     "text": [
      "Train Epoch: 100%|██████████| 391/391 [00:07<00:00, 52.59it/s]\n",
      "Val Epoch: 100%|██████████| 79/79 [00:00<00:00, 86.79it/s]\n"
     ]
    },
    {
     "name": "stdout",
     "output_type": "stream",
     "text": [
      "Train Loss: 21.9397, Train Accuracy: 0.7722\n",
      "Val Loss: 21.7411, Val Accuracy: 0.7702\n",
      "\n",
      "Epoch 8/10\n",
      "----------\n"
     ]
    },
    {
     "name": "stderr",
     "output_type": "stream",
     "text": [
      "Train Epoch: 100%|██████████| 391/391 [00:07<00:00, 51.99it/s]\n",
      "Val Epoch: 100%|██████████| 79/79 [00:00<00:00, 87.74it/s]\n"
     ]
    },
    {
     "name": "stdout",
     "output_type": "stream",
     "text": [
      "Train Loss: 20.4197, Train Accuracy: 0.7742\n",
      "Val Loss: 20.8587, Val Accuracy: 0.7706\n",
      "\n",
      "Epoch 9/10\n",
      "----------\n"
     ]
    },
    {
     "name": "stderr",
     "output_type": "stream",
     "text": [
      "Train Epoch: 100%|██████████| 391/391 [00:07<00:00, 53.82it/s]\n",
      "Val Epoch: 100%|██████████| 79/79 [00:00<00:00, 81.86it/s]\n"
     ]
    },
    {
     "name": "stdout",
     "output_type": "stream",
     "text": [
      "Train Loss: 18.7268, Train Accuracy: 0.7751\n",
      "Val Loss: 19.7788, Val Accuracy: 0.7707\n",
      "\n",
      "Epoch 10/10\n",
      "----------\n"
     ]
    },
    {
     "name": "stderr",
     "output_type": "stream",
     "text": [
      "Train Epoch: 100%|██████████| 391/391 [00:07<00:00, 53.30it/s]\n",
      "Val Epoch: 100%|██████████| 79/79 [00:00<00:00, 86.55it/s]\n"
     ]
    },
    {
     "name": "stdout",
     "output_type": "stream",
     "text": [
      "Train Loss: 17.8262, Train Accuracy: 0.7752\n",
      "Val Loss: 18.9336, Val Accuracy: 0.7697\n",
      "\n",
      "Epoch 1/10\n",
      "----------\n"
     ]
    },
    {
     "name": "stderr",
     "output_type": "stream",
     "text": [
      "Train Epoch: 100%|██████████| 391/391 [00:07<00:00, 52.88it/s]\n",
      "Val Epoch: 100%|██████████| 79/79 [00:01<00:00, 63.69it/s]\n"
     ]
    },
    {
     "name": "stdout",
     "output_type": "stream",
     "text": [
      "Train Loss: 8.6772, Train Accuracy: 0.7128\n",
      "Val Loss: 5.5395, Val Accuracy: 0.7722\n",
      "\n",
      "Epoch 2/10\n",
      "----------\n"
     ]
    },
    {
     "name": "stderr",
     "output_type": "stream",
     "text": [
      "Train Epoch: 100%|██████████| 391/391 [00:07<00:00, 53.12it/s]\n",
      "Val Epoch: 100%|██████████| 79/79 [00:00<00:00, 79.74it/s]\n"
     ]
    },
    {
     "name": "stdout",
     "output_type": "stream",
     "text": [
      "Train Loss: 4.7044, Train Accuracy: 0.7902\n",
      "Val Loss: 4.5846, Val Accuracy: 0.7943\n",
      "\n",
      "Epoch 3/10\n",
      "----------\n"
     ]
    },
    {
     "name": "stderr",
     "output_type": "stream",
     "text": [
      "Train Epoch: 100%|██████████| 391/391 [00:07<00:00, 54.06it/s]\n",
      "Val Epoch: 100%|██████████| 79/79 [00:00<00:00, 81.87it/s]\n"
     ]
    },
    {
     "name": "stdout",
     "output_type": "stream",
     "text": [
      "Train Loss: 3.8684, Train Accuracy: 0.8108\n",
      "Val Loss: 4.0789, Val Accuracy: 0.8055\n",
      "\n",
      "Epoch 4/10\n",
      "----------\n"
     ]
    },
    {
     "name": "stderr",
     "output_type": "stream",
     "text": [
      "Train Epoch: 100%|██████████| 391/391 [00:07<00:00, 54.13it/s]\n",
      "Val Epoch: 100%|██████████| 79/79 [00:00<00:00, 80.51it/s]\n"
     ]
    },
    {
     "name": "stdout",
     "output_type": "stream",
     "text": [
      "Train Loss: 3.3031, Train Accuracy: 0.8247\n",
      "Val Loss: 3.6887, Val Accuracy: 0.8170\n",
      "\n",
      "Epoch 5/10\n",
      "----------\n"
     ]
    },
    {
     "name": "stderr",
     "output_type": "stream",
     "text": [
      "Train Epoch: 100%|██████████| 391/391 [00:07<00:00, 52.84it/s]\n",
      "Val Epoch: 100%|██████████| 79/79 [00:01<00:00, 66.25it/s]\n"
     ]
    },
    {
     "name": "stdout",
     "output_type": "stream",
     "text": [
      "Train Loss: 2.9221, Train Accuracy: 0.8345\n",
      "Val Loss: 3.8558, Val Accuracy: 0.8059\n",
      "\n",
      "Epoch 6/10\n",
      "----------\n"
     ]
    },
    {
     "name": "stderr",
     "output_type": "stream",
     "text": [
      "Train Epoch: 100%|██████████| 391/391 [00:07<00:00, 51.48it/s]\n",
      "Val Epoch: 100%|██████████| 79/79 [00:01<00:00, 72.17it/s]\n"
     ]
    },
    {
     "name": "stdout",
     "output_type": "stream",
     "text": [
      "Train Loss: 2.6620, Train Accuracy: 0.8407\n",
      "Val Loss: 3.9185, Val Accuracy: 0.8088\n",
      "\n",
      "Epoch 7/10\n",
      "----------\n"
     ]
    },
    {
     "name": "stderr",
     "output_type": "stream",
     "text": [
      "Train Epoch: 100%|██████████| 391/391 [00:08<00:00, 48.21it/s]\n",
      "Val Epoch: 100%|██████████| 79/79 [00:00<00:00, 85.11it/s]\n"
     ]
    },
    {
     "name": "stdout",
     "output_type": "stream",
     "text": [
      "Train Loss: 2.5524, Train Accuracy: 0.8442\n",
      "Val Loss: 3.9725, Val Accuracy: 0.8154\n",
      "\n",
      "Epoch 8/10\n",
      "----------\n"
     ]
    },
    {
     "name": "stderr",
     "output_type": "stream",
     "text": [
      "Train Epoch: 100%|██████████| 391/391 [00:08<00:00, 46.49it/s]\n",
      "Val Epoch: 100%|██████████| 79/79 [00:00<00:00, 84.80it/s]\n"
     ]
    },
    {
     "name": "stdout",
     "output_type": "stream",
     "text": [
      "Train Loss: 2.4127, Train Accuracy: 0.8497\n",
      "Val Loss: 3.4355, Val Accuracy: 0.8353\n",
      "\n",
      "Epoch 9/10\n",
      "----------\n"
     ]
    },
    {
     "name": "stderr",
     "output_type": "stream",
     "text": [
      "Train Epoch: 100%|██████████| 391/391 [00:08<00:00, 44.19it/s]\n",
      "Val Epoch: 100%|██████████| 79/79 [00:01<00:00, 77.59it/s]\n"
     ]
    },
    {
     "name": "stdout",
     "output_type": "stream",
     "text": [
      "Train Loss: 2.2410, Train Accuracy: 0.8565\n",
      "Val Loss: 2.9595, Val Accuracy: 0.8445\n",
      "\n",
      "Epoch 10/10\n",
      "----------\n"
     ]
    },
    {
     "name": "stderr",
     "output_type": "stream",
     "text": [
      "Train Epoch: 100%|██████████| 391/391 [00:09<00:00, 42.79it/s]\n",
      "Val Epoch: 100%|██████████| 79/79 [00:01<00:00, 75.86it/s]\n"
     ]
    },
    {
     "name": "stdout",
     "output_type": "stream",
     "text": [
      "Train Loss: 2.1614, Train Accuracy: 0.8587\n",
      "Val Loss: 2.8807, Val Accuracy: 0.8395\n",
      "\n",
      "Epoch 1/10\n",
      "----------\n"
     ]
    },
    {
     "name": "stderr",
     "output_type": "stream",
     "text": [
      "Train Epoch: 100%|██████████| 391/391 [00:09<00:00, 40.69it/s]\n",
      "Val Epoch: 100%|██████████| 79/79 [00:01<00:00, 72.50it/s]\n"
     ]
    },
    {
     "name": "stdout",
     "output_type": "stream",
     "text": [
      "Train Loss: 0.5578, Train Accuracy: 0.8281\n",
      "Val Loss: 0.3647, Val Accuracy: 0.8765\n",
      "\n",
      "Epoch 2/10\n",
      "----------\n"
     ]
    },
    {
     "name": "stderr",
     "output_type": "stream",
     "text": [
      "Train Epoch: 100%|██████████| 391/391 [00:09<00:00, 42.87it/s]\n",
      "Val Epoch: 100%|██████████| 79/79 [00:00<00:00, 82.31it/s]\n"
     ]
    },
    {
     "name": "stdout",
     "output_type": "stream",
     "text": [
      "Train Loss: 0.3429, Train Accuracy: 0.8858\n",
      "Val Loss: 0.3305, Val Accuracy: 0.8914\n",
      "\n",
      "Epoch 3/10\n",
      "----------\n"
     ]
    },
    {
     "name": "stderr",
     "output_type": "stream",
     "text": [
      "Train Epoch: 100%|██████████| 391/391 [00:08<00:00, 43.63it/s]\n",
      "Val Epoch: 100%|██████████| 79/79 [00:01<00:00, 78.22it/s]\n"
     ]
    },
    {
     "name": "stdout",
     "output_type": "stream",
     "text": [
      "Train Loss: 0.2857, Train Accuracy: 0.9046\n",
      "Val Loss: 0.3991, Val Accuracy: 0.8850\n",
      "\n",
      "Epoch 4/10\n",
      "----------\n"
     ]
    },
    {
     "name": "stderr",
     "output_type": "stream",
     "text": [
      "Train Epoch: 100%|██████████| 391/391 [00:08<00:00, 44.10it/s]\n",
      "Val Epoch: 100%|██████████| 79/79 [00:00<00:00, 79.52it/s]\n"
     ]
    },
    {
     "name": "stdout",
     "output_type": "stream",
     "text": [
      "Train Loss: 0.2340, Train Accuracy: 0.9216\n",
      "Val Loss: 0.4287, Val Accuracy: 0.8789\n",
      "\n",
      "Epoch 5/10\n",
      "----------\n"
     ]
    },
    {
     "name": "stderr",
     "output_type": "stream",
     "text": [
      "Train Epoch: 100%|██████████| 391/391 [00:08<00:00, 44.23it/s]\n",
      "Val Epoch: 100%|██████████| 79/79 [00:00<00:00, 81.76it/s]\n"
     ]
    },
    {
     "name": "stdout",
     "output_type": "stream",
     "text": [
      "Train Loss: 0.1949, Train Accuracy: 0.9335\n",
      "Val Loss: 0.4435, Val Accuracy: 0.8887\n",
      "\n",
      "Epoch 6/10\n",
      "----------\n"
     ]
    },
    {
     "name": "stderr",
     "output_type": "stream",
     "text": [
      "Train Epoch: 100%|██████████| 391/391 [00:08<00:00, 45.52it/s]\n",
      "Val Epoch: 100%|██████████| 79/79 [00:00<00:00, 85.96it/s]\n"
     ]
    },
    {
     "name": "stdout",
     "output_type": "stream",
     "text": [
      "Train Loss: 0.1879, Train Accuracy: 0.9391\n",
      "Val Loss: 0.4274, Val Accuracy: 0.8959\n",
      "\n",
      "Epoch 7/10\n",
      "----------\n"
     ]
    },
    {
     "name": "stderr",
     "output_type": "stream",
     "text": [
      "Train Epoch: 100%|██████████| 391/391 [00:08<00:00, 46.98it/s]\n",
      "Val Epoch: 100%|██████████| 79/79 [00:00<00:00, 82.03it/s]\n"
     ]
    },
    {
     "name": "stdout",
     "output_type": "stream",
     "text": [
      "Train Loss: 0.1607, Train Accuracy: 0.9474\n",
      "Val Loss: 0.4442, Val Accuracy: 0.8958\n",
      "\n",
      "Epoch 8/10\n",
      "----------\n"
     ]
    },
    {
     "name": "stderr",
     "output_type": "stream",
     "text": [
      "Train Epoch: 100%|██████████| 391/391 [00:08<00:00, 46.46it/s]\n",
      "Val Epoch: 100%|██████████| 79/79 [00:01<00:00, 76.08it/s]\n"
     ]
    },
    {
     "name": "stdout",
     "output_type": "stream",
     "text": [
      "Train Loss: 0.1422, Train Accuracy: 0.9546\n",
      "Val Loss: 0.5471, Val Accuracy: 0.8897\n",
      "\n",
      "Epoch 9/10\n",
      "----------\n"
     ]
    },
    {
     "name": "stderr",
     "output_type": "stream",
     "text": [
      "Train Epoch: 100%|██████████| 391/391 [00:07<00:00, 49.61it/s]\n",
      "Val Epoch: 100%|██████████| 79/79 [00:00<00:00, 84.17it/s]\n"
     ]
    },
    {
     "name": "stdout",
     "output_type": "stream",
     "text": [
      "Train Loss: 0.1389, Train Accuracy: 0.9557\n",
      "Val Loss: 0.6021, Val Accuracy: 0.8868\n",
      "\n",
      "Epoch 10/10\n",
      "----------\n"
     ]
    },
    {
     "name": "stderr",
     "output_type": "stream",
     "text": [
      "Train Epoch: 100%|██████████| 391/391 [00:07<00:00, 50.99it/s]\n",
      "Val Epoch: 100%|██████████| 79/79 [00:00<00:00, 79.99it/s]\n"
     ]
    },
    {
     "name": "stdout",
     "output_type": "stream",
     "text": [
      "Train Loss: 0.1313, Train Accuracy: 0.9587\n",
      "Val Loss: 0.5739, Val Accuracy: 0.8975\n",
      "\n",
      "Epoch 1/10\n",
      "----------\n"
     ]
    },
    {
     "name": "stderr",
     "output_type": "stream",
     "text": [
      "Train Epoch: 100%|██████████| 391/391 [00:07<00:00, 52.12it/s]\n",
      "Val Epoch: 100%|██████████| 79/79 [00:00<00:00, 88.14it/s]\n"
     ]
    },
    {
     "name": "stdout",
     "output_type": "stream",
     "text": [
      "Train Loss: 0.5043, Train Accuracy: 0.8356\n",
      "Val Loss: 0.3877, Val Accuracy: 0.8710\n",
      "\n",
      "Epoch 2/10\n",
      "----------\n"
     ]
    },
    {
     "name": "stderr",
     "output_type": "stream",
     "text": [
      "Train Epoch: 100%|██████████| 391/391 [00:07<00:00, 52.43it/s]\n",
      "Val Epoch: 100%|██████████| 79/79 [00:00<00:00, 87.22it/s]\n"
     ]
    },
    {
     "name": "stdout",
     "output_type": "stream",
     "text": [
      "Train Loss: 0.3054, Train Accuracy: 0.8950\n",
      "Val Loss: 0.3597, Val Accuracy: 0.8823\n",
      "\n",
      "Epoch 3/10\n",
      "----------\n"
     ]
    },
    {
     "name": "stderr",
     "output_type": "stream",
     "text": [
      "Train Epoch: 100%|██████████| 391/391 [00:07<00:00, 51.97it/s]\n",
      "Val Epoch: 100%|██████████| 79/79 [00:00<00:00, 87.95it/s]\n"
     ]
    },
    {
     "name": "stdout",
     "output_type": "stream",
     "text": [
      "Train Loss: 0.2297, Train Accuracy: 0.9207\n",
      "Val Loss: 0.3514, Val Accuracy: 0.8962\n",
      "\n",
      "Epoch 4/10\n",
      "----------\n"
     ]
    },
    {
     "name": "stderr",
     "output_type": "stream",
     "text": [
      "Train Epoch: 100%|██████████| 391/391 [00:07<00:00, 51.72it/s]\n",
      "Val Epoch: 100%|██████████| 79/79 [00:00<00:00, 83.93it/s]\n"
     ]
    },
    {
     "name": "stdout",
     "output_type": "stream",
     "text": [
      "Train Loss: 0.2007, Train Accuracy: 0.9323\n",
      "Val Loss: 0.4347, Val Accuracy: 0.8855\n",
      "\n",
      "Epoch 5/10\n",
      "----------\n"
     ]
    },
    {
     "name": "stderr",
     "output_type": "stream",
     "text": [
      "Train Epoch: 100%|██████████| 391/391 [00:07<00:00, 51.64it/s]\n",
      "Val Epoch: 100%|██████████| 79/79 [00:00<00:00, 88.89it/s]\n"
     ]
    },
    {
     "name": "stdout",
     "output_type": "stream",
     "text": [
      "Train Loss: 0.1654, Train Accuracy: 0.9439\n",
      "Val Loss: 0.4038, Val Accuracy: 0.8951\n",
      "\n",
      "Epoch 6/10\n",
      "----------\n"
     ]
    },
    {
     "name": "stderr",
     "output_type": "stream",
     "text": [
      "Train Epoch: 100%|██████████| 391/391 [00:07<00:00, 50.87it/s]\n",
      "Val Epoch: 100%|██████████| 79/79 [00:00<00:00, 81.85it/s]\n"
     ]
    },
    {
     "name": "stdout",
     "output_type": "stream",
     "text": [
      "Train Loss: 0.1550, Train Accuracy: 0.9478\n",
      "Val Loss: 0.4769, Val Accuracy: 0.8865\n",
      "\n",
      "Epoch 7/10\n",
      "----------\n"
     ]
    },
    {
     "name": "stderr",
     "output_type": "stream",
     "text": [
      "Train Epoch: 100%|██████████| 391/391 [00:07<00:00, 50.39it/s]\n",
      "Val Epoch: 100%|██████████| 79/79 [00:00<00:00, 87.04it/s]\n"
     ]
    },
    {
     "name": "stdout",
     "output_type": "stream",
     "text": [
      "Train Loss: 0.1427, Train Accuracy: 0.9533\n",
      "Val Loss: 0.4963, Val Accuracy: 0.8866\n",
      "\n",
      "Epoch 8/10\n",
      "----------\n"
     ]
    },
    {
     "name": "stderr",
     "output_type": "stream",
     "text": [
      "Train Epoch: 100%|██████████| 391/391 [00:07<00:00, 49.68it/s]\n",
      "Val Epoch: 100%|██████████| 79/79 [00:00<00:00, 87.51it/s]\n"
     ]
    },
    {
     "name": "stdout",
     "output_type": "stream",
     "text": [
      "Train Loss: 0.1335, Train Accuracy: 0.9570\n",
      "Val Loss: 0.4991, Val Accuracy: 0.8954\n",
      "\n",
      "Epoch 9/10\n",
      "----------\n"
     ]
    },
    {
     "name": "stderr",
     "output_type": "stream",
     "text": [
      "Train Epoch: 100%|██████████| 391/391 [00:07<00:00, 49.30it/s]\n",
      "Val Epoch: 100%|██████████| 79/79 [00:00<00:00, 86.12it/s]\n"
     ]
    },
    {
     "name": "stdout",
     "output_type": "stream",
     "text": [
      "Train Loss: 0.1129, Train Accuracy: 0.9635\n",
      "Val Loss: 0.5501, Val Accuracy: 0.8954\n",
      "\n",
      "Epoch 10/10\n",
      "----------\n"
     ]
    },
    {
     "name": "stderr",
     "output_type": "stream",
     "text": [
      "Train Epoch: 100%|██████████| 391/391 [00:09<00:00, 42.45it/s]\n",
      "Val Epoch: 100%|██████████| 79/79 [00:01<00:00, 73.69it/s]"
     ]
    },
    {
     "name": "stdout",
     "output_type": "stream",
     "text": [
      "Train Loss: 0.1122, Train Accuracy: 0.9647\n",
      "Val Loss: 0.5697, Val Accuracy: 0.8963\n"
     ]
    },
    {
     "name": "stderr",
     "output_type": "stream",
     "text": [
      "\n"
     ]
    }
   ],
   "source": [
    "n_epochs = 10\n",
    "\n",
    "train_loader = DataLoader(train_data, batch_size=512, shuffle=True)\n",
    "val_loader = DataLoader(val_data, batch_size=512, shuffle=False)\n",
    "\n",
    "for method in methods:\n",
    "    model = CNN()\n",
    "    model.apply(init_weights_by_name(method))\n",
    "    model.to(device)\n",
    "    criterion = nn.CrossEntropyLoss()\n",
    "    optimizer = torch.optim.Adam(model.parameters())\n",
    "\n",
    "    epoch_train_losses, epoch_val_losses, epoch_train_accs, epoch_val_accs = trainer(model, train_loader, val_loader, optimizer, criterion, n_epochs)\n",
    "    results[method] = [epoch_train_losses, epoch_val_losses, epoch_train_accs, epoch_val_accs]"
   ]
  },
  {
   "cell_type": "code",
   "execution_count": 49,
   "id": "c67416bd",
   "metadata": {},
   "outputs": [],
   "source": [
    "def plot_loss_curves(n_epochs, results):\n",
    "    \n",
    "    fig, ax = plt.subplots(2, 2, figsize=(24,18))\n",
    "    \n",
    "    line_styles = ['-', '--', '-.', ':']\n",
    "    colors = plt.cm.tab10.colors\n",
    "    \n",
    "    for i, (name, metric) in enumerate(results.items()):\n",
    "\n",
    "        style = random.choice(line_styles)\n",
    "        color = colors[i % len(colors)]\n",
    "\n",
    "        x = range(1, n_epochs + 1)\n",
    "\n",
    "        ax[0, 0].plot(x, metric[0], linestyle=style, color=color, label=name)\n",
    "        ax[0, 0].set_title('Train Loss')\n",
    "        ax[0, 0].set_ylabel('Loss')\n",
    "\n",
    "        ax[0, 1].plot(x, metric[1], linestyle=style, color=color, label=name)\n",
    "        ax[0, 1].set_title('Validation Loss')\n",
    "        ax[0, 1].set_ylabel('Loss')\n",
    "        \n",
    "        ax[1, 0].plot(x, metric[2], linestyle=style, color=color, label=name)\n",
    "        ax[1, 0].set_title('Train Accuracy')\n",
    "        ax[1, 0].set_ylabel('Accuracy')\n",
    "        ax[1, 0].set_ylim(0, 1)\n",
    "\n",
    "        ax[1, 1].plot(x, metric[3], linestyle=style, color=color, label=name)\n",
    "        ax[1, 1].set_title('Validation Accuracy')\n",
    "        ax[1, 1].set_ylabel('Accuracy')\n",
    "        ax[1, 1].set_ylim(0, 1)\n",
    "        \n",
    "    for axes in ax.flat:\n",
    "        axes.set_xlabel('Epochs')\n",
    "        axes.set_xticks(range(1, n_epochs+1))\n",
    "        axes.grid()\n",
    "        axes.legend()\n",
    "\n",
    "    fig.suptitle('Train/Val Losses and Accuracies', fontsize=18)\n",
    "    plt.show()"
   ]
  },
  {
   "cell_type": "code",
   "execution_count": 50,
   "id": "ec490089",
   "metadata": {},
   "outputs": [
    {
     "data": {
      "image/png": "[encoded data removed]",
      "text/plain": [
       "<Figure size 2400x1800 with 4 Axes>"
      ]
     },
     "metadata": {},
     "output_type": "display_data"
    }
   ],
   "source": [
    "plot_loss_curves(n_epochs, results)"
   ]
  },
  {
   "cell_type": "markdown",
   "id": "603a2ff1",
   "metadata": {},
   "source": [
    "## Discussion\n",
    "TODO"
   ]
  },
  {
   "cell_type": "code",
   "execution_count": null,
   "id": "0f646140",
   "metadata": {},
   "outputs": [],
   "source": []
  }
 ],
 "metadata": {
  "kernelspec": {
   "display_name": ".venv",
   "language": "python",
   "name": "python3"
  },
  "language_info": {
   "codemirror_mode": {
    "name": "ipython",
    "version": 3
   },
   "file_extension": ".py",
   "mimetype": "text/x-python",
   "name": "python",
   "nbconvert_exporter": "python",
   "pygments_lexer": "ipython3",
   "version": "3.12.8"
  }
 },
 "nbformat": 4,
 "nbformat_minor": 5
}
