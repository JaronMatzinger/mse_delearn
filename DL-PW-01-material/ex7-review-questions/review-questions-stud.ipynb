{
 "cells": [
  {
   "cell_type": "markdown",
   "metadata": {},
   "source": [
    "# Supervised vs. unsupervised systems"
   ]
  },
  {
   "cell_type": "markdown",
   "metadata": {},
   "source": [
    "Of the following examples, which one would you address using a supervised or an unsupervised learning algorithm? \\\n",
    "Give some explanations for your answers.\n",
    "\n",
    "a) Given email labeled as spam/not spam, learn a spam filter.\n",
    "- Supervised, because we have labelled data available\n",
    "\n",
    "b) Given a set of news articles found on the web, group them into sets of related articles.\n",
    "- Unsupervised, because we only have clusters of related articles and want to group them\n",
    "   \n",
    "c) Given a database of customer data, automatically discover market segments and group customers into different market segments.\n",
    "- Unsupervised, because we want to figure out relations between the customers without any labelled data\n",
    "\n",
    "d) Given a dataset of patients diagnosed as either having glaucoma or not, learn to classify new patients as having glaucoma or not.\n",
    "- Supervised, because we have labelled data at our disposal"
   ]
  },
  {
   "cell_type": "markdown",
   "metadata": {},
   "source": [
    "# Classification vs. regression system"
   ]
  },
  {
   "cell_type": "markdown",
   "metadata": {},
   "source": [
    "Yes, by binning every regression problem can be transformed into a classification problem.\\\n",
    "In some cases a classification problem can be more intrpretable. In addition, they are less prone to outliers."
   ]
  },
  {
   "cell_type": "markdown",
   "metadata": {},
   "source": [
    "# Numpy arrays"
   ]
  },
  {
   "cell_type": "markdown",
   "metadata": {},
   "source": [
    "a) What are the main differences between a Python list and a numpy array ?\n",
    "- The main difference is that you can use any data type in a Python list. In addition, a Python list can be of any size\n",
    "\n",
    "b) Can we mix different types of data in a numpy array?\n",
    "- Please see above\n",
    "\n",
    "c) Define what is the rank in a numpy array.\n",
    "- Is the number of dimensions\n",
    "\n",
    "d) If we load a gray-level image in a numpy array, what is the rank of this array? Explain the different dimensions. Give a potential value of the shape attribute for a square images.\n",
    "- The rank is 2. Width x Height. 240 x 240.\n",
    "  \n",
    "e) Regarding the previous point, what would be the difference with a color image?\n",
    "- The rank would be 3. Thus, we would have width x height x color channels (RGB) and finally, 240 x 240 x 3."
   ]
  },
  {
   "cell_type": "markdown",
   "metadata": {},
   "source": []
  }
 ],
 "metadata": {
  "language_info": {
   "name": "python"
  }
 },
 "nbformat": 4,
 "nbformat_minor": 2
}
